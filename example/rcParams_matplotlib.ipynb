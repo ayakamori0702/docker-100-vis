{
 "cells": [
  {
   "cell_type": "markdown",
   "metadata": {},
   "source": [
    "# rcParamsを使って日本語表記を綺麗に出力する \n",
    "[参照URL](https://matplotlib.org/3.1.0/gallery/text_labels_and_annotations/font_family_rc_sgskip.html)"
   ]
  },
  {
   "cell_type": "markdown",
   "metadata": {},
   "source": [
    "*与えられたフォントスタイルに対して、どのフォントファミリーをピックアップするかを明示的に設定することができます（例：「serif」、「sans-serif」、「monospace」）。*\n",
    "\n",
    "*以下の例では、sans-serifのフォントスタイルに対して1つのフォントファミリー（Tahoma）だけを許可しています。デフォルトのフォントファミリーは、font.family rc パラメータで指定します* "
   ]
  },
  {
   "cell_type": "markdown",
   "metadata": {},
   "source": [
    "### 実験：Docker'font.family'を'IPAexGothic'で試してみる  \n",
    "[参考URL1](http://oyaryo.blogspot.com/2018/03/matplotlib.html)  \n",
    "[参考URL2](https://zenn.dev/pesuchin/articles/c1bc57a6bfa13fa466fb)"
   ]
  },
  {
   "cell_type": "code",
   "execution_count": 1,
   "metadata": {},
   "outputs": [
    {
     "name": "stderr",
     "output_type": "stream",
     "text": [
      "Duplicate key in file PosixPath('/opt/conda/lib/python3.9/site-packages/matplotlib/mpl-data/matplotlibrc'), line 767 ('font.family : IPAexGothic')\n"
     ]
    },
    {
     "data": {
      "image/png": "[encoded data removed]",
      "text/plain": [
       "<Figure size 432x288 with 1 Axes>"
      ]
     },
     "metadata": {
      "needs_background": "light"
     },
     "output_type": "display_data"
    }
   ],
   "source": [
    "from matplotlib import rcParams\n",
    "rcParams['font.family'] = 'IPAexGothic'\n",
    "import matplotlib.pyplot as plt\n",
    "\n",
    "x = ['あ', 'ア','亜']\n",
    "y = [2,4,9]\n",
    "fig, ax = plt.subplots()\n",
    "ax.plot(x,y,label='系列１')\n",
    "ax.set_title('タイトル') #ここに英数字、を入れたら出力できた。半角カタカナは不可\n",
    "ax.legend()\n",
    "\n",
    "plt.show()"
   ]
  },
  {
   "cell_type": "markdown",
   "metadata": {},
   "source": []
  },
  {
   "cell_type": "code",
   "execution_count": 2,
   "metadata": {},
   "outputs": [
    {
     "name": "stdout",
     "output_type": "stream",
     "text": [
      "/opt/conda/lib/python3.9/site-packages/matplotlib/mpl-data/matplotlibrc\n",
      "['IPAexGothic']\n",
      "/root/.config/matplotlib\n",
      "/root/.cache/matplotlib\n"
     ]
    }
   ],
   "source": [
    "import matplotlib\n",
    "print(matplotlib.matplotlib_fname()) #設定ファイルを表示（matplotlibrcは後で作ります）\n",
    "print(matplotlib.rcParams['font.family']) #現在使用しているフォントを表示\n",
    "print(matplotlib.get_configdir()) #設定ディレクトリを表示\n",
    "print(matplotlib.get_cachedir()) #キャッシュディレクトリを表示"
   ]
  },
  {
   "cell_type": "markdown",
   "metadata": {},
   "source": [
    "↑最後にキャッシュは削除する"
   ]
  },
  {
   "cell_type": "markdown",
   "metadata": {},
   "source": []
  },
  {
   "cell_type": "markdown",
   "metadata": {},
   "source": [
    "### Chapter-1のデータを使って出力"
   ]
  },
  {
   "cell_type": "markdown",
   "metadata": {},
   "source": [
    "データの読み込み"
   ]
  },
  {
   "cell_type": "code",
   "execution_count": 13,
   "metadata": {},
   "outputs": [],
   "source": [
    "import pandas as pd\n",
    "data = pd.read_csv(\"/opt/100knock-process-visualization/chapter-1/data/22_shizuoka_all_20210331.csv\",encoding = \"shift-jis\", dtype = object)"
   ]
  },
  {
   "cell_type": "markdown",
   "metadata": {},
   "source": [
    "ヘッダの読み込み"
   ]
  },
  {
   "cell_type": "code",
   "execution_count": 14,
   "metadata": {},
   "outputs": [],
   "source": [
    "mst = pd.read_csv(\"/opt/100knock-process-visualization/chapter-1/data/mst_column_name.txt\",encoding = \"shift-jis\",sep ='\\t')"
   ]
  },
  {
   "cell_type": "markdown",
   "metadata": {},
   "source": [
    "ヘッダの追加"
   ]
  },
  {
   "cell_type": "code",
   "execution_count": 15,
   "metadata": {},
   "outputs": [
    {
     "data": {
      "text/html": [
       "<div>\n",
       "<style scoped>\n",
       "    .dataframe tbody tr th:only-of-type {\n",
       "        vertical-align: middle;\n",
       "    }\n",
       "\n",
       "    .dataframe tbody tr th {\n",
       "        vertical-align: top;\n",
       "    }\n",
       "\n",
       "    .dataframe thead th {\n",
       "        text-align: right;\n",
       "    }\n",
       "</style>\n",
       "<table border=\"1\" class=\"dataframe\">\n",
       "  <thead>\n",
       "    <tr style=\"text-align: right;\">\n",
       "      <th></th>\n",
       "      <th>sequenceNumber</th>\n",
       "      <th>corporateNumber</th>\n",
       "      <th>process</th>\n",
       "      <th>correct</th>\n",
       "      <th>updateDate</th>\n",
       "      <th>changeDate</th>\n",
       "      <th>name</th>\n",
       "      <th>nameImageId</th>\n",
       "      <th>kind</th>\n",
       "      <th>prefectureName</th>\n",
       "      <th>...</th>\n",
       "      <th>successorCorporateNumber</th>\n",
       "      <th>changeCause</th>\n",
       "      <th>assignmentDate</th>\n",
       "      <th>latest</th>\n",
       "      <th>enName</th>\n",
       "      <th>enPrefectureName</th>\n",
       "      <th>enCityName</th>\n",
       "      <th>enAddressOutside</th>\n",
       "      <th>furigana</th>\n",
       "      <th>hihyoji</th>\n",
       "    </tr>\n",
       "  </thead>\n",
       "  <tbody>\n",
       "    <tr>\n",
       "      <th>0</th>\n",
       "      <td>2</td>\n",
       "      <td>1000013050072</td>\n",
       "      <td>01</td>\n",
       "      <td>1</td>\n",
       "      <td>2018-04-02</td>\n",
       "      <td>2015-10-05</td>\n",
       "      <td>清水簡易裁判所</td>\n",
       "      <td>NaN</td>\n",
       "      <td>101</td>\n",
       "      <td>静岡県</td>\n",
       "      <td>...</td>\n",
       "      <td>NaN</td>\n",
       "      <td>NaN</td>\n",
       "      <td>2015-10-05</td>\n",
       "      <td>1</td>\n",
       "      <td>Shimizu Summary Court</td>\n",
       "      <td>Shizuoka</td>\n",
       "      <td>1-6-15, Tenjin, Shimizu ku, Shizuoka shi</td>\n",
       "      <td>NaN</td>\n",
       "      <td>シミズカンイサイバンショ</td>\n",
       "      <td>0</td>\n",
       "    </tr>\n",
       "    <tr>\n",
       "      <th>1</th>\n",
       "      <td>3</td>\n",
       "      <td>1000013050080</td>\n",
       "      <td>01</td>\n",
       "      <td>1</td>\n",
       "      <td>2018-04-02</td>\n",
       "      <td>2015-10-05</td>\n",
       "      <td>浜松簡易裁判所</td>\n",
       "      <td>NaN</td>\n",
       "      <td>101</td>\n",
       "      <td>静岡県</td>\n",
       "      <td>...</td>\n",
       "      <td>NaN</td>\n",
       "      <td>NaN</td>\n",
       "      <td>2015-10-05</td>\n",
       "      <td>1</td>\n",
       "      <td>Hamamatsu Summary Court</td>\n",
       "      <td>Shizuoka</td>\n",
       "      <td>1-12-5, Chuo, Naka ku, Hamamatsu shi</td>\n",
       "      <td>NaN</td>\n",
       "      <td>ハママツカンイサイバンショ</td>\n",
       "      <td>0</td>\n",
       "    </tr>\n",
       "    <tr>\n",
       "      <th>2</th>\n",
       "      <td>4</td>\n",
       "      <td>1000020222119</td>\n",
       "      <td>01</td>\n",
       "      <td>1</td>\n",
       "      <td>2018-04-05</td>\n",
       "      <td>2015-10-05</td>\n",
       "      <td>磐田市</td>\n",
       "      <td>NaN</td>\n",
       "      <td>201</td>\n",
       "      <td>静岡県</td>\n",
       "      <td>...</td>\n",
       "      <td>NaN</td>\n",
       "      <td>NaN</td>\n",
       "      <td>2015-10-05</td>\n",
       "      <td>1</td>\n",
       "      <td>Iwata City</td>\n",
       "      <td>Shizuoka</td>\n",
       "      <td>3-1,Kounodai, Iwata shi</td>\n",
       "      <td>NaN</td>\n",
       "      <td>イワタシ</td>\n",
       "      <td>0</td>\n",
       "    </tr>\n",
       "    <tr>\n",
       "      <th>3</th>\n",
       "      <td>5</td>\n",
       "      <td>1000020222127</td>\n",
       "      <td>01</td>\n",
       "      <td>1</td>\n",
       "      <td>2018-04-05</td>\n",
       "      <td>2015-10-05</td>\n",
       "      <td>焼津市</td>\n",
       "      <td>NaN</td>\n",
       "      <td>201</td>\n",
       "      <td>静岡県</td>\n",
       "      <td>...</td>\n",
       "      <td>NaN</td>\n",
       "      <td>NaN</td>\n",
       "      <td>2015-10-05</td>\n",
       "      <td>1</td>\n",
       "      <td>Yaizu city</td>\n",
       "      <td>Shizuoka</td>\n",
       "      <td>2-16-32 Honmachi, Yaizu shi</td>\n",
       "      <td>NaN</td>\n",
       "      <td>ヤイヅシ</td>\n",
       "      <td>0</td>\n",
       "    </tr>\n",
       "    <tr>\n",
       "      <th>4</th>\n",
       "      <td>6</td>\n",
       "      <td>1000020222135</td>\n",
       "      <td>01</td>\n",
       "      <td>1</td>\n",
       "      <td>2020-09-29</td>\n",
       "      <td>2015-10-05</td>\n",
       "      <td>掛川市</td>\n",
       "      <td>NaN</td>\n",
       "      <td>201</td>\n",
       "      <td>静岡県</td>\n",
       "      <td>...</td>\n",
       "      <td>NaN</td>\n",
       "      <td>NaN</td>\n",
       "      <td>2015-10-05</td>\n",
       "      <td>1</td>\n",
       "      <td>Kakegawa City</td>\n",
       "      <td>Shizuoka</td>\n",
       "      <td>1-1-1 Nagaya, Kakegawa shi</td>\n",
       "      <td>NaN</td>\n",
       "      <td>カケガワシ</td>\n",
       "      <td>0</td>\n",
       "    </tr>\n",
       "  </tbody>\n",
       "</table>\n",
       "<p>5 rows × 30 columns</p>\n",
       "</div>"
      ],
      "text/plain": [
       "  sequenceNumber corporateNumber process correct  updateDate  changeDate  \\\n",
       "0              2   1000013050072      01       1  2018-04-02  2015-10-05   \n",
       "1              3   1000013050080      01       1  2018-04-02  2015-10-05   \n",
       "2              4   1000020222119      01       1  2018-04-05  2015-10-05   \n",
       "3              5   1000020222127      01       1  2018-04-05  2015-10-05   \n",
       "4              6   1000020222135      01       1  2020-09-29  2015-10-05   \n",
       "\n",
       "      name nameImageId kind prefectureName  ... successorCorporateNumber  \\\n",
       "0  清水簡易裁判所         NaN  101            静岡県  ...                      NaN   \n",
       "1  浜松簡易裁判所         NaN  101            静岡県  ...                      NaN   \n",
       "2      磐田市         NaN  201            静岡県  ...                      NaN   \n",
       "3      焼津市         NaN  201            静岡県  ...                      NaN   \n",
       "4      掛川市         NaN  201            静岡県  ...                      NaN   \n",
       "\n",
       "  changeCause assignmentDate latest                   enName enPrefectureName  \\\n",
       "0         NaN     2015-10-05      1    Shimizu Summary Court         Shizuoka   \n",
       "1         NaN     2015-10-05      1  Hamamatsu Summary Court         Shizuoka   \n",
       "2         NaN     2015-10-05      1               Iwata City         Shizuoka   \n",
       "3         NaN     2015-10-05      1               Yaizu city         Shizuoka   \n",
       "4         NaN     2015-10-05      1            Kakegawa City         Shizuoka   \n",
       "\n",
       "                                 enCityName enAddressOutside       furigana  \\\n",
       "0  1-6-15, Tenjin, Shimizu ku, Shizuoka shi              NaN   シミズカンイサイバンショ   \n",
       "1      1-12-5, Chuo, Naka ku, Hamamatsu shi              NaN  ハママツカンイサイバンショ   \n",
       "2                   3-1,Kounodai, Iwata shi              NaN           イワタシ   \n",
       "3               2-16-32 Honmachi, Yaizu shi              NaN           ヤイヅシ   \n",
       "4                1-1-1 Nagaya, Kakegawa shi              NaN          カケガワシ   \n",
       "\n",
       "  hihyoji  \n",
       "0       0  \n",
       "1       0  \n",
       "2       0  \n",
       "3       0  \n",
       "4       0  \n",
       "\n",
       "[5 rows x 30 columns]"
      ]
     },
     "execution_count": 15,
     "metadata": {},
     "output_type": "execute_result"
    }
   ],
   "source": [
    "columns = mst.column_name_en.values\n",
    "data.columns = columns\n",
    "data.head()"
   ]
  },
  {
   "cell_type": "markdown",
   "metadata": {},
   "source": [
    "市町村別の法人数の可視化"
   ]
  },
  {
   "cell_type": "code",
   "execution_count": 16,
   "metadata": {},
   "outputs": [
    {
     "data": {
      "text/plain": [
       "cityName\n",
       "三島市      3590\n",
       "下田市       930\n",
       "伊東市      3255\n",
       "伊豆の国市    1443\n",
       "伊豆市      1162\n",
       "周智郡森町     498\n",
       "富士宮市     3549\n",
       "富士市      7288\n",
       "島田市      2285\n",
       "御前崎市      912\n",
       "dtype: int64"
      ]
     },
     "execution_count": 16,
     "metadata": {},
     "output_type": "execute_result"
    }
   ],
   "source": [
    "tmp = data.groupby('cityName').size()\n",
    "tmp.head(10)"
   ]
  },
  {
   "cell_type": "code",
   "execution_count": 17,
   "metadata": {},
   "outputs": [
    {
     "data": {
      "image/png": "[encoded data removed]",
      "text/plain": [
       "<Figure size 432x288 with 1 Axes>"
      ]
     },
     "metadata": {
      "needs_background": "light"
     },
     "output_type": "display_data"
    }
   ],
   "source": [
    "from matplotlib import rcParams\n",
    "rcParams['font.family'] = 'IPAexGothic'\n",
    "import matplotlib.pyplot as plt\n",
    "%matplotlib inline\n",
    "\n",
    "x = tmp[:10].index\n",
    "y = tmp[:10].values\n",
    "plt.barh(x, y)\n",
    "\n",
    "plt.show()\n"
   ]
  },
  {
   "cell_type": "markdown",
   "metadata": {},
   "source": [
    "ローカル：'Hiragino Sans'  \n",
    "Docker:'IPAexGothic'  \n",
    "は日本語表記できることがわかった。"
   ]
  },
  {
   "cell_type": "code",
   "execution_count": null,
   "metadata": {},
   "outputs": [],
   "source": []
  }
 ],
 "metadata": {
  "kernelspec": {
   "display_name": "Python 3 (ipykernel)",
   "language": "python",
   "name": "python3"
  },
  "language_info": {
   "codemirror_mode": {
    "name": "ipython",
    "version": 3
   },
   "file_extension": ".py",
   "mimetype": "text/x-python",
   "name": "python",
   "nbconvert_exporter": "python",
   "pygments_lexer": "ipython3",
   "version": "3.9.12"
  },
  "vscode": {
   "interpreter": {
    "hash": "1822c21246436246064179f1c8b6decec3a53de5ec674e99c65ca5a5c94d35e2"
   }
  }
 },
 "nbformat": 4,
 "nbformat_minor": 4
}
