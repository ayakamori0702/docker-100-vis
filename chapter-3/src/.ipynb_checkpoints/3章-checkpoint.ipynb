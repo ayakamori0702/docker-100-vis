{
 "cells": [
  {
   "cell_type": "code",
   "execution_count": 1,
   "metadata": {
    "id": "HcOU_u4l25Jd"
   },
   "outputs": [],
   "source": [
    "import os \n",
    "project = '100knock-process-visualization'\n",
    "chapter = 3\n",
    "os.chdir(f'/opt/{project}/chapter-{chapter}')"
   ]
  },
  {
   "cell_type": "markdown",
   "metadata": {
    "id": "pCbOP-x725Jd",
    "tags": []
   },
   "source": [
    "# ３章 時系列データの加工・可視化１０本ノック"
   ]
  },
  {
   "cell_type": "markdown",
   "metadata": {},
   "source": [
    "# 今回扱うデータ\n",
    "* person_count_out_0001_○○.csv  \n",
    "「大手町・丸の内・有楽町エリアにおける人流オープンデータ  \n",
    "対象エリアを通行した人数を1秒でカウントしたデータ  \n"
   ]
  },
  {
   "cell_type": "markdown",
   "metadata": {
    "id": "UMt-N3VMJQmJ"
   },
   "source": [
    "## ノック４１：時系列データを読み込んでみよう"
   ]
  },
  {
   "cell_type": "code",
   "execution_count": 2,
   "metadata": {},
   "outputs": [
    {
     "data": {
      "text/plain": [
       "['data/person_count_1sec/out_0001/person_count_out_0001_2021011509.csv',\n",
       " 'data/person_count_1sec/out_0001/person_count_out_0001_2021011510.csv',\n",
       " 'data/person_count_1sec/out_0001/person_count_out_0001_2021011511.csv',\n",
       " 'data/person_count_1sec/out_0001/person_count_out_0001_2021011512.csv',\n",
       " 'data/person_count_1sec/out_0001/person_count_out_0001_2021011513.csv']"
      ]
     },
     "execution_count": 2,
     "metadata": {},
     "output_type": "execute_result"
    }
   ],
   "source": [
    "from glob import glob\n",
    "files = glob('data/person_count_1sec/out_0001/*.csv')\n",
    "files.sort()\n",
    "files[:5]"
   ]
  },
  {
   "cell_type": "markdown",
   "metadata": {},
   "source": [
    "*globモジュールでは、引数に指定されたパターンにマッチするファイルパス名を取得できます  \n",
    "*特定のディレクトリに存在するファイルに処理を加えたい場合などに、使用します。"
   ]
  },
  {
   "cell_type": "code",
   "execution_count": 3,
   "metadata": {},
   "outputs": [
    {
     "data": {
      "text/html": [
       "<div>\n",
       "<style scoped>\n",
       "    .dataframe tbody tr th:only-of-type {\n",
       "        vertical-align: middle;\n",
       "    }\n",
       "\n",
       "    .dataframe tbody tr th {\n",
       "        vertical-align: top;\n",
       "    }\n",
       "\n",
       "    .dataframe thead th {\n",
       "        text-align: right;\n",
       "    }\n",
       "</style>\n",
       "<table border=\"1\" class=\"dataframe\">\n",
       "  <thead>\n",
       "    <tr style=\"text-align: right;\">\n",
       "      <th></th>\n",
       "      <th>id</th>\n",
       "      <th>place</th>\n",
       "      <th>receive_time</th>\n",
       "      <th>sensor_num</th>\n",
       "      <th>in1</th>\n",
       "      <th>out1</th>\n",
       "      <th>state1</th>\n",
       "      <th>in2</th>\n",
       "      <th>out2</th>\n",
       "      <th>state2</th>\n",
       "    </tr>\n",
       "  </thead>\n",
       "  <tbody>\n",
       "    <tr>\n",
       "      <th>0</th>\n",
       "      <td>0</td>\n",
       "      <td>1</td>\n",
       "      <td>2021-01-15 09:00:00.144</td>\n",
       "      <td>2</td>\n",
       "      <td>508</td>\n",
       "      <td>73</td>\n",
       "      <td>0</td>\n",
       "      <td>73</td>\n",
       "      <td>508</td>\n",
       "      <td>0</td>\n",
       "    </tr>\n",
       "    <tr>\n",
       "      <th>1</th>\n",
       "      <td>1</td>\n",
       "      <td>1</td>\n",
       "      <td>2021-01-15 09:00:01.146</td>\n",
       "      <td>2</td>\n",
       "      <td>508</td>\n",
       "      <td>73</td>\n",
       "      <td>0</td>\n",
       "      <td>73</td>\n",
       "      <td>508</td>\n",
       "      <td>0</td>\n",
       "    </tr>\n",
       "    <tr>\n",
       "      <th>2</th>\n",
       "      <td>2</td>\n",
       "      <td>1</td>\n",
       "      <td>2021-01-15 09:00:02.161</td>\n",
       "      <td>2</td>\n",
       "      <td>508</td>\n",
       "      <td>73</td>\n",
       "      <td>0</td>\n",
       "      <td>73</td>\n",
       "      <td>508</td>\n",
       "      <td>0</td>\n",
       "    </tr>\n",
       "    <tr>\n",
       "      <th>3</th>\n",
       "      <td>3</td>\n",
       "      <td>1</td>\n",
       "      <td>2021-01-15 09:00:03.176</td>\n",
       "      <td>2</td>\n",
       "      <td>508</td>\n",
       "      <td>73</td>\n",
       "      <td>0</td>\n",
       "      <td>73</td>\n",
       "      <td>508</td>\n",
       "      <td>0</td>\n",
       "    </tr>\n",
       "    <tr>\n",
       "      <th>4</th>\n",
       "      <td>4</td>\n",
       "      <td>1</td>\n",
       "      <td>2021-01-15 09:00:04.192</td>\n",
       "      <td>2</td>\n",
       "      <td>508</td>\n",
       "      <td>73</td>\n",
       "      <td>0</td>\n",
       "      <td>73</td>\n",
       "      <td>508</td>\n",
       "      <td>0</td>\n",
       "    </tr>\n",
       "  </tbody>\n",
       "</table>\n",
       "</div>"
      ],
      "text/plain": [
       "   id  place             receive_time  sensor_num  in1  out1  state1  in2  \\\n",
       "0   0      1  2021-01-15 09:00:00.144           2  508    73       0   73   \n",
       "1   1      1  2021-01-15 09:00:01.146           2  508    73       0   73   \n",
       "2   2      1  2021-01-15 09:00:02.161           2  508    73       0   73   \n",
       "3   3      1  2021-01-15 09:00:03.176           2  508    73       0   73   \n",
       "4   4      1  2021-01-15 09:00:04.192           2  508    73       0   73   \n",
       "\n",
       "   out2  state2  \n",
       "0   508       0  \n",
       "1   508       0  \n",
       "2   508       0  \n",
       "3   508       0  \n",
       "4   508       0  "
      ]
     },
     "metadata": {},
     "output_type": "display_data"
    },
    {
     "name": "stdout",
     "output_type": "stream",
     "text": [
      "id               int64\n",
      "place            int64\n",
      "receive_time    object\n",
      "sensor_num       int64\n",
      "in1              int64\n",
      "out1             int64\n",
      "state1           int64\n",
      "in2              int64\n",
      "out2             int64\n",
      "state2           int64\n",
      "dtype: object\n"
     ]
    }
   ],
   "source": [
    "# 一つ目のファイルの確認\n",
    "import pandas as pd\n",
    "data = pd.read_csv(files[0])\n",
    "display(data.head(5))\n",
    "print(data.dtypes)"
   ]
  },
  {
   "cell_type": "code",
   "execution_count": 4,
   "metadata": {
    "id": "dPDO6hobG2dG"
   },
   "outputs": [
    {
     "data": {
      "text/html": [
       "<div>\n",
       "<style scoped>\n",
       "    .dataframe tbody tr th:only-of-type {\n",
       "        vertical-align: middle;\n",
       "    }\n",
       "\n",
       "    .dataframe tbody tr th {\n",
       "        vertical-align: top;\n",
       "    }\n",
       "\n",
       "    .dataframe thead th {\n",
       "        text-align: right;\n",
       "    }\n",
       "</style>\n",
       "<table border=\"1\" class=\"dataframe\">\n",
       "  <thead>\n",
       "    <tr style=\"text-align: right;\">\n",
       "      <th></th>\n",
       "      <th>id</th>\n",
       "      <th>place</th>\n",
       "      <th>receive_time</th>\n",
       "      <th>sensor_num</th>\n",
       "      <th>in1</th>\n",
       "      <th>out1</th>\n",
       "      <th>state1</th>\n",
       "      <th>in2</th>\n",
       "      <th>out2</th>\n",
       "      <th>state2</th>\n",
       "    </tr>\n",
       "  </thead>\n",
       "  <tbody>\n",
       "    <tr>\n",
       "      <th>0</th>\n",
       "      <td>0</td>\n",
       "      <td>1</td>\n",
       "      <td>2021-01-15 09:00:00.144</td>\n",
       "      <td>2</td>\n",
       "      <td>508</td>\n",
       "      <td>73</td>\n",
       "      <td>0</td>\n",
       "      <td>73</td>\n",
       "      <td>508</td>\n",
       "      <td>0</td>\n",
       "    </tr>\n",
       "    <tr>\n",
       "      <th>1</th>\n",
       "      <td>1</td>\n",
       "      <td>1</td>\n",
       "      <td>2021-01-15 09:00:01.146</td>\n",
       "      <td>2</td>\n",
       "      <td>508</td>\n",
       "      <td>73</td>\n",
       "      <td>0</td>\n",
       "      <td>73</td>\n",
       "      <td>508</td>\n",
       "      <td>0</td>\n",
       "    </tr>\n",
       "    <tr>\n",
       "      <th>2</th>\n",
       "      <td>2</td>\n",
       "      <td>1</td>\n",
       "      <td>2021-01-15 09:00:02.161</td>\n",
       "      <td>2</td>\n",
       "      <td>508</td>\n",
       "      <td>73</td>\n",
       "      <td>0</td>\n",
       "      <td>73</td>\n",
       "      <td>508</td>\n",
       "      <td>0</td>\n",
       "    </tr>\n",
       "    <tr>\n",
       "      <th>3</th>\n",
       "      <td>3</td>\n",
       "      <td>1</td>\n",
       "      <td>2021-01-15 09:00:03.176</td>\n",
       "      <td>2</td>\n",
       "      <td>508</td>\n",
       "      <td>73</td>\n",
       "      <td>0</td>\n",
       "      <td>73</td>\n",
       "      <td>508</td>\n",
       "      <td>0</td>\n",
       "    </tr>\n",
       "    <tr>\n",
       "      <th>4</th>\n",
       "      <td>4</td>\n",
       "      <td>1</td>\n",
       "      <td>2021-01-15 09:00:04.192</td>\n",
       "      <td>2</td>\n",
       "      <td>508</td>\n",
       "      <td>73</td>\n",
       "      <td>0</td>\n",
       "      <td>73</td>\n",
       "      <td>508</td>\n",
       "      <td>0</td>\n",
       "    </tr>\n",
       "  </tbody>\n",
       "</table>\n",
       "</div>"
      ],
      "text/plain": [
       "   id  place            receive_time  sensor_num  in1  out1  state1  in2  \\\n",
       "0   0      1 2021-01-15 09:00:00.144           2  508    73       0   73   \n",
       "1   1      1 2021-01-15 09:00:01.146           2  508    73       0   73   \n",
       "2   2      1 2021-01-15 09:00:02.161           2  508    73       0   73   \n",
       "3   3      1 2021-01-15 09:00:03.176           2  508    73       0   73   \n",
       "4   4      1 2021-01-15 09:00:04.192           2  508    73       0   73   \n",
       "\n",
       "   out2  state2  \n",
       "0   508       0  \n",
       "1   508       0  \n",
       "2   508       0  \n",
       "3   508       0  \n",
       "4   508       0  "
      ]
     },
     "metadata": {},
     "output_type": "display_data"
    },
    {
     "data": {
      "text/plain": [
       "2346162"
      ]
     },
     "execution_count": 4,
     "metadata": {},
     "output_type": "execute_result"
    }
   ],
   "source": [
    "# 全てのファイルの中身を結合。そのときに「receive_time」は、「object」から「datatime」に変換。\n",
    "data = []\n",
    "for f in files:\n",
    "  tmp = pd.read_csv(f, parse_dates=[\"receive_time\"])\n",
    "  data.append(tmp)\n",
    "data = pd.concat(data,ignore_index=True)\n",
    "display(data.head())\n",
    "len(data)"
   ]
  },
  {
   "cell_type": "markdown",
   "metadata": {
    "id": "yecwJpz1PWrQ"
   },
   "source": [
    "## ノック４２：日付の範囲を確認しよう"
   ]
  },
  {
   "cell_type": "code",
   "execution_count": 5,
   "metadata": {
    "id": "an1sjR1vQyUI"
   },
   "outputs": [
    {
     "name": "stdout",
     "output_type": "stream",
     "text": [
      "2021-01-15 09:00:00.144000\n",
      "2021-02-14 17:59:59.956000\n"
     ]
    }
   ],
   "source": [
    "min_receive_time = data['receive_time'].min()\n",
    "max_receive_time = data['receive_time'].max()\n",
    "print(min_receive_time)\n",
    "print(max_receive_time)"
   ]
  },
  {
   "cell_type": "code",
   "execution_count": 6,
   "metadata": {
    "id": "POFL8sU0RHE0"
   },
   "outputs": [
    {
     "name": "stdout",
     "output_type": "stream",
     "text": [
      "30 days 08:59:59.812000\n"
     ]
    }
   ],
   "source": [
    "print(data['receive_time'].max()-data['receive_time'].min())"
   ]
  },
  {
   "cell_type": "markdown",
   "metadata": {
    "id": "5Y7f3a3BM-pm"
   },
   "source": [
    "## ノック４３：日毎のデータ件数を確認しよう"
   ]
  },
  {
   "cell_type": "code",
   "execution_count": 7,
   "metadata": {
    "id": "Vnepx-lShiUG"
   },
   "outputs": [
    {
     "data": {
      "text/html": [
       "<div>\n",
       "<style scoped>\n",
       "    .dataframe tbody tr th:only-of-type {\n",
       "        vertical-align: middle;\n",
       "    }\n",
       "\n",
       "    .dataframe tbody tr th {\n",
       "        vertical-align: top;\n",
       "    }\n",
       "\n",
       "    .dataframe thead th {\n",
       "        text-align: right;\n",
       "    }\n",
       "</style>\n",
       "<table border=\"1\" class=\"dataframe\">\n",
       "  <thead>\n",
       "    <tr style=\"text-align: right;\">\n",
       "      <th></th>\n",
       "      <th>id</th>\n",
       "      <th>place</th>\n",
       "      <th>receive_time</th>\n",
       "      <th>sensor_num</th>\n",
       "      <th>in1</th>\n",
       "      <th>out1</th>\n",
       "      <th>state1</th>\n",
       "      <th>in2</th>\n",
       "      <th>out2</th>\n",
       "      <th>state2</th>\n",
       "      <th>receive_date</th>\n",
       "    </tr>\n",
       "  </thead>\n",
       "  <tbody>\n",
       "    <tr>\n",
       "      <th>0</th>\n",
       "      <td>0</td>\n",
       "      <td>1</td>\n",
       "      <td>2021-01-15 09:00:00.144</td>\n",
       "      <td>2</td>\n",
       "      <td>508</td>\n",
       "      <td>73</td>\n",
       "      <td>0</td>\n",
       "      <td>73</td>\n",
       "      <td>508</td>\n",
       "      <td>0</td>\n",
       "      <td>2021-01-15</td>\n",
       "    </tr>\n",
       "    <tr>\n",
       "      <th>1</th>\n",
       "      <td>1</td>\n",
       "      <td>1</td>\n",
       "      <td>2021-01-15 09:00:01.146</td>\n",
       "      <td>2</td>\n",
       "      <td>508</td>\n",
       "      <td>73</td>\n",
       "      <td>0</td>\n",
       "      <td>73</td>\n",
       "      <td>508</td>\n",
       "      <td>0</td>\n",
       "      <td>2021-01-15</td>\n",
       "    </tr>\n",
       "    <tr>\n",
       "      <th>2</th>\n",
       "      <td>2</td>\n",
       "      <td>1</td>\n",
       "      <td>2021-01-15 09:00:02.161</td>\n",
       "      <td>2</td>\n",
       "      <td>508</td>\n",
       "      <td>73</td>\n",
       "      <td>0</td>\n",
       "      <td>73</td>\n",
       "      <td>508</td>\n",
       "      <td>0</td>\n",
       "      <td>2021-01-15</td>\n",
       "    </tr>\n",
       "    <tr>\n",
       "      <th>3</th>\n",
       "      <td>3</td>\n",
       "      <td>1</td>\n",
       "      <td>2021-01-15 09:00:03.176</td>\n",
       "      <td>2</td>\n",
       "      <td>508</td>\n",
       "      <td>73</td>\n",
       "      <td>0</td>\n",
       "      <td>73</td>\n",
       "      <td>508</td>\n",
       "      <td>0</td>\n",
       "      <td>2021-01-15</td>\n",
       "    </tr>\n",
       "    <tr>\n",
       "      <th>4</th>\n",
       "      <td>4</td>\n",
       "      <td>1</td>\n",
       "      <td>2021-01-15 09:00:04.192</td>\n",
       "      <td>2</td>\n",
       "      <td>508</td>\n",
       "      <td>73</td>\n",
       "      <td>0</td>\n",
       "      <td>73</td>\n",
       "      <td>508</td>\n",
       "      <td>0</td>\n",
       "      <td>2021-01-15</td>\n",
       "    </tr>\n",
       "  </tbody>\n",
       "</table>\n",
       "</div>"
      ],
      "text/plain": [
       "   id  place            receive_time  sensor_num  in1  out1  state1  in2  \\\n",
       "0   0      1 2021-01-15 09:00:00.144           2  508    73       0   73   \n",
       "1   1      1 2021-01-15 09:00:01.146           2  508    73       0   73   \n",
       "2   2      1 2021-01-15 09:00:02.161           2  508    73       0   73   \n",
       "3   3      1 2021-01-15 09:00:03.176           2  508    73       0   73   \n",
       "4   4      1 2021-01-15 09:00:04.192           2  508    73       0   73   \n",
       "\n",
       "   out2  state2 receive_date  \n",
       "0   508       0   2021-01-15  \n",
       "1   508       0   2021-01-15  \n",
       "2   508       0   2021-01-15  \n",
       "3   508       0   2021-01-15  \n",
       "4   508       0   2021-01-15  "
      ]
     },
     "execution_count": 7,
     "metadata": {},
     "output_type": "execute_result"
    }
   ],
   "source": [
    "# 日単位でのデータ件数 新カラム[receive_date]を用意して、dt.dateで日にちでまとめる\n",
    "data['receive_date'] = data['receive_time'].dt.date\n",
    "data.head()"
   ]
  },
  {
   "cell_type": "code",
   "execution_count": 8,
   "metadata": {
    "id": "MgqV8TIyhvBn"
   },
   "outputs": [
    {
     "data": {
      "text/html": [
       "<div>\n",
       "<style scoped>\n",
       "    .dataframe tbody tr th:only-of-type {\n",
       "        vertical-align: middle;\n",
       "    }\n",
       "\n",
       "    .dataframe tbody tr th {\n",
       "        vertical-align: top;\n",
       "    }\n",
       "\n",
       "    .dataframe thead th {\n",
       "        text-align: right;\n",
       "    }\n",
       "</style>\n",
       "<table border=\"1\" class=\"dataframe\">\n",
       "  <thead>\n",
       "    <tr style=\"text-align: right;\">\n",
       "      <th></th>\n",
       "      <th>receive_date</th>\n",
       "      <th>id</th>\n",
       "    </tr>\n",
       "  </thead>\n",
       "  <tbody>\n",
       "    <tr>\n",
       "      <th>0</th>\n",
       "      <td>2021-01-15</td>\n",
       "      <td>50166</td>\n",
       "    </tr>\n",
       "    <tr>\n",
       "      <th>1</th>\n",
       "      <td>2021-01-16</td>\n",
       "      <td>75699</td>\n",
       "    </tr>\n",
       "    <tr>\n",
       "      <th>2</th>\n",
       "      <td>2021-01-17</td>\n",
       "      <td>73198</td>\n",
       "    </tr>\n",
       "    <tr>\n",
       "      <th>3</th>\n",
       "      <td>2021-01-18</td>\n",
       "      <td>78365</td>\n",
       "    </tr>\n",
       "    <tr>\n",
       "      <th>4</th>\n",
       "      <td>2021-01-19</td>\n",
       "      <td>78348</td>\n",
       "    </tr>\n",
       "  </tbody>\n",
       "</table>\n",
       "</div>"
      ],
      "text/plain": [
       "  receive_date     id\n",
       "0   2021-01-15  50166\n",
       "1   2021-01-16  75699\n",
       "2   2021-01-17  73198\n",
       "3   2021-01-18  78365\n",
       "4   2021-01-19  78348"
      ]
     },
     "execution_count": 8,
     "metadata": {},
     "output_type": "execute_result"
    }
   ],
   "source": [
    "daily_count = data[['receive_date','id']].groupby('receive_date', as_index=False).count()\n",
    "daily_count.head()"
   ]
  },
  {
   "cell_type": "code",
   "execution_count": 9,
   "metadata": {
    "id": "VaG_EWlkiMup"
   },
   "outputs": [
    {
     "data": {
      "text/plain": [
       "<AxesSubplot:xlabel='receive_date', ylabel='id'>"
      ]
     },
     "execution_count": 9,
     "metadata": {},
     "output_type": "execute_result"
    },
    {
     "data": {
      "image/png": "[encoded data removed]",
      "text/plain": [
       "<Figure size 1080x360 with 1 Axes>"
      ]
     },
     "metadata": {
      "needs_background": "light"
     },
     "output_type": "display_data"
    }
   ],
   "source": [
    "# 30日分のデータ数を可視化\n",
    "import seaborn as sns\n",
    "import matplotlib.pyplot as plt\n",
    "plt.figure(figsize=(15, 5))\n",
    "plt.xticks(rotation=90)  # x軸の回転\n",
    "sns.barplot(x=daily_count['receive_date'], y=daily_count[\"id\"])"
   ]
  },
  {
   "cell_type": "markdown",
   "metadata": {
    "id": "ViRmiYPJnmus"
   },
   "source": [
    "## ノック４４：日付から曜日を算出しよう"
   ]
  },
  {
   "cell_type": "code",
   "execution_count": 10,
   "metadata": {
    "id": "5vpJDlsdnx3t"
   },
   "outputs": [
    {
     "data": {
      "text/html": [
       "<div>\n",
       "<style scoped>\n",
       "    .dataframe tbody tr th:only-of-type {\n",
       "        vertical-align: middle;\n",
       "    }\n",
       "\n",
       "    .dataframe tbody tr th {\n",
       "        vertical-align: top;\n",
       "    }\n",
       "\n",
       "    .dataframe thead th {\n",
       "        text-align: right;\n",
       "    }\n",
       "</style>\n",
       "<table border=\"1\" class=\"dataframe\">\n",
       "  <thead>\n",
       "    <tr style=\"text-align: right;\">\n",
       "      <th></th>\n",
       "      <th>id</th>\n",
       "      <th>place</th>\n",
       "      <th>receive_time</th>\n",
       "      <th>sensor_num</th>\n",
       "      <th>in1</th>\n",
       "      <th>out1</th>\n",
       "      <th>state1</th>\n",
       "      <th>in2</th>\n",
       "      <th>out2</th>\n",
       "      <th>state2</th>\n",
       "      <th>receive_date</th>\n",
       "      <th>dayofweek</th>\n",
       "      <th>day_name</th>\n",
       "    </tr>\n",
       "  </thead>\n",
       "  <tbody>\n",
       "    <tr>\n",
       "      <th>0</th>\n",
       "      <td>0</td>\n",
       "      <td>1</td>\n",
       "      <td>2021-01-15 09:00:00.144</td>\n",
       "      <td>2</td>\n",
       "      <td>508</td>\n",
       "      <td>73</td>\n",
       "      <td>0</td>\n",
       "      <td>73</td>\n",
       "      <td>508</td>\n",
       "      <td>0</td>\n",
       "      <td>2021-01-15</td>\n",
       "      <td>4</td>\n",
       "      <td>Friday</td>\n",
       "    </tr>\n",
       "    <tr>\n",
       "      <th>1</th>\n",
       "      <td>1</td>\n",
       "      <td>1</td>\n",
       "      <td>2021-01-15 09:00:01.146</td>\n",
       "      <td>2</td>\n",
       "      <td>508</td>\n",
       "      <td>73</td>\n",
       "      <td>0</td>\n",
       "      <td>73</td>\n",
       "      <td>508</td>\n",
       "      <td>0</td>\n",
       "      <td>2021-01-15</td>\n",
       "      <td>4</td>\n",
       "      <td>Friday</td>\n",
       "    </tr>\n",
       "    <tr>\n",
       "      <th>2</th>\n",
       "      <td>2</td>\n",
       "      <td>1</td>\n",
       "      <td>2021-01-15 09:00:02.161</td>\n",
       "      <td>2</td>\n",
       "      <td>508</td>\n",
       "      <td>73</td>\n",
       "      <td>0</td>\n",
       "      <td>73</td>\n",
       "      <td>508</td>\n",
       "      <td>0</td>\n",
       "      <td>2021-01-15</td>\n",
       "      <td>4</td>\n",
       "      <td>Friday</td>\n",
       "    </tr>\n",
       "    <tr>\n",
       "      <th>3</th>\n",
       "      <td>3</td>\n",
       "      <td>1</td>\n",
       "      <td>2021-01-15 09:00:03.176</td>\n",
       "      <td>2</td>\n",
       "      <td>508</td>\n",
       "      <td>73</td>\n",
       "      <td>0</td>\n",
       "      <td>73</td>\n",
       "      <td>508</td>\n",
       "      <td>0</td>\n",
       "      <td>2021-01-15</td>\n",
       "      <td>4</td>\n",
       "      <td>Friday</td>\n",
       "    </tr>\n",
       "    <tr>\n",
       "      <th>4</th>\n",
       "      <td>4</td>\n",
       "      <td>1</td>\n",
       "      <td>2021-01-15 09:00:04.192</td>\n",
       "      <td>2</td>\n",
       "      <td>508</td>\n",
       "      <td>73</td>\n",
       "      <td>0</td>\n",
       "      <td>73</td>\n",
       "      <td>508</td>\n",
       "      <td>0</td>\n",
       "      <td>2021-01-15</td>\n",
       "      <td>4</td>\n",
       "      <td>Friday</td>\n",
       "    </tr>\n",
       "  </tbody>\n",
       "</table>\n",
       "</div>"
      ],
      "text/plain": [
       "   id  place            receive_time  sensor_num  in1  out1  state1  in2  \\\n",
       "0   0      1 2021-01-15 09:00:00.144           2  508    73       0   73   \n",
       "1   1      1 2021-01-15 09:00:01.146           2  508    73       0   73   \n",
       "2   2      1 2021-01-15 09:00:02.161           2  508    73       0   73   \n",
       "3   3      1 2021-01-15 09:00:03.176           2  508    73       0   73   \n",
       "4   4      1 2021-01-15 09:00:04.192           2  508    73       0   73   \n",
       "\n",
       "   out2  state2 receive_date  dayofweek day_name  \n",
       "0   508       0   2021-01-15          4   Friday  \n",
       "1   508       0   2021-01-15          4   Friday  \n",
       "2   508       0   2021-01-15          4   Friday  \n",
       "3   508       0   2021-01-15          4   Friday  \n",
       "4   508       0   2021-01-15          4   Friday  "
      ]
     },
     "execution_count": 10,
     "metadata": {},
     "output_type": "execute_result"
    }
   ],
   "source": [
    "data['dayofweek'] = data['receive_time'].dt.dayofweek  # 曜日を数字で取得\n",
    "data['day_name'] = data['receive_time'].dt.day_name()  # 曜日を英語名で取得\n",
    "data.head()"
   ]
  },
  {
   "cell_type": "code",
   "execution_count": 11,
   "metadata": {
    "id": "SWwV1gJkoERb"
   },
   "outputs": [
    {
     "data": {
      "text/html": [
       "<div>\n",
       "<style scoped>\n",
       "    .dataframe tbody tr th:only-of-type {\n",
       "        vertical-align: middle;\n",
       "    }\n",
       "\n",
       "    .dataframe tbody tr th {\n",
       "        vertical-align: top;\n",
       "    }\n",
       "\n",
       "    .dataframe thead th {\n",
       "        text-align: right;\n",
       "    }\n",
       "</style>\n",
       "<table border=\"1\" class=\"dataframe\">\n",
       "  <thead>\n",
       "    <tr style=\"text-align: right;\">\n",
       "      <th></th>\n",
       "      <th>receive_date</th>\n",
       "      <th>dayofweek</th>\n",
       "      <th>day_name</th>\n",
       "    </tr>\n",
       "  </thead>\n",
       "  <tbody>\n",
       "    <tr>\n",
       "      <th>0</th>\n",
       "      <td>2021-01-15</td>\n",
       "      <td>4</td>\n",
       "      <td>Friday</td>\n",
       "    </tr>\n",
       "    <tr>\n",
       "      <th>50166</th>\n",
       "      <td>2021-01-16</td>\n",
       "      <td>5</td>\n",
       "      <td>Saturday</td>\n",
       "    </tr>\n",
       "    <tr>\n",
       "      <th>125865</th>\n",
       "      <td>2021-01-17</td>\n",
       "      <td>6</td>\n",
       "      <td>Sunday</td>\n",
       "    </tr>\n",
       "    <tr>\n",
       "      <th>199063</th>\n",
       "      <td>2021-01-18</td>\n",
       "      <td>0</td>\n",
       "      <td>Monday</td>\n",
       "    </tr>\n",
       "    <tr>\n",
       "      <th>277428</th>\n",
       "      <td>2021-01-19</td>\n",
       "      <td>1</td>\n",
       "      <td>Tuesday</td>\n",
       "    </tr>\n",
       "    <tr>\n",
       "      <th>355776</th>\n",
       "      <td>2021-01-20</td>\n",
       "      <td>2</td>\n",
       "      <td>Wednesday</td>\n",
       "    </tr>\n",
       "    <tr>\n",
       "      <th>434668</th>\n",
       "      <td>2021-01-21</td>\n",
       "      <td>3</td>\n",
       "      <td>Thursday</td>\n",
       "    </tr>\n",
       "    <tr>\n",
       "      <th>513010</th>\n",
       "      <td>2021-01-22</td>\n",
       "      <td>4</td>\n",
       "      <td>Friday</td>\n",
       "    </tr>\n",
       "    <tr>\n",
       "      <th>593585</th>\n",
       "      <td>2021-01-23</td>\n",
       "      <td>5</td>\n",
       "      <td>Saturday</td>\n",
       "    </tr>\n",
       "    <tr>\n",
       "      <th>668686</th>\n",
       "      <td>2021-01-24</td>\n",
       "      <td>6</td>\n",
       "      <td>Sunday</td>\n",
       "    </tr>\n",
       "  </tbody>\n",
       "</table>\n",
       "</div>"
      ],
      "text/plain": [
       "       receive_date  dayofweek   day_name\n",
       "0        2021-01-15          4     Friday\n",
       "50166    2021-01-16          5   Saturday\n",
       "125865   2021-01-17          6     Sunday\n",
       "199063   2021-01-18          0     Monday\n",
       "277428   2021-01-19          1    Tuesday\n",
       "355776   2021-01-20          2  Wednesday\n",
       "434668   2021-01-21          3   Thursday\n",
       "513010   2021-01-22          4     Friday\n",
       "593585   2021-01-23          5   Saturday\n",
       "668686   2021-01-24          6     Sunday"
      ]
     },
     "execution_count": 11,
     "metadata": {},
     "output_type": "execute_result"
    }
   ],
   "source": [
    "#重複の削除\n",
    "data[['receive_date','dayofweek','day_name']].drop_duplicates(subset='receive_date').head(10)"
   ]
  },
  {
   "cell_type": "markdown",
   "metadata": {},
   "source": [
    "データ件数の少ない23,24日は土曜、日曜だったことがわかる"
   ]
  },
  {
   "cell_type": "markdown",
   "metadata": {
    "id": "iA3P7k4TljBX"
   },
   "source": [
    "## ノック４５：特定範囲のデータに絞り込もう"
   ]
  },
  {
   "cell_type": "code",
   "execution_count": 12,
   "metadata": {
    "id": "6MfBS5OMkb4l"
   },
   "outputs": [
    {
     "data": {
      "text/html": [
       "<div>\n",
       "<style scoped>\n",
       "    .dataframe tbody tr th:only-of-type {\n",
       "        vertical-align: middle;\n",
       "    }\n",
       "\n",
       "    .dataframe tbody tr th {\n",
       "        vertical-align: top;\n",
       "    }\n",
       "\n",
       "    .dataframe thead th {\n",
       "        text-align: right;\n",
       "    }\n",
       "</style>\n",
       "<table border=\"1\" class=\"dataframe\">\n",
       "  <thead>\n",
       "    <tr style=\"text-align: right;\">\n",
       "      <th></th>\n",
       "      <th>id</th>\n",
       "      <th>place</th>\n",
       "      <th>receive_time</th>\n",
       "      <th>sensor_num</th>\n",
       "      <th>in1</th>\n",
       "      <th>out1</th>\n",
       "      <th>state1</th>\n",
       "      <th>in2</th>\n",
       "      <th>out2</th>\n",
       "      <th>state2</th>\n",
       "      <th>receive_date</th>\n",
       "      <th>dayofweek</th>\n",
       "      <th>day_name</th>\n",
       "    </tr>\n",
       "  </thead>\n",
       "  <tbody>\n",
       "    <tr>\n",
       "      <th>355776</th>\n",
       "      <td>0</td>\n",
       "      <td>1</td>\n",
       "      <td>2021-01-20 00:00:40.839</td>\n",
       "      <td>2</td>\n",
       "      <td>12109</td>\n",
       "      <td>11302</td>\n",
       "      <td>0</td>\n",
       "      <td>11318</td>\n",
       "      <td>12080</td>\n",
       "      <td>0</td>\n",
       "      <td>2021-01-20</td>\n",
       "      <td>2</td>\n",
       "      <td>Wednesday</td>\n",
       "    </tr>\n",
       "    <tr>\n",
       "      <th>355777</th>\n",
       "      <td>1</td>\n",
       "      <td>1</td>\n",
       "      <td>2021-01-20 00:00:41.854</td>\n",
       "      <td>2</td>\n",
       "      <td>12109</td>\n",
       "      <td>11302</td>\n",
       "      <td>0</td>\n",
       "      <td>11318</td>\n",
       "      <td>12080</td>\n",
       "      <td>0</td>\n",
       "      <td>2021-01-20</td>\n",
       "      <td>2</td>\n",
       "      <td>Wednesday</td>\n",
       "    </tr>\n",
       "    <tr>\n",
       "      <th>355778</th>\n",
       "      <td>2</td>\n",
       "      <td>1</td>\n",
       "      <td>2021-01-20 00:00:56.055</td>\n",
       "      <td>2</td>\n",
       "      <td>12109</td>\n",
       "      <td>11302</td>\n",
       "      <td>0</td>\n",
       "      <td>11318</td>\n",
       "      <td>12080</td>\n",
       "      <td>0</td>\n",
       "      <td>2021-01-20</td>\n",
       "      <td>2</td>\n",
       "      <td>Wednesday</td>\n",
       "    </tr>\n",
       "    <tr>\n",
       "      <th>355779</th>\n",
       "      <td>3</td>\n",
       "      <td>1</td>\n",
       "      <td>2021-01-20 00:00:57.071</td>\n",
       "      <td>2</td>\n",
       "      <td>12109</td>\n",
       "      <td>11302</td>\n",
       "      <td>0</td>\n",
       "      <td>11318</td>\n",
       "      <td>12080</td>\n",
       "      <td>0</td>\n",
       "      <td>2021-01-20</td>\n",
       "      <td>2</td>\n",
       "      <td>Wednesday</td>\n",
       "    </tr>\n",
       "    <tr>\n",
       "      <th>355780</th>\n",
       "      <td>4</td>\n",
       "      <td>1</td>\n",
       "      <td>2021-01-20 00:00:58.086</td>\n",
       "      <td>2</td>\n",
       "      <td>12109</td>\n",
       "      <td>11302</td>\n",
       "      <td>0</td>\n",
       "      <td>11318</td>\n",
       "      <td>12080</td>\n",
       "      <td>0</td>\n",
       "      <td>2021-01-20</td>\n",
       "      <td>2</td>\n",
       "      <td>Wednesday</td>\n",
       "    </tr>\n",
       "  </tbody>\n",
       "</table>\n",
       "</div>"
      ],
      "text/plain": [
       "        id  place            receive_time  sensor_num    in1   out1  state1  \\\n",
       "355776   0      1 2021-01-20 00:00:40.839           2  12109  11302       0   \n",
       "355777   1      1 2021-01-20 00:00:41.854           2  12109  11302       0   \n",
       "355778   2      1 2021-01-20 00:00:56.055           2  12109  11302       0   \n",
       "355779   3      1 2021-01-20 00:00:57.071           2  12109  11302       0   \n",
       "355780   4      1 2021-01-20 00:00:58.086           2  12109  11302       0   \n",
       "\n",
       "          in2   out2  state2 receive_date  dayofweek   day_name  \n",
       "355776  11318  12080       0   2021-01-20          2  Wednesday  \n",
       "355777  11318  12080       0   2021-01-20          2  Wednesday  \n",
       "355778  11318  12080       0   2021-01-20          2  Wednesday  \n",
       "355779  11318  12080       0   2021-01-20          2  Wednesday  \n",
       "355780  11318  12080       0   2021-01-20          2  Wednesday  "
      ]
     },
     "metadata": {},
     "output_type": "display_data"
    },
    {
     "data": {
      "text/html": [
       "<div>\n",
       "<style scoped>\n",
       "    .dataframe tbody tr th:only-of-type {\n",
       "        vertical-align: middle;\n",
       "    }\n",
       "\n",
       "    .dataframe tbody tr th {\n",
       "        vertical-align: top;\n",
       "    }\n",
       "\n",
       "    .dataframe thead th {\n",
       "        text-align: right;\n",
       "    }\n",
       "</style>\n",
       "<table border=\"1\" class=\"dataframe\">\n",
       "  <thead>\n",
       "    <tr style=\"text-align: right;\">\n",
       "      <th></th>\n",
       "      <th>id</th>\n",
       "      <th>place</th>\n",
       "      <th>receive_time</th>\n",
       "      <th>sensor_num</th>\n",
       "      <th>in1</th>\n",
       "      <th>out1</th>\n",
       "      <th>state1</th>\n",
       "      <th>in2</th>\n",
       "      <th>out2</th>\n",
       "      <th>state2</th>\n",
       "      <th>receive_date</th>\n",
       "      <th>dayofweek</th>\n",
       "      <th>day_name</th>\n",
       "    </tr>\n",
       "  </thead>\n",
       "  <tbody>\n",
       "    <tr>\n",
       "      <th>593580</th>\n",
       "      <td>2620</td>\n",
       "      <td>1</td>\n",
       "      <td>2021-01-22 23:58:32.865</td>\n",
       "      <td>2</td>\n",
       "      <td>21150</td>\n",
       "      <td>19675</td>\n",
       "      <td>0</td>\n",
       "      <td>19701</td>\n",
       "      <td>21107</td>\n",
       "      <td>0</td>\n",
       "      <td>2021-01-22</td>\n",
       "      <td>4</td>\n",
       "      <td>Friday</td>\n",
       "    </tr>\n",
       "    <tr>\n",
       "      <th>593581</th>\n",
       "      <td>2621</td>\n",
       "      <td>1</td>\n",
       "      <td>2021-01-22 23:58:33.881</td>\n",
       "      <td>2</td>\n",
       "      <td>21150</td>\n",
       "      <td>19675</td>\n",
       "      <td>0</td>\n",
       "      <td>19701</td>\n",
       "      <td>21107</td>\n",
       "      <td>0</td>\n",
       "      <td>2021-01-22</td>\n",
       "      <td>4</td>\n",
       "      <td>Friday</td>\n",
       "    </tr>\n",
       "    <tr>\n",
       "      <th>593582</th>\n",
       "      <td>2622</td>\n",
       "      <td>1</td>\n",
       "      <td>2021-01-22 23:58:34.896</td>\n",
       "      <td>2</td>\n",
       "      <td>21150</td>\n",
       "      <td>19675</td>\n",
       "      <td>0</td>\n",
       "      <td>19701</td>\n",
       "      <td>21107</td>\n",
       "      <td>0</td>\n",
       "      <td>2021-01-22</td>\n",
       "      <td>4</td>\n",
       "      <td>Friday</td>\n",
       "    </tr>\n",
       "    <tr>\n",
       "      <th>593583</th>\n",
       "      <td>2623</td>\n",
       "      <td>1</td>\n",
       "      <td>2021-01-22 23:58:35.912</td>\n",
       "      <td>2</td>\n",
       "      <td>21150</td>\n",
       "      <td>19675</td>\n",
       "      <td>0</td>\n",
       "      <td>19701</td>\n",
       "      <td>21107</td>\n",
       "      <td>0</td>\n",
       "      <td>2021-01-22</td>\n",
       "      <td>4</td>\n",
       "      <td>Friday</td>\n",
       "    </tr>\n",
       "    <tr>\n",
       "      <th>593584</th>\n",
       "      <td>2624</td>\n",
       "      <td>1</td>\n",
       "      <td>2021-01-22 23:58:36.927</td>\n",
       "      <td>2</td>\n",
       "      <td>21150</td>\n",
       "      <td>19675</td>\n",
       "      <td>0</td>\n",
       "      <td>19701</td>\n",
       "      <td>21107</td>\n",
       "      <td>0</td>\n",
       "      <td>2021-01-22</td>\n",
       "      <td>4</td>\n",
       "      <td>Friday</td>\n",
       "    </tr>\n",
       "  </tbody>\n",
       "</table>\n",
       "</div>"
      ],
      "text/plain": [
       "          id  place            receive_time  sensor_num    in1   out1  state1  \\\n",
       "593580  2620      1 2021-01-22 23:58:32.865           2  21150  19675       0   \n",
       "593581  2621      1 2021-01-22 23:58:33.881           2  21150  19675       0   \n",
       "593582  2622      1 2021-01-22 23:58:34.896           2  21150  19675       0   \n",
       "593583  2623      1 2021-01-22 23:58:35.912           2  21150  19675       0   \n",
       "593584  2624      1 2021-01-22 23:58:36.927           2  21150  19675       0   \n",
       "\n",
       "          in2   out2  state2 receive_date  dayofweek day_name  \n",
       "593580  19701  21107       0   2021-01-22          4   Friday  \n",
       "593581  19701  21107       0   2021-01-22          4   Friday  \n",
       "593582  19701  21107       0   2021-01-22          4   Friday  \n",
       "593583  19701  21107       0   2021-01-22          4   Friday  \n",
       "593584  19701  21107       0   2021-01-22          4   Friday  "
      ]
     },
     "metadata": {},
     "output_type": "display_data"
    }
   ],
   "source": [
    "import datetime as dt\n",
    "data_extract = data.loc[(data['receive_time']>=dt.datetime(2021,1,20))&\n",
    "                        (data['receive_time']<dt.datetime(2021,1,23))].copy()\n",
    "display(data_extract.head())\n",
    "display(data_extract.tail())"
   ]
  },
  {
   "cell_type": "markdown",
   "metadata": {
    "id": "-3-FbGQmi193"
   },
   "source": [
    "## ノック４６：秒単位のデータを作成しよう"
   ]
  },
  {
   "cell_type": "code",
   "execution_count": 13,
   "metadata": {
    "id": "oH7M8ZOgNMaa"
   },
   "outputs": [
    {
     "data": {
      "text/html": [
       "<div>\n",
       "<style scoped>\n",
       "    .dataframe tbody tr th:only-of-type {\n",
       "        vertical-align: middle;\n",
       "    }\n",
       "\n",
       "    .dataframe tbody tr th {\n",
       "        vertical-align: top;\n",
       "    }\n",
       "\n",
       "    .dataframe thead th {\n",
       "        text-align: right;\n",
       "    }\n",
       "</style>\n",
       "<table border=\"1\" class=\"dataframe\">\n",
       "  <thead>\n",
       "    <tr style=\"text-align: right;\">\n",
       "      <th></th>\n",
       "      <th>id</th>\n",
       "      <th>place</th>\n",
       "      <th>receive_time</th>\n",
       "      <th>sensor_num</th>\n",
       "      <th>in1</th>\n",
       "      <th>out1</th>\n",
       "      <th>state1</th>\n",
       "      <th>in2</th>\n",
       "      <th>out2</th>\n",
       "      <th>state2</th>\n",
       "      <th>receive_date</th>\n",
       "      <th>dayofweek</th>\n",
       "      <th>day_name</th>\n",
       "      <th>receive_time_sec</th>\n",
       "    </tr>\n",
       "  </thead>\n",
       "  <tbody>\n",
       "    <tr>\n",
       "      <th>355776</th>\n",
       "      <td>0</td>\n",
       "      <td>1</td>\n",
       "      <td>2021-01-20 00:00:40.839</td>\n",
       "      <td>2</td>\n",
       "      <td>12109</td>\n",
       "      <td>11302</td>\n",
       "      <td>0</td>\n",
       "      <td>11318</td>\n",
       "      <td>12080</td>\n",
       "      <td>0</td>\n",
       "      <td>2021-01-20</td>\n",
       "      <td>2</td>\n",
       "      <td>Wednesday</td>\n",
       "      <td>2021-01-20 00:00:41</td>\n",
       "    </tr>\n",
       "    <tr>\n",
       "      <th>355777</th>\n",
       "      <td>1</td>\n",
       "      <td>1</td>\n",
       "      <td>2021-01-20 00:00:41.854</td>\n",
       "      <td>2</td>\n",
       "      <td>12109</td>\n",
       "      <td>11302</td>\n",
       "      <td>0</td>\n",
       "      <td>11318</td>\n",
       "      <td>12080</td>\n",
       "      <td>0</td>\n",
       "      <td>2021-01-20</td>\n",
       "      <td>2</td>\n",
       "      <td>Wednesday</td>\n",
       "      <td>2021-01-20 00:00:42</td>\n",
       "    </tr>\n",
       "    <tr>\n",
       "      <th>355778</th>\n",
       "      <td>2</td>\n",
       "      <td>1</td>\n",
       "      <td>2021-01-20 00:00:56.055</td>\n",
       "      <td>2</td>\n",
       "      <td>12109</td>\n",
       "      <td>11302</td>\n",
       "      <td>0</td>\n",
       "      <td>11318</td>\n",
       "      <td>12080</td>\n",
       "      <td>0</td>\n",
       "      <td>2021-01-20</td>\n",
       "      <td>2</td>\n",
       "      <td>Wednesday</td>\n",
       "      <td>2021-01-20 00:00:56</td>\n",
       "    </tr>\n",
       "    <tr>\n",
       "      <th>355779</th>\n",
       "      <td>3</td>\n",
       "      <td>1</td>\n",
       "      <td>2021-01-20 00:00:57.071</td>\n",
       "      <td>2</td>\n",
       "      <td>12109</td>\n",
       "      <td>11302</td>\n",
       "      <td>0</td>\n",
       "      <td>11318</td>\n",
       "      <td>12080</td>\n",
       "      <td>0</td>\n",
       "      <td>2021-01-20</td>\n",
       "      <td>2</td>\n",
       "      <td>Wednesday</td>\n",
       "      <td>2021-01-20 00:00:57</td>\n",
       "    </tr>\n",
       "    <tr>\n",
       "      <th>355780</th>\n",
       "      <td>4</td>\n",
       "      <td>1</td>\n",
       "      <td>2021-01-20 00:00:58.086</td>\n",
       "      <td>2</td>\n",
       "      <td>12109</td>\n",
       "      <td>11302</td>\n",
       "      <td>0</td>\n",
       "      <td>11318</td>\n",
       "      <td>12080</td>\n",
       "      <td>0</td>\n",
       "      <td>2021-01-20</td>\n",
       "      <td>2</td>\n",
       "      <td>Wednesday</td>\n",
       "      <td>2021-01-20 00:00:58</td>\n",
       "    </tr>\n",
       "  </tbody>\n",
       "</table>\n",
       "</div>"
      ],
      "text/plain": [
       "        id  place            receive_time  sensor_num    in1   out1  state1  \\\n",
       "355776   0      1 2021-01-20 00:00:40.839           2  12109  11302       0   \n",
       "355777   1      1 2021-01-20 00:00:41.854           2  12109  11302       0   \n",
       "355778   2      1 2021-01-20 00:00:56.055           2  12109  11302       0   \n",
       "355779   3      1 2021-01-20 00:00:57.071           2  12109  11302       0   \n",
       "355780   4      1 2021-01-20 00:00:58.086           2  12109  11302       0   \n",
       "\n",
       "          in2   out2  state2 receive_date  dayofweek   day_name  \\\n",
       "355776  11318  12080       0   2021-01-20          2  Wednesday   \n",
       "355777  11318  12080       0   2021-01-20          2  Wednesday   \n",
       "355778  11318  12080       0   2021-01-20          2  Wednesday   \n",
       "355779  11318  12080       0   2021-01-20          2  Wednesday   \n",
       "355780  11318  12080       0   2021-01-20          2  Wednesday   \n",
       "\n",
       "          receive_time_sec  \n",
       "355776 2021-01-20 00:00:41  \n",
       "355777 2021-01-20 00:00:42  \n",
       "355778 2021-01-20 00:00:56  \n",
       "355779 2021-01-20 00:00:57  \n",
       "355780 2021-01-20 00:00:58  "
      ]
     },
     "execution_count": 13,
     "metadata": {},
     "output_type": "execute_result"
    }
   ],
   "source": [
    "# ミリ秒を秒単位に変換\n",
    "data_extract['receive_time_sec'] = data_extract['receive_time'].dt.round('S')  # roundは四捨五入\n",
    "data_extract.head()"
   ]
  },
  {
   "cell_type": "code",
   "execution_count": 14,
   "metadata": {
    "id": "p4LgSOicTVrJ"
   },
   "outputs": [
    {
     "name": "stdout",
     "output_type": "stream",
     "text": [
      "237809\n",
      "237807\n"
     ]
    }
   ],
   "source": [
    "#重複がないか確認\n",
    "print(len(data_extract))\n",
    "print(len(data_extract['receive_time_sec'].unique()))"
   ]
  },
  {
   "cell_type": "code",
   "execution_count": 15,
   "metadata": {
    "id": "swhwTcNuTwWB"
   },
   "outputs": [
    {
     "data": {
      "text/html": [
       "<div>\n",
       "<style scoped>\n",
       "    .dataframe tbody tr th:only-of-type {\n",
       "        vertical-align: middle;\n",
       "    }\n",
       "\n",
       "    .dataframe tbody tr th {\n",
       "        vertical-align: top;\n",
       "    }\n",
       "\n",
       "    .dataframe thead th {\n",
       "        text-align: right;\n",
       "    }\n",
       "</style>\n",
       "<table border=\"1\" class=\"dataframe\">\n",
       "  <thead>\n",
       "    <tr style=\"text-align: right;\">\n",
       "      <th></th>\n",
       "      <th>id</th>\n",
       "      <th>place</th>\n",
       "      <th>receive_time</th>\n",
       "      <th>sensor_num</th>\n",
       "      <th>in1</th>\n",
       "      <th>out1</th>\n",
       "      <th>state1</th>\n",
       "      <th>in2</th>\n",
       "      <th>out2</th>\n",
       "      <th>state2</th>\n",
       "      <th>receive_date</th>\n",
       "      <th>dayofweek</th>\n",
       "      <th>day_name</th>\n",
       "      <th>receive_time_sec</th>\n",
       "    </tr>\n",
       "  </thead>\n",
       "  <tbody>\n",
       "    <tr>\n",
       "      <th>578874</th>\n",
       "      <td>887</td>\n",
       "      <td>1</td>\n",
       "      <td>2021-01-22 19:15:06.530</td>\n",
       "      <td>2</td>\n",
       "      <td>20968</td>\n",
       "      <td>18976</td>\n",
       "      <td>1</td>\n",
       "      <td>19002</td>\n",
       "      <td>20925</td>\n",
       "      <td>1</td>\n",
       "      <td>2021-01-22</td>\n",
       "      <td>4</td>\n",
       "      <td>Friday</td>\n",
       "      <td>2021-01-22 19:15:07</td>\n",
       "    </tr>\n",
       "    <tr>\n",
       "      <th>578875</th>\n",
       "      <td>888</td>\n",
       "      <td>1</td>\n",
       "      <td>2021-01-22 19:15:07.409</td>\n",
       "      <td>2</td>\n",
       "      <td>20968</td>\n",
       "      <td>18976</td>\n",
       "      <td>1</td>\n",
       "      <td>19002</td>\n",
       "      <td>20925</td>\n",
       "      <td>1</td>\n",
       "      <td>2021-01-22</td>\n",
       "      <td>4</td>\n",
       "      <td>Friday</td>\n",
       "      <td>2021-01-22 19:15:07</td>\n",
       "    </tr>\n",
       "    <tr>\n",
       "      <th>578876</th>\n",
       "      <td>889</td>\n",
       "      <td>1</td>\n",
       "      <td>2021-01-22 19:15:07.546</td>\n",
       "      <td>2</td>\n",
       "      <td>20968</td>\n",
       "      <td>18976</td>\n",
       "      <td>1</td>\n",
       "      <td>19002</td>\n",
       "      <td>20925</td>\n",
       "      <td>1</td>\n",
       "      <td>2021-01-22</td>\n",
       "      <td>4</td>\n",
       "      <td>Friday</td>\n",
       "      <td>2021-01-22 19:15:08</td>\n",
       "    </tr>\n",
       "    <tr>\n",
       "      <th>578877</th>\n",
       "      <td>890</td>\n",
       "      <td>1</td>\n",
       "      <td>2021-01-22 19:15:08.424</td>\n",
       "      <td>2</td>\n",
       "      <td>20968</td>\n",
       "      <td>18976</td>\n",
       "      <td>1</td>\n",
       "      <td>19002</td>\n",
       "      <td>20925</td>\n",
       "      <td>1</td>\n",
       "      <td>2021-01-22</td>\n",
       "      <td>4</td>\n",
       "      <td>Friday</td>\n",
       "      <td>2021-01-22 19:15:08</td>\n",
       "    </tr>\n",
       "  </tbody>\n",
       "</table>\n",
       "</div>"
      ],
      "text/plain": [
       "         id  place            receive_time  sensor_num    in1   out1  state1  \\\n",
       "578874  887      1 2021-01-22 19:15:06.530           2  20968  18976       1   \n",
       "578875  888      1 2021-01-22 19:15:07.409           2  20968  18976       1   \n",
       "578876  889      1 2021-01-22 19:15:07.546           2  20968  18976       1   \n",
       "578877  890      1 2021-01-22 19:15:08.424           2  20968  18976       1   \n",
       "\n",
       "          in2   out2  state2 receive_date  dayofweek day_name  \\\n",
       "578874  19002  20925       1   2021-01-22          4   Friday   \n",
       "578875  19002  20925       1   2021-01-22          4   Friday   \n",
       "578876  19002  20925       1   2021-01-22          4   Friday   \n",
       "578877  19002  20925       1   2021-01-22          4   Friday   \n",
       "\n",
       "          receive_time_sec  \n",
       "578874 2021-01-22 19:15:07  \n",
       "578875 2021-01-22 19:15:07  \n",
       "578876 2021-01-22 19:15:08  \n",
       "578877 2021-01-22 19:15:08  "
      ]
     },
     "execution_count": 15,
     "metadata": {},
     "output_type": "execute_result"
    }
   ],
   "source": [
    "#重複箇所の確認\n",
    "data_extract[data_extract['receive_time_sec'].duplicated(keep=False)].head()  # 重複箇所全てを見たい場合は、keep=Falseにすることを忘れない"
   ]
  },
  {
   "cell_type": "code",
   "execution_count": 16,
   "metadata": {
    "id": "ijL7ratGNyET"
   },
   "outputs": [
    {
     "data": {
      "text/html": [
       "<div>\n",
       "<style scoped>\n",
       "    .dataframe tbody tr th:only-of-type {\n",
       "        vertical-align: middle;\n",
       "    }\n",
       "\n",
       "    .dataframe tbody tr th {\n",
       "        vertical-align: top;\n",
       "    }\n",
       "\n",
       "    .dataframe thead th {\n",
       "        text-align: right;\n",
       "    }\n",
       "</style>\n",
       "<table border=\"1\" class=\"dataframe\">\n",
       "  <thead>\n",
       "    <tr style=\"text-align: right;\">\n",
       "      <th></th>\n",
       "      <th>id</th>\n",
       "      <th>place</th>\n",
       "      <th>receive_time</th>\n",
       "      <th>sensor_num</th>\n",
       "      <th>in1</th>\n",
       "      <th>out1</th>\n",
       "      <th>state1</th>\n",
       "      <th>in2</th>\n",
       "      <th>out2</th>\n",
       "      <th>state2</th>\n",
       "      <th>receive_date</th>\n",
       "      <th>dayofweek</th>\n",
       "      <th>day_name</th>\n",
       "      <th>receive_time_sec</th>\n",
       "    </tr>\n",
       "  </thead>\n",
       "  <tbody>\n",
       "    <tr>\n",
       "      <th>355776</th>\n",
       "      <td>0</td>\n",
       "      <td>1</td>\n",
       "      <td>2021-01-20 00:00:40.839</td>\n",
       "      <td>2</td>\n",
       "      <td>12109</td>\n",
       "      <td>11302</td>\n",
       "      <td>0</td>\n",
       "      <td>11318</td>\n",
       "      <td>12080</td>\n",
       "      <td>0</td>\n",
       "      <td>2021-01-20</td>\n",
       "      <td>2</td>\n",
       "      <td>Wednesday</td>\n",
       "      <td>2021-01-20 00:00:40</td>\n",
       "    </tr>\n",
       "    <tr>\n",
       "      <th>355777</th>\n",
       "      <td>1</td>\n",
       "      <td>1</td>\n",
       "      <td>2021-01-20 00:00:41.854</td>\n",
       "      <td>2</td>\n",
       "      <td>12109</td>\n",
       "      <td>11302</td>\n",
       "      <td>0</td>\n",
       "      <td>11318</td>\n",
       "      <td>12080</td>\n",
       "      <td>0</td>\n",
       "      <td>2021-01-20</td>\n",
       "      <td>2</td>\n",
       "      <td>Wednesday</td>\n",
       "      <td>2021-01-20 00:00:41</td>\n",
       "    </tr>\n",
       "    <tr>\n",
       "      <th>355778</th>\n",
       "      <td>2</td>\n",
       "      <td>1</td>\n",
       "      <td>2021-01-20 00:00:56.055</td>\n",
       "      <td>2</td>\n",
       "      <td>12109</td>\n",
       "      <td>11302</td>\n",
       "      <td>0</td>\n",
       "      <td>11318</td>\n",
       "      <td>12080</td>\n",
       "      <td>0</td>\n",
       "      <td>2021-01-20</td>\n",
       "      <td>2</td>\n",
       "      <td>Wednesday</td>\n",
       "      <td>2021-01-20 00:00:56</td>\n",
       "    </tr>\n",
       "    <tr>\n",
       "      <th>355779</th>\n",
       "      <td>3</td>\n",
       "      <td>1</td>\n",
       "      <td>2021-01-20 00:00:57.071</td>\n",
       "      <td>2</td>\n",
       "      <td>12109</td>\n",
       "      <td>11302</td>\n",
       "      <td>0</td>\n",
       "      <td>11318</td>\n",
       "      <td>12080</td>\n",
       "      <td>0</td>\n",
       "      <td>2021-01-20</td>\n",
       "      <td>2</td>\n",
       "      <td>Wednesday</td>\n",
       "      <td>2021-01-20 00:00:57</td>\n",
       "    </tr>\n",
       "    <tr>\n",
       "      <th>355780</th>\n",
       "      <td>4</td>\n",
       "      <td>1</td>\n",
       "      <td>2021-01-20 00:00:58.086</td>\n",
       "      <td>2</td>\n",
       "      <td>12109</td>\n",
       "      <td>11302</td>\n",
       "      <td>0</td>\n",
       "      <td>11318</td>\n",
       "      <td>12080</td>\n",
       "      <td>0</td>\n",
       "      <td>2021-01-20</td>\n",
       "      <td>2</td>\n",
       "      <td>Wednesday</td>\n",
       "      <td>2021-01-20 00:00:58</td>\n",
       "    </tr>\n",
       "  </tbody>\n",
       "</table>\n",
       "</div>"
      ],
      "text/plain": [
       "        id  place            receive_time  sensor_num    in1   out1  state1  \\\n",
       "355776   0      1 2021-01-20 00:00:40.839           2  12109  11302       0   \n",
       "355777   1      1 2021-01-20 00:00:41.854           2  12109  11302       0   \n",
       "355778   2      1 2021-01-20 00:00:56.055           2  12109  11302       0   \n",
       "355779   3      1 2021-01-20 00:00:57.071           2  12109  11302       0   \n",
       "355780   4      1 2021-01-20 00:00:58.086           2  12109  11302       0   \n",
       "\n",
       "          in2   out2  state2 receive_date  dayofweek   day_name  \\\n",
       "355776  11318  12080       0   2021-01-20          2  Wednesday   \n",
       "355777  11318  12080       0   2021-01-20          2  Wednesday   \n",
       "355778  11318  12080       0   2021-01-20          2  Wednesday   \n",
       "355779  11318  12080       0   2021-01-20          2  Wednesday   \n",
       "355780  11318  12080       0   2021-01-20          2  Wednesday   \n",
       "\n",
       "          receive_time_sec  \n",
       "355776 2021-01-20 00:00:40  \n",
       "355777 2021-01-20 00:00:41  \n",
       "355778 2021-01-20 00:00:56  \n",
       "355779 2021-01-20 00:00:57  \n",
       "355780 2021-01-20 00:00:58  "
      ]
     },
     "metadata": {},
     "output_type": "display_data"
    },
    {
     "name": "stdout",
     "output_type": "stream",
     "text": [
      "237809\n",
      "237808\n"
     ]
    }
   ],
   "source": [
    "data_extract['receive_time_sec'] = data_extract['receive_time'].dt.floor('S')  # floorは切り捨て\n",
    "display(data_extract.head())\n",
    "#重複がないか確認\n",
    "print(len(data_extract))\n",
    "print(len(data_extract['receive_time_sec'].unique()))"
   ]
  },
  {
   "cell_type": "code",
   "execution_count": 17,
   "metadata": {
    "id": "Uuu338bATkyv"
   },
   "outputs": [
    {
     "data": {
      "text/html": [
       "<div>\n",
       "<style scoped>\n",
       "    .dataframe tbody tr th:only-of-type {\n",
       "        vertical-align: middle;\n",
       "    }\n",
       "\n",
       "    .dataframe tbody tr th {\n",
       "        vertical-align: top;\n",
       "    }\n",
       "\n",
       "    .dataframe thead th {\n",
       "        text-align: right;\n",
       "    }\n",
       "</style>\n",
       "<table border=\"1\" class=\"dataframe\">\n",
       "  <thead>\n",
       "    <tr style=\"text-align: right;\">\n",
       "      <th></th>\n",
       "      <th>id</th>\n",
       "      <th>place</th>\n",
       "      <th>receive_time</th>\n",
       "      <th>sensor_num</th>\n",
       "      <th>in1</th>\n",
       "      <th>out1</th>\n",
       "      <th>state1</th>\n",
       "      <th>in2</th>\n",
       "      <th>out2</th>\n",
       "      <th>state2</th>\n",
       "      <th>receive_date</th>\n",
       "      <th>dayofweek</th>\n",
       "      <th>day_name</th>\n",
       "      <th>receive_time_sec</th>\n",
       "    </tr>\n",
       "  </thead>\n",
       "  <tbody>\n",
       "    <tr>\n",
       "      <th>578875</th>\n",
       "      <td>888</td>\n",
       "      <td>1</td>\n",
       "      <td>2021-01-22 19:15:07.409</td>\n",
       "      <td>2</td>\n",
       "      <td>20968</td>\n",
       "      <td>18976</td>\n",
       "      <td>1</td>\n",
       "      <td>19002</td>\n",
       "      <td>20925</td>\n",
       "      <td>1</td>\n",
       "      <td>2021-01-22</td>\n",
       "      <td>4</td>\n",
       "      <td>Friday</td>\n",
       "      <td>2021-01-22 19:15:07</td>\n",
       "    </tr>\n",
       "    <tr>\n",
       "      <th>578876</th>\n",
       "      <td>889</td>\n",
       "      <td>1</td>\n",
       "      <td>2021-01-22 19:15:07.546</td>\n",
       "      <td>2</td>\n",
       "      <td>20968</td>\n",
       "      <td>18976</td>\n",
       "      <td>1</td>\n",
       "      <td>19002</td>\n",
       "      <td>20925</td>\n",
       "      <td>1</td>\n",
       "      <td>2021-01-22</td>\n",
       "      <td>4</td>\n",
       "      <td>Friday</td>\n",
       "      <td>2021-01-22 19:15:07</td>\n",
       "    </tr>\n",
       "  </tbody>\n",
       "</table>\n",
       "</div>"
      ],
      "text/plain": [
       "         id  place            receive_time  sensor_num    in1   out1  state1  \\\n",
       "578875  888      1 2021-01-22 19:15:07.409           2  20968  18976       1   \n",
       "578876  889      1 2021-01-22 19:15:07.546           2  20968  18976       1   \n",
       "\n",
       "          in2   out2  state2 receive_date  dayofweek day_name  \\\n",
       "578875  19002  20925       1   2021-01-22          4   Friday   \n",
       "578876  19002  20925       1   2021-01-22          4   Friday   \n",
       "\n",
       "          receive_time_sec  \n",
       "578875 2021-01-22 19:15:07  \n",
       "578876 2021-01-22 19:15:07  "
      ]
     },
     "execution_count": 17,
     "metadata": {},
     "output_type": "execute_result"
    }
   ],
   "source": [
    "#重複箇所の確認\n",
    "data_extract[data_extract['receive_time_sec'].duplicated(keep=False)].head()"
   ]
  },
  {
   "cell_type": "code",
   "execution_count": 18,
   "metadata": {
    "id": "3zZLHEUVe7Lz"
   },
   "outputs": [
    {
     "name": "stdout",
     "output_type": "stream",
     "text": [
      "237808\n",
      "2021-01-20 00:00:40から2021-01-22 23:58:36\n"
     ]
    }
   ],
   "source": [
    "data_extract = data_extract.drop_duplicates(subset=['receive_time_sec'])\n",
    "min_receive_time = data_extract['receive_time_sec'].min()\n",
    "max_receive_time = data_extract['receive_time_sec'].max()\n",
    "print(len(data_extract))\n",
    "print(f'{min_receive_time}から{max_receive_time}')"
   ]
  },
  {
   "cell_type": "markdown",
   "metadata": {
    "id": "0jEeKThlZLtm"
   },
   "source": [
    "## ノック４７：秒単位のデータを整形しよう"
   ]
  },
  {
   "cell_type": "code",
   "execution_count": null,
   "metadata": {
    "id": "zMVJa_9kdTom"
   },
   "outputs": [],
   "source": []
  },
  {
   "cell_type": "code",
   "execution_count": null,
   "metadata": {
    "id": "rZ_EFhHHd4PR"
   },
   "outputs": [],
   "source": []
  },
  {
   "cell_type": "code",
   "execution_count": null,
   "metadata": {
    "id": "ggkxNp8DgCRl"
   },
   "outputs": [],
   "source": []
  },
  {
   "cell_type": "markdown",
   "metadata": {
    "id": "sfKC6KKArWnk"
   },
   "source": [
    "## ノック４８：秒間の欠損データを処理しよう"
   ]
  },
  {
   "cell_type": "code",
   "execution_count": null,
   "metadata": {
    "id": "DFSPB1OirelE"
   },
   "outputs": [],
   "source": []
  },
  {
   "cell_type": "markdown",
   "metadata": {
    "id": "bc3iz7IpdOYR"
   },
   "source": [
    "## ノック４９：通った人数を可視化しよう"
   ]
  },
  {
   "cell_type": "code",
   "execution_count": null,
   "metadata": {
    "id": "fYnnojaITazg"
   },
   "outputs": [],
   "source": []
  },
  {
   "cell_type": "code",
   "execution_count": null,
   "metadata": {
    "id": "3FCq69jxuioT"
   },
   "outputs": [],
   "source": []
  },
  {
   "cell_type": "code",
   "execution_count": null,
   "metadata": {
    "id": "8QB-Hx0vvgww"
   },
   "outputs": [],
   "source": []
  },
  {
   "cell_type": "code",
   "execution_count": null,
   "metadata": {
    "id": "yl9j0jz2wHd_"
   },
   "outputs": [],
   "source": []
  },
  {
   "cell_type": "code",
   "execution_count": null,
   "metadata": {
    "id": "WVRSqb1LyfXx"
   },
   "outputs": [],
   "source": []
  },
  {
   "cell_type": "code",
   "execution_count": null,
   "metadata": {
    "id": "YSPynlFL2aKd"
   },
   "outputs": [],
   "source": []
  },
  {
   "cell_type": "code",
   "execution_count": null,
   "metadata": {
    "id": "7VWa3PVkwZKE"
   },
   "outputs": [],
   "source": []
  },
  {
   "cell_type": "markdown",
   "metadata": {
    "id": "ZyRFGF40OOcQ"
   },
   "source": [
    "## ノック５０：移動平均を計算して可視化しよう"
   ]
  },
  {
   "cell_type": "code",
   "execution_count": null,
   "metadata": {
    "id": "UdZHRrMgP5XX"
   },
   "outputs": [],
   "source": []
  },
  {
   "cell_type": "code",
   "execution_count": null,
   "metadata": {
    "id": "syQ5W215hQrf"
   },
   "outputs": [],
   "source": []
  },
  {
   "cell_type": "code",
   "execution_count": null,
   "metadata": {
    "id": "bnrRANvmP5kT"
   },
   "outputs": [],
   "source": []
  }
 ],
 "metadata": {
  "colab": {
   "collapsed_sections": [],
   "name": "3章.ipynb",
   "provenance": []
  },
  "kernelspec": {
   "display_name": "Python 3 (ipykernel)",
   "language": "python",
   "name": "python3"
  },
  "language_info": {
   "codemirror_mode": {
    "name": "ipython",
    "version": 3
   },
   "file_extension": ".py",
   "mimetype": "text/x-python",
   "name": "python",
   "nbconvert_exporter": "python",
   "pygments_lexer": "ipython3",
   "version": "3.9.12"
  }
 },
 "nbformat": 4,
 "nbformat_minor": 4
}
