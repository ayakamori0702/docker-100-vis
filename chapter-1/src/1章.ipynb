{
 "cells": [
  {
   "cell_type": "code",
   "execution_count": 1,
   "metadata": {
    "id": "HcOU_u4l25Jd"
   },
   "outputs": [],
   "source": [
    "import os \n",
    "project = '100knock-process-visualization'\n",
    "chapter = 1\n",
    "os.chdir(f'/opt/{project}/chapter-{chapter}')\n"
   ]
  },
  {
   "cell_type": "markdown",
   "metadata": {
    "id": "pCbOP-x725Jd"
   },
   "source": [
    "# １章 システムデータの加工・可視化を行う２０本ノック"
   ]
  },
  {
   "cell_type": "code",
   "execution_count": 2,
   "metadata": {},
   "outputs": [],
   "source": [
    "import pandas as pd\n"
   ]
  },
  {
   "cell_type": "markdown",
   "metadata": {
    "id": "OrJw1o3ZAf2z"
   },
   "source": [
    "## ノック１：法人情報データを読み込んでみよう"
   ]
  },
  {
   "cell_type": "code",
   "execution_count": 3,
   "metadata": {
    "id": "Kxb1fvmCv_4a"
   },
   "outputs": [],
   "source": [
    "data = pd.read_csv(\"./data/22_shizuoka_all_20210331.csv\",encoding = \"shift-jis\")"
   ]
  },
  {
   "cell_type": "code",
   "execution_count": 4,
   "metadata": {
    "id": "Vn9gtsmwv_9u"
   },
   "outputs": [
    {
     "data": {
      "text/html": [
       "<div>\n",
       "<style scoped>\n",
       "    .dataframe tbody tr th:only-of-type {\n",
       "        vertical-align: middle;\n",
       "    }\n",
       "\n",
       "    .dataframe tbody tr th {\n",
       "        vertical-align: top;\n",
       "    }\n",
       "\n",
       "    .dataframe thead th {\n",
       "        text-align: right;\n",
       "    }\n",
       "</style>\n",
       "<table border=\"1\" class=\"dataframe\">\n",
       "  <thead>\n",
       "    <tr style=\"text-align: right;\">\n",
       "      <th></th>\n",
       "      <th>1</th>\n",
       "      <th>1000013040008</th>\n",
       "      <th>01</th>\n",
       "      <th>1.1</th>\n",
       "      <th>2018-04-02</th>\n",
       "      <th>2015-10-05</th>\n",
       "      <th>静岡家庭裁判所</th>\n",
       "      <th>Unnamed: 7</th>\n",
       "      <th>101</th>\n",
       "      <th>静岡県</th>\n",
       "      <th>...</th>\n",
       "      <th>Unnamed: 20</th>\n",
       "      <th>Unnamed: 21</th>\n",
       "      <th>2015-10-05.1</th>\n",
       "      <th>1.2</th>\n",
       "      <th>Shizuoka Family Court</th>\n",
       "      <th>Shizuoka</th>\n",
       "      <th>1-20, Jonaicho, Aoi ku, Shizuoka shi</th>\n",
       "      <th>Unnamed: 27</th>\n",
       "      <th>シズオカカテイサイバンショ</th>\n",
       "      <th>0</th>\n",
       "    </tr>\n",
       "  </thead>\n",
       "  <tbody>\n",
       "    <tr>\n",
       "      <th>0</th>\n",
       "      <td>2</td>\n",
       "      <td>1000013050072</td>\n",
       "      <td>1</td>\n",
       "      <td>1</td>\n",
       "      <td>2018-04-02</td>\n",
       "      <td>2015-10-05</td>\n",
       "      <td>清水簡易裁判所</td>\n",
       "      <td>NaN</td>\n",
       "      <td>101</td>\n",
       "      <td>静岡県</td>\n",
       "      <td>...</td>\n",
       "      <td>NaN</td>\n",
       "      <td>NaN</td>\n",
       "      <td>2015-10-05</td>\n",
       "      <td>1</td>\n",
       "      <td>Shimizu Summary Court</td>\n",
       "      <td>Shizuoka</td>\n",
       "      <td>1-6-15, Tenjin, Shimizu ku, Shizuoka shi</td>\n",
       "      <td>NaN</td>\n",
       "      <td>シミズカンイサイバンショ</td>\n",
       "      <td>0</td>\n",
       "    </tr>\n",
       "    <tr>\n",
       "      <th>1</th>\n",
       "      <td>3</td>\n",
       "      <td>1000013050080</td>\n",
       "      <td>1</td>\n",
       "      <td>1</td>\n",
       "      <td>2018-04-02</td>\n",
       "      <td>2015-10-05</td>\n",
       "      <td>浜松簡易裁判所</td>\n",
       "      <td>NaN</td>\n",
       "      <td>101</td>\n",
       "      <td>静岡県</td>\n",
       "      <td>...</td>\n",
       "      <td>NaN</td>\n",
       "      <td>NaN</td>\n",
       "      <td>2015-10-05</td>\n",
       "      <td>1</td>\n",
       "      <td>Hamamatsu Summary Court</td>\n",
       "      <td>Shizuoka</td>\n",
       "      <td>1-12-5, Chuo, Naka ku, Hamamatsu shi</td>\n",
       "      <td>NaN</td>\n",
       "      <td>ハママツカンイサイバンショ</td>\n",
       "      <td>0</td>\n",
       "    </tr>\n",
       "    <tr>\n",
       "      <th>2</th>\n",
       "      <td>4</td>\n",
       "      <td>1000020222119</td>\n",
       "      <td>1</td>\n",
       "      <td>1</td>\n",
       "      <td>2018-04-05</td>\n",
       "      <td>2015-10-05</td>\n",
       "      <td>磐田市</td>\n",
       "      <td>NaN</td>\n",
       "      <td>201</td>\n",
       "      <td>静岡県</td>\n",
       "      <td>...</td>\n",
       "      <td>NaN</td>\n",
       "      <td>NaN</td>\n",
       "      <td>2015-10-05</td>\n",
       "      <td>1</td>\n",
       "      <td>Iwata City</td>\n",
       "      <td>Shizuoka</td>\n",
       "      <td>3-1,Kounodai, Iwata shi</td>\n",
       "      <td>NaN</td>\n",
       "      <td>イワタシ</td>\n",
       "      <td>0</td>\n",
       "    </tr>\n",
       "    <tr>\n",
       "      <th>3</th>\n",
       "      <td>5</td>\n",
       "      <td>1000020222127</td>\n",
       "      <td>1</td>\n",
       "      <td>1</td>\n",
       "      <td>2018-04-05</td>\n",
       "      <td>2015-10-05</td>\n",
       "      <td>焼津市</td>\n",
       "      <td>NaN</td>\n",
       "      <td>201</td>\n",
       "      <td>静岡県</td>\n",
       "      <td>...</td>\n",
       "      <td>NaN</td>\n",
       "      <td>NaN</td>\n",
       "      <td>2015-10-05</td>\n",
       "      <td>1</td>\n",
       "      <td>Yaizu city</td>\n",
       "      <td>Shizuoka</td>\n",
       "      <td>2-16-32 Honmachi, Yaizu shi</td>\n",
       "      <td>NaN</td>\n",
       "      <td>ヤイヅシ</td>\n",
       "      <td>0</td>\n",
       "    </tr>\n",
       "    <tr>\n",
       "      <th>4</th>\n",
       "      <td>6</td>\n",
       "      <td>1000020222135</td>\n",
       "      <td>1</td>\n",
       "      <td>1</td>\n",
       "      <td>2020-09-29</td>\n",
       "      <td>2015-10-05</td>\n",
       "      <td>掛川市</td>\n",
       "      <td>NaN</td>\n",
       "      <td>201</td>\n",
       "      <td>静岡県</td>\n",
       "      <td>...</td>\n",
       "      <td>NaN</td>\n",
       "      <td>NaN</td>\n",
       "      <td>2015-10-05</td>\n",
       "      <td>1</td>\n",
       "      <td>Kakegawa City</td>\n",
       "      <td>Shizuoka</td>\n",
       "      <td>1-1-1 Nagaya, Kakegawa shi</td>\n",
       "      <td>NaN</td>\n",
       "      <td>カケガワシ</td>\n",
       "      <td>0</td>\n",
       "    </tr>\n",
       "  </tbody>\n",
       "</table>\n",
       "<p>5 rows × 30 columns</p>\n",
       "</div>"
      ],
      "text/plain": [
       "   1  1000013040008  01  1.1  2018-04-02  2015-10-05  静岡家庭裁判所  Unnamed: 7  \\\n",
       "0  2  1000013050072   1    1  2018-04-02  2015-10-05  清水簡易裁判所         NaN   \n",
       "1  3  1000013050080   1    1  2018-04-02  2015-10-05  浜松簡易裁判所         NaN   \n",
       "2  4  1000020222119   1    1  2018-04-05  2015-10-05      磐田市         NaN   \n",
       "3  5  1000020222127   1    1  2018-04-05  2015-10-05      焼津市         NaN   \n",
       "4  6  1000020222135   1    1  2020-09-29  2015-10-05      掛川市         NaN   \n",
       "\n",
       "   101  静岡県  ... Unnamed: 20 Unnamed: 21  2015-10-05.1  1.2  \\\n",
       "0  101  静岡県  ...         NaN         NaN    2015-10-05    1   \n",
       "1  101  静岡県  ...         NaN         NaN    2015-10-05    1   \n",
       "2  201  静岡県  ...         NaN         NaN    2015-10-05    1   \n",
       "3  201  静岡県  ...         NaN         NaN    2015-10-05    1   \n",
       "4  201  静岡県  ...         NaN         NaN    2015-10-05    1   \n",
       "\n",
       "     Shizuoka Family Court  Shizuoka  \\\n",
       "0    Shimizu Summary Court  Shizuoka   \n",
       "1  Hamamatsu Summary Court  Shizuoka   \n",
       "2               Iwata City  Shizuoka   \n",
       "3               Yaizu city  Shizuoka   \n",
       "4            Kakegawa City  Shizuoka   \n",
       "\n",
       "       1-20, Jonaicho, Aoi ku, Shizuoka shi  Unnamed: 27  シズオカカテイサイバンショ  0  \n",
       "0  1-6-15, Tenjin, Shimizu ku, Shizuoka shi          NaN   シミズカンイサイバンショ  0  \n",
       "1      1-12-5, Chuo, Naka ku, Hamamatsu shi          NaN  ハママツカンイサイバンショ  0  \n",
       "2                   3-1,Kounodai, Iwata shi          NaN           イワタシ  0  \n",
       "3               2-16-32 Honmachi, Yaizu shi          NaN           ヤイヅシ  0  \n",
       "4                1-1-1 Nagaya, Kakegawa shi          NaN          カケガワシ  0  \n",
       "\n",
       "[5 rows x 30 columns]"
      ]
     },
     "execution_count": 4,
     "metadata": {},
     "output_type": "execute_result"
    }
   ],
   "source": [
    "data.head()"
   ]
  },
  {
   "cell_type": "code",
   "execution_count": 5,
   "metadata": {
    "id": "QvwXkOiQxWjP"
   },
   "outputs": [
    {
     "data": {
      "text/plain": [
       "114612"
      ]
     },
     "execution_count": 5,
     "metadata": {},
     "output_type": "execute_result"
    }
   ],
   "source": [
    "len(data)"
   ]
  },
  {
   "cell_type": "markdown",
   "metadata": {
    "id": "0FrKeZvUrFKn"
   },
   "source": [
    "## ノック２：読み込んだデータを確認しよう"
   ]
  },
  {
   "cell_type": "code",
   "execution_count": 6,
   "metadata": {
    "id": "dQeuZrhAROgy"
   },
   "outputs": [
    {
     "data": {
      "text/plain": [
       "Index(['1', '1000013040008', '01', '1.1', '2018-04-02', '2015-10-05',\n",
       "       '静岡家庭裁判所', 'Unnamed: 7', '101', '静岡県', '静岡市葵区', '城内町１−２０',\n",
       "       'Unnamed: 12', '22', '101.1', '4200854', 'Unnamed: 16', 'Unnamed: 17',\n",
       "       'Unnamed: 18', 'Unnamed: 19', 'Unnamed: 20', 'Unnamed: 21',\n",
       "       '2015-10-05.1', '1.2', 'Shizuoka Family Court', 'Shizuoka',\n",
       "       '1-20, Jonaicho, Aoi ku, Shizuoka shi', 'Unnamed: 27', 'シズオカカテイサイバンショ',\n",
       "       '0'],\n",
       "      dtype='object')"
      ]
     },
     "execution_count": 6,
     "metadata": {},
     "output_type": "execute_result"
    }
   ],
   "source": [
    "data.columns"
   ]
  },
  {
   "cell_type": "code",
   "execution_count": 7,
   "metadata": {
    "id": "QkP4J0i5wuUQ"
   },
   "outputs": [
    {
     "data": {
      "text/plain": [
       "30"
      ]
     },
     "execution_count": 7,
     "metadata": {},
     "output_type": "execute_result"
    }
   ],
   "source": [
    "len(data.columns)"
   ]
  },
  {
   "cell_type": "code",
   "execution_count": 8,
   "metadata": {
    "id": "YjsTahEfUOPh"
   },
   "outputs": [
    {
     "data": {
      "text/plain": [
       "1                                         int64\n",
       "1000013040008                             int64\n",
       "01                                        int64\n",
       "1.1                                       int64\n",
       "2018-04-02                               object\n",
       "2015-10-05                               object\n",
       "静岡家庭裁判所                                  object\n",
       "Unnamed: 7                              float64\n",
       "101                                       int64\n",
       "静岡県                                      object\n",
       "静岡市葵区                                    object\n",
       "城内町１−２０                                  object\n",
       "Unnamed: 12                             float64\n",
       "22                                        int64\n",
       "101.1                                     int64\n",
       "4200854                                 float64\n",
       "Unnamed: 16                             float64\n",
       "Unnamed: 17                             float64\n",
       "Unnamed: 18                              object\n",
       "Unnamed: 19                             float64\n",
       "Unnamed: 20                             float64\n",
       "Unnamed: 21                              object\n",
       "2015-10-05.1                             object\n",
       "1.2                                       int64\n",
       "Shizuoka Family Court                    object\n",
       "Shizuoka                                 object\n",
       "1-20, Jonaicho, Aoi ku, Shizuoka shi     object\n",
       "Unnamed: 27                             float64\n",
       "シズオカカテイサイバンショ                            object\n",
       "0                                         int64\n",
       "dtype: object"
      ]
     },
     "execution_count": 8,
     "metadata": {},
     "output_type": "execute_result"
    }
   ],
   "source": [
    "data.dtypes"
   ]
  },
  {
   "cell_type": "markdown",
   "metadata": {},
   "source": [
    "### 意図しないデータ型が設定されてしまうことを防ぐためにobject型で読み込む"
   ]
  },
  {
   "cell_type": "code",
   "execution_count": 9,
   "metadata": {
    "id": "4cFKuOBExPI_"
   },
   "outputs": [],
   "source": [
    "data = pd.read_csv(\"./data/22_shizuoka_all_20210331.csv\",encoding = \"shift-jis\", dtype = object)"
   ]
  },
  {
   "cell_type": "code",
   "execution_count": 10,
   "metadata": {
    "id": "9Ei4rMoXYsDI"
   },
   "outputs": [
    {
     "data": {
      "text/plain": [
       "1                                       object\n",
       "1000013040008                           object\n",
       "01                                      object\n",
       "1.1                                     object\n",
       "2018-04-02                              object\n",
       "2015-10-05                              object\n",
       "静岡家庭裁判所                                 object\n",
       "Unnamed: 7                              object\n",
       "101                                     object\n",
       "静岡県                                     object\n",
       "静岡市葵区                                   object\n",
       "城内町１−２０                                 object\n",
       "Unnamed: 12                             object\n",
       "22                                      object\n",
       "101.1                                   object\n",
       "4200854                                 object\n",
       "Unnamed: 16                             object\n",
       "Unnamed: 17                             object\n",
       "Unnamed: 18                             object\n",
       "Unnamed: 19                             object\n",
       "Unnamed: 20                             object\n",
       "Unnamed: 21                             object\n",
       "2015-10-05.1                            object\n",
       "1.2                                     object\n",
       "Shizuoka Family Court                   object\n",
       "Shizuoka                                object\n",
       "1-20, Jonaicho, Aoi ku, Shizuoka shi    object\n",
       "Unnamed: 27                             object\n",
       "シズオカカテイサイバンショ                           object\n",
       "0                                       object\n",
       "dtype: object"
      ]
     },
     "execution_count": 10,
     "metadata": {},
     "output_type": "execute_result"
    }
   ],
   "source": [
    "data.dtypes"
   ]
  },
  {
   "cell_type": "markdown",
   "metadata": {
    "id": "M4by1Jywr4G2"
   },
   "source": [
    "## ノック３：ヘッダ用のテキストファイルを読み込もう"
   ]
  },
  {
   "cell_type": "code",
   "execution_count": 11,
   "metadata": {
    "id": "7ogDQr2Kya4I"
   },
   "outputs": [
    {
     "data": {
      "text/html": [
       "<div>\n",
       "<style scoped>\n",
       "    .dataframe tbody tr th:only-of-type {\n",
       "        vertical-align: middle;\n",
       "    }\n",
       "\n",
       "    .dataframe tbody tr th {\n",
       "        vertical-align: top;\n",
       "    }\n",
       "\n",
       "    .dataframe thead th {\n",
       "        text-align: right;\n",
       "    }\n",
       "</style>\n",
       "<table border=\"1\" class=\"dataframe\">\n",
       "  <thead>\n",
       "    <tr style=\"text-align: right;\">\n",
       "      <th></th>\n",
       "      <th>column_id\\tcolumn_name_ja\\tcolumn_name_en</th>\n",
       "    </tr>\n",
       "  </thead>\n",
       "  <tbody>\n",
       "    <tr>\n",
       "      <th>0</th>\n",
       "      <td>1\\t一連番号\\tsequenceNumber</td>\n",
       "    </tr>\n",
       "    <tr>\n",
       "      <th>1</th>\n",
       "      <td>2\\t法人番号\\tcorporateNumber</td>\n",
       "    </tr>\n",
       "    <tr>\n",
       "      <th>2</th>\n",
       "      <td>3\\t処理区分\\tprocess</td>\n",
       "    </tr>\n",
       "    <tr>\n",
       "      <th>3</th>\n",
       "      <td>4\\t訂正区分\\tcorrect</td>\n",
       "    </tr>\n",
       "    <tr>\n",
       "      <th>4</th>\n",
       "      <td>5\\t更新年月日\\tupdateDate</td>\n",
       "    </tr>\n",
       "  </tbody>\n",
       "</table>\n",
       "</div>"
      ],
      "text/plain": [
       "  column_id\\tcolumn_name_ja\\tcolumn_name_en\n",
       "0                   1\\t一連番号\\tsequenceNumber\n",
       "1                  2\\t法人番号\\tcorporateNumber\n",
       "2                          3\\t処理区分\\tprocess\n",
       "3                          4\\t訂正区分\\tcorrect\n",
       "4                      5\\t更新年月日\\tupdateDate"
      ]
     },
     "execution_count": 11,
     "metadata": {},
     "output_type": "execute_result"
    }
   ],
   "source": [
    "mst = pd.read_csv(\"./data/mst_column_name.txt\",encoding = \"shift-jis\")\n",
    "mst.head()"
   ]
  },
  {
   "cell_type": "code",
   "execution_count": 12,
   "metadata": {
    "id": "gG1lNXn-ya65"
   },
   "outputs": [
    {
     "data": {
      "text/html": [
       "<div>\n",
       "<style scoped>\n",
       "    .dataframe tbody tr th:only-of-type {\n",
       "        vertical-align: middle;\n",
       "    }\n",
       "\n",
       "    .dataframe tbody tr th {\n",
       "        vertical-align: top;\n",
       "    }\n",
       "\n",
       "    .dataframe thead th {\n",
       "        text-align: right;\n",
       "    }\n",
       "</style>\n",
       "<table border=\"1\" class=\"dataframe\">\n",
       "  <thead>\n",
       "    <tr style=\"text-align: right;\">\n",
       "      <th></th>\n",
       "      <th>column_id</th>\n",
       "      <th>column_name_ja</th>\n",
       "      <th>column_name_en</th>\n",
       "    </tr>\n",
       "  </thead>\n",
       "  <tbody>\n",
       "    <tr>\n",
       "      <th>0</th>\n",
       "      <td>1</td>\n",
       "      <td>一連番号</td>\n",
       "      <td>sequenceNumber</td>\n",
       "    </tr>\n",
       "    <tr>\n",
       "      <th>1</th>\n",
       "      <td>2</td>\n",
       "      <td>法人番号</td>\n",
       "      <td>corporateNumber</td>\n",
       "    </tr>\n",
       "    <tr>\n",
       "      <th>2</th>\n",
       "      <td>3</td>\n",
       "      <td>処理区分</td>\n",
       "      <td>process</td>\n",
       "    </tr>\n",
       "    <tr>\n",
       "      <th>3</th>\n",
       "      <td>4</td>\n",
       "      <td>訂正区分</td>\n",
       "      <td>correct</td>\n",
       "    </tr>\n",
       "    <tr>\n",
       "      <th>4</th>\n",
       "      <td>5</td>\n",
       "      <td>更新年月日</td>\n",
       "      <td>updateDate</td>\n",
       "    </tr>\n",
       "  </tbody>\n",
       "</table>\n",
       "</div>"
      ],
      "text/plain": [
       "   column_id column_name_ja   column_name_en\n",
       "0          1           一連番号   sequenceNumber\n",
       "1          2           法人番号  corporateNumber\n",
       "2          3           処理区分          process\n",
       "3          4           訂正区分          correct\n",
       "4          5          更新年月日       updateDate"
      ]
     },
     "execution_count": 12,
     "metadata": {},
     "output_type": "execute_result"
    }
   ],
   "source": [
    "mst = pd.read_csv(\"./data/mst_column_name.txt\",encoding = \"shift-jis\",sep ='\\t')\n",
    "mst.head()"
   ]
  },
  {
   "cell_type": "code",
   "execution_count": 13,
   "metadata": {
    "id": "Z5be3u4kz5iH"
   },
   "outputs": [
    {
     "data": {
      "text/plain": [
       "30"
      ]
     },
     "execution_count": 13,
     "metadata": {},
     "output_type": "execute_result"
    }
   ],
   "source": [
    "len(mst)"
   ]
  },
  {
   "cell_type": "code",
   "execution_count": 14,
   "metadata": {
    "id": "l00v3lF_PM8k"
   },
   "outputs": [
    {
     "data": {
      "text/plain": [
       "True"
      ]
     },
     "execution_count": 14,
     "metadata": {},
     "output_type": "execute_result"
    }
   ],
   "source": [
    "len(mst) == len(data.columns)"
   ]
  },
  {
   "cell_type": "markdown",
   "metadata": {
    "id": "XueV-vtPwMY7"
   },
   "source": [
    "## ノック４：ヘッダ行を追加しよう"
   ]
  },
  {
   "cell_type": "code",
   "execution_count": 15,
   "metadata": {
    "id": "yl6UHFMX0Gvq"
   },
   "outputs": [],
   "source": [
    "columns = mst.column_name_en.values  # valuesの意味？？"
   ]
  },
  {
   "cell_type": "code",
   "execution_count": 16,
   "metadata": {
    "id": "IdQIr8vOG-14"
   },
   "outputs": [
    {
     "data": {
      "text/plain": [
       "array(['sequenceNumber', 'corporateNumber', 'process', 'correct',\n",
       "       'updateDate', 'changeDate', 'name', 'nameImageId', 'kind',\n",
       "       'prefectureName', 'cityName', 'streetNumber', 'addressImageId',\n",
       "       'prefectureCode', 'cityCode', 'postCode', 'addressOutside',\n",
       "       'addressOutsideImageId', 'closeDate', 'closeCause',\n",
       "       'successorCorporateNumber', 'changeCause', 'assignmentDate',\n",
       "       'latest', 'enName', 'enPrefectureName', 'enCityName',\n",
       "       'enAddressOutside', 'furigana', 'hihyoji'], dtype=object)"
      ]
     },
     "execution_count": 16,
     "metadata": {},
     "output_type": "execute_result"
    }
   ],
   "source": [
    "columns"
   ]
  },
  {
   "cell_type": "code",
   "execution_count": 17,
   "metadata": {
    "id": "CKedAXnp0Jop"
   },
   "outputs": [
    {
     "data": {
      "text/html": [
       "<div>\n",
       "<style scoped>\n",
       "    .dataframe tbody tr th:only-of-type {\n",
       "        vertical-align: middle;\n",
       "    }\n",
       "\n",
       "    .dataframe tbody tr th {\n",
       "        vertical-align: top;\n",
       "    }\n",
       "\n",
       "    .dataframe thead th {\n",
       "        text-align: right;\n",
       "    }\n",
       "</style>\n",
       "<table border=\"1\" class=\"dataframe\">\n",
       "  <thead>\n",
       "    <tr style=\"text-align: right;\">\n",
       "      <th></th>\n",
       "      <th>sequenceNumber</th>\n",
       "      <th>corporateNumber</th>\n",
       "      <th>process</th>\n",
       "      <th>correct</th>\n",
       "      <th>updateDate</th>\n",
       "      <th>changeDate</th>\n",
       "      <th>name</th>\n",
       "      <th>nameImageId</th>\n",
       "      <th>kind</th>\n",
       "      <th>prefectureName</th>\n",
       "      <th>...</th>\n",
       "      <th>successorCorporateNumber</th>\n",
       "      <th>changeCause</th>\n",
       "      <th>assignmentDate</th>\n",
       "      <th>latest</th>\n",
       "      <th>enName</th>\n",
       "      <th>enPrefectureName</th>\n",
       "      <th>enCityName</th>\n",
       "      <th>enAddressOutside</th>\n",
       "      <th>furigana</th>\n",
       "      <th>hihyoji</th>\n",
       "    </tr>\n",
       "  </thead>\n",
       "  <tbody>\n",
       "    <tr>\n",
       "      <th>0</th>\n",
       "      <td>2</td>\n",
       "      <td>1000013050072</td>\n",
       "      <td>01</td>\n",
       "      <td>1</td>\n",
       "      <td>2018-04-02</td>\n",
       "      <td>2015-10-05</td>\n",
       "      <td>清水簡易裁判所</td>\n",
       "      <td>NaN</td>\n",
       "      <td>101</td>\n",
       "      <td>静岡県</td>\n",
       "      <td>...</td>\n",
       "      <td>NaN</td>\n",
       "      <td>NaN</td>\n",
       "      <td>2015-10-05</td>\n",
       "      <td>1</td>\n",
       "      <td>Shimizu Summary Court</td>\n",
       "      <td>Shizuoka</td>\n",
       "      <td>1-6-15, Tenjin, Shimizu ku, Shizuoka shi</td>\n",
       "      <td>NaN</td>\n",
       "      <td>シミズカンイサイバンショ</td>\n",
       "      <td>0</td>\n",
       "    </tr>\n",
       "    <tr>\n",
       "      <th>1</th>\n",
       "      <td>3</td>\n",
       "      <td>1000013050080</td>\n",
       "      <td>01</td>\n",
       "      <td>1</td>\n",
       "      <td>2018-04-02</td>\n",
       "      <td>2015-10-05</td>\n",
       "      <td>浜松簡易裁判所</td>\n",
       "      <td>NaN</td>\n",
       "      <td>101</td>\n",
       "      <td>静岡県</td>\n",
       "      <td>...</td>\n",
       "      <td>NaN</td>\n",
       "      <td>NaN</td>\n",
       "      <td>2015-10-05</td>\n",
       "      <td>1</td>\n",
       "      <td>Hamamatsu Summary Court</td>\n",
       "      <td>Shizuoka</td>\n",
       "      <td>1-12-5, Chuo, Naka ku, Hamamatsu shi</td>\n",
       "      <td>NaN</td>\n",
       "      <td>ハママツカンイサイバンショ</td>\n",
       "      <td>0</td>\n",
       "    </tr>\n",
       "  </tbody>\n",
       "</table>\n",
       "<p>2 rows × 30 columns</p>\n",
       "</div>"
      ],
      "text/plain": [
       "  sequenceNumber corporateNumber process correct  updateDate  changeDate  \\\n",
       "0              2   1000013050072      01       1  2018-04-02  2015-10-05   \n",
       "1              3   1000013050080      01       1  2018-04-02  2015-10-05   \n",
       "\n",
       "      name nameImageId kind prefectureName  ... successorCorporateNumber  \\\n",
       "0  清水簡易裁判所         NaN  101            静岡県  ...                      NaN   \n",
       "1  浜松簡易裁判所         NaN  101            静岡県  ...                      NaN   \n",
       "\n",
       "  changeCause assignmentDate latest                   enName enPrefectureName  \\\n",
       "0         NaN     2015-10-05      1    Shimizu Summary Court         Shizuoka   \n",
       "1         NaN     2015-10-05      1  Hamamatsu Summary Court         Shizuoka   \n",
       "\n",
       "                                 enCityName enAddressOutside       furigana  \\\n",
       "0  1-6-15, Tenjin, Shimizu ku, Shizuoka shi              NaN   シミズカンイサイバンショ   \n",
       "1      1-12-5, Chuo, Naka ku, Hamamatsu shi              NaN  ハママツカンイサイバンショ   \n",
       "\n",
       "  hihyoji  \n",
       "0       0  \n",
       "1       0  \n",
       "\n",
       "[2 rows x 30 columns]"
      ]
     },
     "execution_count": 17,
     "metadata": {},
     "output_type": "execute_result"
    }
   ],
   "source": [
    "data.columns = columns\n",
    "data.head(2)"
   ]
  },
  {
   "cell_type": "markdown",
   "metadata": {
    "id": "nrlLRoaExgGP"
   },
   "source": [
    "## ノック５：統計量や欠損値を確認しよう"
   ]
  },
  {
   "cell_type": "code",
   "execution_count": 18,
   "metadata": {
    "id": "zVoqN0NSxw2S",
    "tags": []
   },
   "outputs": [
    {
     "data": {
      "text/plain": [
       "<bound method NDFrame.describe of        sequenceNumber corporateNumber process correct  updateDate  changeDate  \\\n",
       "0                   2   1000013050072      01       1  2018-04-02  2015-10-05   \n",
       "1                   3   1000013050080      01       1  2018-04-02  2015-10-05   \n",
       "2                   4   1000020222119      01       1  2018-04-05  2015-10-05   \n",
       "3                   5   1000020222127      01       1  2018-04-05  2015-10-05   \n",
       "4                   6   1000020222135      01       1  2020-09-29  2015-10-05   \n",
       "...               ...             ...     ...     ...         ...         ...   \n",
       "114607         114609   9700150095744      01       0  2019-09-27  2019-08-22   \n",
       "114608         114610   9700150097253      01       0  2020-01-24  2019-12-26   \n",
       "114609         114611   9700150099530      01       0  2020-07-13  2020-06-23   \n",
       "114610         114612   9700150099852      01       0  2020-08-20  2020-07-22   \n",
       "114611         114613   9700150101659      01       0  2021-01-26  2021-01-14   \n",
       "\n",
       "                  name nameImageId kind prefectureName  ...  \\\n",
       "0              清水簡易裁判所         NaN  101            静岡県  ...   \n",
       "1              浜松簡易裁判所         NaN  101            静岡県  ...   \n",
       "2                  磐田市         NaN  201            静岡県  ...   \n",
       "3                  焼津市         NaN  201            静岡県  ...   \n",
       "4                  掛川市         NaN  201            静岡県  ...   \n",
       "...                ...         ...  ...            ...  ...   \n",
       "114607     久根共有財産管理委員会         NaN  499            静岡県  ...   \n",
       "114608      静岡小児感染症研究会         NaN  499            静岡県  ...   \n",
       "114609  北方領土返還要求静岡県民会議         NaN  499            静岡県  ...   \n",
       "114610        両河内児童クラブ         NaN  499            静岡県  ...   \n",
       "114611      静岡市茶業振興協議会         NaN  499            静岡県  ...   \n",
       "\n",
       "       successorCorporateNumber changeCause assignmentDate latest  \\\n",
       "0                           NaN         NaN     2015-10-05      1   \n",
       "1                           NaN         NaN     2015-10-05      1   \n",
       "2                           NaN         NaN     2015-10-05      1   \n",
       "3                           NaN         NaN     2015-10-05      1   \n",
       "4                           NaN         NaN     2015-10-05      1   \n",
       "...                         ...         ...            ...    ...   \n",
       "114607                      NaN         NaN     2019-08-22      1   \n",
       "114608                      NaN         NaN     2019-12-26      1   \n",
       "114609                      NaN         NaN     2020-06-23      1   \n",
       "114610                      NaN         NaN     2020-07-22      1   \n",
       "114611                      NaN         NaN     2021-01-14      1   \n",
       "\n",
       "                         enName enPrefectureName  \\\n",
       "0         Shimizu Summary Court         Shizuoka   \n",
       "1       Hamamatsu Summary Court         Shizuoka   \n",
       "2                    Iwata City         Shizuoka   \n",
       "3                    Yaizu city         Shizuoka   \n",
       "4                 Kakegawa City         Shizuoka   \n",
       "...                         ...              ...   \n",
       "114607                      NaN              NaN   \n",
       "114608                      NaN              NaN   \n",
       "114609                      NaN              NaN   \n",
       "114610                      NaN              NaN   \n",
       "114611                      NaN              NaN   \n",
       "\n",
       "                                      enCityName enAddressOutside  \\\n",
       "0       1-6-15, Tenjin, Shimizu ku, Shizuoka shi              NaN   \n",
       "1           1-12-5, Chuo, Naka ku, Hamamatsu shi              NaN   \n",
       "2                        3-1,Kounodai, Iwata shi              NaN   \n",
       "3                    2-16-32 Honmachi, Yaizu shi              NaN   \n",
       "4                     1-1-1 Nagaya, Kakegawa shi              NaN   \n",
       "...                                          ...              ...   \n",
       "114607                                       NaN              NaN   \n",
       "114608                                       NaN              NaN   \n",
       "114609                                       NaN              NaN   \n",
       "114610                                       NaN              NaN   \n",
       "114611                                       NaN              NaN   \n",
       "\n",
       "                            furigana hihyoji  \n",
       "0                       シミズカンイサイバンショ       0  \n",
       "1                      ハママツカンイサイバンショ       0  \n",
       "2                               イワタシ       0  \n",
       "3                               ヤイヅシ       0  \n",
       "4                              カケガワシ       0  \n",
       "...                              ...     ...  \n",
       "114607           クネキヨウユウザイサンカンリイインカイ       0  \n",
       "114608        シズオカシヨウニカンセンシヨウケンキユウカイ       0  \n",
       "114609  ホツポウリヨウドヘンカンヨウキユウシズオカケンミンカイギ       0  \n",
       "114610                  リヨウゴウチジドウクラブ       0  \n",
       "114611          シズオカシチヤギヨウシンコウキヨウギカイ       0  \n",
       "\n",
       "[114612 rows x 30 columns]>"
      ]
     },
     "execution_count": 18,
     "metadata": {},
     "output_type": "execute_result"
    }
   ],
   "source": [
    "data.describe"
   ]
  },
  {
   "cell_type": "code",
   "execution_count": 19,
   "metadata": {
    "id": "UPF1Inj8X3j5",
    "tags": []
   },
   "outputs": [
    {
     "data": {
      "text/plain": [
       "sequenceNumber                   0\n",
       "corporateNumber                  0\n",
       "process                          0\n",
       "correct                          0\n",
       "updateDate                       0\n",
       "changeDate                       0\n",
       "name                             0\n",
       "nameImageId                 113369\n",
       "kind                             0\n",
       "prefectureName                   0\n",
       "cityName                         0\n",
       "streetNumber                    17\n",
       "addressImageId              113417\n",
       "prefectureCode                   0\n",
       "cityCode                         0\n",
       "postCode                       173\n",
       "addressOutside              114612\n",
       "addressOutsideImageId       114612\n",
       "closeDate                   104535\n",
       "closeCause                  104535\n",
       "successorCorporateNumber    113946\n",
       "changeCause                 113501\n",
       "assignmentDate                   0\n",
       "latest                           0\n",
       "enName                      114381\n",
       "enPrefectureName            114383\n",
       "enCityName                  114383\n",
       "enAddressOutside            114612\n",
       "furigana                     67993\n",
       "hihyoji                          0\n",
       "dtype: int64"
      ]
     },
     "execution_count": 19,
     "metadata": {},
     "output_type": "execute_result"
    }
   ],
   "source": [
    "data.isna().sum()"
   ]
  },
  {
   "cell_type": "markdown",
   "metadata": {
    "id": "1Z8rwT646g7X"
   },
   "source": [
    "## ノック６：データの追加（繰り返し・読込・抽出・結合）"
   ]
  },
  {
   "cell_type": "code",
   "execution_count": 20,
   "metadata": {
    "id": "_6ESyddb0lha"
   },
   "outputs": [
    {
     "data": {
      "text/plain": [
       "['.DS_Store',\n",
       " '22_shizuoka_all_20210331.csv',\n",
       " 'diff_20210401.csv',\n",
       " 'diff_20210405.csv',\n",
       " 'diff_20210406.csv',\n",
       " 'diff_20210407.csv',\n",
       " 'diff_20210408.csv',\n",
       " 'diff_20210409.csv',\n",
       " 'mst_closeCause.csv',\n",
       " 'mst_column_name.txt',\n",
       " 'mst_corp_kind.csv',\n",
       " 'mst_correct_kbn.csv',\n",
       " 'mst_hihyoji.csv',\n",
       " 'mst_latest.csv',\n",
       " 'mst_process_kbn.csv',\n",
       " 'output']"
      ]
     },
     "execution_count": 20,
     "metadata": {},
     "output_type": "execute_result"
    }
   ],
   "source": [
    "os.listdir('data')"
   ]
  },
  {
   "cell_type": "code",
   "execution_count": 21,
   "metadata": {
    "id": "lN3unz0ZNh4x"
   },
   "outputs": [
    {
     "data": {
      "text/plain": [
       "['data/diff_20210401.csv',\n",
       " 'data/diff_20210405.csv',\n",
       " 'data/diff_20210406.csv',\n",
       " 'data/diff_20210407.csv',\n",
       " 'data/diff_20210408.csv',\n",
       " 'data/diff_20210409.csv']"
      ]
     },
     "execution_count": 21,
     "metadata": {},
     "output_type": "execute_result"
    }
   ],
   "source": [
    "from glob import glob\n",
    "diff_files = glob('data/diff*.csv')  # diffファイルをリストに追加\n",
    "diff_files "
   ]
  },
  {
   "cell_type": "code",
   "execution_count": 22,
   "metadata": {
    "id": "oyzaHgbP0lxI",
    "tags": []
   },
   "outputs": [
    {
     "data": {
      "text/html": [
       "<div>\n",
       "<style scoped>\n",
       "    .dataframe tbody tr th:only-of-type {\n",
       "        vertical-align: middle;\n",
       "    }\n",
       "\n",
       "    .dataframe tbody tr th {\n",
       "        vertical-align: top;\n",
       "    }\n",
       "\n",
       "    .dataframe thead th {\n",
       "        text-align: right;\n",
       "    }\n",
       "</style>\n",
       "<table border=\"1\" class=\"dataframe\">\n",
       "  <thead>\n",
       "    <tr style=\"text-align: right;\">\n",
       "      <th></th>\n",
       "      <th>0</th>\n",
       "      <th>1</th>\n",
       "      <th>2</th>\n",
       "      <th>3</th>\n",
       "      <th>4</th>\n",
       "      <th>5</th>\n",
       "      <th>6</th>\n",
       "      <th>7</th>\n",
       "      <th>8</th>\n",
       "      <th>9</th>\n",
       "      <th>...</th>\n",
       "      <th>20</th>\n",
       "      <th>21</th>\n",
       "      <th>22</th>\n",
       "      <th>23</th>\n",
       "      <th>24</th>\n",
       "      <th>25</th>\n",
       "      <th>26</th>\n",
       "      <th>27</th>\n",
       "      <th>28</th>\n",
       "      <th>29</th>\n",
       "    </tr>\n",
       "  </thead>\n",
       "  <tbody>\n",
       "    <tr>\n",
       "      <th>0</th>\n",
       "      <td>1</td>\n",
       "      <td>1010001016019</td>\n",
       "      <td>71</td>\n",
       "      <td>0</td>\n",
       "      <td>2021-04-01</td>\n",
       "      <td>2021-03-01</td>\n",
       "      <td>株式会社国際漢方研究所</td>\n",
       "      <td>NaN</td>\n",
       "      <td>301</td>\n",
       "      <td>東京都</td>\n",
       "      <td>...</td>\n",
       "      <td>NaN</td>\n",
       "      <td>令和３年３月１日東京都渋谷区千駄ヶ谷五丁目２９番１１号ナカニシビル６０２号室株式会社Ｉｎｔｅ...</td>\n",
       "      <td>2015-10-05</td>\n",
       "      <td>1</td>\n",
       "      <td>NaN</td>\n",
       "      <td>NaN</td>\n",
       "      <td>NaN</td>\n",
       "      <td>NaN</td>\n",
       "      <td>コクサイカンポウケンキュウショ</td>\n",
       "      <td>0</td>\n",
       "    </tr>\n",
       "    <tr>\n",
       "      <th>1</th>\n",
       "      <td>2</td>\n",
       "      <td>1010001092869</td>\n",
       "      <td>01</td>\n",
       "      <td>1</td>\n",
       "      <td>2021-04-01</td>\n",
       "      <td>2020-06-11</td>\n",
       "      <td>あさひ銀リテールファイナンス株式会社</td>\n",
       "      <td>NaN</td>\n",
       "      <td>301</td>\n",
       "      <td>東京都</td>\n",
       "      <td>...</td>\n",
       "      <td>NaN</td>\n",
       "      <td>NaN</td>\n",
       "      <td>2020-06-11</td>\n",
       "      <td>0</td>\n",
       "      <td>NaN</td>\n",
       "      <td>NaN</td>\n",
       "      <td>NaN</td>\n",
       "      <td>NaN</td>\n",
       "      <td>アサヒギンリテールファイナンス</td>\n",
       "      <td>0</td>\n",
       "    </tr>\n",
       "    <tr>\n",
       "      <th>2</th>\n",
       "      <td>3</td>\n",
       "      <td>1010001092869</td>\n",
       "      <td>21</td>\n",
       "      <td>0</td>\n",
       "      <td>2021-04-01</td>\n",
       "      <td>2021-03-22</td>\n",
       "      <td>あさひ銀リテールファイナンス株式会社</td>\n",
       "      <td>NaN</td>\n",
       "      <td>301</td>\n",
       "      <td>東京都</td>\n",
       "      <td>...</td>\n",
       "      <td>NaN</td>\n",
       "      <td>NaN</td>\n",
       "      <td>2020-06-11</td>\n",
       "      <td>1</td>\n",
       "      <td>NaN</td>\n",
       "      <td>NaN</td>\n",
       "      <td>NaN</td>\n",
       "      <td>NaN</td>\n",
       "      <td>アサヒギンリテールファイナンス</td>\n",
       "      <td>0</td>\n",
       "    </tr>\n",
       "    <tr>\n",
       "      <th>3</th>\n",
       "      <td>4</td>\n",
       "      <td>1010001128061</td>\n",
       "      <td>01</td>\n",
       "      <td>1</td>\n",
       "      <td>2021-04-01</td>\n",
       "      <td>2015-10-05</td>\n",
       "      <td>日本アイ・ビー・エム株式会社</td>\n",
       "      <td>NaN</td>\n",
       "      <td>301</td>\n",
       "      <td>東京都</td>\n",
       "      <td>...</td>\n",
       "      <td>NaN</td>\n",
       "      <td>NaN</td>\n",
       "      <td>2015-10-05</td>\n",
       "      <td>0</td>\n",
       "      <td>NaN</td>\n",
       "      <td>NaN</td>\n",
       "      <td>NaN</td>\n",
       "      <td>NaN</td>\n",
       "      <td>ニホンアイビーエム</td>\n",
       "      <td>0</td>\n",
       "    </tr>\n",
       "    <tr>\n",
       "      <th>4</th>\n",
       "      <td>5</td>\n",
       "      <td>1010001128061</td>\n",
       "      <td>71</td>\n",
       "      <td>1</td>\n",
       "      <td>2021-04-01</td>\n",
       "      <td>2017-10-02</td>\n",
       "      <td>日本アイ・ビー・エム株式会社</td>\n",
       "      <td>NaN</td>\n",
       "      <td>301</td>\n",
       "      <td>東京都</td>\n",
       "      <td>...</td>\n",
       "      <td>NaN</td>\n",
       "      <td>平成２９年１０月１日東京都中央区日本橋箱崎町１９番２１号アイ・ビー・エム・アジア・パシフィッ...</td>\n",
       "      <td>2015-10-05</td>\n",
       "      <td>1</td>\n",
       "      <td>NaN</td>\n",
       "      <td>NaN</td>\n",
       "      <td>NaN</td>\n",
       "      <td>NaN</td>\n",
       "      <td>ニホンアイビーエム</td>\n",
       "      <td>0</td>\n",
       "    </tr>\n",
       "  </tbody>\n",
       "</table>\n",
       "<p>5 rows × 30 columns</p>\n",
       "</div>"
      ],
      "text/plain": [
       "  0              1   2  3           4           5                   6    7   \\\n",
       "0  1  1010001016019  71  0  2021-04-01  2021-03-01         株式会社国際漢方研究所  NaN   \n",
       "1  2  1010001092869  01  1  2021-04-01  2020-06-11  あさひ銀リテールファイナンス株式会社  NaN   \n",
       "2  3  1010001092869  21  0  2021-04-01  2021-03-22  あさひ銀リテールファイナンス株式会社  NaN   \n",
       "3  4  1010001128061  01  1  2021-04-01  2015-10-05      日本アイ・ビー・エム株式会社  NaN   \n",
       "4  5  1010001128061  71  1  2021-04-01  2017-10-02      日本アイ・ビー・エム株式会社  NaN   \n",
       "\n",
       "    8    9   ...   20                                                 21  \\\n",
       "0  301  東京都  ...  NaN  令和３年３月１日東京都渋谷区千駄ヶ谷五丁目２９番１１号ナカニシビル６０２号室株式会社Ｉｎｔｅ...   \n",
       "1  301  東京都  ...  NaN                                                NaN   \n",
       "2  301  東京都  ...  NaN                                                NaN   \n",
       "3  301  東京都  ...  NaN                                                NaN   \n",
       "4  301  東京都  ...  NaN  平成２９年１０月１日東京都中央区日本橋箱崎町１９番２１号アイ・ビー・エム・アジア・パシフィッ...   \n",
       "\n",
       "           22 23   24   25   26   27               28 29  \n",
       "0  2015-10-05  1  NaN  NaN  NaN  NaN  コクサイカンポウケンキュウショ  0  \n",
       "1  2020-06-11  0  NaN  NaN  NaN  NaN  アサヒギンリテールファイナンス  0  \n",
       "2  2020-06-11  1  NaN  NaN  NaN  NaN  アサヒギンリテールファイナンス  0  \n",
       "3  2015-10-05  0  NaN  NaN  NaN  NaN        ニホンアイビーエム  0  \n",
       "4  2015-10-05  1  NaN  NaN  NaN  NaN        ニホンアイビーエム  0  \n",
       "\n",
       "[5 rows x 30 columns]"
      ]
     },
     "execution_count": 22,
     "metadata": {},
     "output_type": "execute_result"
    }
   ],
   "source": [
    "diff_files.sort()\n",
    "diff = pd.read_csv(diff_files[0], encoding='shift-jis', header=None, dtype=object)\n",
    "diff.head()"
   ]
  },
  {
   "cell_type": "code",
   "execution_count": 23,
   "metadata": {
    "id": "9l-ZzTWnaHLR",
    "tags": []
   },
   "outputs": [
    {
     "data": {
      "text/html": [
       "<div>\n",
       "<style scoped>\n",
       "    .dataframe tbody tr th:only-of-type {\n",
       "        vertical-align: middle;\n",
       "    }\n",
       "\n",
       "    .dataframe tbody tr th {\n",
       "        vertical-align: top;\n",
       "    }\n",
       "\n",
       "    .dataframe thead th {\n",
       "        text-align: right;\n",
       "    }\n",
       "</style>\n",
       "<table border=\"1\" class=\"dataframe\">\n",
       "  <thead>\n",
       "    <tr style=\"text-align: right;\">\n",
       "      <th></th>\n",
       "      <th>sequenceNumber</th>\n",
       "      <th>corporateNumber</th>\n",
       "      <th>process</th>\n",
       "      <th>correct</th>\n",
       "      <th>updateDate</th>\n",
       "      <th>changeDate</th>\n",
       "      <th>name</th>\n",
       "      <th>nameImageId</th>\n",
       "      <th>kind</th>\n",
       "      <th>prefectureName</th>\n",
       "      <th>...</th>\n",
       "      <th>successorCorporateNumber</th>\n",
       "      <th>changeCause</th>\n",
       "      <th>assignmentDate</th>\n",
       "      <th>latest</th>\n",
       "      <th>enName</th>\n",
       "      <th>enPrefectureName</th>\n",
       "      <th>enCityName</th>\n",
       "      <th>enAddressOutside</th>\n",
       "      <th>furigana</th>\n",
       "      <th>hihyoji</th>\n",
       "    </tr>\n",
       "  </thead>\n",
       "  <tbody>\n",
       "    <tr>\n",
       "      <th>0</th>\n",
       "      <td>1</td>\n",
       "      <td>1010001016019</td>\n",
       "      <td>71</td>\n",
       "      <td>0</td>\n",
       "      <td>2021-04-01</td>\n",
       "      <td>2021-03-01</td>\n",
       "      <td>株式会社国際漢方研究所</td>\n",
       "      <td>NaN</td>\n",
       "      <td>301</td>\n",
       "      <td>東京都</td>\n",
       "      <td>...</td>\n",
       "      <td>NaN</td>\n",
       "      <td>令和３年３月１日東京都渋谷区千駄ヶ谷五丁目２９番１１号ナカニシビル６０２号室株式会社Ｉｎｔｅ...</td>\n",
       "      <td>2015-10-05</td>\n",
       "      <td>1</td>\n",
       "      <td>NaN</td>\n",
       "      <td>NaN</td>\n",
       "      <td>NaN</td>\n",
       "      <td>NaN</td>\n",
       "      <td>コクサイカンポウケンキュウショ</td>\n",
       "      <td>0</td>\n",
       "    </tr>\n",
       "    <tr>\n",
       "      <th>1</th>\n",
       "      <td>2</td>\n",
       "      <td>1010001092869</td>\n",
       "      <td>01</td>\n",
       "      <td>1</td>\n",
       "      <td>2021-04-01</td>\n",
       "      <td>2020-06-11</td>\n",
       "      <td>あさひ銀リテールファイナンス株式会社</td>\n",
       "      <td>NaN</td>\n",
       "      <td>301</td>\n",
       "      <td>東京都</td>\n",
       "      <td>...</td>\n",
       "      <td>NaN</td>\n",
       "      <td>NaN</td>\n",
       "      <td>2020-06-11</td>\n",
       "      <td>0</td>\n",
       "      <td>NaN</td>\n",
       "      <td>NaN</td>\n",
       "      <td>NaN</td>\n",
       "      <td>NaN</td>\n",
       "      <td>アサヒギンリテールファイナンス</td>\n",
       "      <td>0</td>\n",
       "    </tr>\n",
       "    <tr>\n",
       "      <th>2</th>\n",
       "      <td>3</td>\n",
       "      <td>1010001092869</td>\n",
       "      <td>21</td>\n",
       "      <td>0</td>\n",
       "      <td>2021-04-01</td>\n",
       "      <td>2021-03-22</td>\n",
       "      <td>あさひ銀リテールファイナンス株式会社</td>\n",
       "      <td>NaN</td>\n",
       "      <td>301</td>\n",
       "      <td>東京都</td>\n",
       "      <td>...</td>\n",
       "      <td>NaN</td>\n",
       "      <td>NaN</td>\n",
       "      <td>2020-06-11</td>\n",
       "      <td>1</td>\n",
       "      <td>NaN</td>\n",
       "      <td>NaN</td>\n",
       "      <td>NaN</td>\n",
       "      <td>NaN</td>\n",
       "      <td>アサヒギンリテールファイナンス</td>\n",
       "      <td>0</td>\n",
       "    </tr>\n",
       "    <tr>\n",
       "      <th>3</th>\n",
       "      <td>4</td>\n",
       "      <td>1010001128061</td>\n",
       "      <td>01</td>\n",
       "      <td>1</td>\n",
       "      <td>2021-04-01</td>\n",
       "      <td>2015-10-05</td>\n",
       "      <td>日本アイ・ビー・エム株式会社</td>\n",
       "      <td>NaN</td>\n",
       "      <td>301</td>\n",
       "      <td>東京都</td>\n",
       "      <td>...</td>\n",
       "      <td>NaN</td>\n",
       "      <td>NaN</td>\n",
       "      <td>2015-10-05</td>\n",
       "      <td>0</td>\n",
       "      <td>NaN</td>\n",
       "      <td>NaN</td>\n",
       "      <td>NaN</td>\n",
       "      <td>NaN</td>\n",
       "      <td>ニホンアイビーエム</td>\n",
       "      <td>0</td>\n",
       "    </tr>\n",
       "    <tr>\n",
       "      <th>4</th>\n",
       "      <td>5</td>\n",
       "      <td>1010001128061</td>\n",
       "      <td>71</td>\n",
       "      <td>1</td>\n",
       "      <td>2021-04-01</td>\n",
       "      <td>2017-10-02</td>\n",
       "      <td>日本アイ・ビー・エム株式会社</td>\n",
       "      <td>NaN</td>\n",
       "      <td>301</td>\n",
       "      <td>東京都</td>\n",
       "      <td>...</td>\n",
       "      <td>NaN</td>\n",
       "      <td>平成２９年１０月１日東京都中央区日本橋箱崎町１９番２１号アイ・ビー・エム・アジア・パシフィッ...</td>\n",
       "      <td>2015-10-05</td>\n",
       "      <td>1</td>\n",
       "      <td>NaN</td>\n",
       "      <td>NaN</td>\n",
       "      <td>NaN</td>\n",
       "      <td>NaN</td>\n",
       "      <td>ニホンアイビーエム</td>\n",
       "      <td>0</td>\n",
       "    </tr>\n",
       "  </tbody>\n",
       "</table>\n",
       "<p>5 rows × 30 columns</p>\n",
       "</div>"
      ],
      "text/plain": [
       "  sequenceNumber corporateNumber process correct  updateDate  changeDate  \\\n",
       "0              1   1010001016019      71       0  2021-04-01  2021-03-01   \n",
       "1              2   1010001092869      01       1  2021-04-01  2020-06-11   \n",
       "2              3   1010001092869      21       0  2021-04-01  2021-03-22   \n",
       "3              4   1010001128061      01       1  2021-04-01  2015-10-05   \n",
       "4              5   1010001128061      71       1  2021-04-01  2017-10-02   \n",
       "\n",
       "                 name nameImageId kind prefectureName  ...  \\\n",
       "0         株式会社国際漢方研究所         NaN  301            東京都  ...   \n",
       "1  あさひ銀リテールファイナンス株式会社         NaN  301            東京都  ...   \n",
       "2  あさひ銀リテールファイナンス株式会社         NaN  301            東京都  ...   \n",
       "3      日本アイ・ビー・エム株式会社         NaN  301            東京都  ...   \n",
       "4      日本アイ・ビー・エム株式会社         NaN  301            東京都  ...   \n",
       "\n",
       "  successorCorporateNumber                                        changeCause  \\\n",
       "0                      NaN  令和３年３月１日東京都渋谷区千駄ヶ谷五丁目２９番１１号ナカニシビル６０２号室株式会社Ｉｎｔｅ...   \n",
       "1                      NaN                                                NaN   \n",
       "2                      NaN                                                NaN   \n",
       "3                      NaN                                                NaN   \n",
       "4                      NaN  平成２９年１０月１日東京都中央区日本橋箱崎町１９番２１号アイ・ビー・エム・アジア・パシフィッ...   \n",
       "\n",
       "  assignmentDate latest enName enPrefectureName enCityName enAddressOutside  \\\n",
       "0     2015-10-05      1    NaN              NaN        NaN              NaN   \n",
       "1     2020-06-11      0    NaN              NaN        NaN              NaN   \n",
       "2     2020-06-11      1    NaN              NaN        NaN              NaN   \n",
       "3     2015-10-05      0    NaN              NaN        NaN              NaN   \n",
       "4     2015-10-05      1    NaN              NaN        NaN              NaN   \n",
       "\n",
       "          furigana hihyoji  \n",
       "0  コクサイカンポウケンキュウショ       0  \n",
       "1  アサヒギンリテールファイナンス       0  \n",
       "2  アサヒギンリテールファイナンス       0  \n",
       "3        ニホンアイビーエム       0  \n",
       "4        ニホンアイビーエム       0  \n",
       "\n",
       "[5 rows x 30 columns]"
      ]
     },
     "execution_count": 23,
     "metadata": {},
     "output_type": "execute_result"
    }
   ],
   "source": [
    "diff.columns = columns\n",
    "diff.head()"
   ]
  },
  {
   "cell_type": "code",
   "execution_count": 24,
   "metadata": {
    "id": "QmO-WGYfatBA"
   },
   "outputs": [
    {
     "name": "stdout",
     "output_type": "stream",
     "text": [
      "43\n"
     ]
    },
    {
     "data": {
      "text/html": [
       "<div>\n",
       "<style scoped>\n",
       "    .dataframe tbody tr th:only-of-type {\n",
       "        vertical-align: middle;\n",
       "    }\n",
       "\n",
       "    .dataframe tbody tr th {\n",
       "        vertical-align: top;\n",
       "    }\n",
       "\n",
       "    .dataframe thead th {\n",
       "        text-align: right;\n",
       "    }\n",
       "</style>\n",
       "<table border=\"1\" class=\"dataframe\">\n",
       "  <thead>\n",
       "    <tr style=\"text-align: right;\">\n",
       "      <th></th>\n",
       "      <th>sequenceNumber</th>\n",
       "      <th>corporateNumber</th>\n",
       "      <th>process</th>\n",
       "      <th>correct</th>\n",
       "      <th>updateDate</th>\n",
       "      <th>changeDate</th>\n",
       "      <th>name</th>\n",
       "      <th>nameImageId</th>\n",
       "      <th>kind</th>\n",
       "      <th>prefectureName</th>\n",
       "      <th>...</th>\n",
       "      <th>successorCorporateNumber</th>\n",
       "      <th>changeCause</th>\n",
       "      <th>assignmentDate</th>\n",
       "      <th>latest</th>\n",
       "      <th>enName</th>\n",
       "      <th>enPrefectureName</th>\n",
       "      <th>enCityName</th>\n",
       "      <th>enAddressOutside</th>\n",
       "      <th>furigana</th>\n",
       "      <th>hihyoji</th>\n",
       "    </tr>\n",
       "  </thead>\n",
       "  <tbody>\n",
       "    <tr>\n",
       "      <th>2159</th>\n",
       "      <td>2160</td>\n",
       "      <td>9080401024929</td>\n",
       "      <td>01</td>\n",
       "      <td>0</td>\n",
       "      <td>2021-04-01</td>\n",
       "      <td>2021-04-01</td>\n",
       "      <td>株式会社リガーレ</td>\n",
       "      <td>NaN</td>\n",
       "      <td>301</td>\n",
       "      <td>静岡県</td>\n",
       "      <td>...</td>\n",
       "      <td>NaN</td>\n",
       "      <td>NaN</td>\n",
       "      <td>2021-04-01</td>\n",
       "      <td>1</td>\n",
       "      <td>NaN</td>\n",
       "      <td>NaN</td>\n",
       "      <td>NaN</td>\n",
       "      <td>NaN</td>\n",
       "      <td>リガーレ</td>\n",
       "      <td>0</td>\n",
       "    </tr>\n",
       "    <tr>\n",
       "      <th>2160</th>\n",
       "      <td>2161</td>\n",
       "      <td>9080402007726</td>\n",
       "      <td>01</td>\n",
       "      <td>1</td>\n",
       "      <td>2021-04-01</td>\n",
       "      <td>2015-10-05</td>\n",
       "      <td>有限会社丸信商店</td>\n",
       "      <td>NaN</td>\n",
       "      <td>302</td>\n",
       "      <td>静岡県</td>\n",
       "      <td>...</td>\n",
       "      <td>NaN</td>\n",
       "      <td>NaN</td>\n",
       "      <td>2015-10-05</td>\n",
       "      <td>1</td>\n",
       "      <td>NaN</td>\n",
       "      <td>NaN</td>\n",
       "      <td>NaN</td>\n",
       "      <td>NaN</td>\n",
       "      <td>マルシンショウテン</td>\n",
       "      <td>0</td>\n",
       "    </tr>\n",
       "    <tr>\n",
       "      <th>2161</th>\n",
       "      <td>2162</td>\n",
       "      <td>9080402021917</td>\n",
       "      <td>21</td>\n",
       "      <td>0</td>\n",
       "      <td>2021-04-01</td>\n",
       "      <td>2021-03-30</td>\n",
       "      <td>有限会社岡本商会</td>\n",
       "      <td>NaN</td>\n",
       "      <td>302</td>\n",
       "      <td>静岡県</td>\n",
       "      <td>...</td>\n",
       "      <td>NaN</td>\n",
       "      <td>NaN</td>\n",
       "      <td>2015-10-05</td>\n",
       "      <td>1</td>\n",
       "      <td>NaN</td>\n",
       "      <td>NaN</td>\n",
       "      <td>NaN</td>\n",
       "      <td>NaN</td>\n",
       "      <td>オカモトショウカイ</td>\n",
       "      <td>0</td>\n",
       "    </tr>\n",
       "  </tbody>\n",
       "</table>\n",
       "<p>3 rows × 30 columns</p>\n",
       "</div>"
      ],
      "text/plain": [
       "     sequenceNumber corporateNumber process correct  updateDate  changeDate  \\\n",
       "2159           2160   9080401024929      01       0  2021-04-01  2021-04-01   \n",
       "2160           2161   9080402007726      01       1  2021-04-01  2015-10-05   \n",
       "2161           2162   9080402021917      21       0  2021-04-01  2021-03-30   \n",
       "\n",
       "          name nameImageId kind prefectureName  ... successorCorporateNumber  \\\n",
       "2159  株式会社リガーレ         NaN  301            静岡県  ...                      NaN   \n",
       "2160  有限会社丸信商店         NaN  302            静岡県  ...                      NaN   \n",
       "2161  有限会社岡本商会         NaN  302            静岡県  ...                      NaN   \n",
       "\n",
       "     changeCause assignmentDate latest enName enPrefectureName enCityName  \\\n",
       "2159         NaN     2021-04-01      1    NaN              NaN        NaN   \n",
       "2160         NaN     2015-10-05      1    NaN              NaN        NaN   \n",
       "2161         NaN     2015-10-05      1    NaN              NaN        NaN   \n",
       "\n",
       "     enAddressOutside   furigana hihyoji  \n",
       "2159              NaN       リガーレ       0  \n",
       "2160              NaN  マルシンショウテン       0  \n",
       "2161              NaN  オカモトショウカイ       0  \n",
       "\n",
       "[3 rows x 30 columns]"
      ]
     },
     "execution_count": 24,
     "metadata": {},
     "output_type": "execute_result"
    }
   ],
   "source": [
    "diff = diff.loc[diff['prefectureName'] == '静岡県']\n",
    "print(len(diff))\n",
    "diff.tail(3)"
   ]
  },
  {
   "cell_type": "markdown",
   "metadata": {},
   "source": [
    "### diffデータを、データに行追加(お試し)"
   ]
  },
  {
   "cell_type": "code",
   "execution_count": 25,
   "metadata": {
    "id": "jews9WyY2pU6"
   },
   "outputs": [
    {
     "name": "stdout",
     "output_type": "stream",
     "text": [
      "114612\n",
      "114612\n",
      "43\n",
      "114655\n"
     ]
    },
    {
     "name": "stderr",
     "output_type": "stream",
     "text": [
      "/tmp/ipykernel_77/2425962003.py:5: FutureWarning: The frame.append method is deprecated and will be removed from pandas in a future version. Use pandas.concat instead.\n",
      "  data_test = data_test.append(diff)  # data_testにdiff差分を追加\n"
     ]
    },
    {
     "data": {
      "text/html": [
       "<div>\n",
       "<style scoped>\n",
       "    .dataframe tbody tr th:only-of-type {\n",
       "        vertical-align: middle;\n",
       "    }\n",
       "\n",
       "    .dataframe tbody tr th {\n",
       "        vertical-align: top;\n",
       "    }\n",
       "\n",
       "    .dataframe thead th {\n",
       "        text-align: right;\n",
       "    }\n",
       "</style>\n",
       "<table border=\"1\" class=\"dataframe\">\n",
       "  <thead>\n",
       "    <tr style=\"text-align: right;\">\n",
       "      <th></th>\n",
       "      <th>sequenceNumber</th>\n",
       "      <th>corporateNumber</th>\n",
       "      <th>process</th>\n",
       "      <th>correct</th>\n",
       "      <th>updateDate</th>\n",
       "      <th>changeDate</th>\n",
       "      <th>name</th>\n",
       "      <th>nameImageId</th>\n",
       "      <th>kind</th>\n",
       "      <th>prefectureName</th>\n",
       "      <th>...</th>\n",
       "      <th>successorCorporateNumber</th>\n",
       "      <th>changeCause</th>\n",
       "      <th>assignmentDate</th>\n",
       "      <th>latest</th>\n",
       "      <th>enName</th>\n",
       "      <th>enPrefectureName</th>\n",
       "      <th>enCityName</th>\n",
       "      <th>enAddressOutside</th>\n",
       "      <th>furigana</th>\n",
       "      <th>hihyoji</th>\n",
       "    </tr>\n",
       "  </thead>\n",
       "  <tbody>\n",
       "    <tr>\n",
       "      <th>2159</th>\n",
       "      <td>2160</td>\n",
       "      <td>9080401024929</td>\n",
       "      <td>01</td>\n",
       "      <td>0</td>\n",
       "      <td>2021-04-01</td>\n",
       "      <td>2021-04-01</td>\n",
       "      <td>株式会社リガーレ</td>\n",
       "      <td>NaN</td>\n",
       "      <td>301</td>\n",
       "      <td>静岡県</td>\n",
       "      <td>...</td>\n",
       "      <td>NaN</td>\n",
       "      <td>NaN</td>\n",
       "      <td>2021-04-01</td>\n",
       "      <td>1</td>\n",
       "      <td>NaN</td>\n",
       "      <td>NaN</td>\n",
       "      <td>NaN</td>\n",
       "      <td>NaN</td>\n",
       "      <td>リガーレ</td>\n",
       "      <td>0</td>\n",
       "    </tr>\n",
       "    <tr>\n",
       "      <th>2160</th>\n",
       "      <td>2161</td>\n",
       "      <td>9080402007726</td>\n",
       "      <td>01</td>\n",
       "      <td>1</td>\n",
       "      <td>2021-04-01</td>\n",
       "      <td>2015-10-05</td>\n",
       "      <td>有限会社丸信商店</td>\n",
       "      <td>NaN</td>\n",
       "      <td>302</td>\n",
       "      <td>静岡県</td>\n",
       "      <td>...</td>\n",
       "      <td>NaN</td>\n",
       "      <td>NaN</td>\n",
       "      <td>2015-10-05</td>\n",
       "      <td>1</td>\n",
       "      <td>NaN</td>\n",
       "      <td>NaN</td>\n",
       "      <td>NaN</td>\n",
       "      <td>NaN</td>\n",
       "      <td>マルシンショウテン</td>\n",
       "      <td>0</td>\n",
       "    </tr>\n",
       "    <tr>\n",
       "      <th>2161</th>\n",
       "      <td>2162</td>\n",
       "      <td>9080402021917</td>\n",
       "      <td>21</td>\n",
       "      <td>0</td>\n",
       "      <td>2021-04-01</td>\n",
       "      <td>2021-03-30</td>\n",
       "      <td>有限会社岡本商会</td>\n",
       "      <td>NaN</td>\n",
       "      <td>302</td>\n",
       "      <td>静岡県</td>\n",
       "      <td>...</td>\n",
       "      <td>NaN</td>\n",
       "      <td>NaN</td>\n",
       "      <td>2015-10-05</td>\n",
       "      <td>1</td>\n",
       "      <td>NaN</td>\n",
       "      <td>NaN</td>\n",
       "      <td>NaN</td>\n",
       "      <td>NaN</td>\n",
       "      <td>オカモトショウカイ</td>\n",
       "      <td>0</td>\n",
       "    </tr>\n",
       "  </tbody>\n",
       "</table>\n",
       "<p>3 rows × 30 columns</p>\n",
       "</div>"
      ],
      "text/plain": [
       "     sequenceNumber corporateNumber process correct  updateDate  changeDate  \\\n",
       "2159           2160   9080401024929      01       0  2021-04-01  2021-04-01   \n",
       "2160           2161   9080402007726      01       1  2021-04-01  2015-10-05   \n",
       "2161           2162   9080402021917      21       0  2021-04-01  2021-03-30   \n",
       "\n",
       "          name nameImageId kind prefectureName  ... successorCorporateNumber  \\\n",
       "2159  株式会社リガーレ         NaN  301            静岡県  ...                      NaN   \n",
       "2160  有限会社丸信商店         NaN  302            静岡県  ...                      NaN   \n",
       "2161  有限会社岡本商会         NaN  302            静岡県  ...                      NaN   \n",
       "\n",
       "     changeCause assignmentDate latest enName enPrefectureName enCityName  \\\n",
       "2159         NaN     2021-04-01      1    NaN              NaN        NaN   \n",
       "2160         NaN     2015-10-05      1    NaN              NaN        NaN   \n",
       "2161         NaN     2015-10-05      1    NaN              NaN        NaN   \n",
       "\n",
       "     enAddressOutside   furigana hihyoji  \n",
       "2159              NaN       リガーレ       0  \n",
       "2160              NaN  マルシンショウテン       0  \n",
       "2161              NaN  オカモトショウカイ       0  \n",
       "\n",
       "[3 rows x 30 columns]"
      ]
     },
     "execution_count": 25,
     "metadata": {},
     "output_type": "execute_result"
    }
   ],
   "source": [
    "data_test = data  # テスト用の変数にdataの中身をコピー\n",
    "print(len(data_test))\n",
    "print(len(data))\n",
    "print(len(diff))\n",
    "data_test = data_test.append(diff)  # data_testにdiff差分を追加\n",
    "print(len(data_test))\n",
    "data_test.tail(3)"
   ]
  },
  {
   "cell_type": "markdown",
   "metadata": {},
   "source": [
    "### for文で繰り返し"
   ]
  },
  {
   "cell_type": "code",
   "execution_count": 26,
   "metadata": {
    "id": "1wsUlE5wPpfY"
   },
   "outputs": [
    {
     "name": "stderr",
     "output_type": "stream",
     "text": [
      "/tmp/ipykernel_77/3107693951.py:6: FutureWarning: The frame.append method is deprecated and will be removed from pandas in a future version. Use pandas.concat instead.\n",
      "  data = data.append(diff)\n",
      "/tmp/ipykernel_77/3107693951.py:6: FutureWarning: The frame.append method is deprecated and will be removed from pandas in a future version. Use pandas.concat instead.\n",
      "  data = data.append(diff)\n",
      "/tmp/ipykernel_77/3107693951.py:6: FutureWarning: The frame.append method is deprecated and will be removed from pandas in a future version. Use pandas.concat instead.\n",
      "  data = data.append(diff)\n",
      "/tmp/ipykernel_77/3107693951.py:6: FutureWarning: The frame.append method is deprecated and will be removed from pandas in a future version. Use pandas.concat instead.\n",
      "  data = data.append(diff)\n",
      "/tmp/ipykernel_77/3107693951.py:6: FutureWarning: The frame.append method is deprecated and will be removed from pandas in a future version. Use pandas.concat instead.\n",
      "  data = data.append(diff)\n",
      "/tmp/ipykernel_77/3107693951.py:6: FutureWarning: The frame.append method is deprecated and will be removed from pandas in a future version. Use pandas.concat instead.\n",
      "  data = data.append(diff)\n"
     ]
    },
    {
     "data": {
      "text/html": [
       "<div>\n",
       "<style scoped>\n",
       "    .dataframe tbody tr th:only-of-type {\n",
       "        vertical-align: middle;\n",
       "    }\n",
       "\n",
       "    .dataframe tbody tr th {\n",
       "        vertical-align: top;\n",
       "    }\n",
       "\n",
       "    .dataframe thead th {\n",
       "        text-align: right;\n",
       "    }\n",
       "</style>\n",
       "<table border=\"1\" class=\"dataframe\">\n",
       "  <thead>\n",
       "    <tr style=\"text-align: right;\">\n",
       "      <th></th>\n",
       "      <th>sequenceNumber</th>\n",
       "      <th>corporateNumber</th>\n",
       "      <th>process</th>\n",
       "      <th>correct</th>\n",
       "      <th>updateDate</th>\n",
       "      <th>changeDate</th>\n",
       "      <th>name</th>\n",
       "      <th>nameImageId</th>\n",
       "      <th>kind</th>\n",
       "      <th>prefectureName</th>\n",
       "      <th>...</th>\n",
       "      <th>successorCorporateNumber</th>\n",
       "      <th>changeCause</th>\n",
       "      <th>assignmentDate</th>\n",
       "      <th>latest</th>\n",
       "      <th>enName</th>\n",
       "      <th>enPrefectureName</th>\n",
       "      <th>enCityName</th>\n",
       "      <th>enAddressOutside</th>\n",
       "      <th>furigana</th>\n",
       "      <th>hihyoji</th>\n",
       "    </tr>\n",
       "  </thead>\n",
       "  <tbody>\n",
       "    <tr>\n",
       "      <th>0</th>\n",
       "      <td>2</td>\n",
       "      <td>1000013050072</td>\n",
       "      <td>01</td>\n",
       "      <td>1</td>\n",
       "      <td>2018-04-02</td>\n",
       "      <td>2015-10-05</td>\n",
       "      <td>清水簡易裁判所</td>\n",
       "      <td>NaN</td>\n",
       "      <td>101</td>\n",
       "      <td>静岡県</td>\n",
       "      <td>...</td>\n",
       "      <td>NaN</td>\n",
       "      <td>NaN</td>\n",
       "      <td>2015-10-05</td>\n",
       "      <td>1</td>\n",
       "      <td>Shimizu Summary Court</td>\n",
       "      <td>Shizuoka</td>\n",
       "      <td>1-6-15, Tenjin, Shimizu ku, Shizuoka shi</td>\n",
       "      <td>NaN</td>\n",
       "      <td>シミズカンイサイバンショ</td>\n",
       "      <td>0</td>\n",
       "    </tr>\n",
       "    <tr>\n",
       "      <th>1</th>\n",
       "      <td>3</td>\n",
       "      <td>1000013050080</td>\n",
       "      <td>01</td>\n",
       "      <td>1</td>\n",
       "      <td>2018-04-02</td>\n",
       "      <td>2015-10-05</td>\n",
       "      <td>浜松簡易裁判所</td>\n",
       "      <td>NaN</td>\n",
       "      <td>101</td>\n",
       "      <td>静岡県</td>\n",
       "      <td>...</td>\n",
       "      <td>NaN</td>\n",
       "      <td>NaN</td>\n",
       "      <td>2015-10-05</td>\n",
       "      <td>1</td>\n",
       "      <td>Hamamatsu Summary Court</td>\n",
       "      <td>Shizuoka</td>\n",
       "      <td>1-12-5, Chuo, Naka ku, Hamamatsu shi</td>\n",
       "      <td>NaN</td>\n",
       "      <td>ハママツカンイサイバンショ</td>\n",
       "      <td>0</td>\n",
       "    </tr>\n",
       "    <tr>\n",
       "      <th>2</th>\n",
       "      <td>4</td>\n",
       "      <td>1000020222119</td>\n",
       "      <td>01</td>\n",
       "      <td>1</td>\n",
       "      <td>2018-04-05</td>\n",
       "      <td>2015-10-05</td>\n",
       "      <td>磐田市</td>\n",
       "      <td>NaN</td>\n",
       "      <td>201</td>\n",
       "      <td>静岡県</td>\n",
       "      <td>...</td>\n",
       "      <td>NaN</td>\n",
       "      <td>NaN</td>\n",
       "      <td>2015-10-05</td>\n",
       "      <td>1</td>\n",
       "      <td>Iwata City</td>\n",
       "      <td>Shizuoka</td>\n",
       "      <td>3-1,Kounodai, Iwata shi</td>\n",
       "      <td>NaN</td>\n",
       "      <td>イワタシ</td>\n",
       "      <td>0</td>\n",
       "    </tr>\n",
       "    <tr>\n",
       "      <th>3</th>\n",
       "      <td>5</td>\n",
       "      <td>1000020222127</td>\n",
       "      <td>01</td>\n",
       "      <td>1</td>\n",
       "      <td>2018-04-05</td>\n",
       "      <td>2015-10-05</td>\n",
       "      <td>焼津市</td>\n",
       "      <td>NaN</td>\n",
       "      <td>201</td>\n",
       "      <td>静岡県</td>\n",
       "      <td>...</td>\n",
       "      <td>NaN</td>\n",
       "      <td>NaN</td>\n",
       "      <td>2015-10-05</td>\n",
       "      <td>1</td>\n",
       "      <td>Yaizu city</td>\n",
       "      <td>Shizuoka</td>\n",
       "      <td>2-16-32 Honmachi, Yaizu shi</td>\n",
       "      <td>NaN</td>\n",
       "      <td>ヤイヅシ</td>\n",
       "      <td>0</td>\n",
       "    </tr>\n",
       "    <tr>\n",
       "      <th>4</th>\n",
       "      <td>6</td>\n",
       "      <td>1000020222135</td>\n",
       "      <td>01</td>\n",
       "      <td>1</td>\n",
       "      <td>2020-09-29</td>\n",
       "      <td>2015-10-05</td>\n",
       "      <td>掛川市</td>\n",
       "      <td>NaN</td>\n",
       "      <td>201</td>\n",
       "      <td>静岡県</td>\n",
       "      <td>...</td>\n",
       "      <td>NaN</td>\n",
       "      <td>NaN</td>\n",
       "      <td>2015-10-05</td>\n",
       "      <td>1</td>\n",
       "      <td>Kakegawa City</td>\n",
       "      <td>Shizuoka</td>\n",
       "      <td>1-1-1 Nagaya, Kakegawa shi</td>\n",
       "      <td>NaN</td>\n",
       "      <td>カケガワシ</td>\n",
       "      <td>0</td>\n",
       "    </tr>\n",
       "    <tr>\n",
       "      <th>...</th>\n",
       "      <td>...</td>\n",
       "      <td>...</td>\n",
       "      <td>...</td>\n",
       "      <td>...</td>\n",
       "      <td>...</td>\n",
       "      <td>...</td>\n",
       "      <td>...</td>\n",
       "      <td>...</td>\n",
       "      <td>...</td>\n",
       "      <td>...</td>\n",
       "      <td>...</td>\n",
       "      <td>...</td>\n",
       "      <td>...</td>\n",
       "      <td>...</td>\n",
       "      <td>...</td>\n",
       "      <td>...</td>\n",
       "      <td>...</td>\n",
       "      <td>...</td>\n",
       "      <td>...</td>\n",
       "      <td>...</td>\n",
       "      <td>...</td>\n",
       "    </tr>\n",
       "    <tr>\n",
       "      <th>3194</th>\n",
       "      <td>3195</td>\n",
       "      <td>9080001021673</td>\n",
       "      <td>01</td>\n",
       "      <td>1</td>\n",
       "      <td>2021-04-09</td>\n",
       "      <td>2017-07-07</td>\n",
       "      <td>株式会社ＡＣＴ</td>\n",
       "      <td>NaN</td>\n",
       "      <td>301</td>\n",
       "      <td>静岡県</td>\n",
       "      <td>...</td>\n",
       "      <td>NaN</td>\n",
       "      <td>NaN</td>\n",
       "      <td>2017-07-07</td>\n",
       "      <td>1</td>\n",
       "      <td>NaN</td>\n",
       "      <td>NaN</td>\n",
       "      <td>NaN</td>\n",
       "      <td>NaN</td>\n",
       "      <td>アクト</td>\n",
       "      <td>0</td>\n",
       "    </tr>\n",
       "    <tr>\n",
       "      <th>3195</th>\n",
       "      <td>3196</td>\n",
       "      <td>9080101022431</td>\n",
       "      <td>01</td>\n",
       "      <td>0</td>\n",
       "      <td>2021-04-09</td>\n",
       "      <td>2021-04-09</td>\n",
       "      <td>株式会社ＬＥＳＱＵＡ</td>\n",
       "      <td>NaN</td>\n",
       "      <td>301</td>\n",
       "      <td>静岡県</td>\n",
       "      <td>...</td>\n",
       "      <td>NaN</td>\n",
       "      <td>NaN</td>\n",
       "      <td>2021-04-09</td>\n",
       "      <td>1</td>\n",
       "      <td>NaN</td>\n",
       "      <td>NaN</td>\n",
       "      <td>NaN</td>\n",
       "      <td>NaN</td>\n",
       "      <td>レスカ</td>\n",
       "      <td>0</td>\n",
       "    </tr>\n",
       "    <tr>\n",
       "      <th>3196</th>\n",
       "      <td>3197</td>\n",
       "      <td>9080102008933</td>\n",
       "      <td>01</td>\n",
       "      <td>1</td>\n",
       "      <td>2021-04-09</td>\n",
       "      <td>2015-10-05</td>\n",
       "      <td>有限会社サクラ急送</td>\n",
       "      <td>NaN</td>\n",
       "      <td>302</td>\n",
       "      <td>静岡県</td>\n",
       "      <td>...</td>\n",
       "      <td>NaN</td>\n",
       "      <td>NaN</td>\n",
       "      <td>2015-10-05</td>\n",
       "      <td>1</td>\n",
       "      <td>NaN</td>\n",
       "      <td>NaN</td>\n",
       "      <td>NaN</td>\n",
       "      <td>NaN</td>\n",
       "      <td>サクラキュウソウ</td>\n",
       "      <td>0</td>\n",
       "    </tr>\n",
       "    <tr>\n",
       "      <th>3197</th>\n",
       "      <td>3198</td>\n",
       "      <td>9080402002859</td>\n",
       "      <td>21</td>\n",
       "      <td>0</td>\n",
       "      <td>2021-04-09</td>\n",
       "      <td>2021-04-01</td>\n",
       "      <td>有限会社弘法</td>\n",
       "      <td>NaN</td>\n",
       "      <td>302</td>\n",
       "      <td>静岡県</td>\n",
       "      <td>...</td>\n",
       "      <td>8080401016019</td>\n",
       "      <td>令和３年４月１日静岡県磐田市安久路二丁目２番地の２まごころ株式会社（808040101601...</td>\n",
       "      <td>2015-10-05</td>\n",
       "      <td>1</td>\n",
       "      <td>NaN</td>\n",
       "      <td>NaN</td>\n",
       "      <td>NaN</td>\n",
       "      <td>NaN</td>\n",
       "      <td>コウボウ</td>\n",
       "      <td>0</td>\n",
       "    </tr>\n",
       "    <tr>\n",
       "      <th>3198</th>\n",
       "      <td>3199</td>\n",
       "      <td>9080402015836</td>\n",
       "      <td>12</td>\n",
       "      <td>0</td>\n",
       "      <td>2021-04-09</td>\n",
       "      <td>2021-04-01</td>\n",
       "      <td>有限会社エコワークス</td>\n",
       "      <td>NaN</td>\n",
       "      <td>302</td>\n",
       "      <td>静岡県</td>\n",
       "      <td>...</td>\n",
       "      <td>NaN</td>\n",
       "      <td>NaN</td>\n",
       "      <td>2015-10-05</td>\n",
       "      <td>1</td>\n",
       "      <td>NaN</td>\n",
       "      <td>NaN</td>\n",
       "      <td>NaN</td>\n",
       "      <td>NaN</td>\n",
       "      <td>エコワークス</td>\n",
       "      <td>0</td>\n",
       "    </tr>\n",
       "  </tbody>\n",
       "</table>\n",
       "<p>115019 rows × 30 columns</p>\n",
       "</div>"
      ],
      "text/plain": [
       "     sequenceNumber corporateNumber process correct  updateDate  changeDate  \\\n",
       "0                 2   1000013050072      01       1  2018-04-02  2015-10-05   \n",
       "1                 3   1000013050080      01       1  2018-04-02  2015-10-05   \n",
       "2                 4   1000020222119      01       1  2018-04-05  2015-10-05   \n",
       "3                 5   1000020222127      01       1  2018-04-05  2015-10-05   \n",
       "4                 6   1000020222135      01       1  2020-09-29  2015-10-05   \n",
       "...             ...             ...     ...     ...         ...         ...   \n",
       "3194           3195   9080001021673      01       1  2021-04-09  2017-07-07   \n",
       "3195           3196   9080101022431      01       0  2021-04-09  2021-04-09   \n",
       "3196           3197   9080102008933      01       1  2021-04-09  2015-10-05   \n",
       "3197           3198   9080402002859      21       0  2021-04-09  2021-04-01   \n",
       "3198           3199   9080402015836      12       0  2021-04-09  2021-04-01   \n",
       "\n",
       "            name nameImageId kind prefectureName  ...  \\\n",
       "0        清水簡易裁判所         NaN  101            静岡県  ...   \n",
       "1        浜松簡易裁判所         NaN  101            静岡県  ...   \n",
       "2            磐田市         NaN  201            静岡県  ...   \n",
       "3            焼津市         NaN  201            静岡県  ...   \n",
       "4            掛川市         NaN  201            静岡県  ...   \n",
       "...          ...         ...  ...            ...  ...   \n",
       "3194     株式会社ＡＣＴ         NaN  301            静岡県  ...   \n",
       "3195  株式会社ＬＥＳＱＵＡ         NaN  301            静岡県  ...   \n",
       "3196   有限会社サクラ急送         NaN  302            静岡県  ...   \n",
       "3197      有限会社弘法         NaN  302            静岡県  ...   \n",
       "3198  有限会社エコワークス         NaN  302            静岡県  ...   \n",
       "\n",
       "     successorCorporateNumber  \\\n",
       "0                         NaN   \n",
       "1                         NaN   \n",
       "2                         NaN   \n",
       "3                         NaN   \n",
       "4                         NaN   \n",
       "...                       ...   \n",
       "3194                      NaN   \n",
       "3195                      NaN   \n",
       "3196                      NaN   \n",
       "3197            8080401016019   \n",
       "3198                      NaN   \n",
       "\n",
       "                                            changeCause assignmentDate latest  \\\n",
       "0                                                   NaN     2015-10-05      1   \n",
       "1                                                   NaN     2015-10-05      1   \n",
       "2                                                   NaN     2015-10-05      1   \n",
       "3                                                   NaN     2015-10-05      1   \n",
       "4                                                   NaN     2015-10-05      1   \n",
       "...                                                 ...            ...    ...   \n",
       "3194                                                NaN     2017-07-07      1   \n",
       "3195                                                NaN     2021-04-09      1   \n",
       "3196                                                NaN     2015-10-05      1   \n",
       "3197  令和３年４月１日静岡県磐田市安久路二丁目２番地の２まごころ株式会社（808040101601...     2015-10-05      1   \n",
       "3198                                                NaN     2015-10-05      1   \n",
       "\n",
       "                       enName enPrefectureName  \\\n",
       "0       Shimizu Summary Court         Shizuoka   \n",
       "1     Hamamatsu Summary Court         Shizuoka   \n",
       "2                  Iwata City         Shizuoka   \n",
       "3                  Yaizu city         Shizuoka   \n",
       "4               Kakegawa City         Shizuoka   \n",
       "...                       ...              ...   \n",
       "3194                      NaN              NaN   \n",
       "3195                      NaN              NaN   \n",
       "3196                      NaN              NaN   \n",
       "3197                      NaN              NaN   \n",
       "3198                      NaN              NaN   \n",
       "\n",
       "                                    enCityName enAddressOutside  \\\n",
       "0     1-6-15, Tenjin, Shimizu ku, Shizuoka shi              NaN   \n",
       "1         1-12-5, Chuo, Naka ku, Hamamatsu shi              NaN   \n",
       "2                      3-1,Kounodai, Iwata shi              NaN   \n",
       "3                  2-16-32 Honmachi, Yaizu shi              NaN   \n",
       "4                   1-1-1 Nagaya, Kakegawa shi              NaN   \n",
       "...                                        ...              ...   \n",
       "3194                                       NaN              NaN   \n",
       "3195                                       NaN              NaN   \n",
       "3196                                       NaN              NaN   \n",
       "3197                                       NaN              NaN   \n",
       "3198                                       NaN              NaN   \n",
       "\n",
       "           furigana hihyoji  \n",
       "0      シミズカンイサイバンショ       0  \n",
       "1     ハママツカンイサイバンショ       0  \n",
       "2              イワタシ       0  \n",
       "3              ヤイヅシ       0  \n",
       "4             カケガワシ       0  \n",
       "...             ...     ...  \n",
       "3194            アクト       0  \n",
       "3195            レスカ       0  \n",
       "3196       サクラキュウソウ       0  \n",
       "3197           コウボウ       0  \n",
       "3198         エコワークス       0  \n",
       "\n",
       "[115019 rows x 30 columns]"
      ]
     },
     "execution_count": 26,
     "metadata": {},
     "output_type": "execute_result"
    }
   ],
   "source": [
    "#すべての差分を追加する\n",
    "for f in diff_files:\n",
    "    diff = pd.read_csv(f,encoding = 'shift-jis', header = None, dtype = object)\n",
    "    diff.columns = columns\n",
    "    diff = diff.loc[diff['prefectureName'] == '静岡県']\n",
    "    data = data.append(diff)\n",
    "data"
   ]
  },
  {
   "cell_type": "code",
   "execution_count": 27,
   "metadata": {
    "id": "4Yxyb8yYOVN5"
   },
   "outputs": [
    {
     "data": {
      "text/html": [
       "<div>\n",
       "<style scoped>\n",
       "    .dataframe tbody tr th:only-of-type {\n",
       "        vertical-align: middle;\n",
       "    }\n",
       "\n",
       "    .dataframe tbody tr th {\n",
       "        vertical-align: top;\n",
       "    }\n",
       "\n",
       "    .dataframe thead th {\n",
       "        text-align: right;\n",
       "    }\n",
       "</style>\n",
       "<table border=\"1\" class=\"dataframe\">\n",
       "  <thead>\n",
       "    <tr style=\"text-align: right;\">\n",
       "      <th></th>\n",
       "      <th>sequenceNumber</th>\n",
       "      <th>corporateNumber</th>\n",
       "      <th>process</th>\n",
       "      <th>correct</th>\n",
       "      <th>updateDate</th>\n",
       "      <th>changeDate</th>\n",
       "      <th>name</th>\n",
       "      <th>nameImageId</th>\n",
       "      <th>kind</th>\n",
       "      <th>prefectureName</th>\n",
       "      <th>...</th>\n",
       "      <th>successorCorporateNumber</th>\n",
       "      <th>changeCause</th>\n",
       "      <th>assignmentDate</th>\n",
       "      <th>latest</th>\n",
       "      <th>enName</th>\n",
       "      <th>enPrefectureName</th>\n",
       "      <th>enCityName</th>\n",
       "      <th>enAddressOutside</th>\n",
       "      <th>furigana</th>\n",
       "      <th>hihyoji</th>\n",
       "    </tr>\n",
       "  </thead>\n",
       "  <tbody>\n",
       "    <tr>\n",
       "      <th>count</th>\n",
       "      <td>115019</td>\n",
       "      <td>115019</td>\n",
       "      <td>115019</td>\n",
       "      <td>115019</td>\n",
       "      <td>115019</td>\n",
       "      <td>115019</td>\n",
       "      <td>115019</td>\n",
       "      <td>1246</td>\n",
       "      <td>115019</td>\n",
       "      <td>115019</td>\n",
       "      <td>...</td>\n",
       "      <td>678</td>\n",
       "      <td>1130</td>\n",
       "      <td>115019</td>\n",
       "      <td>115019</td>\n",
       "      <td>232</td>\n",
       "      <td>230</td>\n",
       "      <td>230</td>\n",
       "      <td>0</td>\n",
       "      <td>47017</td>\n",
       "      <td>115019</td>\n",
       "    </tr>\n",
       "    <tr>\n",
       "      <th>unique</th>\n",
       "      <td>114612</td>\n",
       "      <td>114757</td>\n",
       "      <td>6</td>\n",
       "      <td>2</td>\n",
       "      <td>1322</td>\n",
       "      <td>1351</td>\n",
       "      <td>106018</td>\n",
       "      <td>1245</td>\n",
       "      <td>9</td>\n",
       "      <td>1</td>\n",
       "      <td>...</td>\n",
       "      <td>581</td>\n",
       "      <td>1067</td>\n",
       "      <td>1334</td>\n",
       "      <td>2</td>\n",
       "      <td>231</td>\n",
       "      <td>1</td>\n",
       "      <td>129</td>\n",
       "      <td>0</td>\n",
       "      <td>41576</td>\n",
       "      <td>2</td>\n",
       "    </tr>\n",
       "    <tr>\n",
       "      <th>top</th>\n",
       "      <td>3032</td>\n",
       "      <td>7080402010509</td>\n",
       "      <td>01</td>\n",
       "      <td>0</td>\n",
       "      <td>2015-11-13</td>\n",
       "      <td>2015-10-05</td>\n",
       "      <td>八幡神社</td>\n",
       "      <td>00067824</td>\n",
       "      <td>301</td>\n",
       "      <td>静岡県</td>\n",
       "      <td>...</td>\n",
       "      <td>8080001004480</td>\n",
       "      <td>平成２９年１２月１日静岡市駿河区富士見台一丁目２１番２２号富士見工業株式会社（8080001...</td>\n",
       "      <td>2015-10-05</td>\n",
       "      <td>1</td>\n",
       "      <td>Kamiide financial ward</td>\n",
       "      <td>Shizuoka</td>\n",
       "      <td>1-1-1 Nagaya, Kakegawa shi</td>\n",
       "      <td>NaN</td>\n",
       "      <td>ハチマングウ</td>\n",
       "      <td>0</td>\n",
       "    </tr>\n",
       "    <tr>\n",
       "      <th>freq</th>\n",
       "      <td>4</td>\n",
       "      <td>5</td>\n",
       "      <td>94397</td>\n",
       "      <td>80949</td>\n",
       "      <td>55969</td>\n",
       "      <td>83410</td>\n",
       "      <td>171</td>\n",
       "      <td>2</td>\n",
       "      <td>51474</td>\n",
       "      <td>115019</td>\n",
       "      <td>...</td>\n",
       "      <td>12</td>\n",
       "      <td>12</td>\n",
       "      <td>101545</td>\n",
       "      <td>114984</td>\n",
       "      <td>2</td>\n",
       "      <td>230</td>\n",
       "      <td>10</td>\n",
       "      <td>NaN</td>\n",
       "      <td>30</td>\n",
       "      <td>114794</td>\n",
       "    </tr>\n",
       "  </tbody>\n",
       "</table>\n",
       "<p>4 rows × 30 columns</p>\n",
       "</div>"
      ],
      "text/plain": [
       "       sequenceNumber corporateNumber process correct  updateDate  changeDate  \\\n",
       "count          115019          115019  115019  115019      115019      115019   \n",
       "unique         114612          114757       6       2        1322        1351   \n",
       "top              3032   7080402010509      01       0  2015-11-13  2015-10-05   \n",
       "freq                4               5   94397   80949       55969       83410   \n",
       "\n",
       "          name nameImageId    kind prefectureName  ...  \\\n",
       "count   115019        1246  115019         115019  ...   \n",
       "unique  106018        1245       9              1  ...   \n",
       "top       八幡神社    00067824     301            静岡県  ...   \n",
       "freq       171           2   51474         115019  ...   \n",
       "\n",
       "       successorCorporateNumber  \\\n",
       "count                       678   \n",
       "unique                      581   \n",
       "top               8080001004480   \n",
       "freq                         12   \n",
       "\n",
       "                                              changeCause assignmentDate  \\\n",
       "count                                                1130         115019   \n",
       "unique                                               1067           1334   \n",
       "top     平成２９年１２月１日静岡市駿河区富士見台一丁目２１番２２号富士見工業株式会社（8080001...     2015-10-05   \n",
       "freq                                                   12         101545   \n",
       "\n",
       "        latest                  enName enPrefectureName  \\\n",
       "count   115019                     232              230   \n",
       "unique       2                     231                1   \n",
       "top          1  Kamiide financial ward         Shizuoka   \n",
       "freq    114984                       2              230   \n",
       "\n",
       "                        enCityName enAddressOutside furigana hihyoji  \n",
       "count                          230                0    47017  115019  \n",
       "unique                         129                0    41576       2  \n",
       "top     1-1-1 Nagaya, Kakegawa shi              NaN   ハチマングウ       0  \n",
       "freq                            10              NaN       30  114794  \n",
       "\n",
       "[4 rows x 30 columns]"
      ]
     },
     "execution_count": 27,
     "metadata": {},
     "output_type": "execute_result"
    }
   ],
   "source": [
    "data.describe()"
   ]
  },
  {
   "cell_type": "code",
   "execution_count": 28,
   "metadata": {
    "id": "UyaZcj3WY59P"
   },
   "outputs": [
    {
     "name": "stdout",
     "output_type": "stream",
     "text": [
      "     sequenceNumber corporateNumber process correct  updateDate  changeDate  \\\n",
      "107             108   1080001015906      01       1  2021-04-01  2015-10-05   \n",
      "108             109   1080001015906      12       1  2021-04-01  2021-03-30   \n",
      "109             110   1080002015434      01       1  2021-04-01  2015-10-05   \n",
      "110             111   1080105005588      12       0  2021-04-01  2021-03-25   \n",
      "113             114   1080403003401      21       0  2021-04-01  2021-03-02   \n",
      "...             ...             ...     ...     ...         ...         ...   \n",
      "3193           3194   9080001004208      01       1  2021-04-09  2015-10-05   \n",
      "3194           3195   9080001021673      01       1  2021-04-09  2017-07-07   \n",
      "3196           3197   9080102008933      01       1  2021-04-09  2015-10-05   \n",
      "3197           3198   9080402002859      21       0  2021-04-09  2021-04-01   \n",
      "3198           3199   9080402015836      12       0  2021-04-09  2021-04-01   \n",
      "\n",
      "                        name nameImageId kind prefectureName  ...  \\\n",
      "107              株式会社エムケイテック         NaN  301            静岡県  ...   \n",
      "108              株式会社エムケイテック         NaN  301            静岡県  ...   \n",
      "109               有限会社ハイナンＤＣ         NaN  302            静岡県  ...   \n",
      "110   認定特定非営利活動法人ＲＥＡＬＥ　ＷＯＲＬＤ         NaN  399            静岡県  ...   \n",
      "113          合同会社ポップスターインポート         NaN  305            静岡県  ...   \n",
      "...                      ...         ...  ...            ...  ...   \n",
      "3193                  株式会社葉桐         NaN  301            静岡県  ...   \n",
      "3194                 株式会社ＡＣＴ         NaN  301            静岡県  ...   \n",
      "3196               有限会社サクラ急送         NaN  302            静岡県  ...   \n",
      "3197                  有限会社弘法         NaN  302            静岡県  ...   \n",
      "3198              有限会社エコワークス         NaN  302            静岡県  ...   \n",
      "\n",
      "     successorCorporateNumber  \\\n",
      "107                       NaN   \n",
      "108                       NaN   \n",
      "109                       NaN   \n",
      "110                       NaN   \n",
      "113             2080401020653   \n",
      "...                       ...   \n",
      "3193                      NaN   \n",
      "3194                      NaN   \n",
      "3196                      NaN   \n",
      "3197            8080401016019   \n",
      "3198                      NaN   \n",
      "\n",
      "                                            changeCause assignmentDate latest  \\\n",
      "107                                                 NaN     2015-10-05      0   \n",
      "108                                                 NaN     2015-10-05      1   \n",
      "109                                                 NaN     2015-10-05      1   \n",
      "110                                                 NaN     2015-12-11      1   \n",
      "113   令和３年３月２日浜松市中区元浜町３２番地の１株式会社ポップスタージャパン（208040102...     2017-02-17      1   \n",
      "...                                                 ...            ...    ...   \n",
      "3193                                                NaN     2015-10-05      1   \n",
      "3194                                                NaN     2017-07-07      1   \n",
      "3196                                                NaN     2015-10-05      1   \n",
      "3197  令和３年４月１日静岡県磐田市安久路二丁目２番地の２まごころ株式会社（808040101601...     2015-10-05      1   \n",
      "3198                                                NaN     2015-10-05      1   \n",
      "\n",
      "     enName enPrefectureName enCityName enAddressOutside     furigana hihyoji  \n",
      "107     NaN              NaN        NaN              NaN      エムケイテック       0  \n",
      "108     NaN              NaN        NaN              NaN      エムケイテック       0  \n",
      "109     NaN              NaN        NaN              NaN    ハイナンディーシー       0  \n",
      "110     NaN              NaN        NaN              NaN     レアーレワールド       0  \n",
      "113     NaN              NaN        NaN              NaN  ポップスターインポート       0  \n",
      "...     ...              ...        ...              ...          ...     ...  \n",
      "3193    NaN              NaN        NaN              NaN          ハギリ       0  \n",
      "3194    NaN              NaN        NaN              NaN          アクト       0  \n",
      "3196    NaN              NaN        NaN              NaN     サクラキュウソウ       0  \n",
      "3197    NaN              NaN        NaN              NaN         コウボウ       0  \n",
      "3198    NaN              NaN        NaN              NaN       エコワークス       0  \n",
      "\n",
      "[262 rows x 30 columns]\n"
     ]
    }
   ],
   "source": [
    "print(data[data[\"corporateNumber\"].duplicated()])  # 重複した行を抽出"
   ]
  },
  {
   "cell_type": "code",
   "execution_count": 29,
   "metadata": {
    "id": "FB0jcpNbh7L7"
   },
   "outputs": [],
   "source": [
    "data.drop_duplicates(subset='corporateNumber', keep='last', inplace=True)  # 重複した行の削除"
   ]
  },
  {
   "cell_type": "code",
   "execution_count": 30,
   "metadata": {
    "id": "NR6s7J-lPr4L"
   },
   "outputs": [
    {
     "data": {
      "text/html": [
       "<div>\n",
       "<style scoped>\n",
       "    .dataframe tbody tr th:only-of-type {\n",
       "        vertical-align: middle;\n",
       "    }\n",
       "\n",
       "    .dataframe tbody tr th {\n",
       "        vertical-align: top;\n",
       "    }\n",
       "\n",
       "    .dataframe thead th {\n",
       "        text-align: right;\n",
       "    }\n",
       "</style>\n",
       "<table border=\"1\" class=\"dataframe\">\n",
       "  <thead>\n",
       "    <tr style=\"text-align: right;\">\n",
       "      <th></th>\n",
       "      <th>sequenceNumber</th>\n",
       "      <th>corporateNumber</th>\n",
       "      <th>process</th>\n",
       "      <th>correct</th>\n",
       "      <th>updateDate</th>\n",
       "      <th>changeDate</th>\n",
       "      <th>name</th>\n",
       "      <th>nameImageId</th>\n",
       "      <th>kind</th>\n",
       "      <th>prefectureName</th>\n",
       "      <th>...</th>\n",
       "      <th>successorCorporateNumber</th>\n",
       "      <th>changeCause</th>\n",
       "      <th>assignmentDate</th>\n",
       "      <th>latest</th>\n",
       "      <th>enName</th>\n",
       "      <th>enPrefectureName</th>\n",
       "      <th>enCityName</th>\n",
       "      <th>enAddressOutside</th>\n",
       "      <th>furigana</th>\n",
       "      <th>hihyoji</th>\n",
       "    </tr>\n",
       "  </thead>\n",
       "  <tbody>\n",
       "    <tr>\n",
       "      <th>count</th>\n",
       "      <td>114757</td>\n",
       "      <td>114757</td>\n",
       "      <td>114757</td>\n",
       "      <td>114757</td>\n",
       "      <td>114757</td>\n",
       "      <td>114757</td>\n",
       "      <td>114757</td>\n",
       "      <td>1245</td>\n",
       "      <td>114757</td>\n",
       "      <td>114757</td>\n",
       "      <td>...</td>\n",
       "      <td>678</td>\n",
       "      <td>1129</td>\n",
       "      <td>114757</td>\n",
       "      <td>114757</td>\n",
       "      <td>232</td>\n",
       "      <td>230</td>\n",
       "      <td>230</td>\n",
       "      <td>0</td>\n",
       "      <td>46899</td>\n",
       "      <td>114757</td>\n",
       "    </tr>\n",
       "    <tr>\n",
       "      <th>unique</th>\n",
       "      <td>114387</td>\n",
       "      <td>114757</td>\n",
       "      <td>6</td>\n",
       "      <td>2</td>\n",
       "      <td>1322</td>\n",
       "      <td>1351</td>\n",
       "      <td>105991</td>\n",
       "      <td>1245</td>\n",
       "      <td>9</td>\n",
       "      <td>1</td>\n",
       "      <td>...</td>\n",
       "      <td>581</td>\n",
       "      <td>1066</td>\n",
       "      <td>1334</td>\n",
       "      <td>2</td>\n",
       "      <td>231</td>\n",
       "      <td>1</td>\n",
       "      <td>129</td>\n",
       "      <td>0</td>\n",
       "      <td>41558</td>\n",
       "      <td>2</td>\n",
       "    </tr>\n",
       "    <tr>\n",
       "      <th>top</th>\n",
       "      <td>3032</td>\n",
       "      <td>1000013050072</td>\n",
       "      <td>01</td>\n",
       "      <td>0</td>\n",
       "      <td>2015-11-13</td>\n",
       "      <td>2015-10-05</td>\n",
       "      <td>八幡神社</td>\n",
       "      <td>00067214</td>\n",
       "      <td>301</td>\n",
       "      <td>静岡県</td>\n",
       "      <td>...</td>\n",
       "      <td>8080001004480</td>\n",
       "      <td>平成２９年１２月１日静岡市駿河区富士見台一丁目２１番２２号富士見工業株式会社（8080001...</td>\n",
       "      <td>2015-10-05</td>\n",
       "      <td>1</td>\n",
       "      <td>Kamiide financial ward</td>\n",
       "      <td>Shizuoka</td>\n",
       "      <td>1-1-1 Nagaya, Kakegawa shi</td>\n",
       "      <td>NaN</td>\n",
       "      <td>ハチマングウ</td>\n",
       "      <td>0</td>\n",
       "    </tr>\n",
       "    <tr>\n",
       "      <th>freq</th>\n",
       "      <td>4</td>\n",
       "      <td>1</td>\n",
       "      <td>94175</td>\n",
       "      <td>80781</td>\n",
       "      <td>55849</td>\n",
       "      <td>83216</td>\n",
       "      <td>171</td>\n",
       "      <td>1</td>\n",
       "      <td>51331</td>\n",
       "      <td>114757</td>\n",
       "      <td>...</td>\n",
       "      <td>12</td>\n",
       "      <td>12</td>\n",
       "      <td>101318</td>\n",
       "      <td>114756</td>\n",
       "      <td>2</td>\n",
       "      <td>230</td>\n",
       "      <td>10</td>\n",
       "      <td>NaN</td>\n",
       "      <td>30</td>\n",
       "      <td>114532</td>\n",
       "    </tr>\n",
       "  </tbody>\n",
       "</table>\n",
       "<p>4 rows × 30 columns</p>\n",
       "</div>"
      ],
      "text/plain": [
       "       sequenceNumber corporateNumber process correct  updateDate  changeDate  \\\n",
       "count          114757          114757  114757  114757      114757      114757   \n",
       "unique         114387          114757       6       2        1322        1351   \n",
       "top              3032   1000013050072      01       0  2015-11-13  2015-10-05   \n",
       "freq                4               1   94175   80781       55849       83216   \n",
       "\n",
       "          name nameImageId    kind prefectureName  ...  \\\n",
       "count   114757        1245  114757         114757  ...   \n",
       "unique  105991        1245       9              1  ...   \n",
       "top       八幡神社    00067214     301            静岡県  ...   \n",
       "freq       171           1   51331         114757  ...   \n",
       "\n",
       "       successorCorporateNumber  \\\n",
       "count                       678   \n",
       "unique                      581   \n",
       "top               8080001004480   \n",
       "freq                         12   \n",
       "\n",
       "                                              changeCause assignmentDate  \\\n",
       "count                                                1129         114757   \n",
       "unique                                               1066           1334   \n",
       "top     平成２９年１２月１日静岡市駿河区富士見台一丁目２１番２２号富士見工業株式会社（8080001...     2015-10-05   \n",
       "freq                                                   12         101318   \n",
       "\n",
       "        latest                  enName enPrefectureName  \\\n",
       "count   114757                     232              230   \n",
       "unique       2                     231                1   \n",
       "top          1  Kamiide financial ward         Shizuoka   \n",
       "freq    114756                       2              230   \n",
       "\n",
       "                        enCityName enAddressOutside furigana hihyoji  \n",
       "count                          230                0    46899  114757  \n",
       "unique                         129                0    41558       2  \n",
       "top     1-1-1 Nagaya, Kakegawa shi              NaN   ハチマングウ       0  \n",
       "freq                            10              NaN       30  114532  \n",
       "\n",
       "[4 rows x 30 columns]"
      ]
     },
     "execution_count": 30,
     "metadata": {},
     "output_type": "execute_result"
    }
   ],
   "source": [
    "data.describe()"
   ]
  },
  {
   "cell_type": "code",
   "execution_count": 31,
   "metadata": {},
   "outputs": [
    {
     "data": {
      "text/plain": [
       "sequenceNumber                   0\n",
       "corporateNumber                  0\n",
       "process                          0\n",
       "correct                          0\n",
       "updateDate                       0\n",
       "changeDate                       0\n",
       "name                             0\n",
       "nameImageId                 113512\n",
       "kind                             0\n",
       "prefectureName                   0\n",
       "cityName                         0\n",
       "streetNumber                    17\n",
       "addressImageId              113562\n",
       "prefectureCode                   0\n",
       "cityCode                         0\n",
       "postCode                       173\n",
       "addressOutside              114757\n",
       "addressOutsideImageId       114757\n",
       "closeDate                   104649\n",
       "closeCause                  104649\n",
       "successorCorporateNumber    114079\n",
       "changeCause                 113628\n",
       "assignmentDate                   0\n",
       "latest                           0\n",
       "enName                      114525\n",
       "enPrefectureName            114527\n",
       "enCityName                  114527\n",
       "enAddressOutside            114757\n",
       "furigana                     67858\n",
       "hihyoji                          0\n",
       "dtype: int64"
      ]
     },
     "execution_count": 31,
     "metadata": {},
     "output_type": "execute_result"
    }
   ],
   "source": [
    "data.isna().sum()"
   ]
  },
  {
   "cell_type": "markdown",
   "metadata": {
    "id": "EmMEqFfNwdYB"
   },
   "source": [
    "## ノック７：マスタを読み込んで項目を横に繋げよう"
   ]
  },
  {
   "cell_type": "code",
   "execution_count": 32,
   "metadata": {
    "id": "D8lyUCQ6QtY-"
   },
   "outputs": [
    {
     "data": {
      "text/plain": [
       "['.DS_Store',\n",
       " '22_shizuoka_all_20210331.csv',\n",
       " 'diff_20210401.csv',\n",
       " 'diff_20210405.csv',\n",
       " 'diff_20210406.csv',\n",
       " 'diff_20210407.csv',\n",
       " 'diff_20210408.csv',\n",
       " 'diff_20210409.csv',\n",
       " 'mst_closeCause.csv',\n",
       " 'mst_column_name.txt',\n",
       " 'mst_corp_kind.csv',\n",
       " 'mst_correct_kbn.csv',\n",
       " 'mst_hihyoji.csv',\n",
       " 'mst_latest.csv',\n",
       " 'mst_process_kbn.csv',\n",
       " 'output']"
      ]
     },
     "execution_count": 32,
     "metadata": {},
     "output_type": "execute_result"
    }
   ],
   "source": [
    "os.listdir('data')"
   ]
  },
  {
   "cell_type": "code",
   "execution_count": 33,
   "metadata": {
    "id": "x77F4mLe7i2e"
   },
   "outputs": [
    {
     "data": {
      "text/html": [
       "<div>\n",
       "<style scoped>\n",
       "    .dataframe tbody tr th:only-of-type {\n",
       "        vertical-align: middle;\n",
       "    }\n",
       "\n",
       "    .dataframe tbody tr th {\n",
       "        vertical-align: top;\n",
       "    }\n",
       "\n",
       "    .dataframe thead th {\n",
       "        text-align: right;\n",
       "    }\n",
       "</style>\n",
       "<table border=\"1\" class=\"dataframe\">\n",
       "  <thead>\n",
       "    <tr style=\"text-align: right;\">\n",
       "      <th></th>\n",
       "      <th>process</th>\n",
       "      <th>process_kbn_name</th>\n",
       "    </tr>\n",
       "  </thead>\n",
       "  <tbody>\n",
       "    <tr>\n",
       "      <th>0</th>\n",
       "      <td>01</td>\n",
       "      <td>新規</td>\n",
       "    </tr>\n",
       "    <tr>\n",
       "      <th>1</th>\n",
       "      <td>11</td>\n",
       "      <td>商号又は名称の変更</td>\n",
       "    </tr>\n",
       "    <tr>\n",
       "      <th>2</th>\n",
       "      <td>12</td>\n",
       "      <td>国内所在地の変更</td>\n",
       "    </tr>\n",
       "    <tr>\n",
       "      <th>3</th>\n",
       "      <td>13</td>\n",
       "      <td>国外所在地の変更</td>\n",
       "    </tr>\n",
       "    <tr>\n",
       "      <th>4</th>\n",
       "      <td>21</td>\n",
       "      <td>登記記録の閉鎖等</td>\n",
       "    </tr>\n",
       "    <tr>\n",
       "      <th>5</th>\n",
       "      <td>22</td>\n",
       "      <td>登記記録の復活等</td>\n",
       "    </tr>\n",
       "    <tr>\n",
       "      <th>6</th>\n",
       "      <td>71</td>\n",
       "      <td>吸収合併</td>\n",
       "    </tr>\n",
       "    <tr>\n",
       "      <th>7</th>\n",
       "      <td>72</td>\n",
       "      <td>吸収合併無効</td>\n",
       "    </tr>\n",
       "    <tr>\n",
       "      <th>8</th>\n",
       "      <td>81</td>\n",
       "      <td>商号の登記の抹消</td>\n",
       "    </tr>\n",
       "    <tr>\n",
       "      <th>9</th>\n",
       "      <td>99</td>\n",
       "      <td>削除</td>\n",
       "    </tr>\n",
       "  </tbody>\n",
       "</table>\n",
       "</div>"
      ],
      "text/plain": [
       "  process process_kbn_name\n",
       "0      01               新規\n",
       "1      11        商号又は名称の変更\n",
       "2      12         国内所在地の変更\n",
       "3      13         国外所在地の変更\n",
       "4      21         登記記録の閉鎖等\n",
       "5      22         登記記録の復活等\n",
       "6      71             吸収合併\n",
       "7      72           吸収合併無効\n",
       "8      81         商号の登記の抹消\n",
       "9      99               削除"
      ]
     },
     "execution_count": 33,
     "metadata": {},
     "output_type": "execute_result"
    }
   ],
   "source": [
    "mst_process_kbn = pd.read_csv('data/mst_process_kbn.csv', dtype=object)\n",
    "mst_process_kbn"
   ]
  },
  {
   "cell_type": "code",
   "execution_count": 34,
   "metadata": {
    "id": "WxiLuvtM7jB5"
   },
   "outputs": [
    {
     "data": {
      "text/html": [
       "<div>\n",
       "<style scoped>\n",
       "    .dataframe tbody tr th:only-of-type {\n",
       "        vertical-align: middle;\n",
       "    }\n",
       "\n",
       "    .dataframe tbody tr th {\n",
       "        vertical-align: top;\n",
       "    }\n",
       "\n",
       "    .dataframe thead th {\n",
       "        text-align: right;\n",
       "    }\n",
       "</style>\n",
       "<table border=\"1\" class=\"dataframe\">\n",
       "  <thead>\n",
       "    <tr style=\"text-align: right;\">\n",
       "      <th></th>\n",
       "      <th>sequenceNumber</th>\n",
       "      <th>corporateNumber</th>\n",
       "      <th>process</th>\n",
       "      <th>correct</th>\n",
       "      <th>updateDate</th>\n",
       "      <th>changeDate</th>\n",
       "      <th>name</th>\n",
       "      <th>nameImageId</th>\n",
       "      <th>kind</th>\n",
       "      <th>prefectureName</th>\n",
       "      <th>...</th>\n",
       "      <th>changeCause</th>\n",
       "      <th>assignmentDate</th>\n",
       "      <th>latest</th>\n",
       "      <th>enName</th>\n",
       "      <th>enPrefectureName</th>\n",
       "      <th>enCityName</th>\n",
       "      <th>enAddressOutside</th>\n",
       "      <th>furigana</th>\n",
       "      <th>hihyoji</th>\n",
       "      <th>process_kbn_name</th>\n",
       "    </tr>\n",
       "  </thead>\n",
       "  <tbody>\n",
       "    <tr>\n",
       "      <th>0</th>\n",
       "      <td>2</td>\n",
       "      <td>1000013050072</td>\n",
       "      <td>01</td>\n",
       "      <td>1</td>\n",
       "      <td>2018-04-02</td>\n",
       "      <td>2015-10-05</td>\n",
       "      <td>清水簡易裁判所</td>\n",
       "      <td>NaN</td>\n",
       "      <td>101</td>\n",
       "      <td>静岡県</td>\n",
       "      <td>...</td>\n",
       "      <td>NaN</td>\n",
       "      <td>2015-10-05</td>\n",
       "      <td>1</td>\n",
       "      <td>Shimizu Summary Court</td>\n",
       "      <td>Shizuoka</td>\n",
       "      <td>1-6-15, Tenjin, Shimizu ku, Shizuoka shi</td>\n",
       "      <td>NaN</td>\n",
       "      <td>シミズカンイサイバンショ</td>\n",
       "      <td>0</td>\n",
       "      <td>新規</td>\n",
       "    </tr>\n",
       "    <tr>\n",
       "      <th>1</th>\n",
       "      <td>3</td>\n",
       "      <td>1000013050080</td>\n",
       "      <td>01</td>\n",
       "      <td>1</td>\n",
       "      <td>2018-04-02</td>\n",
       "      <td>2015-10-05</td>\n",
       "      <td>浜松簡易裁判所</td>\n",
       "      <td>NaN</td>\n",
       "      <td>101</td>\n",
       "      <td>静岡県</td>\n",
       "      <td>...</td>\n",
       "      <td>NaN</td>\n",
       "      <td>2015-10-05</td>\n",
       "      <td>1</td>\n",
       "      <td>Hamamatsu Summary Court</td>\n",
       "      <td>Shizuoka</td>\n",
       "      <td>1-12-5, Chuo, Naka ku, Hamamatsu shi</td>\n",
       "      <td>NaN</td>\n",
       "      <td>ハママツカンイサイバンショ</td>\n",
       "      <td>0</td>\n",
       "      <td>新規</td>\n",
       "    </tr>\n",
       "  </tbody>\n",
       "</table>\n",
       "<p>2 rows × 31 columns</p>\n",
       "</div>"
      ],
      "text/plain": [
       "  sequenceNumber corporateNumber process correct  updateDate  changeDate  \\\n",
       "0              2   1000013050072      01       1  2018-04-02  2015-10-05   \n",
       "1              3   1000013050080      01       1  2018-04-02  2015-10-05   \n",
       "\n",
       "      name nameImageId kind prefectureName  ... changeCause assignmentDate  \\\n",
       "0  清水簡易裁判所         NaN  101            静岡県  ...         NaN     2015-10-05   \n",
       "1  浜松簡易裁判所         NaN  101            静岡県  ...         NaN     2015-10-05   \n",
       "\n",
       "  latest                   enName enPrefectureName  \\\n",
       "0      1    Shimizu Summary Court         Shizuoka   \n",
       "1      1  Hamamatsu Summary Court         Shizuoka   \n",
       "\n",
       "                                 enCityName enAddressOutside       furigana  \\\n",
       "0  1-6-15, Tenjin, Shimizu ku, Shizuoka shi              NaN   シミズカンイサイバンショ   \n",
       "1      1-12-5, Chuo, Naka ku, Hamamatsu shi              NaN  ハママツカンイサイバンショ   \n",
       "\n",
       "  hihyoji process_kbn_name  \n",
       "0       0               新規  \n",
       "1       0               新規  \n",
       "\n",
       "[2 rows x 31 columns]"
      ]
     },
     "execution_count": 34,
     "metadata": {},
     "output_type": "execute_result"
    }
   ],
   "source": [
    "data = data.merge(mst_process_kbn, on='process', how='left')\n",
    "data.head(2)"
   ]
  },
  {
   "cell_type": "code",
   "execution_count": 35,
   "metadata": {
    "id": "PpAJDJwc7sBy"
   },
   "outputs": [
    {
     "name": "stdout",
     "output_type": "stream",
     "text": [
      "31\n"
     ]
    }
   ],
   "source": [
    "print(len(data.columns))  # 30→31に変わっている"
   ]
  },
  {
   "cell_type": "code",
   "execution_count": 36,
   "metadata": {
    "id": "ETz0LwEkiLaN"
   },
   "outputs": [
    {
     "data": {
      "text/html": [
       "<div>\n",
       "<style scoped>\n",
       "    .dataframe tbody tr th:only-of-type {\n",
       "        vertical-align: middle;\n",
       "    }\n",
       "\n",
       "    .dataframe tbody tr th {\n",
       "        vertical-align: top;\n",
       "    }\n",
       "\n",
       "    .dataframe thead th {\n",
       "        text-align: right;\n",
       "    }\n",
       "</style>\n",
       "<table border=\"1\" class=\"dataframe\">\n",
       "  <thead>\n",
       "    <tr style=\"text-align: right;\">\n",
       "      <th></th>\n",
       "      <th>correct</th>\n",
       "      <th>correct_kbn_name</th>\n",
       "    </tr>\n",
       "  </thead>\n",
       "  <tbody>\n",
       "    <tr>\n",
       "      <th>0</th>\n",
       "      <td>0</td>\n",
       "      <td>訂正以外</td>\n",
       "    </tr>\n",
       "    <tr>\n",
       "      <th>1</th>\n",
       "      <td>1</td>\n",
       "      <td>訂正</td>\n",
       "    </tr>\n",
       "  </tbody>\n",
       "</table>\n",
       "</div>"
      ],
      "text/plain": [
       "  correct correct_kbn_name\n",
       "0       0             訂正以外\n",
       "1       1               訂正"
      ]
     },
     "execution_count": 36,
     "metadata": {},
     "output_type": "execute_result"
    }
   ],
   "source": [
    "mst_correct_kbn = pd.read_csv('data/mst_correct_kbn.csv', encoding='shift-jis', dtype=object)\n",
    "mst_correct_kbn"
   ]
  },
  {
   "cell_type": "code",
   "execution_count": 37,
   "metadata": {
    "id": "pb30UGboVvLj"
   },
   "outputs": [
    {
     "name": "stdout",
     "output_type": "stream",
     "text": [
      "32\n"
     ]
    },
    {
     "data": {
      "text/html": [
       "<div>\n",
       "<style scoped>\n",
       "    .dataframe tbody tr th:only-of-type {\n",
       "        vertical-align: middle;\n",
       "    }\n",
       "\n",
       "    .dataframe tbody tr th {\n",
       "        vertical-align: top;\n",
       "    }\n",
       "\n",
       "    .dataframe thead th {\n",
       "        text-align: right;\n",
       "    }\n",
       "</style>\n",
       "<table border=\"1\" class=\"dataframe\">\n",
       "  <thead>\n",
       "    <tr style=\"text-align: right;\">\n",
       "      <th></th>\n",
       "      <th>sequenceNumber</th>\n",
       "      <th>corporateNumber</th>\n",
       "      <th>process</th>\n",
       "      <th>correct</th>\n",
       "      <th>updateDate</th>\n",
       "      <th>changeDate</th>\n",
       "      <th>name</th>\n",
       "      <th>nameImageId</th>\n",
       "      <th>kind</th>\n",
       "      <th>prefectureName</th>\n",
       "      <th>...</th>\n",
       "      <th>assignmentDate</th>\n",
       "      <th>latest</th>\n",
       "      <th>enName</th>\n",
       "      <th>enPrefectureName</th>\n",
       "      <th>enCityName</th>\n",
       "      <th>enAddressOutside</th>\n",
       "      <th>furigana</th>\n",
       "      <th>hihyoji</th>\n",
       "      <th>process_kbn_name</th>\n",
       "      <th>correct_kbn_name</th>\n",
       "    </tr>\n",
       "  </thead>\n",
       "  <tbody>\n",
       "    <tr>\n",
       "      <th>0</th>\n",
       "      <td>2</td>\n",
       "      <td>1000013050072</td>\n",
       "      <td>01</td>\n",
       "      <td>1</td>\n",
       "      <td>2018-04-02</td>\n",
       "      <td>2015-10-05</td>\n",
       "      <td>清水簡易裁判所</td>\n",
       "      <td>NaN</td>\n",
       "      <td>101</td>\n",
       "      <td>静岡県</td>\n",
       "      <td>...</td>\n",
       "      <td>2015-10-05</td>\n",
       "      <td>1</td>\n",
       "      <td>Shimizu Summary Court</td>\n",
       "      <td>Shizuoka</td>\n",
       "      <td>1-6-15, Tenjin, Shimizu ku, Shizuoka shi</td>\n",
       "      <td>NaN</td>\n",
       "      <td>シミズカンイサイバンショ</td>\n",
       "      <td>0</td>\n",
       "      <td>新規</td>\n",
       "      <td>訂正</td>\n",
       "    </tr>\n",
       "    <tr>\n",
       "      <th>1</th>\n",
       "      <td>3</td>\n",
       "      <td>1000013050080</td>\n",
       "      <td>01</td>\n",
       "      <td>1</td>\n",
       "      <td>2018-04-02</td>\n",
       "      <td>2015-10-05</td>\n",
       "      <td>浜松簡易裁判所</td>\n",
       "      <td>NaN</td>\n",
       "      <td>101</td>\n",
       "      <td>静岡県</td>\n",
       "      <td>...</td>\n",
       "      <td>2015-10-05</td>\n",
       "      <td>1</td>\n",
       "      <td>Hamamatsu Summary Court</td>\n",
       "      <td>Shizuoka</td>\n",
       "      <td>1-12-5, Chuo, Naka ku, Hamamatsu shi</td>\n",
       "      <td>NaN</td>\n",
       "      <td>ハママツカンイサイバンショ</td>\n",
       "      <td>0</td>\n",
       "      <td>新規</td>\n",
       "      <td>訂正</td>\n",
       "    </tr>\n",
       "    <tr>\n",
       "      <th>2</th>\n",
       "      <td>4</td>\n",
       "      <td>1000020222119</td>\n",
       "      <td>01</td>\n",
       "      <td>1</td>\n",
       "      <td>2018-04-05</td>\n",
       "      <td>2015-10-05</td>\n",
       "      <td>磐田市</td>\n",
       "      <td>NaN</td>\n",
       "      <td>201</td>\n",
       "      <td>静岡県</td>\n",
       "      <td>...</td>\n",
       "      <td>2015-10-05</td>\n",
       "      <td>1</td>\n",
       "      <td>Iwata City</td>\n",
       "      <td>Shizuoka</td>\n",
       "      <td>3-1,Kounodai, Iwata shi</td>\n",
       "      <td>NaN</td>\n",
       "      <td>イワタシ</td>\n",
       "      <td>0</td>\n",
       "      <td>新規</td>\n",
       "      <td>訂正</td>\n",
       "    </tr>\n",
       "  </tbody>\n",
       "</table>\n",
       "<p>3 rows × 32 columns</p>\n",
       "</div>"
      ],
      "text/plain": [
       "  sequenceNumber corporateNumber process correct  updateDate  changeDate  \\\n",
       "0              2   1000013050072      01       1  2018-04-02  2015-10-05   \n",
       "1              3   1000013050080      01       1  2018-04-02  2015-10-05   \n",
       "2              4   1000020222119      01       1  2018-04-05  2015-10-05   \n",
       "\n",
       "      name nameImageId kind prefectureName  ... assignmentDate latest  \\\n",
       "0  清水簡易裁判所         NaN  101            静岡県  ...     2015-10-05      1   \n",
       "1  浜松簡易裁判所         NaN  101            静岡県  ...     2015-10-05      1   \n",
       "2      磐田市         NaN  201            静岡県  ...     2015-10-05      1   \n",
       "\n",
       "                    enName enPrefectureName  \\\n",
       "0    Shimizu Summary Court         Shizuoka   \n",
       "1  Hamamatsu Summary Court         Shizuoka   \n",
       "2               Iwata City         Shizuoka   \n",
       "\n",
       "                                 enCityName enAddressOutside       furigana  \\\n",
       "0  1-6-15, Tenjin, Shimizu ku, Shizuoka shi              NaN   シミズカンイサイバンショ   \n",
       "1      1-12-5, Chuo, Naka ku, Hamamatsu shi              NaN  ハママツカンイサイバンショ   \n",
       "2                   3-1,Kounodai, Iwata shi              NaN           イワタシ   \n",
       "\n",
       "  hihyoji process_kbn_name correct_kbn_name  \n",
       "0       0               新規               訂正  \n",
       "1       0               新規               訂正  \n",
       "2       0               新規               訂正  \n",
       "\n",
       "[3 rows x 32 columns]"
      ]
     },
     "execution_count": 37,
     "metadata": {},
     "output_type": "execute_result"
    }
   ],
   "source": [
    "data = data.merge(mst_correct_kbn, on='correct', how='left')\n",
    "print(len(data.columns))\n",
    "data.head(3)"
   ]
  },
  {
   "cell_type": "code",
   "execution_count": 38,
   "metadata": {
    "id": "CjgQzboxiLWz"
   },
   "outputs": [
    {
     "data": {
      "text/html": [
       "<div>\n",
       "<style scoped>\n",
       "    .dataframe tbody tr th:only-of-type {\n",
       "        vertical-align: middle;\n",
       "    }\n",
       "\n",
       "    .dataframe tbody tr th {\n",
       "        vertical-align: top;\n",
       "    }\n",
       "\n",
       "    .dataframe thead th {\n",
       "        text-align: right;\n",
       "    }\n",
       "</style>\n",
       "<table border=\"1\" class=\"dataframe\">\n",
       "  <thead>\n",
       "    <tr style=\"text-align: right;\">\n",
       "      <th></th>\n",
       "      <th>kind</th>\n",
       "      <th>corp_kind_name</th>\n",
       "    </tr>\n",
       "  </thead>\n",
       "  <tbody>\n",
       "    <tr>\n",
       "      <th>0</th>\n",
       "      <td>101</td>\n",
       "      <td>国の機関</td>\n",
       "    </tr>\n",
       "    <tr>\n",
       "      <th>1</th>\n",
       "      <td>201</td>\n",
       "      <td>地方公共団体</td>\n",
       "    </tr>\n",
       "    <tr>\n",
       "      <th>2</th>\n",
       "      <td>301</td>\n",
       "      <td>株式会社</td>\n",
       "    </tr>\n",
       "    <tr>\n",
       "      <th>3</th>\n",
       "      <td>302</td>\n",
       "      <td>有限会社</td>\n",
       "    </tr>\n",
       "    <tr>\n",
       "      <th>4</th>\n",
       "      <td>303</td>\n",
       "      <td>合名会社</td>\n",
       "    </tr>\n",
       "    <tr>\n",
       "      <th>5</th>\n",
       "      <td>304</td>\n",
       "      <td>合資会社</td>\n",
       "    </tr>\n",
       "    <tr>\n",
       "      <th>6</th>\n",
       "      <td>305</td>\n",
       "      <td>合同会社</td>\n",
       "    </tr>\n",
       "    <tr>\n",
       "      <th>7</th>\n",
       "      <td>399</td>\n",
       "      <td>その他の設立登記法人</td>\n",
       "    </tr>\n",
       "    <tr>\n",
       "      <th>8</th>\n",
       "      <td>401</td>\n",
       "      <td>外国会社等</td>\n",
       "    </tr>\n",
       "    <tr>\n",
       "      <th>9</th>\n",
       "      <td>499</td>\n",
       "      <td>その他</td>\n",
       "    </tr>\n",
       "  </tbody>\n",
       "</table>\n",
       "</div>"
      ],
      "text/plain": [
       "  kind corp_kind_name\n",
       "0  101           国の機関\n",
       "1  201         地方公共団体\n",
       "2  301           株式会社\n",
       "3  302           有限会社\n",
       "4  303           合名会社\n",
       "5  304           合資会社\n",
       "6  305           合同会社\n",
       "7  399     その他の設立登記法人\n",
       "8  401          外国会社等\n",
       "9  499            その他"
      ]
     },
     "execution_count": 38,
     "metadata": {},
     "output_type": "execute_result"
    }
   ],
   "source": [
    "mst_corp_kind = pd.read_csv('data/mst_corp_kind.csv', dtype=object)\n",
    "mst_corp_kind"
   ]
  },
  {
   "cell_type": "code",
   "execution_count": 39,
   "metadata": {
    "id": "HqfXFSaoWGTx"
   },
   "outputs": [
    {
     "name": "stdout",
     "output_type": "stream",
     "text": [
      "33\n"
     ]
    },
    {
     "data": {
      "text/html": [
       "<div>\n",
       "<style scoped>\n",
       "    .dataframe tbody tr th:only-of-type {\n",
       "        vertical-align: middle;\n",
       "    }\n",
       "\n",
       "    .dataframe tbody tr th {\n",
       "        vertical-align: top;\n",
       "    }\n",
       "\n",
       "    .dataframe thead th {\n",
       "        text-align: right;\n",
       "    }\n",
       "</style>\n",
       "<table border=\"1\" class=\"dataframe\">\n",
       "  <thead>\n",
       "    <tr style=\"text-align: right;\">\n",
       "      <th></th>\n",
       "      <th>sequenceNumber</th>\n",
       "      <th>corporateNumber</th>\n",
       "      <th>process</th>\n",
       "      <th>correct</th>\n",
       "      <th>updateDate</th>\n",
       "      <th>changeDate</th>\n",
       "      <th>name</th>\n",
       "      <th>nameImageId</th>\n",
       "      <th>kind</th>\n",
       "      <th>prefectureName</th>\n",
       "      <th>...</th>\n",
       "      <th>latest</th>\n",
       "      <th>enName</th>\n",
       "      <th>enPrefectureName</th>\n",
       "      <th>enCityName</th>\n",
       "      <th>enAddressOutside</th>\n",
       "      <th>furigana</th>\n",
       "      <th>hihyoji</th>\n",
       "      <th>process_kbn_name</th>\n",
       "      <th>correct_kbn_name</th>\n",
       "      <th>corp_kind_name</th>\n",
       "    </tr>\n",
       "  </thead>\n",
       "  <tbody>\n",
       "    <tr>\n",
       "      <th>0</th>\n",
       "      <td>2</td>\n",
       "      <td>1000013050072</td>\n",
       "      <td>01</td>\n",
       "      <td>1</td>\n",
       "      <td>2018-04-02</td>\n",
       "      <td>2015-10-05</td>\n",
       "      <td>清水簡易裁判所</td>\n",
       "      <td>NaN</td>\n",
       "      <td>101</td>\n",
       "      <td>静岡県</td>\n",
       "      <td>...</td>\n",
       "      <td>1</td>\n",
       "      <td>Shimizu Summary Court</td>\n",
       "      <td>Shizuoka</td>\n",
       "      <td>1-6-15, Tenjin, Shimizu ku, Shizuoka shi</td>\n",
       "      <td>NaN</td>\n",
       "      <td>シミズカンイサイバンショ</td>\n",
       "      <td>0</td>\n",
       "      <td>新規</td>\n",
       "      <td>訂正</td>\n",
       "      <td>国の機関</td>\n",
       "    </tr>\n",
       "    <tr>\n",
       "      <th>1</th>\n",
       "      <td>3</td>\n",
       "      <td>1000013050080</td>\n",
       "      <td>01</td>\n",
       "      <td>1</td>\n",
       "      <td>2018-04-02</td>\n",
       "      <td>2015-10-05</td>\n",
       "      <td>浜松簡易裁判所</td>\n",
       "      <td>NaN</td>\n",
       "      <td>101</td>\n",
       "      <td>静岡県</td>\n",
       "      <td>...</td>\n",
       "      <td>1</td>\n",
       "      <td>Hamamatsu Summary Court</td>\n",
       "      <td>Shizuoka</td>\n",
       "      <td>1-12-5, Chuo, Naka ku, Hamamatsu shi</td>\n",
       "      <td>NaN</td>\n",
       "      <td>ハママツカンイサイバンショ</td>\n",
       "      <td>0</td>\n",
       "      <td>新規</td>\n",
       "      <td>訂正</td>\n",
       "      <td>国の機関</td>\n",
       "    </tr>\n",
       "    <tr>\n",
       "      <th>2</th>\n",
       "      <td>4</td>\n",
       "      <td>1000020222119</td>\n",
       "      <td>01</td>\n",
       "      <td>1</td>\n",
       "      <td>2018-04-05</td>\n",
       "      <td>2015-10-05</td>\n",
       "      <td>磐田市</td>\n",
       "      <td>NaN</td>\n",
       "      <td>201</td>\n",
       "      <td>静岡県</td>\n",
       "      <td>...</td>\n",
       "      <td>1</td>\n",
       "      <td>Iwata City</td>\n",
       "      <td>Shizuoka</td>\n",
       "      <td>3-1,Kounodai, Iwata shi</td>\n",
       "      <td>NaN</td>\n",
       "      <td>イワタシ</td>\n",
       "      <td>0</td>\n",
       "      <td>新規</td>\n",
       "      <td>訂正</td>\n",
       "      <td>地方公共団体</td>\n",
       "    </tr>\n",
       "  </tbody>\n",
       "</table>\n",
       "<p>3 rows × 33 columns</p>\n",
       "</div>"
      ],
      "text/plain": [
       "  sequenceNumber corporateNumber process correct  updateDate  changeDate  \\\n",
       "0              2   1000013050072      01       1  2018-04-02  2015-10-05   \n",
       "1              3   1000013050080      01       1  2018-04-02  2015-10-05   \n",
       "2              4   1000020222119      01       1  2018-04-05  2015-10-05   \n",
       "\n",
       "      name nameImageId kind prefectureName  ... latest  \\\n",
       "0  清水簡易裁判所         NaN  101            静岡県  ...      1   \n",
       "1  浜松簡易裁判所         NaN  101            静岡県  ...      1   \n",
       "2      磐田市         NaN  201            静岡県  ...      1   \n",
       "\n",
       "                    enName enPrefectureName  \\\n",
       "0    Shimizu Summary Court         Shizuoka   \n",
       "1  Hamamatsu Summary Court         Shizuoka   \n",
       "2               Iwata City         Shizuoka   \n",
       "\n",
       "                                 enCityName enAddressOutside       furigana  \\\n",
       "0  1-6-15, Tenjin, Shimizu ku, Shizuoka shi              NaN   シミズカンイサイバンショ   \n",
       "1      1-12-5, Chuo, Naka ku, Hamamatsu shi              NaN  ハママツカンイサイバンショ   \n",
       "2                   3-1,Kounodai, Iwata shi              NaN           イワタシ   \n",
       "\n",
       "  hihyoji process_kbn_name correct_kbn_name corp_kind_name  \n",
       "0       0               新規               訂正           国の機関  \n",
       "1       0               新規               訂正           国の機関  \n",
       "2       0               新規               訂正         地方公共団体  \n",
       "\n",
       "[3 rows x 33 columns]"
      ]
     },
     "execution_count": 39,
     "metadata": {},
     "output_type": "execute_result"
    }
   ],
   "source": [
    "data = data.merge(mst_corp_kind, on='kind', how='left')\n",
    "print(len(data.columns))\n",
    "data.head(3)"
   ]
  },
  {
   "cell_type": "code",
   "execution_count": 40,
   "metadata": {
    "id": "6CJqDq2iQtf2"
   },
   "outputs": [
    {
     "data": {
      "text/html": [
       "<div>\n",
       "<style scoped>\n",
       "    .dataframe tbody tr th:only-of-type {\n",
       "        vertical-align: middle;\n",
       "    }\n",
       "\n",
       "    .dataframe tbody tr th {\n",
       "        vertical-align: top;\n",
       "    }\n",
       "\n",
       "    .dataframe thead th {\n",
       "        text-align: right;\n",
       "    }\n",
       "</style>\n",
       "<table border=\"1\" class=\"dataframe\">\n",
       "  <thead>\n",
       "    <tr style=\"text-align: right;\">\n",
       "      <th></th>\n",
       "      <th>closeCause</th>\n",
       "      <th>closeCause_name</th>\n",
       "    </tr>\n",
       "  </thead>\n",
       "  <tbody>\n",
       "    <tr>\n",
       "      <th>0</th>\n",
       "      <td>01</td>\n",
       "      <td>清算の結了等</td>\n",
       "    </tr>\n",
       "    <tr>\n",
       "      <th>1</th>\n",
       "      <td>11</td>\n",
       "      <td>合併による解散等</td>\n",
       "    </tr>\n",
       "    <tr>\n",
       "      <th>2</th>\n",
       "      <td>21</td>\n",
       "      <td>登記官による閉鎖</td>\n",
       "    </tr>\n",
       "    <tr>\n",
       "      <th>3</th>\n",
       "      <td>31</td>\n",
       "      <td>その他の清算の結了等</td>\n",
       "    </tr>\n",
       "  </tbody>\n",
       "</table>\n",
       "</div>"
      ],
      "text/plain": [
       "  closeCause closeCause_name\n",
       "0         01          清算の結了等\n",
       "1         11        合併による解散等\n",
       "2         21        登記官による閉鎖\n",
       "3         31      その他の清算の結了等"
      ]
     },
     "execution_count": 40,
     "metadata": {},
     "output_type": "execute_result"
    }
   ],
   "source": [
    "mst_close_cause = pd.read_csv('data/mst_closeCause.csv', dtype=object)\n",
    "mst_close_cause"
   ]
  },
  {
   "cell_type": "code",
   "execution_count": 41,
   "metadata": {
    "id": "gQC3_PosiLTD"
   },
   "outputs": [
    {
     "name": "stdout",
     "output_type": "stream",
     "text": [
      "34\n"
     ]
    },
    {
     "data": {
      "text/html": [
       "<div>\n",
       "<style scoped>\n",
       "    .dataframe tbody tr th:only-of-type {\n",
       "        vertical-align: middle;\n",
       "    }\n",
       "\n",
       "    .dataframe tbody tr th {\n",
       "        vertical-align: top;\n",
       "    }\n",
       "\n",
       "    .dataframe thead th {\n",
       "        text-align: right;\n",
       "    }\n",
       "</style>\n",
       "<table border=\"1\" class=\"dataframe\">\n",
       "  <thead>\n",
       "    <tr style=\"text-align: right;\">\n",
       "      <th></th>\n",
       "      <th>sequenceNumber</th>\n",
       "      <th>corporateNumber</th>\n",
       "      <th>process</th>\n",
       "      <th>correct</th>\n",
       "      <th>updateDate</th>\n",
       "      <th>changeDate</th>\n",
       "      <th>name</th>\n",
       "      <th>nameImageId</th>\n",
       "      <th>kind</th>\n",
       "      <th>prefectureName</th>\n",
       "      <th>...</th>\n",
       "      <th>enName</th>\n",
       "      <th>enPrefectureName</th>\n",
       "      <th>enCityName</th>\n",
       "      <th>enAddressOutside</th>\n",
       "      <th>furigana</th>\n",
       "      <th>hihyoji</th>\n",
       "      <th>process_kbn_name</th>\n",
       "      <th>correct_kbn_name</th>\n",
       "      <th>corp_kind_name</th>\n",
       "      <th>closeCause_name</th>\n",
       "    </tr>\n",
       "  </thead>\n",
       "  <tbody>\n",
       "    <tr>\n",
       "      <th>0</th>\n",
       "      <td>2</td>\n",
       "      <td>1000013050072</td>\n",
       "      <td>01</td>\n",
       "      <td>1</td>\n",
       "      <td>2018-04-02</td>\n",
       "      <td>2015-10-05</td>\n",
       "      <td>清水簡易裁判所</td>\n",
       "      <td>NaN</td>\n",
       "      <td>101</td>\n",
       "      <td>静岡県</td>\n",
       "      <td>...</td>\n",
       "      <td>Shimizu Summary Court</td>\n",
       "      <td>Shizuoka</td>\n",
       "      <td>1-6-15, Tenjin, Shimizu ku, Shizuoka shi</td>\n",
       "      <td>NaN</td>\n",
       "      <td>シミズカンイサイバンショ</td>\n",
       "      <td>0</td>\n",
       "      <td>新規</td>\n",
       "      <td>訂正</td>\n",
       "      <td>国の機関</td>\n",
       "      <td>NaN</td>\n",
       "    </tr>\n",
       "    <tr>\n",
       "      <th>1</th>\n",
       "      <td>3</td>\n",
       "      <td>1000013050080</td>\n",
       "      <td>01</td>\n",
       "      <td>1</td>\n",
       "      <td>2018-04-02</td>\n",
       "      <td>2015-10-05</td>\n",
       "      <td>浜松簡易裁判所</td>\n",
       "      <td>NaN</td>\n",
       "      <td>101</td>\n",
       "      <td>静岡県</td>\n",
       "      <td>...</td>\n",
       "      <td>Hamamatsu Summary Court</td>\n",
       "      <td>Shizuoka</td>\n",
       "      <td>1-12-5, Chuo, Naka ku, Hamamatsu shi</td>\n",
       "      <td>NaN</td>\n",
       "      <td>ハママツカンイサイバンショ</td>\n",
       "      <td>0</td>\n",
       "      <td>新規</td>\n",
       "      <td>訂正</td>\n",
       "      <td>国の機関</td>\n",
       "      <td>NaN</td>\n",
       "    </tr>\n",
       "    <tr>\n",
       "      <th>2</th>\n",
       "      <td>4</td>\n",
       "      <td>1000020222119</td>\n",
       "      <td>01</td>\n",
       "      <td>1</td>\n",
       "      <td>2018-04-05</td>\n",
       "      <td>2015-10-05</td>\n",
       "      <td>磐田市</td>\n",
       "      <td>NaN</td>\n",
       "      <td>201</td>\n",
       "      <td>静岡県</td>\n",
       "      <td>...</td>\n",
       "      <td>Iwata City</td>\n",
       "      <td>Shizuoka</td>\n",
       "      <td>3-1,Kounodai, Iwata shi</td>\n",
       "      <td>NaN</td>\n",
       "      <td>イワタシ</td>\n",
       "      <td>0</td>\n",
       "      <td>新規</td>\n",
       "      <td>訂正</td>\n",
       "      <td>地方公共団体</td>\n",
       "      <td>NaN</td>\n",
       "    </tr>\n",
       "  </tbody>\n",
       "</table>\n",
       "<p>3 rows × 34 columns</p>\n",
       "</div>"
      ],
      "text/plain": [
       "  sequenceNumber corporateNumber process correct  updateDate  changeDate  \\\n",
       "0              2   1000013050072      01       1  2018-04-02  2015-10-05   \n",
       "1              3   1000013050080      01       1  2018-04-02  2015-10-05   \n",
       "2              4   1000020222119      01       1  2018-04-05  2015-10-05   \n",
       "\n",
       "      name nameImageId kind prefectureName  ...                   enName  \\\n",
       "0  清水簡易裁判所         NaN  101            静岡県  ...    Shimizu Summary Court   \n",
       "1  浜松簡易裁判所         NaN  101            静岡県  ...  Hamamatsu Summary Court   \n",
       "2      磐田市         NaN  201            静岡県  ...               Iwata City   \n",
       "\n",
       "  enPrefectureName                                enCityName enAddressOutside  \\\n",
       "0         Shizuoka  1-6-15, Tenjin, Shimizu ku, Shizuoka shi              NaN   \n",
       "1         Shizuoka      1-12-5, Chuo, Naka ku, Hamamatsu shi              NaN   \n",
       "2         Shizuoka                   3-1,Kounodai, Iwata shi              NaN   \n",
       "\n",
       "        furigana hihyoji process_kbn_name correct_kbn_name corp_kind_name  \\\n",
       "0   シミズカンイサイバンショ       0               新規               訂正           国の機関   \n",
       "1  ハママツカンイサイバンショ       0               新規               訂正           国の機関   \n",
       "2           イワタシ       0               新規               訂正         地方公共団体   \n",
       "\n",
       "  closeCause_name  \n",
       "0             NaN  \n",
       "1             NaN  \n",
       "2             NaN  \n",
       "\n",
       "[3 rows x 34 columns]"
      ]
     },
     "execution_count": 41,
     "metadata": {},
     "output_type": "execute_result"
    }
   ],
   "source": [
    "data = data.merge(mst_close_cause, on='closeCause', how='left')\n",
    "print(len(data.columns))\n",
    "data.head(3)"
   ]
  },
  {
   "cell_type": "code",
   "execution_count": 42,
   "metadata": {
    "id": "5fqJ4wDIi6Oe"
   },
   "outputs": [
    {
     "data": {
      "text/html": [
       "<div>\n",
       "<style scoped>\n",
       "    .dataframe tbody tr th:only-of-type {\n",
       "        vertical-align: middle;\n",
       "    }\n",
       "\n",
       "    .dataframe tbody tr th {\n",
       "        vertical-align: top;\n",
       "    }\n",
       "\n",
       "    .dataframe thead th {\n",
       "        text-align: right;\n",
       "    }\n",
       "</style>\n",
       "<table border=\"1\" class=\"dataframe\">\n",
       "  <thead>\n",
       "    <tr style=\"text-align: right;\">\n",
       "      <th></th>\n",
       "      <th>latest</th>\n",
       "      <th>latest_name</th>\n",
       "    </tr>\n",
       "  </thead>\n",
       "  <tbody>\n",
       "    <tr>\n",
       "      <th>0</th>\n",
       "      <td>0</td>\n",
       "      <td>過去情報</td>\n",
       "    </tr>\n",
       "    <tr>\n",
       "      <th>1</th>\n",
       "      <td>1</td>\n",
       "      <td>最新情報</td>\n",
       "    </tr>\n",
       "  </tbody>\n",
       "</table>\n",
       "</div>"
      ],
      "text/plain": [
       "  latest latest_name\n",
       "0      0        過去情報\n",
       "1      1        最新情報"
      ]
     },
     "execution_count": 42,
     "metadata": {},
     "output_type": "execute_result"
    }
   ],
   "source": [
    "mst_latest = pd.read_csv('data/mst_latest.csv', dtype=object)\n",
    "mst_latest"
   ]
  },
  {
   "cell_type": "code",
   "execution_count": 43,
   "metadata": {
    "id": "dmW_80f__Uqa"
   },
   "outputs": [
    {
     "name": "stdout",
     "output_type": "stream",
     "text": [
      "35\n"
     ]
    },
    {
     "data": {
      "text/html": [
       "<div>\n",
       "<style scoped>\n",
       "    .dataframe tbody tr th:only-of-type {\n",
       "        vertical-align: middle;\n",
       "    }\n",
       "\n",
       "    .dataframe tbody tr th {\n",
       "        vertical-align: top;\n",
       "    }\n",
       "\n",
       "    .dataframe thead th {\n",
       "        text-align: right;\n",
       "    }\n",
       "</style>\n",
       "<table border=\"1\" class=\"dataframe\">\n",
       "  <thead>\n",
       "    <tr style=\"text-align: right;\">\n",
       "      <th></th>\n",
       "      <th>sequenceNumber</th>\n",
       "      <th>corporateNumber</th>\n",
       "      <th>process</th>\n",
       "      <th>correct</th>\n",
       "      <th>updateDate</th>\n",
       "      <th>changeDate</th>\n",
       "      <th>name</th>\n",
       "      <th>nameImageId</th>\n",
       "      <th>kind</th>\n",
       "      <th>prefectureName</th>\n",
       "      <th>...</th>\n",
       "      <th>enPrefectureName</th>\n",
       "      <th>enCityName</th>\n",
       "      <th>enAddressOutside</th>\n",
       "      <th>furigana</th>\n",
       "      <th>hihyoji</th>\n",
       "      <th>process_kbn_name</th>\n",
       "      <th>correct_kbn_name</th>\n",
       "      <th>corp_kind_name</th>\n",
       "      <th>closeCause_name</th>\n",
       "      <th>latest_name</th>\n",
       "    </tr>\n",
       "  </thead>\n",
       "  <tbody>\n",
       "    <tr>\n",
       "      <th>0</th>\n",
       "      <td>2</td>\n",
       "      <td>1000013050072</td>\n",
       "      <td>01</td>\n",
       "      <td>1</td>\n",
       "      <td>2018-04-02</td>\n",
       "      <td>2015-10-05</td>\n",
       "      <td>清水簡易裁判所</td>\n",
       "      <td>NaN</td>\n",
       "      <td>101</td>\n",
       "      <td>静岡県</td>\n",
       "      <td>...</td>\n",
       "      <td>Shizuoka</td>\n",
       "      <td>1-6-15, Tenjin, Shimizu ku, Shizuoka shi</td>\n",
       "      <td>NaN</td>\n",
       "      <td>シミズカンイサイバンショ</td>\n",
       "      <td>0</td>\n",
       "      <td>新規</td>\n",
       "      <td>訂正</td>\n",
       "      <td>国の機関</td>\n",
       "      <td>NaN</td>\n",
       "      <td>最新情報</td>\n",
       "    </tr>\n",
       "    <tr>\n",
       "      <th>1</th>\n",
       "      <td>3</td>\n",
       "      <td>1000013050080</td>\n",
       "      <td>01</td>\n",
       "      <td>1</td>\n",
       "      <td>2018-04-02</td>\n",
       "      <td>2015-10-05</td>\n",
       "      <td>浜松簡易裁判所</td>\n",
       "      <td>NaN</td>\n",
       "      <td>101</td>\n",
       "      <td>静岡県</td>\n",
       "      <td>...</td>\n",
       "      <td>Shizuoka</td>\n",
       "      <td>1-12-5, Chuo, Naka ku, Hamamatsu shi</td>\n",
       "      <td>NaN</td>\n",
       "      <td>ハママツカンイサイバンショ</td>\n",
       "      <td>0</td>\n",
       "      <td>新規</td>\n",
       "      <td>訂正</td>\n",
       "      <td>国の機関</td>\n",
       "      <td>NaN</td>\n",
       "      <td>最新情報</td>\n",
       "    </tr>\n",
       "    <tr>\n",
       "      <th>2</th>\n",
       "      <td>4</td>\n",
       "      <td>1000020222119</td>\n",
       "      <td>01</td>\n",
       "      <td>1</td>\n",
       "      <td>2018-04-05</td>\n",
       "      <td>2015-10-05</td>\n",
       "      <td>磐田市</td>\n",
       "      <td>NaN</td>\n",
       "      <td>201</td>\n",
       "      <td>静岡県</td>\n",
       "      <td>...</td>\n",
       "      <td>Shizuoka</td>\n",
       "      <td>3-1,Kounodai, Iwata shi</td>\n",
       "      <td>NaN</td>\n",
       "      <td>イワタシ</td>\n",
       "      <td>0</td>\n",
       "      <td>新規</td>\n",
       "      <td>訂正</td>\n",
       "      <td>地方公共団体</td>\n",
       "      <td>NaN</td>\n",
       "      <td>最新情報</td>\n",
       "    </tr>\n",
       "  </tbody>\n",
       "</table>\n",
       "<p>3 rows × 35 columns</p>\n",
       "</div>"
      ],
      "text/plain": [
       "  sequenceNumber corporateNumber process correct  updateDate  changeDate  \\\n",
       "0              2   1000013050072      01       1  2018-04-02  2015-10-05   \n",
       "1              3   1000013050080      01       1  2018-04-02  2015-10-05   \n",
       "2              4   1000020222119      01       1  2018-04-05  2015-10-05   \n",
       "\n",
       "      name nameImageId kind prefectureName  ... enPrefectureName  \\\n",
       "0  清水簡易裁判所         NaN  101            静岡県  ...         Shizuoka   \n",
       "1  浜松簡易裁判所         NaN  101            静岡県  ...         Shizuoka   \n",
       "2      磐田市         NaN  201            静岡県  ...         Shizuoka   \n",
       "\n",
       "                                 enCityName enAddressOutside       furigana  \\\n",
       "0  1-6-15, Tenjin, Shimizu ku, Shizuoka shi              NaN   シミズカンイサイバンショ   \n",
       "1      1-12-5, Chuo, Naka ku, Hamamatsu shi              NaN  ハママツカンイサイバンショ   \n",
       "2                   3-1,Kounodai, Iwata shi              NaN           イワタシ   \n",
       "\n",
       "  hihyoji process_kbn_name correct_kbn_name corp_kind_name closeCause_name  \\\n",
       "0       0               新規               訂正           国の機関             NaN   \n",
       "1       0               新規               訂正           国の機関             NaN   \n",
       "2       0               新規               訂正         地方公共団体             NaN   \n",
       "\n",
       "  latest_name  \n",
       "0        最新情報  \n",
       "1        最新情報  \n",
       "2        最新情報  \n",
       "\n",
       "[3 rows x 35 columns]"
      ]
     },
     "execution_count": 43,
     "metadata": {},
     "output_type": "execute_result"
    }
   ],
   "source": [
    "data = data.merge(mst_latest, on='latest', how='left')\n",
    "print(len(data.columns))\n",
    "data.head(3)"
   ]
  },
  {
   "cell_type": "code",
   "execution_count": 44,
   "metadata": {
    "id": "rqEjlChui6L6"
   },
   "outputs": [
    {
     "data": {
      "text/html": [
       "<div>\n",
       "<style scoped>\n",
       "    .dataframe tbody tr th:only-of-type {\n",
       "        vertical-align: middle;\n",
       "    }\n",
       "\n",
       "    .dataframe tbody tr th {\n",
       "        vertical-align: top;\n",
       "    }\n",
       "\n",
       "    .dataframe thead th {\n",
       "        text-align: right;\n",
       "    }\n",
       "</style>\n",
       "<table border=\"1\" class=\"dataframe\">\n",
       "  <thead>\n",
       "    <tr style=\"text-align: right;\">\n",
       "      <th></th>\n",
       "      <th>hihyoji</th>\n",
       "      <th>hihyoji_name</th>\n",
       "    </tr>\n",
       "  </thead>\n",
       "  <tbody>\n",
       "    <tr>\n",
       "      <th>0</th>\n",
       "      <td>0</td>\n",
       "      <td>検索対象</td>\n",
       "    </tr>\n",
       "    <tr>\n",
       "      <th>1</th>\n",
       "      <td>1</td>\n",
       "      <td>検索対象除外</td>\n",
       "    </tr>\n",
       "  </tbody>\n",
       "</table>\n",
       "</div>"
      ],
      "text/plain": [
       "  hihyoji hihyoji_name\n",
       "0       0         検索対象\n",
       "1       1       検索対象除外"
      ]
     },
     "execution_count": 44,
     "metadata": {},
     "output_type": "execute_result"
    }
   ],
   "source": [
    "mst_hihyoji = pd.read_csv('data/mst_hihyoji.csv', dtype=object)\n",
    "mst_hihyoji"
   ]
  },
  {
   "cell_type": "code",
   "execution_count": 45,
   "metadata": {
    "id": "KzDF_WOH-3iH"
   },
   "outputs": [
    {
     "name": "stdout",
     "output_type": "stream",
     "text": [
      "36\n"
     ]
    },
    {
     "data": {
      "text/html": [
       "<div>\n",
       "<style scoped>\n",
       "    .dataframe tbody tr th:only-of-type {\n",
       "        vertical-align: middle;\n",
       "    }\n",
       "\n",
       "    .dataframe tbody tr th {\n",
       "        vertical-align: top;\n",
       "    }\n",
       "\n",
       "    .dataframe thead th {\n",
       "        text-align: right;\n",
       "    }\n",
       "</style>\n",
       "<table border=\"1\" class=\"dataframe\">\n",
       "  <thead>\n",
       "    <tr style=\"text-align: right;\">\n",
       "      <th></th>\n",
       "      <th>sequenceNumber</th>\n",
       "      <th>corporateNumber</th>\n",
       "      <th>process</th>\n",
       "      <th>correct</th>\n",
       "      <th>updateDate</th>\n",
       "      <th>changeDate</th>\n",
       "      <th>name</th>\n",
       "      <th>nameImageId</th>\n",
       "      <th>kind</th>\n",
       "      <th>prefectureName</th>\n",
       "      <th>...</th>\n",
       "      <th>enCityName</th>\n",
       "      <th>enAddressOutside</th>\n",
       "      <th>furigana</th>\n",
       "      <th>hihyoji</th>\n",
       "      <th>process_kbn_name</th>\n",
       "      <th>correct_kbn_name</th>\n",
       "      <th>corp_kind_name</th>\n",
       "      <th>closeCause_name</th>\n",
       "      <th>latest_name</th>\n",
       "      <th>hihyoji_name</th>\n",
       "    </tr>\n",
       "  </thead>\n",
       "  <tbody>\n",
       "    <tr>\n",
       "      <th>0</th>\n",
       "      <td>2</td>\n",
       "      <td>1000013050072</td>\n",
       "      <td>01</td>\n",
       "      <td>1</td>\n",
       "      <td>2018-04-02</td>\n",
       "      <td>2015-10-05</td>\n",
       "      <td>清水簡易裁判所</td>\n",
       "      <td>NaN</td>\n",
       "      <td>101</td>\n",
       "      <td>静岡県</td>\n",
       "      <td>...</td>\n",
       "      <td>1-6-15, Tenjin, Shimizu ku, Shizuoka shi</td>\n",
       "      <td>NaN</td>\n",
       "      <td>シミズカンイサイバンショ</td>\n",
       "      <td>0</td>\n",
       "      <td>新規</td>\n",
       "      <td>訂正</td>\n",
       "      <td>国の機関</td>\n",
       "      <td>NaN</td>\n",
       "      <td>最新情報</td>\n",
       "      <td>検索対象</td>\n",
       "    </tr>\n",
       "    <tr>\n",
       "      <th>1</th>\n",
       "      <td>3</td>\n",
       "      <td>1000013050080</td>\n",
       "      <td>01</td>\n",
       "      <td>1</td>\n",
       "      <td>2018-04-02</td>\n",
       "      <td>2015-10-05</td>\n",
       "      <td>浜松簡易裁判所</td>\n",
       "      <td>NaN</td>\n",
       "      <td>101</td>\n",
       "      <td>静岡県</td>\n",
       "      <td>...</td>\n",
       "      <td>1-12-5, Chuo, Naka ku, Hamamatsu shi</td>\n",
       "      <td>NaN</td>\n",
       "      <td>ハママツカンイサイバンショ</td>\n",
       "      <td>0</td>\n",
       "      <td>新規</td>\n",
       "      <td>訂正</td>\n",
       "      <td>国の機関</td>\n",
       "      <td>NaN</td>\n",
       "      <td>最新情報</td>\n",
       "      <td>検索対象</td>\n",
       "    </tr>\n",
       "    <tr>\n",
       "      <th>2</th>\n",
       "      <td>4</td>\n",
       "      <td>1000020222119</td>\n",
       "      <td>01</td>\n",
       "      <td>1</td>\n",
       "      <td>2018-04-05</td>\n",
       "      <td>2015-10-05</td>\n",
       "      <td>磐田市</td>\n",
       "      <td>NaN</td>\n",
       "      <td>201</td>\n",
       "      <td>静岡県</td>\n",
       "      <td>...</td>\n",
       "      <td>3-1,Kounodai, Iwata shi</td>\n",
       "      <td>NaN</td>\n",
       "      <td>イワタシ</td>\n",
       "      <td>0</td>\n",
       "      <td>新規</td>\n",
       "      <td>訂正</td>\n",
       "      <td>地方公共団体</td>\n",
       "      <td>NaN</td>\n",
       "      <td>最新情報</td>\n",
       "      <td>検索対象</td>\n",
       "    </tr>\n",
       "  </tbody>\n",
       "</table>\n",
       "<p>3 rows × 36 columns</p>\n",
       "</div>"
      ],
      "text/plain": [
       "  sequenceNumber corporateNumber process correct  updateDate  changeDate  \\\n",
       "0              2   1000013050072      01       1  2018-04-02  2015-10-05   \n",
       "1              3   1000013050080      01       1  2018-04-02  2015-10-05   \n",
       "2              4   1000020222119      01       1  2018-04-05  2015-10-05   \n",
       "\n",
       "      name nameImageId kind prefectureName  ...  \\\n",
       "0  清水簡易裁判所         NaN  101            静岡県  ...   \n",
       "1  浜松簡易裁判所         NaN  101            静岡県  ...   \n",
       "2      磐田市         NaN  201            静岡県  ...   \n",
       "\n",
       "                                 enCityName enAddressOutside       furigana  \\\n",
       "0  1-6-15, Tenjin, Shimizu ku, Shizuoka shi              NaN   シミズカンイサイバンショ   \n",
       "1      1-12-5, Chuo, Naka ku, Hamamatsu shi              NaN  ハママツカンイサイバンショ   \n",
       "2                   3-1,Kounodai, Iwata shi              NaN           イワタシ   \n",
       "\n",
       "  hihyoji process_kbn_name correct_kbn_name corp_kind_name closeCause_name  \\\n",
       "0       0               新規               訂正           国の機関             NaN   \n",
       "1       0               新規               訂正           国の機関             NaN   \n",
       "2       0               新規               訂正         地方公共団体             NaN   \n",
       "\n",
       "  latest_name hihyoji_name  \n",
       "0        最新情報         検索対象  \n",
       "1        最新情報         検索対象  \n",
       "2        最新情報         検索対象  \n",
       "\n",
       "[3 rows x 36 columns]"
      ]
     },
     "execution_count": 45,
     "metadata": {},
     "output_type": "execute_result"
    }
   ],
   "source": [
    "data = data.merge(mst_hihyoji, on='hihyoji', how='left')\n",
    "print(len(data.columns))\n",
    "data.head(3)"
   ]
  },
  {
   "cell_type": "markdown",
   "metadata": {
    "id": "9K0jraNW615H"
   },
   "source": [
    "## ノック８：テキストの連結や分割をしよう"
   ]
  },
  {
   "cell_type": "markdown",
   "metadata": {},
   "source": [
    "### addressの列に、県名、市町村名、番地を結合したものを入れる"
   ]
  },
  {
   "cell_type": "code",
   "execution_count": 46,
   "metadata": {
    "id": "tAY0PgnG7Two"
   },
   "outputs": [
    {
     "name": "stdout",
     "output_type": "stream",
     "text": [
      "       prefectureName cityName  streetNumber\n",
      "0                 静岡県   静岡市清水区     天神１丁目６−１５\n",
      "1                 静岡県    浜松市中区     中央１丁目１２−５\n",
      "2                 静岡県      磐田市        国府台３−１\n",
      "3                 静岡県      焼津市    本町２丁目１６−３２\n",
      "4                 静岡県      掛川市    長谷１丁目１番地の１\n",
      "...               ...      ...           ...\n",
      "114752            静岡県    静岡市葵区     太田町１４番地の４\n",
      "114753            静岡県      沼津市    大岡２５５番地の１５\n",
      "114754            静岡県    伊豆の国市    奈古谷６６３番地の２\n",
      "114755            静岡県    浜松市南区    下江町４５６番地の１\n",
      "114756            静岡県    浜松市西区  大人見町３３７４番地の１\n",
      "\n",
      "[114757 rows x 3 columns]\n"
     ]
    },
    {
     "data": {
      "text/plain": [
       "prefectureName     0\n",
       "cityName           0\n",
       "streetNumber      17\n",
       "dtype: int64"
      ]
     },
     "execution_count": 46,
     "metadata": {},
     "output_type": "execute_result"
    }
   ],
   "source": [
    "print(data[['prefectureName', 'cityName', 'streetNumber']])\n",
    "data[['prefectureName', 'cityName', 'streetNumber']].isna().sum()"
   ]
  },
  {
   "cell_type": "code",
   "execution_count": 47,
   "metadata": {
    "id": "L5X2wDCPws7j"
   },
   "outputs": [
    {
     "name": "stdout",
     "output_type": "stream",
     "text": [
      "37\n"
     ]
    }
   ],
   "source": [
    "data[\"address\"] =  data['prefectureName'] + data['cityName'] + data['streetNumber']\n",
    "print(len(data.columns))"
   ]
  },
  {
   "cell_type": "code",
   "execution_count": 48,
   "metadata": {
    "id": "ExieiuWXxrAX"
   },
   "outputs": [
    {
     "data": {
      "text/html": [
       "<div>\n",
       "<style scoped>\n",
       "    .dataframe tbody tr th:only-of-type {\n",
       "        vertical-align: middle;\n",
       "    }\n",
       "\n",
       "    .dataframe tbody tr th {\n",
       "        vertical-align: top;\n",
       "    }\n",
       "\n",
       "    .dataframe thead th {\n",
       "        text-align: right;\n",
       "    }\n",
       "</style>\n",
       "<table border=\"1\" class=\"dataframe\">\n",
       "  <thead>\n",
       "    <tr style=\"text-align: right;\">\n",
       "      <th></th>\n",
       "      <th>sequenceNumber</th>\n",
       "      <th>corporateNumber</th>\n",
       "      <th>process</th>\n",
       "      <th>correct</th>\n",
       "      <th>updateDate</th>\n",
       "      <th>changeDate</th>\n",
       "      <th>name</th>\n",
       "      <th>nameImageId</th>\n",
       "      <th>kind</th>\n",
       "      <th>prefectureName</th>\n",
       "      <th>...</th>\n",
       "      <th>enAddressOutside</th>\n",
       "      <th>furigana</th>\n",
       "      <th>hihyoji</th>\n",
       "      <th>process_kbn_name</th>\n",
       "      <th>correct_kbn_name</th>\n",
       "      <th>corp_kind_name</th>\n",
       "      <th>closeCause_name</th>\n",
       "      <th>latest_name</th>\n",
       "      <th>hihyoji_name</th>\n",
       "      <th>address</th>\n",
       "    </tr>\n",
       "  </thead>\n",
       "  <tbody>\n",
       "    <tr>\n",
       "      <th>3897</th>\n",
       "      <td>3909</td>\n",
       "      <td>1080005006629</td>\n",
       "      <td>01</td>\n",
       "      <td>0</td>\n",
       "      <td>2015-11-13</td>\n",
       "      <td>2015-10-05</td>\n",
       "      <td>保証責任尾羽愛郷負債整理組合</td>\n",
       "      <td>NaN</td>\n",
       "      <td>399</td>\n",
       "      <td>静岡県</td>\n",
       "      <td>...</td>\n",
       "      <td>NaN</td>\n",
       "      <td>NaN</td>\n",
       "      <td>1</td>\n",
       "      <td>新規</td>\n",
       "      <td>訂正以外</td>\n",
       "      <td>その他の設立登記法人</td>\n",
       "      <td>NaN</td>\n",
       "      <td>最新情報</td>\n",
       "      <td>検索対象除外</td>\n",
       "      <td>NaN</td>\n",
       "    </tr>\n",
       "    <tr>\n",
       "      <th>16620</th>\n",
       "      <td>16657</td>\n",
       "      <td>2080005006628</td>\n",
       "      <td>01</td>\n",
       "      <td>0</td>\n",
       "      <td>2015-11-13</td>\n",
       "      <td>2015-10-05</td>\n",
       "      <td>保証責任原下河原負債整理組合</td>\n",
       "      <td>NaN</td>\n",
       "      <td>399</td>\n",
       "      <td>静岡県</td>\n",
       "      <td>...</td>\n",
       "      <td>NaN</td>\n",
       "      <td>NaN</td>\n",
       "      <td>1</td>\n",
       "      <td>新規</td>\n",
       "      <td>訂正以外</td>\n",
       "      <td>その他の設立登記法人</td>\n",
       "      <td>NaN</td>\n",
       "      <td>最新情報</td>\n",
       "      <td>検索対象除外</td>\n",
       "      <td>NaN</td>\n",
       "    </tr>\n",
       "    <tr>\n",
       "      <th>20847</th>\n",
       "      <td>20889</td>\n",
       "      <td>2080105004250</td>\n",
       "      <td>01</td>\n",
       "      <td>1</td>\n",
       "      <td>2019-07-05</td>\n",
       "      <td>2015-10-05</td>\n",
       "      <td>保證責任對島村負債整理組合</td>\n",
       "      <td>NaN</td>\n",
       "      <td>399</td>\n",
       "      <td>静岡県</td>\n",
       "      <td>...</td>\n",
       "      <td>NaN</td>\n",
       "      <td>ホショウセキニンタジマムラフサイセイリクミアイ</td>\n",
       "      <td>1</td>\n",
       "      <td>新規</td>\n",
       "      <td>訂正</td>\n",
       "      <td>その他の設立登記法人</td>\n",
       "      <td>NaN</td>\n",
       "      <td>最新情報</td>\n",
       "      <td>検索対象除外</td>\n",
       "      <td>NaN</td>\n",
       "    </tr>\n",
       "  </tbody>\n",
       "</table>\n",
       "<p>3 rows × 37 columns</p>\n",
       "</div>"
      ],
      "text/plain": [
       "      sequenceNumber corporateNumber process correct  updateDate  changeDate  \\\n",
       "3897            3909   1080005006629      01       0  2015-11-13  2015-10-05   \n",
       "16620          16657   2080005006628      01       0  2015-11-13  2015-10-05   \n",
       "20847          20889   2080105004250      01       1  2019-07-05  2015-10-05   \n",
       "\n",
       "                 name nameImageId kind prefectureName  ... enAddressOutside  \\\n",
       "3897   保証責任尾羽愛郷負債整理組合         NaN  399            静岡県  ...              NaN   \n",
       "16620  保証責任原下河原負債整理組合         NaN  399            静岡県  ...              NaN   \n",
       "20847   保證責任對島村負債整理組合         NaN  399            静岡県  ...              NaN   \n",
       "\n",
       "                      furigana hihyoji process_kbn_name correct_kbn_name  \\\n",
       "3897                       NaN       1               新規             訂正以外   \n",
       "16620                      NaN       1               新規             訂正以外   \n",
       "20847  ホショウセキニンタジマムラフサイセイリクミアイ       1               新規               訂正   \n",
       "\n",
       "      corp_kind_name closeCause_name latest_name hihyoji_name address  \n",
       "3897      その他の設立登記法人             NaN        最新情報       検索対象除外     NaN  \n",
       "16620     その他の設立登記法人             NaN        最新情報       検索対象除外     NaN  \n",
       "20847     その他の設立登記法人             NaN        最新情報       検索対象除外     NaN  \n",
       "\n",
       "[3 rows x 37 columns]"
      ]
     },
     "execution_count": 48,
     "metadata": {},
     "output_type": "execute_result"
    }
   ],
   "source": [
    "data.loc[data['streetNumber'].isna()].head(3)"
   ]
  },
  {
   "cell_type": "code",
   "execution_count": 49,
   "metadata": {
    "id": "Rssx-kkDxrEl"
   },
   "outputs": [],
   "source": [
    "data['address'].loc[data['streetNumber'].isna()] = data['prefectureName'] + data['cityName']  # 番地が空白の箇所には県名と市町村のみ"
   ]
  },
  {
   "cell_type": "code",
   "execution_count": 50,
   "metadata": {
    "id": "V9JeCiW0yaKx"
   },
   "outputs": [
    {
     "name": "stdout",
     "output_type": "stream",
     "text": [
      "0\n"
     ]
    },
    {
     "data": {
      "text/html": [
       "<div>\n",
       "<style scoped>\n",
       "    .dataframe tbody tr th:only-of-type {\n",
       "        vertical-align: middle;\n",
       "    }\n",
       "\n",
       "    .dataframe tbody tr th {\n",
       "        vertical-align: top;\n",
       "    }\n",
       "\n",
       "    .dataframe thead th {\n",
       "        text-align: right;\n",
       "    }\n",
       "</style>\n",
       "<table border=\"1\" class=\"dataframe\">\n",
       "  <thead>\n",
       "    <tr style=\"text-align: right;\">\n",
       "      <th></th>\n",
       "      <th>sequenceNumber</th>\n",
       "      <th>corporateNumber</th>\n",
       "      <th>process</th>\n",
       "      <th>correct</th>\n",
       "      <th>updateDate</th>\n",
       "      <th>changeDate</th>\n",
       "      <th>name</th>\n",
       "      <th>nameImageId</th>\n",
       "      <th>kind</th>\n",
       "      <th>prefectureName</th>\n",
       "      <th>...</th>\n",
       "      <th>enAddressOutside</th>\n",
       "      <th>furigana</th>\n",
       "      <th>hihyoji</th>\n",
       "      <th>process_kbn_name</th>\n",
       "      <th>correct_kbn_name</th>\n",
       "      <th>corp_kind_name</th>\n",
       "      <th>closeCause_name</th>\n",
       "      <th>latest_name</th>\n",
       "      <th>hihyoji_name</th>\n",
       "      <th>address</th>\n",
       "    </tr>\n",
       "  </thead>\n",
       "  <tbody>\n",
       "    <tr>\n",
       "      <th>3897</th>\n",
       "      <td>3909</td>\n",
       "      <td>1080005006629</td>\n",
       "      <td>01</td>\n",
       "      <td>0</td>\n",
       "      <td>2015-11-13</td>\n",
       "      <td>2015-10-05</td>\n",
       "      <td>保証責任尾羽愛郷負債整理組合</td>\n",
       "      <td>NaN</td>\n",
       "      <td>399</td>\n",
       "      <td>静岡県</td>\n",
       "      <td>...</td>\n",
       "      <td>NaN</td>\n",
       "      <td>NaN</td>\n",
       "      <td>1</td>\n",
       "      <td>新規</td>\n",
       "      <td>訂正以外</td>\n",
       "      <td>その他の設立登記法人</td>\n",
       "      <td>NaN</td>\n",
       "      <td>最新情報</td>\n",
       "      <td>検索対象除外</td>\n",
       "      <td>静岡県静岡市清水区</td>\n",
       "    </tr>\n",
       "    <tr>\n",
       "      <th>16620</th>\n",
       "      <td>16657</td>\n",
       "      <td>2080005006628</td>\n",
       "      <td>01</td>\n",
       "      <td>0</td>\n",
       "      <td>2015-11-13</td>\n",
       "      <td>2015-10-05</td>\n",
       "      <td>保証責任原下河原負債整理組合</td>\n",
       "      <td>NaN</td>\n",
       "      <td>399</td>\n",
       "      <td>静岡県</td>\n",
       "      <td>...</td>\n",
       "      <td>NaN</td>\n",
       "      <td>NaN</td>\n",
       "      <td>1</td>\n",
       "      <td>新規</td>\n",
       "      <td>訂正以外</td>\n",
       "      <td>その他の設立登記法人</td>\n",
       "      <td>NaN</td>\n",
       "      <td>最新情報</td>\n",
       "      <td>検索対象除外</td>\n",
       "      <td>静岡県静岡市清水区</td>\n",
       "    </tr>\n",
       "    <tr>\n",
       "      <th>20847</th>\n",
       "      <td>20889</td>\n",
       "      <td>2080105004250</td>\n",
       "      <td>01</td>\n",
       "      <td>1</td>\n",
       "      <td>2019-07-05</td>\n",
       "      <td>2015-10-05</td>\n",
       "      <td>保證責任對島村負債整理組合</td>\n",
       "      <td>NaN</td>\n",
       "      <td>399</td>\n",
       "      <td>静岡県</td>\n",
       "      <td>...</td>\n",
       "      <td>NaN</td>\n",
       "      <td>ホショウセキニンタジマムラフサイセイリクミアイ</td>\n",
       "      <td>1</td>\n",
       "      <td>新規</td>\n",
       "      <td>訂正</td>\n",
       "      <td>その他の設立登記法人</td>\n",
       "      <td>NaN</td>\n",
       "      <td>最新情報</td>\n",
       "      <td>検索対象除外</td>\n",
       "      <td>静岡県伊東市</td>\n",
       "    </tr>\n",
       "  </tbody>\n",
       "</table>\n",
       "<p>3 rows × 37 columns</p>\n",
       "</div>"
      ],
      "text/plain": [
       "      sequenceNumber corporateNumber process correct  updateDate  changeDate  \\\n",
       "3897            3909   1080005006629      01       0  2015-11-13  2015-10-05   \n",
       "16620          16657   2080005006628      01       0  2015-11-13  2015-10-05   \n",
       "20847          20889   2080105004250      01       1  2019-07-05  2015-10-05   \n",
       "\n",
       "                 name nameImageId kind prefectureName  ... enAddressOutside  \\\n",
       "3897   保証責任尾羽愛郷負債整理組合         NaN  399            静岡県  ...              NaN   \n",
       "16620  保証責任原下河原負債整理組合         NaN  399            静岡県  ...              NaN   \n",
       "20847   保證責任對島村負債整理組合         NaN  399            静岡県  ...              NaN   \n",
       "\n",
       "                      furigana hihyoji process_kbn_name correct_kbn_name  \\\n",
       "3897                       NaN       1               新規             訂正以外   \n",
       "16620                      NaN       1               新規             訂正以外   \n",
       "20847  ホショウセキニンタジマムラフサイセイリクミアイ       1               新規               訂正   \n",
       "\n",
       "      corp_kind_name closeCause_name latest_name hihyoji_name    address  \n",
       "3897      その他の設立登記法人             NaN        最新情報       検索対象除外  静岡県静岡市清水区  \n",
       "16620     その他の設立登記法人             NaN        最新情報       検索対象除外  静岡県静岡市清水区  \n",
       "20847     その他の設立登記法人             NaN        最新情報       検索対象除外     静岡県伊東市  \n",
       "\n",
       "[3 rows x 37 columns]"
      ]
     },
     "execution_count": 50,
     "metadata": {},
     "output_type": "execute_result"
    }
   ],
   "source": [
    "print(data['address'].isna().sum())\n",
    "data.loc[data['streetNumber'].isna()].head(3)"
   ]
  },
  {
   "cell_type": "code",
   "execution_count": 51,
   "metadata": {
    "id": "czPeOvRpC0q-"
   },
   "outputs": [
    {
     "data": {
      "text/plain": [
       "0    4240809\n",
       "1    4300929\n",
       "2    4380077\n",
       "Name: postCode, dtype: object"
      ]
     },
     "execution_count": 51,
     "metadata": {},
     "output_type": "execute_result"
    }
   ],
   "source": [
    "data['postCode'].head(3)"
   ]
  },
  {
   "cell_type": "markdown",
   "metadata": {},
   "source": [
    "郵便番号の上３桁だけを抽出"
   ]
  },
  {
   "cell_type": "code",
   "execution_count": 52,
   "metadata": {
    "id": "KbYfrW_vJ3fi"
   },
   "outputs": [
    {
     "name": "stdout",
     "output_type": "stream",
     "text": [
      "38\n"
     ]
    },
    {
     "data": {
      "text/html": [
       "<div>\n",
       "<style scoped>\n",
       "    .dataframe tbody tr th:only-of-type {\n",
       "        vertical-align: middle;\n",
       "    }\n",
       "\n",
       "    .dataframe tbody tr th {\n",
       "        vertical-align: top;\n",
       "    }\n",
       "\n",
       "    .dataframe thead th {\n",
       "        text-align: right;\n",
       "    }\n",
       "</style>\n",
       "<table border=\"1\" class=\"dataframe\">\n",
       "  <thead>\n",
       "    <tr style=\"text-align: right;\">\n",
       "      <th></th>\n",
       "      <th>sequenceNumber</th>\n",
       "      <th>corporateNumber</th>\n",
       "      <th>process</th>\n",
       "      <th>correct</th>\n",
       "      <th>updateDate</th>\n",
       "      <th>changeDate</th>\n",
       "      <th>name</th>\n",
       "      <th>nameImageId</th>\n",
       "      <th>kind</th>\n",
       "      <th>prefectureName</th>\n",
       "      <th>...</th>\n",
       "      <th>furigana</th>\n",
       "      <th>hihyoji</th>\n",
       "      <th>process_kbn_name</th>\n",
       "      <th>correct_kbn_name</th>\n",
       "      <th>corp_kind_name</th>\n",
       "      <th>closeCause_name</th>\n",
       "      <th>latest_name</th>\n",
       "      <th>hihyoji_name</th>\n",
       "      <th>address</th>\n",
       "      <th>postCode_head</th>\n",
       "    </tr>\n",
       "  </thead>\n",
       "  <tbody>\n",
       "    <tr>\n",
       "      <th>0</th>\n",
       "      <td>2</td>\n",
       "      <td>1000013050072</td>\n",
       "      <td>01</td>\n",
       "      <td>1</td>\n",
       "      <td>2018-04-02</td>\n",
       "      <td>2015-10-05</td>\n",
       "      <td>清水簡易裁判所</td>\n",
       "      <td>NaN</td>\n",
       "      <td>101</td>\n",
       "      <td>静岡県</td>\n",
       "      <td>...</td>\n",
       "      <td>シミズカンイサイバンショ</td>\n",
       "      <td>0</td>\n",
       "      <td>新規</td>\n",
       "      <td>訂正</td>\n",
       "      <td>国の機関</td>\n",
       "      <td>NaN</td>\n",
       "      <td>最新情報</td>\n",
       "      <td>検索対象</td>\n",
       "      <td>静岡県静岡市清水区天神１丁目６−１５</td>\n",
       "      <td>424</td>\n",
       "    </tr>\n",
       "    <tr>\n",
       "      <th>1</th>\n",
       "      <td>3</td>\n",
       "      <td>1000013050080</td>\n",
       "      <td>01</td>\n",
       "      <td>1</td>\n",
       "      <td>2018-04-02</td>\n",
       "      <td>2015-10-05</td>\n",
       "      <td>浜松簡易裁判所</td>\n",
       "      <td>NaN</td>\n",
       "      <td>101</td>\n",
       "      <td>静岡県</td>\n",
       "      <td>...</td>\n",
       "      <td>ハママツカンイサイバンショ</td>\n",
       "      <td>0</td>\n",
       "      <td>新規</td>\n",
       "      <td>訂正</td>\n",
       "      <td>国の機関</td>\n",
       "      <td>NaN</td>\n",
       "      <td>最新情報</td>\n",
       "      <td>検索対象</td>\n",
       "      <td>静岡県浜松市中区中央１丁目１２−５</td>\n",
       "      <td>430</td>\n",
       "    </tr>\n",
       "    <tr>\n",
       "      <th>2</th>\n",
       "      <td>4</td>\n",
       "      <td>1000020222119</td>\n",
       "      <td>01</td>\n",
       "      <td>1</td>\n",
       "      <td>2018-04-05</td>\n",
       "      <td>2015-10-05</td>\n",
       "      <td>磐田市</td>\n",
       "      <td>NaN</td>\n",
       "      <td>201</td>\n",
       "      <td>静岡県</td>\n",
       "      <td>...</td>\n",
       "      <td>イワタシ</td>\n",
       "      <td>0</td>\n",
       "      <td>新規</td>\n",
       "      <td>訂正</td>\n",
       "      <td>地方公共団体</td>\n",
       "      <td>NaN</td>\n",
       "      <td>最新情報</td>\n",
       "      <td>検索対象</td>\n",
       "      <td>静岡県磐田市国府台３−１</td>\n",
       "      <td>438</td>\n",
       "    </tr>\n",
       "  </tbody>\n",
       "</table>\n",
       "<p>3 rows × 38 columns</p>\n",
       "</div>"
      ],
      "text/plain": [
       "  sequenceNumber corporateNumber process correct  updateDate  changeDate  \\\n",
       "0              2   1000013050072      01       1  2018-04-02  2015-10-05   \n",
       "1              3   1000013050080      01       1  2018-04-02  2015-10-05   \n",
       "2              4   1000020222119      01       1  2018-04-05  2015-10-05   \n",
       "\n",
       "      name nameImageId kind prefectureName  ...       furigana hihyoji  \\\n",
       "0  清水簡易裁判所         NaN  101            静岡県  ...   シミズカンイサイバンショ       0   \n",
       "1  浜松簡易裁判所         NaN  101            静岡県  ...  ハママツカンイサイバンショ       0   \n",
       "2      磐田市         NaN  201            静岡県  ...           イワタシ       0   \n",
       "\n",
       "  process_kbn_name correct_kbn_name corp_kind_name closeCause_name  \\\n",
       "0               新規               訂正           国の機関             NaN   \n",
       "1               新規               訂正           国の機関             NaN   \n",
       "2               新規               訂正         地方公共団体             NaN   \n",
       "\n",
       "  latest_name hihyoji_name             address postCode_head  \n",
       "0        最新情報         検索対象  静岡県静岡市清水区天神１丁目６−１５           424  \n",
       "1        最新情報         検索対象   静岡県浜松市中区中央１丁目１２−５           430  \n",
       "2        最新情報         検索対象        静岡県磐田市国府台３−１           438  \n",
       "\n",
       "[3 rows x 38 columns]"
      ]
     },
     "execution_count": 52,
     "metadata": {},
     "output_type": "execute_result"
    }
   ],
   "source": [
    "data['postCode_head'] = data['postCode'].str[:3]\n",
    "print(len(data.columns))\n",
    "data.head(3)"
   ]
  },
  {
   "cell_type": "markdown",
   "metadata": {},
   "source": [
    "郵便番号の下４桁だけを抽出"
   ]
  },
  {
   "cell_type": "code",
   "execution_count": 53,
   "metadata": {
    "id": "B5Hn_XxOJ3ph"
   },
   "outputs": [
    {
     "name": "stdout",
     "output_type": "stream",
     "text": [
      "39\n"
     ]
    },
    {
     "data": {
      "text/html": [
       "<div>\n",
       "<style scoped>\n",
       "    .dataframe tbody tr th:only-of-type {\n",
       "        vertical-align: middle;\n",
       "    }\n",
       "\n",
       "    .dataframe tbody tr th {\n",
       "        vertical-align: top;\n",
       "    }\n",
       "\n",
       "    .dataframe thead th {\n",
       "        text-align: right;\n",
       "    }\n",
       "</style>\n",
       "<table border=\"1\" class=\"dataframe\">\n",
       "  <thead>\n",
       "    <tr style=\"text-align: right;\">\n",
       "      <th></th>\n",
       "      <th>sequenceNumber</th>\n",
       "      <th>corporateNumber</th>\n",
       "      <th>process</th>\n",
       "      <th>correct</th>\n",
       "      <th>updateDate</th>\n",
       "      <th>changeDate</th>\n",
       "      <th>name</th>\n",
       "      <th>nameImageId</th>\n",
       "      <th>kind</th>\n",
       "      <th>prefectureName</th>\n",
       "      <th>...</th>\n",
       "      <th>hihyoji</th>\n",
       "      <th>process_kbn_name</th>\n",
       "      <th>correct_kbn_name</th>\n",
       "      <th>corp_kind_name</th>\n",
       "      <th>closeCause_name</th>\n",
       "      <th>latest_name</th>\n",
       "      <th>hihyoji_name</th>\n",
       "      <th>address</th>\n",
       "      <th>postCode_head</th>\n",
       "      <th>postCode_tail</th>\n",
       "    </tr>\n",
       "  </thead>\n",
       "  <tbody>\n",
       "    <tr>\n",
       "      <th>0</th>\n",
       "      <td>2</td>\n",
       "      <td>1000013050072</td>\n",
       "      <td>01</td>\n",
       "      <td>1</td>\n",
       "      <td>2018-04-02</td>\n",
       "      <td>2015-10-05</td>\n",
       "      <td>清水簡易裁判所</td>\n",
       "      <td>NaN</td>\n",
       "      <td>101</td>\n",
       "      <td>静岡県</td>\n",
       "      <td>...</td>\n",
       "      <td>0</td>\n",
       "      <td>新規</td>\n",
       "      <td>訂正</td>\n",
       "      <td>国の機関</td>\n",
       "      <td>NaN</td>\n",
       "      <td>最新情報</td>\n",
       "      <td>検索対象</td>\n",
       "      <td>静岡県静岡市清水区天神１丁目６−１５</td>\n",
       "      <td>424</td>\n",
       "      <td>0809</td>\n",
       "    </tr>\n",
       "    <tr>\n",
       "      <th>1</th>\n",
       "      <td>3</td>\n",
       "      <td>1000013050080</td>\n",
       "      <td>01</td>\n",
       "      <td>1</td>\n",
       "      <td>2018-04-02</td>\n",
       "      <td>2015-10-05</td>\n",
       "      <td>浜松簡易裁判所</td>\n",
       "      <td>NaN</td>\n",
       "      <td>101</td>\n",
       "      <td>静岡県</td>\n",
       "      <td>...</td>\n",
       "      <td>0</td>\n",
       "      <td>新規</td>\n",
       "      <td>訂正</td>\n",
       "      <td>国の機関</td>\n",
       "      <td>NaN</td>\n",
       "      <td>最新情報</td>\n",
       "      <td>検索対象</td>\n",
       "      <td>静岡県浜松市中区中央１丁目１２−５</td>\n",
       "      <td>430</td>\n",
       "      <td>0929</td>\n",
       "    </tr>\n",
       "    <tr>\n",
       "      <th>2</th>\n",
       "      <td>4</td>\n",
       "      <td>1000020222119</td>\n",
       "      <td>01</td>\n",
       "      <td>1</td>\n",
       "      <td>2018-04-05</td>\n",
       "      <td>2015-10-05</td>\n",
       "      <td>磐田市</td>\n",
       "      <td>NaN</td>\n",
       "      <td>201</td>\n",
       "      <td>静岡県</td>\n",
       "      <td>...</td>\n",
       "      <td>0</td>\n",
       "      <td>新規</td>\n",
       "      <td>訂正</td>\n",
       "      <td>地方公共団体</td>\n",
       "      <td>NaN</td>\n",
       "      <td>最新情報</td>\n",
       "      <td>検索対象</td>\n",
       "      <td>静岡県磐田市国府台３−１</td>\n",
       "      <td>438</td>\n",
       "      <td>0077</td>\n",
       "    </tr>\n",
       "  </tbody>\n",
       "</table>\n",
       "<p>3 rows × 39 columns</p>\n",
       "</div>"
      ],
      "text/plain": [
       "  sequenceNumber corporateNumber process correct  updateDate  changeDate  \\\n",
       "0              2   1000013050072      01       1  2018-04-02  2015-10-05   \n",
       "1              3   1000013050080      01       1  2018-04-02  2015-10-05   \n",
       "2              4   1000020222119      01       1  2018-04-05  2015-10-05   \n",
       "\n",
       "      name nameImageId kind prefectureName  ... hihyoji process_kbn_name  \\\n",
       "0  清水簡易裁判所         NaN  101            静岡県  ...       0               新規   \n",
       "1  浜松簡易裁判所         NaN  101            静岡県  ...       0               新規   \n",
       "2      磐田市         NaN  201            静岡県  ...       0               新規   \n",
       "\n",
       "  correct_kbn_name corp_kind_name closeCause_name latest_name hihyoji_name  \\\n",
       "0               訂正           国の機関             NaN        最新情報         検索対象   \n",
       "1               訂正           国の機関             NaN        最新情報         検索対象   \n",
       "2               訂正         地方公共団体             NaN        最新情報         検索対象   \n",
       "\n",
       "              address postCode_head postCode_tail  \n",
       "0  静岡県静岡市清水区天神１丁目６−１５           424          0809  \n",
       "1   静岡県浜松市中区中央１丁目１２−５           430          0929  \n",
       "2        静岡県磐田市国府台３−１           438          0077  \n",
       "\n",
       "[3 rows x 39 columns]"
      ]
     },
     "execution_count": 53,
     "metadata": {},
     "output_type": "execute_result"
    }
   ],
   "source": [
    "data['postCode_tail'] = data['postCode'].str[-4:]\n",
    "print(len(data.columns))\n",
    "data.head(3)"
   ]
  },
  {
   "cell_type": "markdown",
   "metadata": {
    "id": "T6n7m5TJ7AkB"
   },
   "source": [
    "## ノック９：日付を加工しよう"
   ]
  },
  {
   "cell_type": "code",
   "execution_count": 54,
   "metadata": {
    "id": "Hh4voaK5EWIy"
   },
   "outputs": [],
   "source": [
    "# data['closeDate'] - data['assignmentDate'] これを実行すると、型の関係でエラーがでる→datetime型に変更"
   ]
  },
  {
   "cell_type": "code",
   "execution_count": 55,
   "metadata": {
    "id": "pp4IM35pEWNx"
   },
   "outputs": [
    {
     "data": {
      "text/plain": [
       "dtype('<M8[ns]')"
      ]
     },
     "execution_count": 55,
     "metadata": {},
     "output_type": "execute_result"
    }
   ],
   "source": [
    "tmp = pd.to_datetime(data['closeDate'])\n",
    "tmp.dtypes"
   ]
  },
  {
   "cell_type": "markdown",
   "metadata": {},
   "source": [
    "### 日付データをdt_columnsに格納し、col列にdatetime型に変換して入れる"
   ]
  },
  {
   "cell_type": "code",
   "execution_count": 56,
   "metadata": {
    "id": "PYcrAHBXEWXy"
   },
   "outputs": [],
   "source": [
    "dt_columns = ['updateDate', 'changeDate', 'closeDate', 'assignmentDate']\n",
    "for col in dt_columns:\n",
    "  data[col] = pd.to_datetime(data[col])"
   ]
  },
  {
   "cell_type": "code",
   "execution_count": 57,
   "metadata": {
    "id": "SQ5WXWwLKe6G"
   },
   "outputs": [
    {
     "data": {
      "text/plain": [
       "sequenceNumber                      object\n",
       "corporateNumber                     object\n",
       "process                             object\n",
       "correct                             object\n",
       "updateDate                  datetime64[ns]\n",
       "changeDate                  datetime64[ns]\n",
       "name                                object\n",
       "nameImageId                         object\n",
       "kind                                object\n",
       "prefectureName                      object\n",
       "cityName                            object\n",
       "streetNumber                        object\n",
       "addressImageId                      object\n",
       "prefectureCode                      object\n",
       "cityCode                            object\n",
       "postCode                            object\n",
       "addressOutside                      object\n",
       "addressOutsideImageId               object\n",
       "closeDate                   datetime64[ns]\n",
       "closeCause                          object\n",
       "successorCorporateNumber            object\n",
       "changeCause                         object\n",
       "assignmentDate              datetime64[ns]\n",
       "latest                              object\n",
       "enName                              object\n",
       "enPrefectureName                    object\n",
       "enCityName                          object\n",
       "enAddressOutside                    object\n",
       "furigana                            object\n",
       "hihyoji                             object\n",
       "process_kbn_name                    object\n",
       "correct_kbn_name                    object\n",
       "corp_kind_name                      object\n",
       "closeCause_name                     object\n",
       "latest_name                         object\n",
       "hihyoji_name                        object\n",
       "address                             object\n",
       "postCode_head                       object\n",
       "postCode_tail                       object\n",
       "dtype: object"
      ]
     },
     "execution_count": 57,
     "metadata": {},
     "output_type": "execute_result"
    }
   ],
   "source": [
    "data.dtypes"
   ]
  },
  {
   "cell_type": "markdown",
   "metadata": {},
   "source": [
    "### もしクローズしているなら、企業が稼働していた日数を格納"
   ]
  },
  {
   "cell_type": "code",
   "execution_count": 58,
   "metadata": {
    "id": "DrSSIdr-EWer"
   },
   "outputs": [],
   "source": [
    "data['corporate_life'] = data['closeDate'] - data['assignmentDate']"
   ]
  },
  {
   "cell_type": "code",
   "execution_count": 59,
   "metadata": {
    "id": "NmkV16LBKHYz"
   },
   "outputs": [
    {
     "name": "stdout",
     "output_type": "stream",
     "text": [
      "40\n"
     ]
    },
    {
     "data": {
      "text/html": [
       "<div>\n",
       "<style scoped>\n",
       "    .dataframe tbody tr th:only-of-type {\n",
       "        vertical-align: middle;\n",
       "    }\n",
       "\n",
       "    .dataframe tbody tr th {\n",
       "        vertical-align: top;\n",
       "    }\n",
       "\n",
       "    .dataframe thead th {\n",
       "        text-align: right;\n",
       "    }\n",
       "</style>\n",
       "<table border=\"1\" class=\"dataframe\">\n",
       "  <thead>\n",
       "    <tr style=\"text-align: right;\">\n",
       "      <th></th>\n",
       "      <th>sequenceNumber</th>\n",
       "      <th>corporateNumber</th>\n",
       "      <th>process</th>\n",
       "      <th>correct</th>\n",
       "      <th>updateDate</th>\n",
       "      <th>changeDate</th>\n",
       "      <th>name</th>\n",
       "      <th>nameImageId</th>\n",
       "      <th>kind</th>\n",
       "      <th>prefectureName</th>\n",
       "      <th>...</th>\n",
       "      <th>process_kbn_name</th>\n",
       "      <th>correct_kbn_name</th>\n",
       "      <th>corp_kind_name</th>\n",
       "      <th>closeCause_name</th>\n",
       "      <th>latest_name</th>\n",
       "      <th>hihyoji_name</th>\n",
       "      <th>address</th>\n",
       "      <th>postCode_head</th>\n",
       "      <th>postCode_tail</th>\n",
       "      <th>corporate_life</th>\n",
       "    </tr>\n",
       "  </thead>\n",
       "  <tbody>\n",
       "    <tr>\n",
       "      <th>0</th>\n",
       "      <td>2</td>\n",
       "      <td>1000013050072</td>\n",
       "      <td>01</td>\n",
       "      <td>1</td>\n",
       "      <td>2018-04-02</td>\n",
       "      <td>2015-10-05</td>\n",
       "      <td>清水簡易裁判所</td>\n",
       "      <td>NaN</td>\n",
       "      <td>101</td>\n",
       "      <td>静岡県</td>\n",
       "      <td>...</td>\n",
       "      <td>新規</td>\n",
       "      <td>訂正</td>\n",
       "      <td>国の機関</td>\n",
       "      <td>NaN</td>\n",
       "      <td>最新情報</td>\n",
       "      <td>検索対象</td>\n",
       "      <td>静岡県静岡市清水区天神１丁目６−１５</td>\n",
       "      <td>424</td>\n",
       "      <td>0809</td>\n",
       "      <td>NaT</td>\n",
       "    </tr>\n",
       "    <tr>\n",
       "      <th>1</th>\n",
       "      <td>3</td>\n",
       "      <td>1000013050080</td>\n",
       "      <td>01</td>\n",
       "      <td>1</td>\n",
       "      <td>2018-04-02</td>\n",
       "      <td>2015-10-05</td>\n",
       "      <td>浜松簡易裁判所</td>\n",
       "      <td>NaN</td>\n",
       "      <td>101</td>\n",
       "      <td>静岡県</td>\n",
       "      <td>...</td>\n",
       "      <td>新規</td>\n",
       "      <td>訂正</td>\n",
       "      <td>国の機関</td>\n",
       "      <td>NaN</td>\n",
       "      <td>最新情報</td>\n",
       "      <td>検索対象</td>\n",
       "      <td>静岡県浜松市中区中央１丁目１２−５</td>\n",
       "      <td>430</td>\n",
       "      <td>0929</td>\n",
       "      <td>NaT</td>\n",
       "    </tr>\n",
       "    <tr>\n",
       "      <th>2</th>\n",
       "      <td>4</td>\n",
       "      <td>1000020222119</td>\n",
       "      <td>01</td>\n",
       "      <td>1</td>\n",
       "      <td>2018-04-05</td>\n",
       "      <td>2015-10-05</td>\n",
       "      <td>磐田市</td>\n",
       "      <td>NaN</td>\n",
       "      <td>201</td>\n",
       "      <td>静岡県</td>\n",
       "      <td>...</td>\n",
       "      <td>新規</td>\n",
       "      <td>訂正</td>\n",
       "      <td>地方公共団体</td>\n",
       "      <td>NaN</td>\n",
       "      <td>最新情報</td>\n",
       "      <td>検索対象</td>\n",
       "      <td>静岡県磐田市国府台３−１</td>\n",
       "      <td>438</td>\n",
       "      <td>0077</td>\n",
       "      <td>NaT</td>\n",
       "    </tr>\n",
       "  </tbody>\n",
       "</table>\n",
       "<p>3 rows × 40 columns</p>\n",
       "</div>"
      ],
      "text/plain": [
       "  sequenceNumber corporateNumber process correct updateDate changeDate  \\\n",
       "0              2   1000013050072      01       1 2018-04-02 2015-10-05   \n",
       "1              3   1000013050080      01       1 2018-04-02 2015-10-05   \n",
       "2              4   1000020222119      01       1 2018-04-05 2015-10-05   \n",
       "\n",
       "      name nameImageId kind prefectureName  ... process_kbn_name  \\\n",
       "0  清水簡易裁判所         NaN  101            静岡県  ...               新規   \n",
       "1  浜松簡易裁判所         NaN  101            静岡県  ...               新規   \n",
       "2      磐田市         NaN  201            静岡県  ...               新規   \n",
       "\n",
       "  correct_kbn_name corp_kind_name closeCause_name latest_name hihyoji_name  \\\n",
       "0               訂正           国の機関             NaN        最新情報         検索対象   \n",
       "1               訂正           国の機関             NaN        最新情報         検索対象   \n",
       "2               訂正         地方公共団体             NaN        最新情報         検索対象   \n",
       "\n",
       "              address postCode_head postCode_tail corporate_life  \n",
       "0  静岡県静岡市清水区天神１丁目６−１５           424          0809            NaT  \n",
       "1   静岡県浜松市中区中央１丁目１２−５           430          0929            NaT  \n",
       "2        静岡県磐田市国府台３−１           438          0077            NaT  \n",
       "\n",
       "[3 rows x 40 columns]"
      ]
     },
     "execution_count": 59,
     "metadata": {},
     "output_type": "execute_result"
    }
   ],
   "source": [
    "print(len(data.columns))\n",
    "data.head(3)"
   ]
  },
  {
   "cell_type": "code",
   "execution_count": 60,
   "metadata": {
    "id": "HYCFhKdNxE0o"
   },
   "outputs": [
    {
     "name": "stdout",
     "output_type": "stream",
     "text": [
      "10108\n"
     ]
    },
    {
     "data": {
      "text/html": [
       "<div>\n",
       "<style scoped>\n",
       "    .dataframe tbody tr th:only-of-type {\n",
       "        vertical-align: middle;\n",
       "    }\n",
       "\n",
       "    .dataframe tbody tr th {\n",
       "        vertical-align: top;\n",
       "    }\n",
       "\n",
       "    .dataframe thead th {\n",
       "        text-align: right;\n",
       "    }\n",
       "</style>\n",
       "<table border=\"1\" class=\"dataframe\">\n",
       "  <thead>\n",
       "    <tr style=\"text-align: right;\">\n",
       "      <th></th>\n",
       "      <th>sequenceNumber</th>\n",
       "      <th>corporateNumber</th>\n",
       "      <th>process</th>\n",
       "      <th>correct</th>\n",
       "      <th>updateDate</th>\n",
       "      <th>changeDate</th>\n",
       "      <th>name</th>\n",
       "      <th>nameImageId</th>\n",
       "      <th>kind</th>\n",
       "      <th>prefectureName</th>\n",
       "      <th>...</th>\n",
       "      <th>process_kbn_name</th>\n",
       "      <th>correct_kbn_name</th>\n",
       "      <th>corp_kind_name</th>\n",
       "      <th>closeCause_name</th>\n",
       "      <th>latest_name</th>\n",
       "      <th>hihyoji_name</th>\n",
       "      <th>address</th>\n",
       "      <th>postCode_head</th>\n",
       "      <th>postCode_tail</th>\n",
       "      <th>corporate_life</th>\n",
       "    </tr>\n",
       "  </thead>\n",
       "  <tbody>\n",
       "    <tr>\n",
       "      <th>31</th>\n",
       "      <td>33</td>\n",
       "      <td>1010001102636</td>\n",
       "      <td>21</td>\n",
       "      <td>0</td>\n",
       "      <td>2021-02-08</td>\n",
       "      <td>2021-02-02</td>\n",
       "      <td>Ｈ・Ｍ・Ｃ株式会社</td>\n",
       "      <td>NaN</td>\n",
       "      <td>301</td>\n",
       "      <td>静岡県</td>\n",
       "      <td>...</td>\n",
       "      <td>登記記録の閉鎖等</td>\n",
       "      <td>訂正以外</td>\n",
       "      <td>株式会社</td>\n",
       "      <td>合併による解散等</td>\n",
       "      <td>最新情報</td>\n",
       "      <td>検索対象</td>\n",
       "      <td>静岡県駿東郡長泉町東野字八分平５１５番９１</td>\n",
       "      <td>411</td>\n",
       "      <td>0931</td>\n",
       "      <td>1947 days</td>\n",
       "    </tr>\n",
       "    <tr>\n",
       "      <th>36</th>\n",
       "      <td>38</td>\n",
       "      <td>1010001144901</td>\n",
       "      <td>21</td>\n",
       "      <td>0</td>\n",
       "      <td>2020-11-10</td>\n",
       "      <td>2020-11-05</td>\n",
       "      <td>エス・ジー・トラスト株式会社</td>\n",
       "      <td>NaN</td>\n",
       "      <td>301</td>\n",
       "      <td>静岡県</td>\n",
       "      <td>...</td>\n",
       "      <td>登記記録の閉鎖等</td>\n",
       "      <td>訂正以外</td>\n",
       "      <td>株式会社</td>\n",
       "      <td>合併による解散等</td>\n",
       "      <td>最新情報</td>\n",
       "      <td>検索対象</td>\n",
       "      <td>静岡県駿東郡長泉町東野字八分平５１５番９１</td>\n",
       "      <td>411</td>\n",
       "      <td>0931</td>\n",
       "      <td>1858 days</td>\n",
       "    </tr>\n",
       "    <tr>\n",
       "      <th>37</th>\n",
       "      <td>39</td>\n",
       "      <td>1010001148290</td>\n",
       "      <td>21</td>\n",
       "      <td>0</td>\n",
       "      <td>2018-03-13</td>\n",
       "      <td>2018-03-07</td>\n",
       "      <td>株式会社秀地ゴルフマネージメント</td>\n",
       "      <td>NaN</td>\n",
       "      <td>301</td>\n",
       "      <td>静岡県</td>\n",
       "      <td>...</td>\n",
       "      <td>登記記録の閉鎖等</td>\n",
       "      <td>訂正以外</td>\n",
       "      <td>株式会社</td>\n",
       "      <td>合併による解散等</td>\n",
       "      <td>最新情報</td>\n",
       "      <td>検索対象</td>\n",
       "      <td>静岡県駿東郡小山町須走４９３番地</td>\n",
       "      <td>410</td>\n",
       "      <td>1431</td>\n",
       "      <td>884 days</td>\n",
       "    </tr>\n",
       "  </tbody>\n",
       "</table>\n",
       "<p>3 rows × 40 columns</p>\n",
       "</div>"
      ],
      "text/plain": [
       "   sequenceNumber corporateNumber process correct updateDate changeDate  \\\n",
       "31             33   1010001102636      21       0 2021-02-08 2021-02-02   \n",
       "36             38   1010001144901      21       0 2020-11-10 2020-11-05   \n",
       "37             39   1010001148290      21       0 2018-03-13 2018-03-07   \n",
       "\n",
       "                name nameImageId kind prefectureName  ... process_kbn_name  \\\n",
       "31         Ｈ・Ｍ・Ｃ株式会社         NaN  301            静岡県  ...         登記記録の閉鎖等   \n",
       "36    エス・ジー・トラスト株式会社         NaN  301            静岡県  ...         登記記録の閉鎖等   \n",
       "37  株式会社秀地ゴルフマネージメント         NaN  301            静岡県  ...         登記記録の閉鎖等   \n",
       "\n",
       "   correct_kbn_name corp_kind_name closeCause_name latest_name hihyoji_name  \\\n",
       "31             訂正以外           株式会社        合併による解散等        最新情報         検索対象   \n",
       "36             訂正以外           株式会社        合併による解散等        最新情報         検索対象   \n",
       "37             訂正以外           株式会社        合併による解散等        最新情報         検索対象   \n",
       "\n",
       "                  address postCode_head postCode_tail corporate_life  \n",
       "31  静岡県駿東郡長泉町東野字八分平５１５番９１           411          0931      1947 days  \n",
       "36  静岡県駿東郡長泉町東野字八分平５１５番９１           411          0931      1858 days  \n",
       "37       静岡県駿東郡小山町須走４９３番地           410          1431       884 days  \n",
       "\n",
       "[3 rows x 40 columns]"
      ]
     },
     "execution_count": 60,
     "metadata": {},
     "output_type": "execute_result"
    }
   ],
   "source": [
    "tmp = data.loc[data['closeDate'].notna()]\n",
    "print(len(tmp))\n",
    "tmp.head(3)"
   ]
  },
  {
   "cell_type": "code",
   "execution_count": 61,
   "metadata": {},
   "outputs": [
    {
     "name": "stdout",
     "output_type": "stream",
     "text": [
      "0               NaT\n",
      "1               NaT\n",
      "2               NaT\n",
      "3               NaT\n",
      "4               NaT\n",
      "            ...    \n",
      "114752          NaT\n",
      "114753          NaT\n",
      "114754          NaT\n",
      "114755   2021-04-01\n",
      "114756          NaT\n",
      "Name: closeDate, Length: 114757, dtype: datetime64[ns]\n"
     ]
    }
   ],
   "source": [
    "print(data['closeDate'])"
   ]
  },
  {
   "cell_type": "code",
   "execution_count": 62,
   "metadata": {
    "id": "pxB5wykkKHdL"
   },
   "outputs": [
    {
     "data": {
      "text/plain": [
       "True"
      ]
     },
     "execution_count": 62,
     "metadata": {},
     "output_type": "execute_result"
    }
   ],
   "source": [
    "len(data.loc[data['closeCause'].notna()]) == len(data.loc[data['closeDate'].notna()])  # クローズした原因の記載数＝クローズした日にちの記載数"
   ]
  },
  {
   "cell_type": "markdown",
   "metadata": {},
   "source": [
    "### アップデートした日にちを、月単位にする（お試し）"
   ]
  },
  {
   "cell_type": "code",
   "execution_count": 63,
   "metadata": {
    "id": "HkpTWI6VLKzs"
   },
   "outputs": [
    {
     "name": "stdout",
     "output_type": "stream",
     "text": [
      "41\n"
     ]
    },
    {
     "data": {
      "text/html": [
       "<div>\n",
       "<style scoped>\n",
       "    .dataframe tbody tr th:only-of-type {\n",
       "        vertical-align: middle;\n",
       "    }\n",
       "\n",
       "    .dataframe tbody tr th {\n",
       "        vertical-align: top;\n",
       "    }\n",
       "\n",
       "    .dataframe thead th {\n",
       "        text-align: right;\n",
       "    }\n",
       "</style>\n",
       "<table border=\"1\" class=\"dataframe\">\n",
       "  <thead>\n",
       "    <tr style=\"text-align: right;\">\n",
       "      <th></th>\n",
       "      <th>sequenceNumber</th>\n",
       "      <th>corporateNumber</th>\n",
       "      <th>process</th>\n",
       "      <th>correct</th>\n",
       "      <th>updateDate</th>\n",
       "      <th>changeDate</th>\n",
       "      <th>name</th>\n",
       "      <th>nameImageId</th>\n",
       "      <th>kind</th>\n",
       "      <th>prefectureName</th>\n",
       "      <th>...</th>\n",
       "      <th>correct_kbn_name</th>\n",
       "      <th>corp_kind_name</th>\n",
       "      <th>closeCause_name</th>\n",
       "      <th>latest_name</th>\n",
       "      <th>hihyoji_name</th>\n",
       "      <th>address</th>\n",
       "      <th>postCode_head</th>\n",
       "      <th>postCode_tail</th>\n",
       "      <th>corporate_life</th>\n",
       "      <th>update_YM</th>\n",
       "    </tr>\n",
       "  </thead>\n",
       "  <tbody>\n",
       "    <tr>\n",
       "      <th>0</th>\n",
       "      <td>2</td>\n",
       "      <td>1000013050072</td>\n",
       "      <td>01</td>\n",
       "      <td>1</td>\n",
       "      <td>2018-04-02</td>\n",
       "      <td>2015-10-05</td>\n",
       "      <td>清水簡易裁判所</td>\n",
       "      <td>NaN</td>\n",
       "      <td>101</td>\n",
       "      <td>静岡県</td>\n",
       "      <td>...</td>\n",
       "      <td>訂正</td>\n",
       "      <td>国の機関</td>\n",
       "      <td>NaN</td>\n",
       "      <td>最新情報</td>\n",
       "      <td>検索対象</td>\n",
       "      <td>静岡県静岡市清水区天神１丁目６−１５</td>\n",
       "      <td>424</td>\n",
       "      <td>0809</td>\n",
       "      <td>NaT</td>\n",
       "      <td>2018-04</td>\n",
       "    </tr>\n",
       "    <tr>\n",
       "      <th>1</th>\n",
       "      <td>3</td>\n",
       "      <td>1000013050080</td>\n",
       "      <td>01</td>\n",
       "      <td>1</td>\n",
       "      <td>2018-04-02</td>\n",
       "      <td>2015-10-05</td>\n",
       "      <td>浜松簡易裁判所</td>\n",
       "      <td>NaN</td>\n",
       "      <td>101</td>\n",
       "      <td>静岡県</td>\n",
       "      <td>...</td>\n",
       "      <td>訂正</td>\n",
       "      <td>国の機関</td>\n",
       "      <td>NaN</td>\n",
       "      <td>最新情報</td>\n",
       "      <td>検索対象</td>\n",
       "      <td>静岡県浜松市中区中央１丁目１２−５</td>\n",
       "      <td>430</td>\n",
       "      <td>0929</td>\n",
       "      <td>NaT</td>\n",
       "      <td>2018-04</td>\n",
       "    </tr>\n",
       "    <tr>\n",
       "      <th>2</th>\n",
       "      <td>4</td>\n",
       "      <td>1000020222119</td>\n",
       "      <td>01</td>\n",
       "      <td>1</td>\n",
       "      <td>2018-04-05</td>\n",
       "      <td>2015-10-05</td>\n",
       "      <td>磐田市</td>\n",
       "      <td>NaN</td>\n",
       "      <td>201</td>\n",
       "      <td>静岡県</td>\n",
       "      <td>...</td>\n",
       "      <td>訂正</td>\n",
       "      <td>地方公共団体</td>\n",
       "      <td>NaN</td>\n",
       "      <td>最新情報</td>\n",
       "      <td>検索対象</td>\n",
       "      <td>静岡県磐田市国府台３−１</td>\n",
       "      <td>438</td>\n",
       "      <td>0077</td>\n",
       "      <td>NaT</td>\n",
       "      <td>2018-04</td>\n",
       "    </tr>\n",
       "    <tr>\n",
       "      <th>3</th>\n",
       "      <td>5</td>\n",
       "      <td>1000020222127</td>\n",
       "      <td>01</td>\n",
       "      <td>1</td>\n",
       "      <td>2018-04-05</td>\n",
       "      <td>2015-10-05</td>\n",
       "      <td>焼津市</td>\n",
       "      <td>NaN</td>\n",
       "      <td>201</td>\n",
       "      <td>静岡県</td>\n",
       "      <td>...</td>\n",
       "      <td>訂正</td>\n",
       "      <td>地方公共団体</td>\n",
       "      <td>NaN</td>\n",
       "      <td>最新情報</td>\n",
       "      <td>検索対象</td>\n",
       "      <td>静岡県焼津市本町２丁目１６−３２</td>\n",
       "      <td>425</td>\n",
       "      <td>0022</td>\n",
       "      <td>NaT</td>\n",
       "      <td>2018-04</td>\n",
       "    </tr>\n",
       "    <tr>\n",
       "      <th>4</th>\n",
       "      <td>6</td>\n",
       "      <td>1000020222135</td>\n",
       "      <td>01</td>\n",
       "      <td>1</td>\n",
       "      <td>2020-09-29</td>\n",
       "      <td>2015-10-05</td>\n",
       "      <td>掛川市</td>\n",
       "      <td>NaN</td>\n",
       "      <td>201</td>\n",
       "      <td>静岡県</td>\n",
       "      <td>...</td>\n",
       "      <td>訂正</td>\n",
       "      <td>地方公共団体</td>\n",
       "      <td>NaN</td>\n",
       "      <td>最新情報</td>\n",
       "      <td>検索対象</td>\n",
       "      <td>静岡県掛川市長谷１丁目１番地の１</td>\n",
       "      <td>436</td>\n",
       "      <td>0047</td>\n",
       "      <td>NaT</td>\n",
       "      <td>2020-09</td>\n",
       "    </tr>\n",
       "  </tbody>\n",
       "</table>\n",
       "<p>5 rows × 41 columns</p>\n",
       "</div>"
      ],
      "text/plain": [
       "  sequenceNumber corporateNumber process correct updateDate changeDate  \\\n",
       "0              2   1000013050072      01       1 2018-04-02 2015-10-05   \n",
       "1              3   1000013050080      01       1 2018-04-02 2015-10-05   \n",
       "2              4   1000020222119      01       1 2018-04-05 2015-10-05   \n",
       "3              5   1000020222127      01       1 2018-04-05 2015-10-05   \n",
       "4              6   1000020222135      01       1 2020-09-29 2015-10-05   \n",
       "\n",
       "      name nameImageId kind prefectureName  ... correct_kbn_name  \\\n",
       "0  清水簡易裁判所         NaN  101            静岡県  ...               訂正   \n",
       "1  浜松簡易裁判所         NaN  101            静岡県  ...               訂正   \n",
       "2      磐田市         NaN  201            静岡県  ...               訂正   \n",
       "3      焼津市         NaN  201            静岡県  ...               訂正   \n",
       "4      掛川市         NaN  201            静岡県  ...               訂正   \n",
       "\n",
       "  corp_kind_name closeCause_name latest_name hihyoji_name             address  \\\n",
       "0           国の機関             NaN        最新情報         検索対象  静岡県静岡市清水区天神１丁目６−１５   \n",
       "1           国の機関             NaN        最新情報         検索対象   静岡県浜松市中区中央１丁目１２−５   \n",
       "2         地方公共団体             NaN        最新情報         検索対象        静岡県磐田市国府台３−１   \n",
       "3         地方公共団体             NaN        最新情報         検索対象    静岡県焼津市本町２丁目１６−３２   \n",
       "4         地方公共団体             NaN        最新情報         検索対象    静岡県掛川市長谷１丁目１番地の１   \n",
       "\n",
       "  postCode_head postCode_tail corporate_life update_YM  \n",
       "0           424          0809            NaT   2018-04  \n",
       "1           430          0929            NaT   2018-04  \n",
       "2           438          0077            NaT   2018-04  \n",
       "3           425          0022            NaT   2018-04  \n",
       "4           436          0047            NaT   2020-09  \n",
       "\n",
       "[5 rows x 41 columns]"
      ]
     },
     "execution_count": 63,
     "metadata": {},
     "output_type": "execute_result"
    }
   ],
   "source": [
    "data['update_YM'] = data['updateDate'].dt.to_period('M')  # 1ヶ月単位で丸める\n",
    "print(len(data.columns))\n",
    "data.head()"
   ]
  },
  {
   "cell_type": "markdown",
   "metadata": {},
   "source": [
    "### すべての日にちを月単位で丸める　　for文で繰り返し"
   ]
  },
  {
   "cell_type": "code",
   "execution_count": 64,
   "metadata": {
    "id": "NhtPdrAmLqf6"
   },
   "outputs": [],
   "source": [
    "dt_prefixes = ['assignment', 'change', 'update', 'close']\n",
    "for pre in dt_prefixes:\n",
    "  data[f'{pre}_YM'] = data[f'{pre}Date'].dt.to_period('M')"
   ]
  },
  {
   "cell_type": "code",
   "execution_count": 65,
   "metadata": {
    "id": "_-nKto7YL7Bm"
   },
   "outputs": [
    {
     "name": "stdout",
     "output_type": "stream",
     "text": [
      "44\n"
     ]
    },
    {
     "data": {
      "text/html": [
       "<div>\n",
       "<style scoped>\n",
       "    .dataframe tbody tr th:only-of-type {\n",
       "        vertical-align: middle;\n",
       "    }\n",
       "\n",
       "    .dataframe tbody tr th {\n",
       "        vertical-align: top;\n",
       "    }\n",
       "\n",
       "    .dataframe thead th {\n",
       "        text-align: right;\n",
       "    }\n",
       "</style>\n",
       "<table border=\"1\" class=\"dataframe\">\n",
       "  <thead>\n",
       "    <tr style=\"text-align: right;\">\n",
       "      <th></th>\n",
       "      <th>sequenceNumber</th>\n",
       "      <th>corporateNumber</th>\n",
       "      <th>process</th>\n",
       "      <th>correct</th>\n",
       "      <th>updateDate</th>\n",
       "      <th>changeDate</th>\n",
       "      <th>name</th>\n",
       "      <th>nameImageId</th>\n",
       "      <th>kind</th>\n",
       "      <th>prefectureName</th>\n",
       "      <th>...</th>\n",
       "      <th>latest_name</th>\n",
       "      <th>hihyoji_name</th>\n",
       "      <th>address</th>\n",
       "      <th>postCode_head</th>\n",
       "      <th>postCode_tail</th>\n",
       "      <th>corporate_life</th>\n",
       "      <th>update_YM</th>\n",
       "      <th>assignment_YM</th>\n",
       "      <th>change_YM</th>\n",
       "      <th>close_YM</th>\n",
       "    </tr>\n",
       "  </thead>\n",
       "  <tbody>\n",
       "    <tr>\n",
       "      <th>0</th>\n",
       "      <td>2</td>\n",
       "      <td>1000013050072</td>\n",
       "      <td>01</td>\n",
       "      <td>1</td>\n",
       "      <td>2018-04-02</td>\n",
       "      <td>2015-10-05</td>\n",
       "      <td>清水簡易裁判所</td>\n",
       "      <td>NaN</td>\n",
       "      <td>101</td>\n",
       "      <td>静岡県</td>\n",
       "      <td>...</td>\n",
       "      <td>最新情報</td>\n",
       "      <td>検索対象</td>\n",
       "      <td>静岡県静岡市清水区天神１丁目６−１５</td>\n",
       "      <td>424</td>\n",
       "      <td>0809</td>\n",
       "      <td>NaT</td>\n",
       "      <td>2018-04</td>\n",
       "      <td>2015-10</td>\n",
       "      <td>2015-10</td>\n",
       "      <td>NaT</td>\n",
       "    </tr>\n",
       "    <tr>\n",
       "      <th>1</th>\n",
       "      <td>3</td>\n",
       "      <td>1000013050080</td>\n",
       "      <td>01</td>\n",
       "      <td>1</td>\n",
       "      <td>2018-04-02</td>\n",
       "      <td>2015-10-05</td>\n",
       "      <td>浜松簡易裁判所</td>\n",
       "      <td>NaN</td>\n",
       "      <td>101</td>\n",
       "      <td>静岡県</td>\n",
       "      <td>...</td>\n",
       "      <td>最新情報</td>\n",
       "      <td>検索対象</td>\n",
       "      <td>静岡県浜松市中区中央１丁目１２−５</td>\n",
       "      <td>430</td>\n",
       "      <td>0929</td>\n",
       "      <td>NaT</td>\n",
       "      <td>2018-04</td>\n",
       "      <td>2015-10</td>\n",
       "      <td>2015-10</td>\n",
       "      <td>NaT</td>\n",
       "    </tr>\n",
       "    <tr>\n",
       "      <th>2</th>\n",
       "      <td>4</td>\n",
       "      <td>1000020222119</td>\n",
       "      <td>01</td>\n",
       "      <td>1</td>\n",
       "      <td>2018-04-05</td>\n",
       "      <td>2015-10-05</td>\n",
       "      <td>磐田市</td>\n",
       "      <td>NaN</td>\n",
       "      <td>201</td>\n",
       "      <td>静岡県</td>\n",
       "      <td>...</td>\n",
       "      <td>最新情報</td>\n",
       "      <td>検索対象</td>\n",
       "      <td>静岡県磐田市国府台３−１</td>\n",
       "      <td>438</td>\n",
       "      <td>0077</td>\n",
       "      <td>NaT</td>\n",
       "      <td>2018-04</td>\n",
       "      <td>2015-10</td>\n",
       "      <td>2015-10</td>\n",
       "      <td>NaT</td>\n",
       "    </tr>\n",
       "  </tbody>\n",
       "</table>\n",
       "<p>3 rows × 44 columns</p>\n",
       "</div>"
      ],
      "text/plain": [
       "  sequenceNumber corporateNumber process correct updateDate changeDate  \\\n",
       "0              2   1000013050072      01       1 2018-04-02 2015-10-05   \n",
       "1              3   1000013050080      01       1 2018-04-02 2015-10-05   \n",
       "2              4   1000020222119      01       1 2018-04-05 2015-10-05   \n",
       "\n",
       "      name nameImageId kind prefectureName  ... latest_name hihyoji_name  \\\n",
       "0  清水簡易裁判所         NaN  101            静岡県  ...        最新情報         検索対象   \n",
       "1  浜松簡易裁判所         NaN  101            静岡県  ...        最新情報         検索対象   \n",
       "2      磐田市         NaN  201            静岡県  ...        最新情報         検索対象   \n",
       "\n",
       "              address postCode_head postCode_tail corporate_life update_YM  \\\n",
       "0  静岡県静岡市清水区天神１丁目６−１５           424          0809            NaT   2018-04   \n",
       "1   静岡県浜松市中区中央１丁目１２−５           430          0929            NaT   2018-04   \n",
       "2        静岡県磐田市国府台３−１           438          0077            NaT   2018-04   \n",
       "\n",
       "  assignment_YM change_YM close_YM  \n",
       "0       2015-10   2015-10      NaT  \n",
       "1       2015-10   2015-10      NaT  \n",
       "2       2015-10   2015-10      NaT  \n",
       "\n",
       "[3 rows x 44 columns]"
      ]
     },
     "execution_count": 65,
     "metadata": {},
     "output_type": "execute_result"
    }
   ],
   "source": [
    "print(len(data.columns))\n",
    "data.head(3)"
   ]
  },
  {
   "cell_type": "code",
   "execution_count": 66,
   "metadata": {},
   "outputs": [
    {
     "data": {
      "text/plain": [
       "sequenceNumber                       object\n",
       "corporateNumber                      object\n",
       "process                              object\n",
       "correct                              object\n",
       "updateDate                   datetime64[ns]\n",
       "changeDate                   datetime64[ns]\n",
       "name                                 object\n",
       "nameImageId                          object\n",
       "kind                                 object\n",
       "prefectureName                       object\n",
       "cityName                             object\n",
       "streetNumber                         object\n",
       "addressImageId                       object\n",
       "prefectureCode                       object\n",
       "cityCode                             object\n",
       "postCode                             object\n",
       "addressOutside                       object\n",
       "addressOutsideImageId                object\n",
       "closeDate                    datetime64[ns]\n",
       "closeCause                           object\n",
       "successorCorporateNumber             object\n",
       "changeCause                          object\n",
       "assignmentDate               datetime64[ns]\n",
       "latest                               object\n",
       "enName                               object\n",
       "enPrefectureName                     object\n",
       "enCityName                           object\n",
       "enAddressOutside                     object\n",
       "furigana                             object\n",
       "hihyoji                              object\n",
       "process_kbn_name                     object\n",
       "correct_kbn_name                     object\n",
       "corp_kind_name                       object\n",
       "closeCause_name                      object\n",
       "latest_name                          object\n",
       "hihyoji_name                         object\n",
       "address                              object\n",
       "postCode_head                        object\n",
       "postCode_tail                        object\n",
       "corporate_life              timedelta64[ns]\n",
       "update_YM                         period[M]\n",
       "assignment_YM                     period[M]\n",
       "change_YM                         period[M]\n",
       "close_YM                          period[M]\n",
       "dtype: object"
      ]
     },
     "execution_count": 66,
     "metadata": {},
     "output_type": "execute_result"
    }
   ],
   "source": [
    "data.dtypes"
   ]
  },
  {
   "cell_type": "markdown",
   "metadata": {
    "id": "XMwFLVzu-CZC"
   },
   "source": [
    "## ノック１０：年度を設定しよう"
   ]
  },
  {
   "cell_type": "code",
   "execution_count": 67,
   "metadata": {},
   "outputs": [
    {
     "data": {
      "text/plain": [
       "0        2018-04-02\n",
       "1        2018-04-02\n",
       "2        2018-04-05\n",
       "3        2018-04-05\n",
       "4        2020-09-29\n",
       "            ...    \n",
       "114752   2021-04-09\n",
       "114753   2021-04-09\n",
       "114754   2021-04-09\n",
       "114755   2021-04-09\n",
       "114756   2021-04-09\n",
       "Name: updateDate, Length: 114757, dtype: datetime64[ns]"
      ]
     },
     "execution_count": 67,
     "metadata": {},
     "output_type": "execute_result"
    }
   ],
   "source": [
    "data['updateDate']"
   ]
  },
  {
   "cell_type": "markdown",
   "metadata": {},
   "source": [
    "更新年だけ抽出する"
   ]
  },
  {
   "cell_type": "code",
   "execution_count": 68,
   "metadata": {},
   "outputs": [
    {
     "data": {
      "text/plain": [
       "0         2018\n",
       "1         2018\n",
       "2         2018\n",
       "3         2018\n",
       "4         2020\n",
       "          ... \n",
       "114752    2021\n",
       "114753    2021\n",
       "114754    2021\n",
       "114755    2021\n",
       "114756    2021\n",
       "Name: update_year, Length: 114757, dtype: int64"
      ]
     },
     "execution_count": 68,
     "metadata": {},
     "output_type": "execute_result"
    }
   ],
   "source": [
    "data['update_year'] = pd.DatetimeIndex(data['updateDate']).year\n",
    "data['update_year']"
   ]
  },
  {
   "cell_type": "markdown",
   "metadata": {},
   "source": [
    "更新月だけ抽出する"
   ]
  },
  {
   "cell_type": "code",
   "execution_count": 69,
   "metadata": {
    "id": "yd-2BV8CbXqf"
   },
   "outputs": [
    {
     "data": {
      "text/plain": [
       "0         4\n",
       "1         4\n",
       "2         4\n",
       "3         4\n",
       "4         9\n",
       "         ..\n",
       "114752    4\n",
       "114753    4\n",
       "114754    4\n",
       "114755    4\n",
       "114756    4\n",
       "Name: update_month, Length: 114757, dtype: int64"
      ]
     },
     "execution_count": 69,
     "metadata": {},
     "output_type": "execute_result"
    }
   ],
   "source": [
    "data['update_month'] = pd.DatetimeIndex(data['updateDate']).month\n",
    "data['update_month']"
   ]
  },
  {
   "cell_type": "code",
   "execution_count": 70,
   "metadata": {
    "id": "DNZpbuhvX2QD"
   },
   "outputs": [],
   "source": [
    "data['update_fiscal_year'] = pd.DatetimeIndex(data['updateDate']).year  # 更新年度に取得した年を設定\n",
    "data.loc[data['update_month'] < 4, 'update_fiscal_year'] -= 1           # 更新月が3月までは更新年度-1 難しい・・・"
   ]
  },
  {
   "cell_type": "code",
   "execution_count": 71,
   "metadata": {},
   "outputs": [
    {
     "name": "stdout",
     "output_type": "stream",
     "text": [
      "47\n"
     ]
    },
    {
     "data": {
      "text/html": [
       "<div>\n",
       "<style scoped>\n",
       "    .dataframe tbody tr th:only-of-type {\n",
       "        vertical-align: middle;\n",
       "    }\n",
       "\n",
       "    .dataframe tbody tr th {\n",
       "        vertical-align: top;\n",
       "    }\n",
       "\n",
       "    .dataframe thead th {\n",
       "        text-align: right;\n",
       "    }\n",
       "</style>\n",
       "<table border=\"1\" class=\"dataframe\">\n",
       "  <thead>\n",
       "    <tr style=\"text-align: right;\">\n",
       "      <th></th>\n",
       "      <th>sequenceNumber</th>\n",
       "      <th>corporateNumber</th>\n",
       "      <th>process</th>\n",
       "      <th>correct</th>\n",
       "      <th>updateDate</th>\n",
       "      <th>changeDate</th>\n",
       "      <th>name</th>\n",
       "      <th>nameImageId</th>\n",
       "      <th>kind</th>\n",
       "      <th>prefectureName</th>\n",
       "      <th>...</th>\n",
       "      <th>postCode_head</th>\n",
       "      <th>postCode_tail</th>\n",
       "      <th>corporate_life</th>\n",
       "      <th>update_YM</th>\n",
       "      <th>assignment_YM</th>\n",
       "      <th>change_YM</th>\n",
       "      <th>close_YM</th>\n",
       "      <th>update_year</th>\n",
       "      <th>update_month</th>\n",
       "      <th>update_fiscal_year</th>\n",
       "    </tr>\n",
       "  </thead>\n",
       "  <tbody>\n",
       "    <tr>\n",
       "      <th>114754</th>\n",
       "      <td>3197</td>\n",
       "      <td>9080102008933</td>\n",
       "      <td>01</td>\n",
       "      <td>1</td>\n",
       "      <td>2021-04-09</td>\n",
       "      <td>2015-10-05</td>\n",
       "      <td>有限会社サクラ急送</td>\n",
       "      <td>NaN</td>\n",
       "      <td>302</td>\n",
       "      <td>静岡県</td>\n",
       "      <td>...</td>\n",
       "      <td>410</td>\n",
       "      <td>2132</td>\n",
       "      <td>NaT</td>\n",
       "      <td>2021-04</td>\n",
       "      <td>2015-10</td>\n",
       "      <td>2015-10</td>\n",
       "      <td>NaT</td>\n",
       "      <td>2021</td>\n",
       "      <td>4</td>\n",
       "      <td>2021</td>\n",
       "    </tr>\n",
       "    <tr>\n",
       "      <th>114755</th>\n",
       "      <td>3198</td>\n",
       "      <td>9080402002859</td>\n",
       "      <td>21</td>\n",
       "      <td>0</td>\n",
       "      <td>2021-04-09</td>\n",
       "      <td>2021-04-01</td>\n",
       "      <td>有限会社弘法</td>\n",
       "      <td>NaN</td>\n",
       "      <td>302</td>\n",
       "      <td>静岡県</td>\n",
       "      <td>...</td>\n",
       "      <td>430</td>\n",
       "      <td>0825</td>\n",
       "      <td>2005 days</td>\n",
       "      <td>2021-04</td>\n",
       "      <td>2015-10</td>\n",
       "      <td>2021-04</td>\n",
       "      <td>2021-04</td>\n",
       "      <td>2021</td>\n",
       "      <td>4</td>\n",
       "      <td>2021</td>\n",
       "    </tr>\n",
       "    <tr>\n",
       "      <th>114756</th>\n",
       "      <td>3199</td>\n",
       "      <td>9080402015836</td>\n",
       "      <td>12</td>\n",
       "      <td>0</td>\n",
       "      <td>2021-04-09</td>\n",
       "      <td>2021-04-01</td>\n",
       "      <td>有限会社エコワークス</td>\n",
       "      <td>NaN</td>\n",
       "      <td>302</td>\n",
       "      <td>静岡県</td>\n",
       "      <td>...</td>\n",
       "      <td>431</td>\n",
       "      <td>1112</td>\n",
       "      <td>NaT</td>\n",
       "      <td>2021-04</td>\n",
       "      <td>2015-10</td>\n",
       "      <td>2021-04</td>\n",
       "      <td>NaT</td>\n",
       "      <td>2021</td>\n",
       "      <td>4</td>\n",
       "      <td>2021</td>\n",
       "    </tr>\n",
       "  </tbody>\n",
       "</table>\n",
       "<p>3 rows × 47 columns</p>\n",
       "</div>"
      ],
      "text/plain": [
       "       sequenceNumber corporateNumber process correct updateDate changeDate  \\\n",
       "114754           3197   9080102008933      01       1 2021-04-09 2015-10-05   \n",
       "114755           3198   9080402002859      21       0 2021-04-09 2021-04-01   \n",
       "114756           3199   9080402015836      12       0 2021-04-09 2021-04-01   \n",
       "\n",
       "              name nameImageId kind prefectureName  ... postCode_head  \\\n",
       "114754   有限会社サクラ急送         NaN  302            静岡県  ...           410   \n",
       "114755      有限会社弘法         NaN  302            静岡県  ...           430   \n",
       "114756  有限会社エコワークス         NaN  302            静岡県  ...           431   \n",
       "\n",
       "       postCode_tail corporate_life update_YM assignment_YM change_YM  \\\n",
       "114754          2132            NaT   2021-04       2015-10   2015-10   \n",
       "114755          0825      2005 days   2021-04       2015-10   2021-04   \n",
       "114756          1112            NaT   2021-04       2015-10   2021-04   \n",
       "\n",
       "       close_YM update_year update_month update_fiscal_year  \n",
       "114754      NaT        2021            4               2021  \n",
       "114755  2021-04        2021            4               2021  \n",
       "114756      NaT        2021            4               2021  \n",
       "\n",
       "[3 rows x 47 columns]"
      ]
     },
     "execution_count": 71,
     "metadata": {},
     "output_type": "execute_result"
    }
   ],
   "source": [
    "print(len(data.columns))\n",
    "data.tail(3)"
   ]
  },
  {
   "cell_type": "markdown",
   "metadata": {},
   "source": [
    "DateFrame型で確認する"
   ]
  },
  {
   "cell_type": "code",
   "execution_count": 72,
   "metadata": {},
   "outputs": [
    {
     "data": {
      "text/html": [
       "<div>\n",
       "<style scoped>\n",
       "    .dataframe tbody tr th:only-of-type {\n",
       "        vertical-align: middle;\n",
       "    }\n",
       "\n",
       "    .dataframe tbody tr th {\n",
       "        vertical-align: top;\n",
       "    }\n",
       "\n",
       "    .dataframe thead th {\n",
       "        text-align: right;\n",
       "    }\n",
       "</style>\n",
       "<table border=\"1\" class=\"dataframe\">\n",
       "  <thead>\n",
       "    <tr style=\"text-align: right;\">\n",
       "      <th></th>\n",
       "      <th>update_YM</th>\n",
       "      <th>update_fiscal_year</th>\n",
       "    </tr>\n",
       "  </thead>\n",
       "  <tbody>\n",
       "    <tr>\n",
       "      <th>44</th>\n",
       "      <td>2019-01</td>\n",
       "      <td>2018</td>\n",
       "    </tr>\n",
       "  </tbody>\n",
       "</table>\n",
       "</div>"
      ],
      "text/plain": [
       "   update_YM  update_fiscal_year\n",
       "44   2019-01                2018"
      ]
     },
     "metadata": {},
     "output_type": "display_data"
    },
    {
     "data": {
      "text/html": [
       "<div>\n",
       "<style scoped>\n",
       "    .dataframe tbody tr th:only-of-type {\n",
       "        vertical-align: middle;\n",
       "    }\n",
       "\n",
       "    .dataframe tbody tr th {\n",
       "        vertical-align: top;\n",
       "    }\n",
       "\n",
       "    .dataframe thead th {\n",
       "        text-align: right;\n",
       "    }\n",
       "</style>\n",
       "<table border=\"1\" class=\"dataframe\">\n",
       "  <thead>\n",
       "    <tr style=\"text-align: right;\">\n",
       "      <th></th>\n",
       "      <th>update_YM</th>\n",
       "      <th>update_fiscal_year</th>\n",
       "    </tr>\n",
       "  </thead>\n",
       "  <tbody>\n",
       "    <tr>\n",
       "      <th>31</th>\n",
       "      <td>2021-02</td>\n",
       "      <td>2020</td>\n",
       "    </tr>\n",
       "  </tbody>\n",
       "</table>\n",
       "</div>"
      ],
      "text/plain": [
       "   update_YM  update_fiscal_year\n",
       "31   2021-02                2020"
      ]
     },
     "metadata": {},
     "output_type": "display_data"
    },
    {
     "data": {
      "text/html": [
       "<div>\n",
       "<style scoped>\n",
       "    .dataframe tbody tr th:only-of-type {\n",
       "        vertical-align: middle;\n",
       "    }\n",
       "\n",
       "    .dataframe tbody tr th {\n",
       "        vertical-align: top;\n",
       "    }\n",
       "\n",
       "    .dataframe thead th {\n",
       "        text-align: right;\n",
       "    }\n",
       "</style>\n",
       "<table border=\"1\" class=\"dataframe\">\n",
       "  <thead>\n",
       "    <tr style=\"text-align: right;\">\n",
       "      <th></th>\n",
       "      <th>update_YM</th>\n",
       "      <th>update_fiscal_year</th>\n",
       "    </tr>\n",
       "  </thead>\n",
       "  <tbody>\n",
       "    <tr>\n",
       "      <th>29</th>\n",
       "      <td>2021-03</td>\n",
       "      <td>2020</td>\n",
       "    </tr>\n",
       "  </tbody>\n",
       "</table>\n",
       "</div>"
      ],
      "text/plain": [
       "   update_YM  update_fiscal_year\n",
       "29   2021-03                2020"
      ]
     },
     "metadata": {},
     "output_type": "display_data"
    },
    {
     "data": {
      "text/html": [
       "<div>\n",
       "<style scoped>\n",
       "    .dataframe tbody tr th:only-of-type {\n",
       "        vertical-align: middle;\n",
       "    }\n",
       "\n",
       "    .dataframe tbody tr th {\n",
       "        vertical-align: top;\n",
       "    }\n",
       "\n",
       "    .dataframe thead th {\n",
       "        text-align: right;\n",
       "    }\n",
       "</style>\n",
       "<table border=\"1\" class=\"dataframe\">\n",
       "  <thead>\n",
       "    <tr style=\"text-align: right;\">\n",
       "      <th></th>\n",
       "      <th>update_YM</th>\n",
       "      <th>update_fiscal_year</th>\n",
       "    </tr>\n",
       "  </thead>\n",
       "  <tbody>\n",
       "    <tr>\n",
       "      <th>0</th>\n",
       "      <td>2018-04</td>\n",
       "      <td>2018</td>\n",
       "    </tr>\n",
       "  </tbody>\n",
       "</table>\n",
       "</div>"
      ],
      "text/plain": [
       "  update_YM  update_fiscal_year\n",
       "0   2018-04                2018"
      ]
     },
     "metadata": {},
     "output_type": "display_data"
    },
    {
     "data": {
      "text/html": [
       "<div>\n",
       "<style scoped>\n",
       "    .dataframe tbody tr th:only-of-type {\n",
       "        vertical-align: middle;\n",
       "    }\n",
       "\n",
       "    .dataframe tbody tr th {\n",
       "        vertical-align: top;\n",
       "    }\n",
       "\n",
       "    .dataframe thead th {\n",
       "        text-align: right;\n",
       "    }\n",
       "</style>\n",
       "<table border=\"1\" class=\"dataframe\">\n",
       "  <thead>\n",
       "    <tr style=\"text-align: right;\">\n",
       "      <th></th>\n",
       "      <th>update_YM</th>\n",
       "      <th>update_fiscal_year</th>\n",
       "    </tr>\n",
       "  </thead>\n",
       "  <tbody>\n",
       "    <tr>\n",
       "      <th>46</th>\n",
       "      <td>2017-05</td>\n",
       "      <td>2017</td>\n",
       "    </tr>\n",
       "  </tbody>\n",
       "</table>\n",
       "</div>"
      ],
      "text/plain": [
       "   update_YM  update_fiscal_year\n",
       "46   2017-05                2017"
      ]
     },
     "metadata": {},
     "output_type": "display_data"
    },
    {
     "data": {
      "text/html": [
       "<div>\n",
       "<style scoped>\n",
       "    .dataframe tbody tr th:only-of-type {\n",
       "        vertical-align: middle;\n",
       "    }\n",
       "\n",
       "    .dataframe tbody tr th {\n",
       "        vertical-align: top;\n",
       "    }\n",
       "\n",
       "    .dataframe thead th {\n",
       "        text-align: right;\n",
       "    }\n",
       "</style>\n",
       "<table border=\"1\" class=\"dataframe\">\n",
       "  <thead>\n",
       "    <tr style=\"text-align: right;\">\n",
       "      <th></th>\n",
       "      <th>update_YM</th>\n",
       "      <th>update_fiscal_year</th>\n",
       "    </tr>\n",
       "  </thead>\n",
       "  <tbody>\n",
       "    <tr>\n",
       "      <th>33</th>\n",
       "      <td>2018-06</td>\n",
       "      <td>2018</td>\n",
       "    </tr>\n",
       "  </tbody>\n",
       "</table>\n",
       "</div>"
      ],
      "text/plain": [
       "   update_YM  update_fiscal_year\n",
       "33   2018-06                2018"
      ]
     },
     "metadata": {},
     "output_type": "display_data"
    },
    {
     "data": {
      "text/html": [
       "<div>\n",
       "<style scoped>\n",
       "    .dataframe tbody tr th:only-of-type {\n",
       "        vertical-align: middle;\n",
       "    }\n",
       "\n",
       "    .dataframe tbody tr th {\n",
       "        vertical-align: top;\n",
       "    }\n",
       "\n",
       "    .dataframe thead th {\n",
       "        text-align: right;\n",
       "    }\n",
       "</style>\n",
       "<table border=\"1\" class=\"dataframe\">\n",
       "  <thead>\n",
       "    <tr style=\"text-align: right;\">\n",
       "      <th></th>\n",
       "      <th>update_YM</th>\n",
       "      <th>update_fiscal_year</th>\n",
       "    </tr>\n",
       "  </thead>\n",
       "  <tbody>\n",
       "    <tr>\n",
       "      <th>56</th>\n",
       "      <td>2018-07</td>\n",
       "      <td>2018</td>\n",
       "    </tr>\n",
       "  </tbody>\n",
       "</table>\n",
       "</div>"
      ],
      "text/plain": [
       "   update_YM  update_fiscal_year\n",
       "56   2018-07                2018"
      ]
     },
     "metadata": {},
     "output_type": "display_data"
    },
    {
     "data": {
      "text/html": [
       "<div>\n",
       "<style scoped>\n",
       "    .dataframe tbody tr th:only-of-type {\n",
       "        vertical-align: middle;\n",
       "    }\n",
       "\n",
       "    .dataframe tbody tr th {\n",
       "        vertical-align: top;\n",
       "    }\n",
       "\n",
       "    .dataframe thead th {\n",
       "        text-align: right;\n",
       "    }\n",
       "</style>\n",
       "<table border=\"1\" class=\"dataframe\">\n",
       "  <thead>\n",
       "    <tr style=\"text-align: right;\">\n",
       "      <th></th>\n",
       "      <th>update_YM</th>\n",
       "      <th>update_fiscal_year</th>\n",
       "    </tr>\n",
       "  </thead>\n",
       "  <tbody>\n",
       "    <tr>\n",
       "      <th>28</th>\n",
       "      <td>2018-08</td>\n",
       "      <td>2018</td>\n",
       "    </tr>\n",
       "  </tbody>\n",
       "</table>\n",
       "</div>"
      ],
      "text/plain": [
       "   update_YM  update_fiscal_year\n",
       "28   2018-08                2018"
      ]
     },
     "metadata": {},
     "output_type": "display_data"
    },
    {
     "data": {
      "text/html": [
       "<div>\n",
       "<style scoped>\n",
       "    .dataframe tbody tr th:only-of-type {\n",
       "        vertical-align: middle;\n",
       "    }\n",
       "\n",
       "    .dataframe tbody tr th {\n",
       "        vertical-align: top;\n",
       "    }\n",
       "\n",
       "    .dataframe thead th {\n",
       "        text-align: right;\n",
       "    }\n",
       "</style>\n",
       "<table border=\"1\" class=\"dataframe\">\n",
       "  <thead>\n",
       "    <tr style=\"text-align: right;\">\n",
       "      <th></th>\n",
       "      <th>update_YM</th>\n",
       "      <th>update_fiscal_year</th>\n",
       "    </tr>\n",
       "  </thead>\n",
       "  <tbody>\n",
       "    <tr>\n",
       "      <th>4</th>\n",
       "      <td>2020-09</td>\n",
       "      <td>2020</td>\n",
       "    </tr>\n",
       "  </tbody>\n",
       "</table>\n",
       "</div>"
      ],
      "text/plain": [
       "  update_YM  update_fiscal_year\n",
       "4   2020-09                2020"
      ]
     },
     "metadata": {},
     "output_type": "display_data"
    },
    {
     "data": {
      "text/html": [
       "<div>\n",
       "<style scoped>\n",
       "    .dataframe tbody tr th:only-of-type {\n",
       "        vertical-align: middle;\n",
       "    }\n",
       "\n",
       "    .dataframe tbody tr th {\n",
       "        vertical-align: top;\n",
       "    }\n",
       "\n",
       "    .dataframe thead th {\n",
       "        text-align: right;\n",
       "    }\n",
       "</style>\n",
       "<table border=\"1\" class=\"dataframe\">\n",
       "  <thead>\n",
       "    <tr style=\"text-align: right;\">\n",
       "      <th></th>\n",
       "      <th>update_YM</th>\n",
       "      <th>update_fiscal_year</th>\n",
       "    </tr>\n",
       "  </thead>\n",
       "  <tbody>\n",
       "    <tr>\n",
       "      <th>41</th>\n",
       "      <td>2019-10</td>\n",
       "      <td>2019</td>\n",
       "    </tr>\n",
       "  </tbody>\n",
       "</table>\n",
       "</div>"
      ],
      "text/plain": [
       "   update_YM  update_fiscal_year\n",
       "41   2019-10                2019"
      ]
     },
     "metadata": {},
     "output_type": "display_data"
    },
    {
     "data": {
      "text/html": [
       "<div>\n",
       "<style scoped>\n",
       "    .dataframe tbody tr th:only-of-type {\n",
       "        vertical-align: middle;\n",
       "    }\n",
       "\n",
       "    .dataframe tbody tr th {\n",
       "        vertical-align: top;\n",
       "    }\n",
       "\n",
       "    .dataframe thead th {\n",
       "        text-align: right;\n",
       "    }\n",
       "</style>\n",
       "<table border=\"1\" class=\"dataframe\">\n",
       "  <thead>\n",
       "    <tr style=\"text-align: right;\">\n",
       "      <th></th>\n",
       "      <th>update_YM</th>\n",
       "      <th>update_fiscal_year</th>\n",
       "    </tr>\n",
       "  </thead>\n",
       "  <tbody>\n",
       "    <tr>\n",
       "      <th>26</th>\n",
       "      <td>2015-11</td>\n",
       "      <td>2015</td>\n",
       "    </tr>\n",
       "  </tbody>\n",
       "</table>\n",
       "</div>"
      ],
      "text/plain": [
       "   update_YM  update_fiscal_year\n",
       "26   2015-11                2015"
      ]
     },
     "metadata": {},
     "output_type": "display_data"
    },
    {
     "data": {
      "text/html": [
       "<div>\n",
       "<style scoped>\n",
       "    .dataframe tbody tr th:only-of-type {\n",
       "        vertical-align: middle;\n",
       "    }\n",
       "\n",
       "    .dataframe tbody tr th {\n",
       "        vertical-align: top;\n",
       "    }\n",
       "\n",
       "    .dataframe thead th {\n",
       "        text-align: right;\n",
       "    }\n",
       "</style>\n",
       "<table border=\"1\" class=\"dataframe\">\n",
       "  <thead>\n",
       "    <tr style=\"text-align: right;\">\n",
       "      <th></th>\n",
       "      <th>update_YM</th>\n",
       "      <th>update_fiscal_year</th>\n",
       "    </tr>\n",
       "  </thead>\n",
       "  <tbody>\n",
       "    <tr>\n",
       "      <th>27</th>\n",
       "      <td>2017-12</td>\n",
       "      <td>2017</td>\n",
       "    </tr>\n",
       "  </tbody>\n",
       "</table>\n",
       "</div>"
      ],
      "text/plain": [
       "   update_YM  update_fiscal_year\n",
       "27   2017-12                2017"
      ]
     },
     "metadata": {},
     "output_type": "display_data"
    }
   ],
   "source": [
    "for i in range(12):\n",
    "  display(data[['update_YM', 'update_fiscal_year']].loc[data['update_month'] == i+1 ][:1])"
   ]
  },
  {
   "cell_type": "markdown",
   "metadata": {
    "id": "QPEBK5A47IFZ"
   },
   "source": [
    "## ノック１１：加工したデータをファイルに出力しよう"
   ]
  },
  {
   "cell_type": "code",
   "execution_count": 73,
   "metadata": {
    "id": "DmJe35nRzIYT"
   },
   "outputs": [],
   "source": [
    "#output_dir = 'data/output'\n",
    "#os.makedirs(output_dir, exist_ok=True) # os.makedirs 深い階層のディレクトリまで再帰的に作成  exist_ok=True 既に存在するディレクトリを指定してもエラーにならない"
   ]
  },
  {
   "cell_type": "markdown",
   "metadata": {},
   "source": [
    "CSVへ出力（ディレクトリを指定して、その中へ保存）"
   ]
  },
  {
   "cell_type": "code",
   "execution_count": 74,
   "metadata": {},
   "outputs": [],
   "source": [
    "# conda install openpyxl\n",
    "#output_file = 'processed_shizuoka.csv'\n",
    "#data.to_csv(os.path.join(output_dir, output_file), index=False)"
   ]
  },
  {
   "cell_type": "markdown",
   "metadata": {
    "id": "oFrIz626NtRx"
   },
   "source": [
    "output_file = 'processed_shizuoka.csv'\n",
    "data.to_csv(os.path.join(output_dir, output_file), index=False)  # パスの結合をして出力"
   ]
  },
  {
   "cell_type": "markdown",
   "metadata": {},
   "source": [
    "エクセルへ出力（ディレクトリを指定して、その中へ保存）"
   ]
  },
  {
   "cell_type": "code",
   "execution_count": 75,
   "metadata": {
    "id": "4jBHTfcRNtWK"
   },
   "outputs": [],
   "source": [
    "import openpyxl\n",
    "#output_file = output_file.replace('.csv', '.xlsx')\n",
    "#data.to_excel(os.path.join(output_dir, output_file), index=False)"
   ]
  },
  {
   "cell_type": "markdown",
   "metadata": {
    "id": "3adikQ_m65BI"
   },
   "source": [
    "## ノック１２：不要な項目の削除と並べ替えをしよう"
   ]
  },
  {
   "cell_type": "code",
   "execution_count": 76,
   "metadata": {
    "id": "d8kal8_4w0vQ"
   },
   "outputs": [
    {
     "name": "stdout",
     "output_type": "stream",
     "text": [
      "47\n",
      "Index(['sequenceNumber', 'corporateNumber', 'process', 'correct', 'updateDate',\n",
      "       'changeDate', 'name', 'nameImageId', 'kind', 'prefectureName',\n",
      "       'cityName', 'streetNumber', 'addressImageId', 'prefectureCode',\n",
      "       'cityCode', 'postCode', 'addressOutside', 'addressOutsideImageId',\n",
      "       'closeDate', 'closeCause', 'successorCorporateNumber', 'changeCause',\n",
      "       'assignmentDate', 'latest', 'enName', 'enPrefectureName', 'enCityName',\n",
      "       'enAddressOutside', 'furigana', 'hihyoji', 'process_kbn_name',\n",
      "       'correct_kbn_name', 'corp_kind_name', 'closeCause_name', 'latest_name',\n",
      "       'hihyoji_name', 'address', 'postCode_head', 'postCode_tail',\n",
      "       'corporate_life', 'update_YM', 'assignment_YM', 'change_YM', 'close_YM',\n",
      "       'update_year', 'update_month', 'update_fiscal_year'],\n",
      "      dtype='object')\n"
     ]
    },
    {
     "data": {
      "text/html": [
       "<div>\n",
       "<style scoped>\n",
       "    .dataframe tbody tr th:only-of-type {\n",
       "        vertical-align: middle;\n",
       "    }\n",
       "\n",
       "    .dataframe tbody tr th {\n",
       "        vertical-align: top;\n",
       "    }\n",
       "\n",
       "    .dataframe thead th {\n",
       "        text-align: right;\n",
       "    }\n",
       "</style>\n",
       "<table border=\"1\" class=\"dataframe\">\n",
       "  <thead>\n",
       "    <tr style=\"text-align: right;\">\n",
       "      <th></th>\n",
       "      <th>sequenceNumber</th>\n",
       "      <th>corporateNumber</th>\n",
       "      <th>process</th>\n",
       "      <th>correct</th>\n",
       "      <th>updateDate</th>\n",
       "      <th>changeDate</th>\n",
       "      <th>name</th>\n",
       "      <th>nameImageId</th>\n",
       "      <th>kind</th>\n",
       "      <th>prefectureName</th>\n",
       "      <th>...</th>\n",
       "      <th>postCode_head</th>\n",
       "      <th>postCode_tail</th>\n",
       "      <th>corporate_life</th>\n",
       "      <th>update_YM</th>\n",
       "      <th>assignment_YM</th>\n",
       "      <th>change_YM</th>\n",
       "      <th>close_YM</th>\n",
       "      <th>update_year</th>\n",
       "      <th>update_month</th>\n",
       "      <th>update_fiscal_year</th>\n",
       "    </tr>\n",
       "  </thead>\n",
       "  <tbody>\n",
       "    <tr>\n",
       "      <th>0</th>\n",
       "      <td>2</td>\n",
       "      <td>1000013050072</td>\n",
       "      <td>01</td>\n",
       "      <td>1</td>\n",
       "      <td>2018-04-02</td>\n",
       "      <td>2015-10-05</td>\n",
       "      <td>清水簡易裁判所</td>\n",
       "      <td>NaN</td>\n",
       "      <td>101</td>\n",
       "      <td>静岡県</td>\n",
       "      <td>...</td>\n",
       "      <td>424</td>\n",
       "      <td>0809</td>\n",
       "      <td>NaT</td>\n",
       "      <td>2018-04</td>\n",
       "      <td>2015-10</td>\n",
       "      <td>2015-10</td>\n",
       "      <td>NaT</td>\n",
       "      <td>2018</td>\n",
       "      <td>4</td>\n",
       "      <td>2018</td>\n",
       "    </tr>\n",
       "    <tr>\n",
       "      <th>1</th>\n",
       "      <td>3</td>\n",
       "      <td>1000013050080</td>\n",
       "      <td>01</td>\n",
       "      <td>1</td>\n",
       "      <td>2018-04-02</td>\n",
       "      <td>2015-10-05</td>\n",
       "      <td>浜松簡易裁判所</td>\n",
       "      <td>NaN</td>\n",
       "      <td>101</td>\n",
       "      <td>静岡県</td>\n",
       "      <td>...</td>\n",
       "      <td>430</td>\n",
       "      <td>0929</td>\n",
       "      <td>NaT</td>\n",
       "      <td>2018-04</td>\n",
       "      <td>2015-10</td>\n",
       "      <td>2015-10</td>\n",
       "      <td>NaT</td>\n",
       "      <td>2018</td>\n",
       "      <td>4</td>\n",
       "      <td>2018</td>\n",
       "    </tr>\n",
       "    <tr>\n",
       "      <th>2</th>\n",
       "      <td>4</td>\n",
       "      <td>1000020222119</td>\n",
       "      <td>01</td>\n",
       "      <td>1</td>\n",
       "      <td>2018-04-05</td>\n",
       "      <td>2015-10-05</td>\n",
       "      <td>磐田市</td>\n",
       "      <td>NaN</td>\n",
       "      <td>201</td>\n",
       "      <td>静岡県</td>\n",
       "      <td>...</td>\n",
       "      <td>438</td>\n",
       "      <td>0077</td>\n",
       "      <td>NaT</td>\n",
       "      <td>2018-04</td>\n",
       "      <td>2015-10</td>\n",
       "      <td>2015-10</td>\n",
       "      <td>NaT</td>\n",
       "      <td>2018</td>\n",
       "      <td>4</td>\n",
       "      <td>2018</td>\n",
       "    </tr>\n",
       "  </tbody>\n",
       "</table>\n",
       "<p>3 rows × 47 columns</p>\n",
       "</div>"
      ],
      "text/plain": [
       "  sequenceNumber corporateNumber process correct updateDate changeDate  \\\n",
       "0              2   1000013050072      01       1 2018-04-02 2015-10-05   \n",
       "1              3   1000013050080      01       1 2018-04-02 2015-10-05   \n",
       "2              4   1000020222119      01       1 2018-04-05 2015-10-05   \n",
       "\n",
       "      name nameImageId kind prefectureName  ... postCode_head postCode_tail  \\\n",
       "0  清水簡易裁判所         NaN  101            静岡県  ...           424          0809   \n",
       "1  浜松簡易裁判所         NaN  101            静岡県  ...           430          0929   \n",
       "2      磐田市         NaN  201            静岡県  ...           438          0077   \n",
       "\n",
       "  corporate_life update_YM assignment_YM change_YM close_YM update_year  \\\n",
       "0            NaT   2018-04       2015-10   2015-10      NaT        2018   \n",
       "1            NaT   2018-04       2015-10   2015-10      NaT        2018   \n",
       "2            NaT   2018-04       2015-10   2015-10      NaT        2018   \n",
       "\n",
       "  update_month update_fiscal_year  \n",
       "0            4               2018  \n",
       "1            4               2018  \n",
       "2            4               2018  \n",
       "\n",
       "[3 rows x 47 columns]"
      ]
     },
     "execution_count": 76,
     "metadata": {},
     "output_type": "execute_result"
    }
   ],
   "source": [
    "print(len(data.columns))\n",
    "print(data.columns)\n",
    "data.head(3)"
   ]
  },
  {
   "cell_type": "markdown",
   "metadata": {},
   "source": [
    "必要な項目だけ取り出し"
   ]
  },
  {
   "cell_type": "code",
   "execution_count": 77,
   "metadata": {
    "id": "WIHn2hG4w0yw"
   },
   "outputs": [],
   "source": [
    "data = data[['cityName', 'corporateNumber', 'name', 'corp_kind_name', 'process', 'process_kbn_name', 'assignmentDate', 'updateDate', 'update_fiscal_year', 'update_YM']]"
   ]
  },
  {
   "cell_type": "code",
   "execution_count": 78,
   "metadata": {
    "id": "v1sp97Bow041"
   },
   "outputs": [
    {
     "name": "stdout",
     "output_type": "stream",
     "text": [
      "10\n",
      "Index(['cityName', 'corporateNumber', 'name', 'corp_kind_name', 'process',\n",
      "       'process_kbn_name', 'assignmentDate', 'updateDate',\n",
      "       'update_fiscal_year', 'update_YM'],\n",
      "      dtype='object')\n"
     ]
    },
    {
     "data": {
      "text/html": [
       "<div>\n",
       "<style scoped>\n",
       "    .dataframe tbody tr th:only-of-type {\n",
       "        vertical-align: middle;\n",
       "    }\n",
       "\n",
       "    .dataframe tbody tr th {\n",
       "        vertical-align: top;\n",
       "    }\n",
       "\n",
       "    .dataframe thead th {\n",
       "        text-align: right;\n",
       "    }\n",
       "</style>\n",
       "<table border=\"1\" class=\"dataframe\">\n",
       "  <thead>\n",
       "    <tr style=\"text-align: right;\">\n",
       "      <th></th>\n",
       "      <th>cityName</th>\n",
       "      <th>corporateNumber</th>\n",
       "      <th>name</th>\n",
       "      <th>corp_kind_name</th>\n",
       "      <th>process</th>\n",
       "      <th>process_kbn_name</th>\n",
       "      <th>assignmentDate</th>\n",
       "      <th>updateDate</th>\n",
       "      <th>update_fiscal_year</th>\n",
       "      <th>update_YM</th>\n",
       "    </tr>\n",
       "  </thead>\n",
       "  <tbody>\n",
       "    <tr>\n",
       "      <th>0</th>\n",
       "      <td>静岡市清水区</td>\n",
       "      <td>1000013050072</td>\n",
       "      <td>清水簡易裁判所</td>\n",
       "      <td>国の機関</td>\n",
       "      <td>01</td>\n",
       "      <td>新規</td>\n",
       "      <td>2015-10-05</td>\n",
       "      <td>2018-04-02</td>\n",
       "      <td>2018</td>\n",
       "      <td>2018-04</td>\n",
       "    </tr>\n",
       "    <tr>\n",
       "      <th>1</th>\n",
       "      <td>浜松市中区</td>\n",
       "      <td>1000013050080</td>\n",
       "      <td>浜松簡易裁判所</td>\n",
       "      <td>国の機関</td>\n",
       "      <td>01</td>\n",
       "      <td>新規</td>\n",
       "      <td>2015-10-05</td>\n",
       "      <td>2018-04-02</td>\n",
       "      <td>2018</td>\n",
       "      <td>2018-04</td>\n",
       "    </tr>\n",
       "    <tr>\n",
       "      <th>2</th>\n",
       "      <td>磐田市</td>\n",
       "      <td>1000020222119</td>\n",
       "      <td>磐田市</td>\n",
       "      <td>地方公共団体</td>\n",
       "      <td>01</td>\n",
       "      <td>新規</td>\n",
       "      <td>2015-10-05</td>\n",
       "      <td>2018-04-05</td>\n",
       "      <td>2018</td>\n",
       "      <td>2018-04</td>\n",
       "    </tr>\n",
       "  </tbody>\n",
       "</table>\n",
       "</div>"
      ],
      "text/plain": [
       "  cityName corporateNumber     name corp_kind_name process process_kbn_name  \\\n",
       "0   静岡市清水区   1000013050072  清水簡易裁判所           国の機関      01               新規   \n",
       "1    浜松市中区   1000013050080  浜松簡易裁判所           国の機関      01               新規   \n",
       "2      磐田市   1000020222119      磐田市         地方公共団体      01               新規   \n",
       "\n",
       "  assignmentDate updateDate  update_fiscal_year update_YM  \n",
       "0     2015-10-05 2018-04-02                2018   2018-04  \n",
       "1     2015-10-05 2018-04-02                2018   2018-04  \n",
       "2     2015-10-05 2018-04-05                2018   2018-04  "
      ]
     },
     "execution_count": 78,
     "metadata": {},
     "output_type": "execute_result"
    }
   ],
   "source": [
    "print(len(data.columns))\n",
    "print(data.columns)\n",
    "data.head(3)"
   ]
  },
  {
   "cell_type": "markdown",
   "metadata": {},
   "source": [
    "やっぱり'process'も消したい"
   ]
  },
  {
   "cell_type": "code",
   "execution_count": 79,
   "metadata": {
    "id": "aXfxDIbJPYcS"
   },
   "outputs": [
    {
     "name": "stdout",
     "output_type": "stream",
     "text": [
      "Index(['cityName', 'corporateNumber', 'name', 'corp_kind_name',\n",
      "       'process_kbn_name', 'assignmentDate', 'updateDate',\n",
      "       'update_fiscal_year', 'update_YM'],\n",
      "      dtype='object')\n"
     ]
    },
    {
     "data": {
      "text/html": [
       "<div>\n",
       "<style scoped>\n",
       "    .dataframe tbody tr th:only-of-type {\n",
       "        vertical-align: middle;\n",
       "    }\n",
       "\n",
       "    .dataframe tbody tr th {\n",
       "        vertical-align: top;\n",
       "    }\n",
       "\n",
       "    .dataframe thead th {\n",
       "        text-align: right;\n",
       "    }\n",
       "</style>\n",
       "<table border=\"1\" class=\"dataframe\">\n",
       "  <thead>\n",
       "    <tr style=\"text-align: right;\">\n",
       "      <th></th>\n",
       "      <th>cityName</th>\n",
       "      <th>corporateNumber</th>\n",
       "      <th>name</th>\n",
       "      <th>corp_kind_name</th>\n",
       "      <th>process_kbn_name</th>\n",
       "      <th>assignmentDate</th>\n",
       "      <th>updateDate</th>\n",
       "      <th>update_fiscal_year</th>\n",
       "      <th>update_YM</th>\n",
       "    </tr>\n",
       "  </thead>\n",
       "  <tbody>\n",
       "    <tr>\n",
       "      <th>0</th>\n",
       "      <td>静岡市清水区</td>\n",
       "      <td>1000013050072</td>\n",
       "      <td>清水簡易裁判所</td>\n",
       "      <td>国の機関</td>\n",
       "      <td>新規</td>\n",
       "      <td>2015-10-05</td>\n",
       "      <td>2018-04-02</td>\n",
       "      <td>2018</td>\n",
       "      <td>2018-04</td>\n",
       "    </tr>\n",
       "    <tr>\n",
       "      <th>1</th>\n",
       "      <td>浜松市中区</td>\n",
       "      <td>1000013050080</td>\n",
       "      <td>浜松簡易裁判所</td>\n",
       "      <td>国の機関</td>\n",
       "      <td>新規</td>\n",
       "      <td>2015-10-05</td>\n",
       "      <td>2018-04-02</td>\n",
       "      <td>2018</td>\n",
       "      <td>2018-04</td>\n",
       "    </tr>\n",
       "    <tr>\n",
       "      <th>2</th>\n",
       "      <td>磐田市</td>\n",
       "      <td>1000020222119</td>\n",
       "      <td>磐田市</td>\n",
       "      <td>地方公共団体</td>\n",
       "      <td>新規</td>\n",
       "      <td>2015-10-05</td>\n",
       "      <td>2018-04-05</td>\n",
       "      <td>2018</td>\n",
       "      <td>2018-04</td>\n",
       "    </tr>\n",
       "  </tbody>\n",
       "</table>\n",
       "</div>"
      ],
      "text/plain": [
       "  cityName corporateNumber     name corp_kind_name process_kbn_name  \\\n",
       "0   静岡市清水区   1000013050072  清水簡易裁判所           国の機関               新規   \n",
       "1    浜松市中区   1000013050080  浜松簡易裁判所           国の機関               新規   \n",
       "2      磐田市   1000020222119      磐田市         地方公共団体               新規   \n",
       "\n",
       "  assignmentDate updateDate  update_fiscal_year update_YM  \n",
       "0     2015-10-05 2018-04-02                2018   2018-04  \n",
       "1     2015-10-05 2018-04-02                2018   2018-04  \n",
       "2     2015-10-05 2018-04-05                2018   2018-04  "
      ]
     },
     "execution_count": 79,
     "metadata": {},
     "output_type": "execute_result"
    }
   ],
   "source": [
    "data = data.drop(columns = 'process')\n",
    "print(data.columns)\n",
    "data.head(3)"
   ]
  },
  {
   "cell_type": "markdown",
   "metadata": {
    "id": "m87Vuvjb69bU"
   },
   "source": [
    "## ノック１３：まとまった単位で集計しよう"
   ]
  },
  {
   "cell_type": "markdown",
   "metadata": {},
   "source": [
    "機関の名前ごとに集計"
   ]
  },
  {
   "cell_type": "code",
   "execution_count": 80,
   "metadata": {},
   "outputs": [
    {
     "data": {
      "text/plain": [
       "corp_kind_name\n",
       "その他             498\n",
       "その他の設立登記法人    14346\n",
       "合同会社           3589\n",
       "合名会社            244\n",
       "合資会社           1668\n",
       "国の機関             15\n",
       "地方公共団体          192\n",
       "有限会社          42874\n",
       "株式会社          51331\n",
       "dtype: int64"
      ]
     },
     "execution_count": 80,
     "metadata": {},
     "output_type": "execute_result"
    }
   ],
   "source": [
    "tmp = data.groupby('corp_kind_name').size()\n",
    "tmp"
   ]
  },
  {
   "cell_type": "markdown",
   "metadata": {},
   "source": [
    "降順に並べ直し、元のオブジェクトごと変更"
   ]
  },
  {
   "cell_type": "code",
   "execution_count": 81,
   "metadata": {
    "id": "3yC1LA6Gosp0"
   },
   "outputs": [
    {
     "data": {
      "text/plain": [
       "corp_kind_name\n",
       "株式会社          51331\n",
       "有限会社          42874\n",
       "その他の設立登記法人    14346\n",
       "合同会社           3589\n",
       "合資会社           1668\n",
       "その他             498\n",
       "合名会社            244\n",
       "地方公共団体          192\n",
       "国の機関             15\n",
       "dtype: int64"
      ]
     },
     "execution_count": 81,
     "metadata": {},
     "output_type": "execute_result"
    }
   ],
   "source": [
    "tmp.sort_values(inplace=True, ascending=False)  # デフォルトではソートされた新たなオブジェクトが返されるが、引数inplaceをTrueとすると、元のオブジェクト自体が変更される。\n",
    "tmp"
   ]
  },
  {
   "cell_type": "markdown",
   "metadata": {},
   "source": [
    "更新会計年度ごとに集計"
   ]
  },
  {
   "cell_type": "code",
   "execution_count": 82,
   "metadata": {
    "id": "LebTq01-hwjW"
   },
   "outputs": [
    {
     "data": {
      "text/plain": [
       "update_fiscal_year\n",
       "2015    57710\n",
       "2016     4370\n",
       "2017     4038\n",
       "2018    20926\n",
       "2019    14973\n",
       "2020    12370\n",
       "2021      370\n",
       "dtype: int64"
      ]
     },
     "execution_count": 82,
     "metadata": {},
     "output_type": "execute_result"
    }
   ],
   "source": [
    "tmp = data.groupby('update_fiscal_year').size()\n",
    "tmp"
   ]
  },
  {
   "cell_type": "markdown",
   "metadata": {},
   "source": [
    "更新会計年度ごとに、機関の数を集計"
   ]
  },
  {
   "cell_type": "code",
   "execution_count": 83,
   "metadata": {
    "id": "SB7cpmJflhPW"
   },
   "outputs": [
    {
     "data": {
      "text/plain": [
       "update_fiscal_year  corp_kind_name\n",
       "2015                その他の設立登記法人         6602\n",
       "                    合同会社                889\n",
       "                    合名会社                199\n",
       "                    合資会社               1481\n",
       "                    有限会社              30642\n",
       "                    株式会社              17897\n",
       "2016                その他                   3\n",
       "                    その他の設立登記法人          274\n",
       "                    合同会社                310\n",
       "                    合名会社                  5\n",
       "                    合資会社                 27\n",
       "                    有限会社               1416\n",
       "                    株式会社               2335\n",
       "2017                その他の設立登記法人          246\n",
       "                    合同会社                351\n",
       "                    合名会社                  3\n",
       "                    合資会社                 21\n",
       "                    有限会社               1249\n",
       "                    株式会社               2168\n",
       "2018                その他                 428\n",
       "                    その他の設立登記法人         4256\n",
       "                    合同会社                615\n",
       "                    合名会社                 19\n",
       "                    合資会社                 58\n",
       "                    国の機関                 15\n",
       "                    地方公共団体               64\n",
       "                    有限会社               3468\n",
       "                    株式会社              12003\n",
       "2019                その他                  28\n",
       "                    その他の設立登記法人         1754\n",
       "                    合同会社                635\n",
       "                    合名会社                  9\n",
       "                    合資会社                 47\n",
       "                    有限会社               3059\n",
       "                    株式会社               9441\n",
       "2020                その他                  38\n",
       "                    その他の設立登記法人         1185\n",
       "                    合同会社                747\n",
       "                    合名会社                  7\n",
       "                    合資会社                 34\n",
       "                    地方公共団体              128\n",
       "                    有限会社               2965\n",
       "                    株式会社               7266\n",
       "2021                その他                   1\n",
       "                    その他の設立登記法人           29\n",
       "                    合同会社                 42\n",
       "                    合名会社                  2\n",
       "                    有限会社                 75\n",
       "                    株式会社                221\n",
       "dtype: int64"
      ]
     },
     "execution_count": 83,
     "metadata": {},
     "output_type": "execute_result"
    }
   ],
   "source": [
    "tmp = data.groupby(['update_fiscal_year', 'corp_kind_name']).size()\n",
    "tmp"
   ]
  },
  {
   "cell_type": "markdown",
   "metadata": {},
   "source": [
    "更新会計年度と機関だけの関係をチェックする"
   ]
  },
  {
   "cell_type": "code",
   "execution_count": 84,
   "metadata": {
    "id": "Zk1k3xaQjyX7"
   },
   "outputs": [
    {
     "data": {
      "text/html": [
       "<div>\n",
       "<style scoped>\n",
       "    .dataframe tbody tr th:only-of-type {\n",
       "        vertical-align: middle;\n",
       "    }\n",
       "\n",
       "    .dataframe tbody tr th {\n",
       "        vertical-align: top;\n",
       "    }\n",
       "\n",
       "    .dataframe thead th {\n",
       "        text-align: right;\n",
       "    }\n",
       "</style>\n",
       "<table border=\"1\" class=\"dataframe\">\n",
       "  <thead>\n",
       "    <tr style=\"text-align: right;\">\n",
       "      <th>update_fiscal_year</th>\n",
       "      <th>2015</th>\n",
       "      <th>2016</th>\n",
       "      <th>2017</th>\n",
       "      <th>2018</th>\n",
       "      <th>2019</th>\n",
       "      <th>2020</th>\n",
       "      <th>2021</th>\n",
       "    </tr>\n",
       "    <tr>\n",
       "      <th>corp_kind_name</th>\n",
       "      <th></th>\n",
       "      <th></th>\n",
       "      <th></th>\n",
       "      <th></th>\n",
       "      <th></th>\n",
       "      <th></th>\n",
       "      <th></th>\n",
       "    </tr>\n",
       "  </thead>\n",
       "  <tbody>\n",
       "    <tr>\n",
       "      <th>その他</th>\n",
       "      <td>NaN</td>\n",
       "      <td>3.0</td>\n",
       "      <td>NaN</td>\n",
       "      <td>428.0</td>\n",
       "      <td>28.0</td>\n",
       "      <td>38.0</td>\n",
       "      <td>1.0</td>\n",
       "    </tr>\n",
       "    <tr>\n",
       "      <th>その他の設立登記法人</th>\n",
       "      <td>6602.0</td>\n",
       "      <td>274.0</td>\n",
       "      <td>246.0</td>\n",
       "      <td>4256.0</td>\n",
       "      <td>1754.0</td>\n",
       "      <td>1185.0</td>\n",
       "      <td>29.0</td>\n",
       "    </tr>\n",
       "    <tr>\n",
       "      <th>合同会社</th>\n",
       "      <td>889.0</td>\n",
       "      <td>310.0</td>\n",
       "      <td>351.0</td>\n",
       "      <td>615.0</td>\n",
       "      <td>635.0</td>\n",
       "      <td>747.0</td>\n",
       "      <td>42.0</td>\n",
       "    </tr>\n",
       "    <tr>\n",
       "      <th>合名会社</th>\n",
       "      <td>199.0</td>\n",
       "      <td>5.0</td>\n",
       "      <td>3.0</td>\n",
       "      <td>19.0</td>\n",
       "      <td>9.0</td>\n",
       "      <td>7.0</td>\n",
       "      <td>2.0</td>\n",
       "    </tr>\n",
       "    <tr>\n",
       "      <th>合資会社</th>\n",
       "      <td>1481.0</td>\n",
       "      <td>27.0</td>\n",
       "      <td>21.0</td>\n",
       "      <td>58.0</td>\n",
       "      <td>47.0</td>\n",
       "      <td>34.0</td>\n",
       "      <td>NaN</td>\n",
       "    </tr>\n",
       "    <tr>\n",
       "      <th>国の機関</th>\n",
       "      <td>NaN</td>\n",
       "      <td>NaN</td>\n",
       "      <td>NaN</td>\n",
       "      <td>15.0</td>\n",
       "      <td>NaN</td>\n",
       "      <td>NaN</td>\n",
       "      <td>NaN</td>\n",
       "    </tr>\n",
       "    <tr>\n",
       "      <th>地方公共団体</th>\n",
       "      <td>NaN</td>\n",
       "      <td>NaN</td>\n",
       "      <td>NaN</td>\n",
       "      <td>64.0</td>\n",
       "      <td>NaN</td>\n",
       "      <td>128.0</td>\n",
       "      <td>NaN</td>\n",
       "    </tr>\n",
       "    <tr>\n",
       "      <th>有限会社</th>\n",
       "      <td>30642.0</td>\n",
       "      <td>1416.0</td>\n",
       "      <td>1249.0</td>\n",
       "      <td>3468.0</td>\n",
       "      <td>3059.0</td>\n",
       "      <td>2965.0</td>\n",
       "      <td>75.0</td>\n",
       "    </tr>\n",
       "    <tr>\n",
       "      <th>株式会社</th>\n",
       "      <td>17897.0</td>\n",
       "      <td>2335.0</td>\n",
       "      <td>2168.0</td>\n",
       "      <td>12003.0</td>\n",
       "      <td>9441.0</td>\n",
       "      <td>7266.0</td>\n",
       "      <td>221.0</td>\n",
       "    </tr>\n",
       "  </tbody>\n",
       "</table>\n",
       "</div>"
      ],
      "text/plain": [
       "update_fiscal_year     2015    2016    2017     2018    2019    2020   2021\n",
       "corp_kind_name                                                             \n",
       "その他                     NaN     3.0     NaN    428.0    28.0    38.0    1.0\n",
       "その他の設立登記法人           6602.0   274.0   246.0   4256.0  1754.0  1185.0   29.0\n",
       "合同会社                  889.0   310.0   351.0    615.0   635.0   747.0   42.0\n",
       "合名会社                  199.0     5.0     3.0     19.0     9.0     7.0    2.0\n",
       "合資会社                 1481.0    27.0    21.0     58.0    47.0    34.0    NaN\n",
       "国の機関                    NaN     NaN     NaN     15.0     NaN     NaN    NaN\n",
       "地方公共団体                  NaN     NaN     NaN     64.0     NaN   128.0    NaN\n",
       "有限会社                30642.0  1416.0  1249.0   3468.0  3059.0  2965.0   75.0\n",
       "株式会社                17897.0  2335.0  2168.0  12003.0  9441.0  7266.0  221.0"
      ]
     },
     "execution_count": 84,
     "metadata": {},
     "output_type": "execute_result"
    }
   ],
   "source": [
    "# Excelなどの表計算ソフトのピボットテーブル機能と同様の処理が実現できる\n",
    "pt_data = pd.pivot_table(data, index='corp_kind_name', columns='update_fiscal_year', aggfunc='size')\n",
    "pt_data"
   ]
  },
  {
   "cell_type": "markdown",
   "metadata": {
    "id": "ChDnISx2McsC"
   },
   "source": [
    "## ノック１４：市区町村別の法人数を可視化しよう"
   ]
  },
  {
   "cell_type": "code",
   "execution_count": 85,
   "metadata": {},
   "outputs": [
    {
     "data": {
      "text/plain": [
       "cityName\n",
       "三島市      3596\n",
       "下田市       931\n",
       "伊東市      3257\n",
       "伊豆の国市    1444\n",
       "伊豆市      1163\n",
       "周智郡森町     498\n",
       "富士宮市     3555\n",
       "富士市      7300\n",
       "島田市      2292\n",
       "御前崎市      914\n",
       "dtype: int64"
      ]
     },
     "execution_count": 85,
     "metadata": {},
     "output_type": "execute_result"
    }
   ],
   "source": [
    "tmp = data.groupby('cityName').size()\n",
    "tmp.head(10)"
   ]
  },
  {
   "cell_type": "code",
   "execution_count": 86,
   "metadata": {},
   "outputs": [
    {
     "name": "stderr",
     "output_type": "stream",
     "text": [
      "Duplicate key in file PosixPath('/opt/conda/lib/python3.9/site-packages/matplotlib/mpl-data/matplotlibrc'), line 767 ('font.family : IPAexGothic')\n"
     ]
    },
    {
     "data": {
      "text/plain": [
       "<BarContainer object of 46 artists>"
      ]
     },
     "execution_count": 86,
     "metadata": {},
     "output_type": "execute_result"
    },
    {
     "data": {
      "image/png": "[encoded data removed]",
      "text/plain": [
       "<Figure size 432x288 with 1 Axes>"
      ]
     },
     "metadata": {
      "needs_background": "light"
     },
     "output_type": "display_data"
    }
   ],
   "source": [
    "import matplotlib.pyplot as plt\n",
    "from matplotlib import rcParams\n",
    "plt.rcParams['font.family'] = 'IPAexGothic'\n",
    "\n",
    "%matplotlib inline\n",
    "\n",
    "x = tmp.index\n",
    "y = tmp.values\n",
    "\n",
    "plt.bar(x,y)"
   ]
  },
  {
   "cell_type": "markdown",
   "metadata": {
    "id": "xZUzoupPKyHu"
   },
   "source": [
    "## ノック１５：グラフの縦横と表示順を変えてみよう"
   ]
  },
  {
   "cell_type": "code",
   "execution_count": 87,
   "metadata": {
    "id": "56cZ_GCFLeC-"
   },
   "outputs": [
    {
     "data": {
      "text/plain": [
       "cityName\n",
       "磐田郡豊田町       3\n",
       "浜松市         47\n",
       "静岡市        121\n",
       "榛原郡川根本町    200\n",
       "賀茂郡松崎町     253\n",
       "dtype: int64"
      ]
     },
     "execution_count": 87,
     "metadata": {},
     "output_type": "execute_result"
    }
   ],
   "source": [
    "tmp.sort_values(inplace=True, ascending=True)  # 昇順\n",
    "tmp.head()"
   ]
  },
  {
   "cell_type": "code",
   "execution_count": 88,
   "metadata": {
    "id": "1Roi13s5U6Tv"
   },
   "outputs": [
    {
     "data": {
      "text/plain": [
       "<BarContainer object of 46 artists>"
      ]
     },
     "execution_count": 88,
     "metadata": {},
     "output_type": "execute_result"
    },
    {
     "data": {
      "image/png": "[encoded data removed]",
      "text/plain": [
       "<Figure size 720x1080 with 1 Axes>"
      ]
     },
     "metadata": {
      "needs_background": "light"
     },
     "output_type": "display_data"
    }
   ],
   "source": [
    "plt.figure(figsize=(10, 15))\n",
    "x = tmp.index\n",
    "y = tmp.values\n",
    "plt.barh(x, y)"
   ]
  },
  {
   "cell_type": "markdown",
   "metadata": {
    "id": "3rjir-OYMuSC"
   },
   "source": [
    "## ノック１６：グラフのタイトルとラベルを設定しよう"
   ]
  },
  {
   "cell_type": "markdown",
   "metadata": {},
   "source": [
    "降順に並べ、上位１０ずつをグラフ化"
   ]
  },
  {
   "cell_type": "code",
   "execution_count": 89,
   "metadata": {
    "id": "3Sn0LaQjXs36"
   },
   "outputs": [
    {
     "data": {
      "text/plain": [
       "<BarContainer object of 10 artists>"
      ]
     },
     "execution_count": 89,
     "metadata": {},
     "output_type": "execute_result"
    },
    {
     "data": {
      "image/png": "[encoded data removed]",
      "text/plain": [
       "<Figure size 1440x720 with 1 Axes>"
      ]
     },
     "metadata": {
      "needs_background": "light"
     },
     "output_type": "display_data"
    }
   ],
   "source": [
    "tmp.sort_values(inplace=True, ascending=False)\n",
    "plt.figure(figsize=(20, 10))\n",
    "x = tmp[:10].index\n",
    "y = tmp[:10].values\n",
    "plt.bar(x, y)"
   ]
  },
  {
   "cell_type": "code",
   "execution_count": 90,
   "metadata": {},
   "outputs": [
    {
     "name": "stdout",
     "output_type": "stream",
     "text": [
      "cityName\n",
      "浜松市中区     9994\n",
      "静岡市葵区     9696\n",
      "沼津市       8060\n",
      "静岡市駿河区    7384\n",
      "富士市       7300\n",
      "静岡市清水区    6796\n",
      "浜松市東区     4626\n",
      "磐田市       4078\n",
      "三島市       3596\n",
      "焼津市       3568\n",
      "dtype: int64\n"
     ]
    }
   ],
   "source": [
    "print(tmp[:10])"
   ]
  },
  {
   "cell_type": "code",
   "execution_count": 91,
   "metadata": {
    "id": "SCFxrkPIJ89L"
   },
   "outputs": [
    {
     "data": {
      "text/plain": [
       "Text(0, 0.5, '法人数')"
      ]
     },
     "execution_count": 91,
     "metadata": {},
     "output_type": "execute_result"
    },
    {
     "data": {
      "image/png": "[encoded data removed]",
      "text/plain": [
       "<Figure size 1440x720 with 1 Axes>"
      ]
     },
     "metadata": {
      "needs_background": "light"
     },
     "output_type": "display_data"
    }
   ],
   "source": [
    "plt.figure(figsize=(20, 10))\n",
    "plt.bar(x, y)\n",
    "plt.title('市区町村別の法人数', fontsize=20)\n",
    "plt.xlabel('市区町村名', fontsize=15)\n",
    "plt.ylabel('法人数')\n"
   ]
  },
  {
   "cell_type": "markdown",
   "metadata": {
    "id": "ZVbB0ORNMuce"
   },
   "source": [
    "## ノック１７：グラフの見た目をもっと変えてみよう"
   ]
  },
  {
   "cell_type": "code",
   "execution_count": 92,
   "metadata": {
    "id": "Imo1pjuQcDMT"
   },
   "outputs": [
    {
     "data": {
      "text/plain": [
       "Text(7.5, 9000, '上位10の自治体を抜粋して表示')"
      ]
     },
     "execution_count": 92,
     "metadata": {},
     "output_type": "execute_result"
    },
    {
     "data": {
      "image/png": "[encoded data removed]",
      "text/plain": [
       "<Figure size 1440x720 with 1 Axes>"
      ]
     },
     "metadata": {
      "needs_background": "light"
     },
     "output_type": "display_data"
    }
   ],
   "source": [
    "tmp.sort_values(inplace=True,ascending=False)\n",
    "tmp = tmp[:10]\n",
    "x = tmp.index\n",
    "y = tmp.values\n",
    "fig, ax = plt.subplots(figsize=(20,10))\n",
    "bar_list = ax.bar(x, y, color='lightgray') # ひとつひとつの棒をリストに格納\n",
    "bar_list[4].set_color('blue')\n",
    "ax.set_title('自治体別法人数における富士市の位置づけ', fontsize=20);\n",
    "ax.set_ylabel('法人数', fontsize=15)\n",
    "ax.text(7.5, 9000, '上位10の自治体を抜粋して表示', fontsize=15)"
   ]
  },
  {
   "cell_type": "markdown",
   "metadata": {
    "id": "MPSnLkD0Mkly"
   },
   "source": [
    "## ノック１８：９０日以内に新規登録された法人数を可視化してみよう"
   ]
  },
  {
   "cell_type": "markdown",
   "metadata": {},
   "source": [
    "### 1.現在の日時を取得する方法"
   ]
  },
  {
   "cell_type": "code",
   "execution_count": 93,
   "metadata": {
    "id": "Gm9PR3GwM4F8"
   },
   "outputs": [
    {
     "data": {
      "text/plain": [
       "Timestamp('2022-10-03 11:18:28.380589+0900', tz='Asia/Tokyo')"
      ]
     },
     "execution_count": 93,
     "metadata": {},
     "output_type": "execute_result"
    }
   ],
   "source": [
    "base_time = pd.Timestamp.now(tz='Asia/Tokyo')\n",
    "base_time"
   ]
  },
  {
   "cell_type": "code",
   "execution_count": 94,
   "metadata": {
    "id": "79WyMnMEVTK4"
   },
   "outputs": [
    {
     "name": "stdout",
     "output_type": "stream",
     "text": [
      "114757\n"
     ]
    },
    {
     "data": {
      "text/html": [
       "<div>\n",
       "<style scoped>\n",
       "    .dataframe tbody tr th:only-of-type {\n",
       "        vertical-align: middle;\n",
       "    }\n",
       "\n",
       "    .dataframe tbody tr th {\n",
       "        vertical-align: top;\n",
       "    }\n",
       "\n",
       "    .dataframe thead th {\n",
       "        text-align: right;\n",
       "    }\n",
       "</style>\n",
       "<table border=\"1\" class=\"dataframe\">\n",
       "  <thead>\n",
       "    <tr style=\"text-align: right;\">\n",
       "      <th></th>\n",
       "      <th>cityName</th>\n",
       "      <th>corporateNumber</th>\n",
       "      <th>name</th>\n",
       "      <th>corp_kind_name</th>\n",
       "      <th>process_kbn_name</th>\n",
       "      <th>assignmentDate</th>\n",
       "      <th>updateDate</th>\n",
       "      <th>update_fiscal_year</th>\n",
       "      <th>update_YM</th>\n",
       "    </tr>\n",
       "  </thead>\n",
       "  <tbody>\n",
       "    <tr>\n",
       "      <th>0</th>\n",
       "      <td>静岡市清水区</td>\n",
       "      <td>1000013050072</td>\n",
       "      <td>清水簡易裁判所</td>\n",
       "      <td>国の機関</td>\n",
       "      <td>新規</td>\n",
       "      <td>2015-10-05</td>\n",
       "      <td>2018-04-02</td>\n",
       "      <td>2018</td>\n",
       "      <td>2018-04</td>\n",
       "    </tr>\n",
       "    <tr>\n",
       "      <th>1</th>\n",
       "      <td>浜松市中区</td>\n",
       "      <td>1000013050080</td>\n",
       "      <td>浜松簡易裁判所</td>\n",
       "      <td>国の機関</td>\n",
       "      <td>新規</td>\n",
       "      <td>2015-10-05</td>\n",
       "      <td>2018-04-02</td>\n",
       "      <td>2018</td>\n",
       "      <td>2018-04</td>\n",
       "    </tr>\n",
       "    <tr>\n",
       "      <th>2</th>\n",
       "      <td>磐田市</td>\n",
       "      <td>1000020222119</td>\n",
       "      <td>磐田市</td>\n",
       "      <td>地方公共団体</td>\n",
       "      <td>新規</td>\n",
       "      <td>2015-10-05</td>\n",
       "      <td>2018-04-05</td>\n",
       "      <td>2018</td>\n",
       "      <td>2018-04</td>\n",
       "    </tr>\n",
       "    <tr>\n",
       "      <th>3</th>\n",
       "      <td>焼津市</td>\n",
       "      <td>1000020222127</td>\n",
       "      <td>焼津市</td>\n",
       "      <td>地方公共団体</td>\n",
       "      <td>新規</td>\n",
       "      <td>2015-10-05</td>\n",
       "      <td>2018-04-05</td>\n",
       "      <td>2018</td>\n",
       "      <td>2018-04</td>\n",
       "    </tr>\n",
       "    <tr>\n",
       "      <th>4</th>\n",
       "      <td>掛川市</td>\n",
       "      <td>1000020222135</td>\n",
       "      <td>掛川市</td>\n",
       "      <td>地方公共団体</td>\n",
       "      <td>新規</td>\n",
       "      <td>2015-10-05</td>\n",
       "      <td>2020-09-29</td>\n",
       "      <td>2020</td>\n",
       "      <td>2020-09</td>\n",
       "    </tr>\n",
       "  </tbody>\n",
       "</table>\n",
       "</div>"
      ],
      "text/plain": [
       "  cityName corporateNumber     name corp_kind_name process_kbn_name  \\\n",
       "0   静岡市清水区   1000013050072  清水簡易裁判所           国の機関               新規   \n",
       "1    浜松市中区   1000013050080  浜松簡易裁判所           国の機関               新規   \n",
       "2      磐田市   1000020222119      磐田市         地方公共団体               新規   \n",
       "3      焼津市   1000020222127      焼津市         地方公共団体               新規   \n",
       "4      掛川市   1000020222135      掛川市         地方公共団体               新規   \n",
       "\n",
       "  assignmentDate updateDate  update_fiscal_year update_YM  \n",
       "0     2015-10-05 2018-04-02                2018   2018-04  \n",
       "1     2015-10-05 2018-04-02                2018   2018-04  \n",
       "2     2015-10-05 2018-04-05                2018   2018-04  \n",
       "3     2015-10-05 2018-04-05                2018   2018-04  \n",
       "4     2015-10-05 2020-09-29                2020   2020-09  "
      ]
     },
     "execution_count": 94,
     "metadata": {},
     "output_type": "execute_result"
    }
   ],
   "source": [
    "print(len(data))\n",
    "data.head()"
   ]
  },
  {
   "cell_type": "code",
   "execution_count": 95,
   "metadata": {
    "id": "aHPDh73iNATi"
   },
   "outputs": [
    {
     "name": "stdout",
     "output_type": "stream",
     "text": [
      "cityName                      object\n",
      "corporateNumber               object\n",
      "name                          object\n",
      "corp_kind_name                object\n",
      "process_kbn_name              object\n",
      "assignmentDate        datetime64[ns]\n",
      "updateDate            datetime64[ns]\n",
      "update_fiscal_year             int64\n",
      "update_YM                  period[M]\n",
      "dtype: object\n"
     ]
    }
   ],
   "source": [
    "print(data.dtypes)"
   ]
  },
  {
   "cell_type": "code",
   "execution_count": 96,
   "metadata": {
    "id": "pWDrnaBIqck0"
   },
   "outputs": [
    {
     "name": "stdout",
     "output_type": "stream",
     "text": [
      "<class 'pandas._libs.tslibs.timestamps.Timestamp'>\n"
     ]
    }
   ],
   "source": [
    "print(type(base_time))"
   ]
  },
  {
   "cell_type": "markdown",
   "metadata": {},
   "source": [
    "assignmentDateと、base_timeのデータ型が異なるので、assignmentDateをTimestamp型に変換"
   ]
  },
  {
   "cell_type": "code",
   "execution_count": 97,
   "metadata": {
    "id": "FV_zIHl0EGQb"
   },
   "outputs": [
    {
     "data": {
      "text/html": [
       "<div>\n",
       "<style scoped>\n",
       "    .dataframe tbody tr th:only-of-type {\n",
       "        vertical-align: middle;\n",
       "    }\n",
       "\n",
       "    .dataframe tbody tr th {\n",
       "        vertical-align: top;\n",
       "    }\n",
       "\n",
       "    .dataframe thead th {\n",
       "        text-align: right;\n",
       "    }\n",
       "</style>\n",
       "<table border=\"1\" class=\"dataframe\">\n",
       "  <thead>\n",
       "    <tr style=\"text-align: right;\">\n",
       "      <th></th>\n",
       "      <th>cityName</th>\n",
       "      <th>corporateNumber</th>\n",
       "      <th>name</th>\n",
       "      <th>corp_kind_name</th>\n",
       "      <th>process_kbn_name</th>\n",
       "      <th>assignmentDate</th>\n",
       "      <th>updateDate</th>\n",
       "      <th>update_fiscal_year</th>\n",
       "      <th>update_YM</th>\n",
       "    </tr>\n",
       "  </thead>\n",
       "  <tbody>\n",
       "    <tr>\n",
       "      <th>0</th>\n",
       "      <td>静岡市清水区</td>\n",
       "      <td>1000013050072</td>\n",
       "      <td>清水簡易裁判所</td>\n",
       "      <td>国の機関</td>\n",
       "      <td>新規</td>\n",
       "      <td>2015-10-05 00:00:00+09:00</td>\n",
       "      <td>2018-04-02</td>\n",
       "      <td>2018</td>\n",
       "      <td>2018-04</td>\n",
       "    </tr>\n",
       "    <tr>\n",
       "      <th>1</th>\n",
       "      <td>浜松市中区</td>\n",
       "      <td>1000013050080</td>\n",
       "      <td>浜松簡易裁判所</td>\n",
       "      <td>国の機関</td>\n",
       "      <td>新規</td>\n",
       "      <td>2015-10-05 00:00:00+09:00</td>\n",
       "      <td>2018-04-02</td>\n",
       "      <td>2018</td>\n",
       "      <td>2018-04</td>\n",
       "    </tr>\n",
       "    <tr>\n",
       "      <th>2</th>\n",
       "      <td>磐田市</td>\n",
       "      <td>1000020222119</td>\n",
       "      <td>磐田市</td>\n",
       "      <td>地方公共団体</td>\n",
       "      <td>新規</td>\n",
       "      <td>2015-10-05 00:00:00+09:00</td>\n",
       "      <td>2018-04-05</td>\n",
       "      <td>2018</td>\n",
       "      <td>2018-04</td>\n",
       "    </tr>\n",
       "    <tr>\n",
       "      <th>3</th>\n",
       "      <td>焼津市</td>\n",
       "      <td>1000020222127</td>\n",
       "      <td>焼津市</td>\n",
       "      <td>地方公共団体</td>\n",
       "      <td>新規</td>\n",
       "      <td>2015-10-05 00:00:00+09:00</td>\n",
       "      <td>2018-04-05</td>\n",
       "      <td>2018</td>\n",
       "      <td>2018-04</td>\n",
       "    </tr>\n",
       "    <tr>\n",
       "      <th>4</th>\n",
       "      <td>掛川市</td>\n",
       "      <td>1000020222135</td>\n",
       "      <td>掛川市</td>\n",
       "      <td>地方公共団体</td>\n",
       "      <td>新規</td>\n",
       "      <td>2015-10-05 00:00:00+09:00</td>\n",
       "      <td>2020-09-29</td>\n",
       "      <td>2020</td>\n",
       "      <td>2020-09</td>\n",
       "    </tr>\n",
       "  </tbody>\n",
       "</table>\n",
       "</div>"
      ],
      "text/plain": [
       "  cityName corporateNumber     name corp_kind_name process_kbn_name  \\\n",
       "0   静岡市清水区   1000013050072  清水簡易裁判所           国の機関               新規   \n",
       "1    浜松市中区   1000013050080  浜松簡易裁判所           国の機関               新規   \n",
       "2      磐田市   1000020222119      磐田市         地方公共団体               新規   \n",
       "3      焼津市   1000020222127      焼津市         地方公共団体               新規   \n",
       "4      掛川市   1000020222135      掛川市         地方公共団体               新規   \n",
       "\n",
       "             assignmentDate updateDate  update_fiscal_year update_YM  \n",
       "0 2015-10-05 00:00:00+09:00 2018-04-02                2018   2018-04  \n",
       "1 2015-10-05 00:00:00+09:00 2018-04-02                2018   2018-04  \n",
       "2 2015-10-05 00:00:00+09:00 2018-04-05                2018   2018-04  \n",
       "3 2015-10-05 00:00:00+09:00 2018-04-05                2018   2018-04  \n",
       "4 2015-10-05 00:00:00+09:00 2020-09-29                2020   2020-09  "
      ]
     },
     "execution_count": 97,
     "metadata": {},
     "output_type": "execute_result"
    }
   ],
   "source": [
    "data['assignmentDate'] = data['assignmentDate'].dt.tz_localize('Asia/Tokyo') # タイムゾーンを変換\n",
    "data.head()"
   ]
  },
  {
   "cell_type": "markdown",
   "metadata": {},
   "source": [
    "指定した90日という日にちをtimedelta型に変換 → 90日じゃ一つも引っかからないので1000日にした"
   ]
  },
  {
   "cell_type": "code",
   "execution_count": 98,
   "metadata": {
    "id": "oIIvA-vHEGTO"
   },
   "outputs": [
    {
     "name": "stdout",
     "output_type": "stream",
     "text": [
      "2849\n"
     ]
    },
    {
     "data": {
      "text/html": [
       "<div>\n",
       "<style scoped>\n",
       "    .dataframe tbody tr th:only-of-type {\n",
       "        vertical-align: middle;\n",
       "    }\n",
       "\n",
       "    .dataframe tbody tr th {\n",
       "        vertical-align: top;\n",
       "    }\n",
       "\n",
       "    .dataframe thead th {\n",
       "        text-align: right;\n",
       "    }\n",
       "</style>\n",
       "<table border=\"1\" class=\"dataframe\">\n",
       "  <thead>\n",
       "    <tr style=\"text-align: right;\">\n",
       "      <th></th>\n",
       "      <th>cityName</th>\n",
       "      <th>corporateNumber</th>\n",
       "      <th>name</th>\n",
       "      <th>corp_kind_name</th>\n",
       "      <th>process_kbn_name</th>\n",
       "      <th>assignmentDate</th>\n",
       "      <th>updateDate</th>\n",
       "      <th>update_fiscal_year</th>\n",
       "      <th>update_YM</th>\n",
       "    </tr>\n",
       "  </thead>\n",
       "  <tbody>\n",
       "    <tr>\n",
       "      <th>1886</th>\n",
       "      <td>静岡市駿河区</td>\n",
       "      <td>1080001023289</td>\n",
       "      <td>株式会社ｃｒｏｗ−ｂａｒ</td>\n",
       "      <td>株式会社</td>\n",
       "      <td>新規</td>\n",
       "      <td>2020-01-08 00:00:00+09:00</td>\n",
       "      <td>2020-01-10</td>\n",
       "      <td>2019</td>\n",
       "      <td>2020-01</td>\n",
       "    </tr>\n",
       "    <tr>\n",
       "      <th>1887</th>\n",
       "      <td>牧之原市</td>\n",
       "      <td>1080001023297</td>\n",
       "      <td>株式会社幸福丸</td>\n",
       "      <td>株式会社</td>\n",
       "      <td>新規</td>\n",
       "      <td>2020-01-09 00:00:00+09:00</td>\n",
       "      <td>2020-01-14</td>\n",
       "      <td>2019</td>\n",
       "      <td>2020-01</td>\n",
       "    </tr>\n",
       "    <tr>\n",
       "      <th>1888</th>\n",
       "      <td>榛原郡吉田町</td>\n",
       "      <td>1080001023322</td>\n",
       "      <td>株式会社辻製作所</td>\n",
       "      <td>株式会社</td>\n",
       "      <td>新規</td>\n",
       "      <td>2020-01-10 00:00:00+09:00</td>\n",
       "      <td>2020-01-14</td>\n",
       "      <td>2019</td>\n",
       "      <td>2020-01</td>\n",
       "    </tr>\n",
       "    <tr>\n",
       "      <th>1889</th>\n",
       "      <td>島田市</td>\n",
       "      <td>1080001023330</td>\n",
       "      <td>株式会社Ｍｉｎｏｒｉ</td>\n",
       "      <td>株式会社</td>\n",
       "      <td>新規</td>\n",
       "      <td>2020-01-15 00:00:00+09:00</td>\n",
       "      <td>2020-01-15</td>\n",
       "      <td>2019</td>\n",
       "      <td>2020-01</td>\n",
       "    </tr>\n",
       "    <tr>\n",
       "      <th>1890</th>\n",
       "      <td>静岡市葵区</td>\n",
       "      <td>1080001023347</td>\n",
       "      <td>株式会社サンタアムール</td>\n",
       "      <td>株式会社</td>\n",
       "      <td>新規</td>\n",
       "      <td>2020-01-23 00:00:00+09:00</td>\n",
       "      <td>2020-01-23</td>\n",
       "      <td>2019</td>\n",
       "      <td>2020-01</td>\n",
       "    </tr>\n",
       "  </tbody>\n",
       "</table>\n",
       "</div>"
      ],
      "text/plain": [
       "     cityName corporateNumber          name corp_kind_name process_kbn_name  \\\n",
       "1886   静岡市駿河区   1080001023289  株式会社ｃｒｏｗ−ｂａｒ           株式会社               新規   \n",
       "1887     牧之原市   1080001023297       株式会社幸福丸           株式会社               新規   \n",
       "1888   榛原郡吉田町   1080001023322      株式会社辻製作所           株式会社               新規   \n",
       "1889      島田市   1080001023330    株式会社Ｍｉｎｏｒｉ           株式会社               新規   \n",
       "1890    静岡市葵区   1080001023347   株式会社サンタアムール           株式会社               新規   \n",
       "\n",
       "                assignmentDate updateDate  update_fiscal_year update_YM  \n",
       "1886 2020-01-08 00:00:00+09:00 2020-01-10                2019   2020-01  \n",
       "1887 2020-01-09 00:00:00+09:00 2020-01-14                2019   2020-01  \n",
       "1888 2020-01-10 00:00:00+09:00 2020-01-14                2019   2020-01  \n",
       "1889 2020-01-15 00:00:00+09:00 2020-01-15                2019   2020-01  \n",
       "1890 2020-01-23 00:00:00+09:00 2020-01-23                2019   2020-01  "
      ]
     },
     "execution_count": 98,
     "metadata": {},
     "output_type": "execute_result"
    }
   ],
   "source": [
    "delta = pd.Timedelta(1000, 'days')  # pd.to_timedelta を使用して、スカラー、配列、リスト、またはシリーズを、認識されたtimedelta形式/値から Timedelta タイプに変換できます\n",
    "tmp = data.loc[(data['process_kbn_name'] == '新規') & (base_time - data['assignmentDate'] <= delta)]\n",
    "print(len(tmp))\n",
    "tmp.head()"
   ]
  },
  {
   "cell_type": "markdown",
   "metadata": {},
   "source": [
    "シンプルな棒グラフで可視化する"
   ]
  },
  {
   "cell_type": "code",
   "execution_count": 99,
   "metadata": {},
   "outputs": [
    {
     "data": {
      "text/plain": [
       "<BarContainer object of 10 artists>"
      ]
     },
     "execution_count": 99,
     "metadata": {},
     "output_type": "execute_result"
    },
    {
     "data": {
      "image/png": "[encoded data removed]",
      "text/plain": [
       "<Figure size 1440x720 with 1 Axes>"
      ]
     },
     "metadata": {
      "needs_background": "light"
     },
     "output_type": "display_data"
    }
   ],
   "source": [
    "tmp = tmp.groupby('cityName').size()\n",
    "tmp.sort_values(inplace=True, ascending=False)\n",
    "tmp = tmp[:10]\n",
    "x = tmp.index\n",
    "y = tmp.values\n",
    "plt.figure(figsize=(20, 10))\n",
    "plt.bar(x, y)"
   ]
  },
  {
   "cell_type": "markdown",
   "metadata": {},
   "source": [
    "### 2.日付を手入力する場合"
   ]
  },
  {
   "cell_type": "code",
   "execution_count": 100,
   "metadata": {},
   "outputs": [
    {
     "name": "stdout",
     "output_type": "stream",
     "text": [
      "7516\n"
     ]
    },
    {
     "data": {
      "text/html": [
       "<div>\n",
       "<style scoped>\n",
       "    .dataframe tbody tr th:only-of-type {\n",
       "        vertical-align: middle;\n",
       "    }\n",
       "\n",
       "    .dataframe tbody tr th {\n",
       "        vertical-align: top;\n",
       "    }\n",
       "\n",
       "    .dataframe thead th {\n",
       "        text-align: right;\n",
       "    }\n",
       "</style>\n",
       "<table border=\"1\" class=\"dataframe\">\n",
       "  <thead>\n",
       "    <tr style=\"text-align: right;\">\n",
       "      <th></th>\n",
       "      <th>cityName</th>\n",
       "      <th>corporateNumber</th>\n",
       "      <th>name</th>\n",
       "      <th>corp_kind_name</th>\n",
       "      <th>process_kbn_name</th>\n",
       "      <th>assignmentDate</th>\n",
       "      <th>updateDate</th>\n",
       "      <th>update_fiscal_year</th>\n",
       "      <th>update_YM</th>\n",
       "    </tr>\n",
       "  </thead>\n",
       "  <tbody>\n",
       "    <tr>\n",
       "      <th>1753</th>\n",
       "      <td>静岡市駿河区</td>\n",
       "      <td>1080001021730</td>\n",
       "      <td>株式会社ＳＩＮ</td>\n",
       "      <td>株式会社</td>\n",
       "      <td>新規</td>\n",
       "      <td>2017-08-09 00:00:00+09:00</td>\n",
       "      <td>2018-08-23</td>\n",
       "      <td>2018</td>\n",
       "      <td>2018-08</td>\n",
       "    </tr>\n",
       "    <tr>\n",
       "      <th>1754</th>\n",
       "      <td>藤枝市</td>\n",
       "      <td>1080001021739</td>\n",
       "      <td>ケイ・エム・ジー株式会社</td>\n",
       "      <td>株式会社</td>\n",
       "      <td>新規</td>\n",
       "      <td>2017-08-04 00:00:00+09:00</td>\n",
       "      <td>2017-08-09</td>\n",
       "      <td>2017</td>\n",
       "      <td>2017-08</td>\n",
       "    </tr>\n",
       "    <tr>\n",
       "      <th>1758</th>\n",
       "      <td>静岡市清水区</td>\n",
       "      <td>1080001021771</td>\n",
       "      <td>株式会社タマキ</td>\n",
       "      <td>株式会社</td>\n",
       "      <td>新規</td>\n",
       "      <td>2017-08-23 00:00:00+09:00</td>\n",
       "      <td>2017-08-28</td>\n",
       "      <td>2017</td>\n",
       "      <td>2017-08</td>\n",
       "    </tr>\n",
       "    <tr>\n",
       "      <th>1761</th>\n",
       "      <td>藤枝市</td>\n",
       "      <td>1080001021821</td>\n",
       "      <td>株式会社かえるの家</td>\n",
       "      <td>株式会社</td>\n",
       "      <td>新規</td>\n",
       "      <td>2017-09-12 00:00:00+09:00</td>\n",
       "      <td>2017-09-15</td>\n",
       "      <td>2017</td>\n",
       "      <td>2017-09</td>\n",
       "    </tr>\n",
       "    <tr>\n",
       "      <th>1762</th>\n",
       "      <td>島田市</td>\n",
       "      <td>1080001021838</td>\n",
       "      <td>イノス株式会社</td>\n",
       "      <td>株式会社</td>\n",
       "      <td>新規</td>\n",
       "      <td>2017-09-21 00:00:00+09:00</td>\n",
       "      <td>2017-09-26</td>\n",
       "      <td>2017</td>\n",
       "      <td>2017-09</td>\n",
       "    </tr>\n",
       "  </tbody>\n",
       "</table>\n",
       "</div>"
      ],
      "text/plain": [
       "     cityName corporateNumber          name corp_kind_name process_kbn_name  \\\n",
       "1753   静岡市駿河区   1080001021730       株式会社ＳＩＮ           株式会社               新規   \n",
       "1754      藤枝市   1080001021739  ケイ・エム・ジー株式会社           株式会社               新規   \n",
       "1758   静岡市清水区   1080001021771       株式会社タマキ           株式会社               新規   \n",
       "1761      藤枝市   1080001021821     株式会社かえるの家           株式会社               新規   \n",
       "1762      島田市   1080001021838       イノス株式会社           株式会社               新規   \n",
       "\n",
       "                assignmentDate updateDate  update_fiscal_year update_YM  \n",
       "1753 2017-08-09 00:00:00+09:00 2018-08-23                2018   2018-08  \n",
       "1754 2017-08-04 00:00:00+09:00 2017-08-09                2017   2017-08  \n",
       "1758 2017-08-23 00:00:00+09:00 2017-08-28                2017   2017-08  \n",
       "1761 2017-09-12 00:00:00+09:00 2017-09-15                2017   2017-09  \n",
       "1762 2017-09-21 00:00:00+09:00 2017-09-26                2017   2017-09  "
      ]
     },
     "execution_count": 100,
     "metadata": {},
     "output_type": "execute_result"
    }
   ],
   "source": [
    "base_time = pd.Timestamp('2020-04-16', tz='Asia/Tokyo')\n",
    "tmp = data.loc[(data['process_kbn_name'] == '新規') & (base_time - data['assignmentDate'] <= delta)]\n",
    "print(len(tmp))\n",
    "tmp.head()"
   ]
  },
  {
   "cell_type": "code",
   "execution_count": 101,
   "metadata": {},
   "outputs": [
    {
     "data": {
      "text/plain": [
       "<BarContainer object of 10 artists>"
      ]
     },
     "execution_count": 101,
     "metadata": {},
     "output_type": "execute_result"
    },
    {
     "data": {
      "image/png": "[encoded data removed]",
      "text/plain": [
       "<Figure size 1440x720 with 1 Axes>"
      ]
     },
     "metadata": {
      "needs_background": "light"
     },
     "output_type": "display_data"
    }
   ],
   "source": [
    "tmp = tmp.groupby(by='cityName').size()\n",
    "tmp.sort_values(inplace=True, ascending=False)\n",
    "tmp = tmp[:10]\n",
    "x = tmp.index\n",
    "y = tmp.values\n",
    "plt.figure(figsize=(20, 10))\n",
    "plt.bar(x, y)"
   ]
  },
  {
   "cell_type": "markdown",
   "metadata": {
    "id": "MitoEhNPM5s1"
   },
   "source": [
    "## ノック１９：年度別の推移を可視化しよう"
   ]
  },
  {
   "cell_type": "markdown",
   "metadata": {},
   "source": [
    "今回は、対象データを政令指令都市に絞る→市町村区が区で終わるものだけ抽出"
   ]
  },
  {
   "cell_type": "code",
   "execution_count": 102,
   "metadata": {
    "id": "NBcoQ9bnLaWW"
   },
   "outputs": [
    {
     "name": "stdout",
     "output_type": "stream",
     "text": [
      "50348\n"
     ]
    },
    {
     "data": {
      "text/html": [
       "<div>\n",
       "<style scoped>\n",
       "    .dataframe tbody tr th:only-of-type {\n",
       "        vertical-align: middle;\n",
       "    }\n",
       "\n",
       "    .dataframe tbody tr th {\n",
       "        vertical-align: top;\n",
       "    }\n",
       "\n",
       "    .dataframe thead th {\n",
       "        text-align: right;\n",
       "    }\n",
       "</style>\n",
       "<table border=\"1\" class=\"dataframe\">\n",
       "  <thead>\n",
       "    <tr style=\"text-align: right;\">\n",
       "      <th></th>\n",
       "      <th>cityName</th>\n",
       "      <th>corporateNumber</th>\n",
       "      <th>name</th>\n",
       "      <th>corp_kind_name</th>\n",
       "      <th>process_kbn_name</th>\n",
       "      <th>assignmentDate</th>\n",
       "      <th>updateDate</th>\n",
       "      <th>update_fiscal_year</th>\n",
       "      <th>update_YM</th>\n",
       "    </tr>\n",
       "  </thead>\n",
       "  <tbody>\n",
       "    <tr>\n",
       "      <th>0</th>\n",
       "      <td>静岡市清水区</td>\n",
       "      <td>1000013050072</td>\n",
       "      <td>清水簡易裁判所</td>\n",
       "      <td>国の機関</td>\n",
       "      <td>新規</td>\n",
       "      <td>2015-10-05 00:00:00+09:00</td>\n",
       "      <td>2018-04-02</td>\n",
       "      <td>2018</td>\n",
       "      <td>2018-04</td>\n",
       "    </tr>\n",
       "    <tr>\n",
       "      <th>1</th>\n",
       "      <td>浜松市中区</td>\n",
       "      <td>1000013050080</td>\n",
       "      <td>浜松簡易裁判所</td>\n",
       "      <td>国の機関</td>\n",
       "      <td>新規</td>\n",
       "      <td>2015-10-05 00:00:00+09:00</td>\n",
       "      <td>2018-04-02</td>\n",
       "      <td>2018</td>\n",
       "      <td>2018-04</td>\n",
       "    </tr>\n",
       "    <tr>\n",
       "      <th>14</th>\n",
       "      <td>浜松市中区</td>\n",
       "      <td>1000030220005</td>\n",
       "      <td>赤佐財産区</td>\n",
       "      <td>地方公共団体</td>\n",
       "      <td>新規</td>\n",
       "      <td>2015-10-05 00:00:00+09:00</td>\n",
       "      <td>2020-09-29</td>\n",
       "      <td>2020</td>\n",
       "      <td>2020-09</td>\n",
       "    </tr>\n",
       "    <tr>\n",
       "      <th>28</th>\n",
       "      <td>浜松市中区</td>\n",
       "      <td>1010001050158</td>\n",
       "      <td>中貿開発株式会社</td>\n",
       "      <td>株式会社</td>\n",
       "      <td>新規</td>\n",
       "      <td>2015-10-05 00:00:00+09:00</td>\n",
       "      <td>2018-08-02</td>\n",
       "      <td>2018</td>\n",
       "      <td>2018-08</td>\n",
       "    </tr>\n",
       "    <tr>\n",
       "      <th>29</th>\n",
       "      <td>浜松市中区</td>\n",
       "      <td>1010001076005</td>\n",
       "      <td>デュメンオレンジジャパン株式会社</td>\n",
       "      <td>株式会社</td>\n",
       "      <td>商号又は名称の変更</td>\n",
       "      <td>2015-10-05 00:00:00+09:00</td>\n",
       "      <td>2021-03-26</td>\n",
       "      <td>2020</td>\n",
       "      <td>2021-03</td>\n",
       "    </tr>\n",
       "  </tbody>\n",
       "</table>\n",
       "</div>"
      ],
      "text/plain": [
       "   cityName corporateNumber              name corp_kind_name process_kbn_name  \\\n",
       "0    静岡市清水区   1000013050072           清水簡易裁判所           国の機関               新規   \n",
       "1     浜松市中区   1000013050080           浜松簡易裁判所           国の機関               新規   \n",
       "14    浜松市中区   1000030220005             赤佐財産区         地方公共団体               新規   \n",
       "28    浜松市中区   1010001050158          中貿開発株式会社           株式会社               新規   \n",
       "29    浜松市中区   1010001076005  デュメンオレンジジャパン株式会社           株式会社        商号又は名称の変更   \n",
       "\n",
       "              assignmentDate updateDate  update_fiscal_year update_YM  \n",
       "0  2015-10-05 00:00:00+09:00 2018-04-02                2018   2018-04  \n",
       "1  2015-10-05 00:00:00+09:00 2018-04-02                2018   2018-04  \n",
       "14 2015-10-05 00:00:00+09:00 2020-09-29                2020   2020-09  \n",
       "28 2015-10-05 00:00:00+09:00 2018-08-02                2018   2018-08  \n",
       "29 2015-10-05 00:00:00+09:00 2021-03-26                2020   2021-03  "
      ]
     },
     "execution_count": 102,
     "metadata": {},
     "output_type": "execute_result"
    }
   ],
   "source": [
    "tmp = data.dropna(subset=['cityName'])\n",
    "tmp = tmp.loc[tmp['cityName'].str.match('^.+区$')]  # ？\n",
    "print(len(tmp))\n",
    "tmp.head()"
   ]
  },
  {
   "cell_type": "markdown",
   "metadata": {},
   "source": [
    "2016年度から、2021年度未満の行だけ抽出"
   ]
  },
  {
   "cell_type": "code",
   "execution_count": 103,
   "metadata": {
    "id": "YrytswQ5xVhc"
   },
   "outputs": [
    {
     "name": "stdout",
     "output_type": "stream",
     "text": [
      "26352\n"
     ]
    },
    {
     "data": {
      "text/html": [
       "<div>\n",
       "<style scoped>\n",
       "    .dataframe tbody tr th:only-of-type {\n",
       "        vertical-align: middle;\n",
       "    }\n",
       "\n",
       "    .dataframe tbody tr th {\n",
       "        vertical-align: top;\n",
       "    }\n",
       "\n",
       "    .dataframe thead th {\n",
       "        text-align: right;\n",
       "    }\n",
       "</style>\n",
       "<table border=\"1\" class=\"dataframe\">\n",
       "  <thead>\n",
       "    <tr style=\"text-align: right;\">\n",
       "      <th></th>\n",
       "      <th>cityName</th>\n",
       "      <th>corporateNumber</th>\n",
       "      <th>name</th>\n",
       "      <th>corp_kind_name</th>\n",
       "      <th>process_kbn_name</th>\n",
       "      <th>assignmentDate</th>\n",
       "      <th>updateDate</th>\n",
       "      <th>update_fiscal_year</th>\n",
       "      <th>update_YM</th>\n",
       "    </tr>\n",
       "  </thead>\n",
       "  <tbody>\n",
       "    <tr>\n",
       "      <th>0</th>\n",
       "      <td>静岡市清水区</td>\n",
       "      <td>1000013050072</td>\n",
       "      <td>清水簡易裁判所</td>\n",
       "      <td>国の機関</td>\n",
       "      <td>新規</td>\n",
       "      <td>2015-10-05 00:00:00+09:00</td>\n",
       "      <td>2018-04-02</td>\n",
       "      <td>2018</td>\n",
       "      <td>2018-04</td>\n",
       "    </tr>\n",
       "    <tr>\n",
       "      <th>1</th>\n",
       "      <td>浜松市中区</td>\n",
       "      <td>1000013050080</td>\n",
       "      <td>浜松簡易裁判所</td>\n",
       "      <td>国の機関</td>\n",
       "      <td>新規</td>\n",
       "      <td>2015-10-05 00:00:00+09:00</td>\n",
       "      <td>2018-04-02</td>\n",
       "      <td>2018</td>\n",
       "      <td>2018-04</td>\n",
       "    </tr>\n",
       "    <tr>\n",
       "      <th>14</th>\n",
       "      <td>浜松市中区</td>\n",
       "      <td>1000030220005</td>\n",
       "      <td>赤佐財産区</td>\n",
       "      <td>地方公共団体</td>\n",
       "      <td>新規</td>\n",
       "      <td>2015-10-05 00:00:00+09:00</td>\n",
       "      <td>2020-09-29</td>\n",
       "      <td>2020</td>\n",
       "      <td>2020-09</td>\n",
       "    </tr>\n",
       "    <tr>\n",
       "      <th>28</th>\n",
       "      <td>浜松市中区</td>\n",
       "      <td>1010001050158</td>\n",
       "      <td>中貿開発株式会社</td>\n",
       "      <td>株式会社</td>\n",
       "      <td>新規</td>\n",
       "      <td>2015-10-05 00:00:00+09:00</td>\n",
       "      <td>2018-08-02</td>\n",
       "      <td>2018</td>\n",
       "      <td>2018-08</td>\n",
       "    </tr>\n",
       "    <tr>\n",
       "      <th>29</th>\n",
       "      <td>浜松市中区</td>\n",
       "      <td>1010001076005</td>\n",
       "      <td>デュメンオレンジジャパン株式会社</td>\n",
       "      <td>株式会社</td>\n",
       "      <td>商号又は名称の変更</td>\n",
       "      <td>2015-10-05 00:00:00+09:00</td>\n",
       "      <td>2021-03-26</td>\n",
       "      <td>2020</td>\n",
       "      <td>2021-03</td>\n",
       "    </tr>\n",
       "  </tbody>\n",
       "</table>\n",
       "</div>"
      ],
      "text/plain": [
       "   cityName corporateNumber              name corp_kind_name process_kbn_name  \\\n",
       "0    静岡市清水区   1000013050072           清水簡易裁判所           国の機関               新規   \n",
       "1     浜松市中区   1000013050080           浜松簡易裁判所           国の機関               新規   \n",
       "14    浜松市中区   1000030220005             赤佐財産区         地方公共団体               新規   \n",
       "28    浜松市中区   1010001050158          中貿開発株式会社           株式会社               新規   \n",
       "29    浜松市中区   1010001076005  デュメンオレンジジャパン株式会社           株式会社        商号又は名称の変更   \n",
       "\n",
       "              assignmentDate updateDate  update_fiscal_year update_YM  \n",
       "0  2015-10-05 00:00:00+09:00 2018-04-02                2018   2018-04  \n",
       "1  2015-10-05 00:00:00+09:00 2018-04-02                2018   2018-04  \n",
       "14 2015-10-05 00:00:00+09:00 2020-09-29                2020   2020-09  \n",
       "28 2015-10-05 00:00:00+09:00 2018-08-02                2018   2018-08  \n",
       "29 2015-10-05 00:00:00+09:00 2021-03-26                2020   2021-03  "
      ]
     },
     "execution_count": 103,
     "metadata": {},
     "output_type": "execute_result"
    }
   ],
   "source": [
    "tmp = tmp.loc[(tmp['update_fiscal_year'] >= 2016) & (tmp['update_fiscal_year'] < 2021)]\n",
    "print(len(tmp))\n",
    "tmp.head()"
   ]
  },
  {
   "cell_type": "markdown",
   "metadata": {},
   "source": [
    "区ごとに法人数を算出"
   ]
  },
  {
   "cell_type": "code",
   "execution_count": 104,
   "metadata": {
    "id": "LTNolgJoGN3q"
   },
   "outputs": [
    {
     "name": "stdout",
     "output_type": "stream",
     "text": [
      "50\n"
     ]
    },
    {
     "data": {
      "text/html": [
       "<div>\n",
       "<style scoped>\n",
       "    .dataframe tbody tr th:only-of-type {\n",
       "        vertical-align: middle;\n",
       "    }\n",
       "\n",
       "    .dataframe tbody tr th {\n",
       "        vertical-align: top;\n",
       "    }\n",
       "\n",
       "    .dataframe thead th {\n",
       "        text-align: right;\n",
       "    }\n",
       "</style>\n",
       "<table border=\"1\" class=\"dataframe\">\n",
       "  <thead>\n",
       "    <tr style=\"text-align: right;\">\n",
       "      <th></th>\n",
       "      <th>cityName</th>\n",
       "      <th>update_fiscal_year</th>\n",
       "      <th>count</th>\n",
       "    </tr>\n",
       "  </thead>\n",
       "  <tbody>\n",
       "    <tr>\n",
       "      <th>0</th>\n",
       "      <td>浜松市中区</td>\n",
       "      <td>2016</td>\n",
       "      <td>742</td>\n",
       "    </tr>\n",
       "    <tr>\n",
       "      <th>1</th>\n",
       "      <td>浜松市中区</td>\n",
       "      <td>2017</td>\n",
       "      <td>365</td>\n",
       "    </tr>\n",
       "    <tr>\n",
       "      <th>2</th>\n",
       "      <td>浜松市中区</td>\n",
       "      <td>2018</td>\n",
       "      <td>1887</td>\n",
       "    </tr>\n",
       "    <tr>\n",
       "      <th>3</th>\n",
       "      <td>浜松市中区</td>\n",
       "      <td>2019</td>\n",
       "      <td>1302</td>\n",
       "    </tr>\n",
       "    <tr>\n",
       "      <th>4</th>\n",
       "      <td>浜松市中区</td>\n",
       "      <td>2020</td>\n",
       "      <td>1134</td>\n",
       "    </tr>\n",
       "    <tr>\n",
       "      <th>5</th>\n",
       "      <td>浜松市北区</td>\n",
       "      <td>2016</td>\n",
       "      <td>96</td>\n",
       "    </tr>\n",
       "  </tbody>\n",
       "</table>\n",
       "</div>"
      ],
      "text/plain": [
       "  cityName  update_fiscal_year  count\n",
       "0    浜松市中区                2016    742\n",
       "1    浜松市中区                2017    365\n",
       "2    浜松市中区                2018   1887\n",
       "3    浜松市中区                2019   1302\n",
       "4    浜松市中区                2020   1134\n",
       "5    浜松市北区                2016     96"
      ]
     },
     "execution_count": 104,
     "metadata": {},
     "output_type": "execute_result"
    }
   ],
   "source": [
    "tmp = tmp.groupby(['cityName', 'update_fiscal_year']).size()\n",
    "tmp.name = 'count'\n",
    "tmp = tmp.reset_index()  # グループ化をしたあとはインデックスが整っていない場合もある\n",
    "print(len(tmp))\n",
    "tmp.head(6)"
   ]
  },
  {
   "cell_type": "markdown",
   "metadata": {
    "id": "20F9WmchGlfL"
   },
   "source": [
    "## ノック２０：データとグラフを出力しよう"
   ]
  },
  {
   "cell_type": "markdown",
   "metadata": {},
   "source": [
    "seaborn を用いて折れ線グラフで可視化する"
   ]
  },
  {
   "cell_type": "code",
   "execution_count": 105,
   "metadata": {
    "id": "RKR4X1so6XQW"
   },
   "outputs": [],
   "source": [
    "import seaborn as sns\n",
    "from matplotlib.ticker import MaxNLocator  # Matplotlib 図の目盛り数を設定する.\n",
    "# 今回は、年度の型がintなので、年度に小数点が入ってしまう。xaxisでx軸に適用させている。"
   ]
  },
  {
   "cell_type": "code",
   "execution_count": 106,
   "metadata": {
    "id": "LXQIkSZY2Zys"
   },
   "outputs": [
    {
     "data": {
      "image/png": "[encoded data removed]",
      "text/plain": [
       "<Figure size 1440x720 with 1 Axes>"
      ]
     },
     "metadata": {
      "needs_background": "light"
     },
     "output_type": "display_data"
    }
   ],
   "source": [
    "plt.figure(figsize=(20,10))\n",
    "plt.gca().xaxis.set_major_locator(MaxNLocator(integer=True))\n",
    "img = sns.lineplot(x=tmp['update_fiscal_year'],y=tmp['count'],hue=tmp['cityName'])  # ファイル出力するため、グラフをimgに入れる"
   ]
  },
  {
   "cell_type": "code",
   "execution_count": 107,
   "metadata": {},
   "outputs": [
    {
     "ename": "NameError",
     "evalue": "name 'output_dir' is not defined",
     "output_type": "error",
     "traceback": [
      "\u001b[0;31m---------------------------------------------------------------------------\u001b[0m",
      "\u001b[0;31mNameError\u001b[0m                                 Traceback (most recent call last)",
      "Input \u001b[0;32mIn [107]\u001b[0m, in \u001b[0;36m<cell line: 2>\u001b[0;34m()\u001b[0m\n\u001b[1;32m      1\u001b[0m data_file \u001b[38;5;241m=\u001b[39m \u001b[38;5;124m'\u001b[39m\u001b[38;5;124mknock20_graphdata.csv\u001b[39m\u001b[38;5;124m'\u001b[39m\n\u001b[0;32m----> 2\u001b[0m data\u001b[38;5;241m.\u001b[39mto_csv(os\u001b[38;5;241m.\u001b[39mpath\u001b[38;5;241m.\u001b[39mjoin(\u001b[43moutput_dir\u001b[49m, data_file), index\u001b[38;5;241m=\u001b[39m\u001b[38;5;28;01mFalse\u001b[39;00m)\n",
      "\u001b[0;31mNameError\u001b[0m: name 'output_dir' is not defined"
     ]
    }
   ],
   "source": [
    "data_file = 'knock20_graphdata.csv'\n",
    "data.to_csv(os.path.join(output_dir, data_file), index=False)"
   ]
  },
  {
   "cell_type": "code",
   "execution_count": null,
   "metadata": {},
   "outputs": [],
   "source": [
    "graph_file = 'knock20_graph.png'\n",
    "fig = img.get_figure()\n",
    "fig.savefig(os.path.join(output_dir, graph_file))"
   ]
  },
  {
   "cell_type": "code",
   "execution_count": null,
   "metadata": {},
   "outputs": [],
   "source": []
  }
 ],
 "metadata": {
  "colab": {
   "collapsed_sections": [],
   "name": "1章.ipynb",
   "provenance": []
  },
  "interpreter": {
   "hash": "bf2ae18976500f82e80edb956e20fc7a3e482bb034ad42d6a12fb90a6173b506"
  },
  "kernelspec": {
   "display_name": "Python 3 (ipykernel)",
   "language": "python",
   "name": "python3"
  },
  "language_info": {
   "codemirror_mode": {
    "name": "ipython",
    "version": 3
   },
   "file_extension": ".py",
   "mimetype": "text/x-python",
   "name": "python",
   "nbconvert_exporter": "python",
   "pygments_lexer": "ipython3",
   "version": "3.9.12"
  }
 },
 "nbformat": 4,
 "nbformat_minor": 4
}
